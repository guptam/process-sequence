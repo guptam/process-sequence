{
 "cells": [
  {
   "cell_type": "code",
   "execution_count": 1,
   "metadata": {
    "collapsed": true
   },
   "outputs": [],
   "source": [
    "import pandas as pd\n",
    "import numpy as np"
   ]
  },
  {
   "cell_type": "code",
   "execution_count": 2,
   "metadata": {
    "collapsed": true
   },
   "outputs": [],
   "source": [
    "from sklearn.preprocessing import OneHotEncoder\n",
    "from sklearn.preprocessing import StandardScaler"
   ]
  },
  {
   "cell_type": "code",
   "execution_count": 3,
   "metadata": {
    "collapsed": true
   },
   "outputs": [],
   "source": [
    "data = pd.read_csv('../input/train.csv')"
   ]
  },
  {
   "cell_type": "code",
   "execution_count": 4,
   "metadata": {},
   "outputs": [
    {
     "data": {
      "text/html": [
       "<div>\n",
       "<table border=\"1\" class=\"dataframe\">\n",
       "  <thead>\n",
       "    <tr style=\"text-align: right;\">\n",
       "      <th></th>\n",
       "      <th>CaseID</th>\n",
       "      <th>ActivityID</th>\n",
       "      <th>CompleteTimestamp</th>\n",
       "      <th>Duration</th>\n",
       "      <th>CumDuration</th>\n",
       "      <th>TimeSinceMidnight</th>\n",
       "      <th>WeekDay</th>\n",
       "    </tr>\n",
       "  </thead>\n",
       "  <tbody>\n",
       "    <tr>\n",
       "      <th>0</th>\n",
       "      <td>2.0</td>\n",
       "      <td>1.0</td>\n",
       "      <td>2012-04-03 16:55:38</td>\n",
       "      <td>0.0</td>\n",
       "      <td>0.0</td>\n",
       "      <td>60938.0</td>\n",
       "      <td>1.0</td>\n",
       "    </tr>\n",
       "    <tr>\n",
       "      <th>1</th>\n",
       "      <td>2.0</td>\n",
       "      <td>8.0</td>\n",
       "      <td>2012-04-03 16:55:53</td>\n",
       "      <td>15.0</td>\n",
       "      <td>15.0</td>\n",
       "      <td>60953.0</td>\n",
       "      <td>1.0</td>\n",
       "    </tr>\n",
       "    <tr>\n",
       "      <th>2</th>\n",
       "      <td>2.0</td>\n",
       "      <td>6.0</td>\n",
       "      <td>2012-04-05 17:15:52</td>\n",
       "      <td>173999.0</td>\n",
       "      <td>174014.0</td>\n",
       "      <td>62152.0</td>\n",
       "      <td>3.0</td>\n",
       "    </tr>\n",
       "    <tr>\n",
       "      <th>3</th>\n",
       "      <td>3.0</td>\n",
       "      <td>1.0</td>\n",
       "      <td>2010-10-29 18:14:06</td>\n",
       "      <td>0.0</td>\n",
       "      <td>0.0</td>\n",
       "      <td>65646.0</td>\n",
       "      <td>4.0</td>\n",
       "    </tr>\n",
       "    <tr>\n",
       "      <th>4</th>\n",
       "      <td>3.0</td>\n",
       "      <td>8.0</td>\n",
       "      <td>2010-11-04 01:16:11</td>\n",
       "      <td>457325.0</td>\n",
       "      <td>457325.0</td>\n",
       "      <td>4571.0</td>\n",
       "      <td>3.0</td>\n",
       "    </tr>\n",
       "  </tbody>\n",
       "</table>\n",
       "</div>"
      ],
      "text/plain": [
       "   CaseID  ActivityID    CompleteTimestamp  Duration  CumDuration  \\\n",
       "0     2.0         1.0  2012-04-03 16:55:38       0.0          0.0   \n",
       "1     2.0         8.0  2012-04-03 16:55:53      15.0         15.0   \n",
       "2     2.0         6.0  2012-04-05 17:15:52  173999.0     174014.0   \n",
       "3     3.0         1.0  2010-10-29 18:14:06       0.0          0.0   \n",
       "4     3.0         8.0  2010-11-04 01:16:11  457325.0     457325.0   \n",
       "\n",
       "   TimeSinceMidnight  WeekDay  \n",
       "0            60938.0      1.0  \n",
       "1            60953.0      1.0  \n",
       "2            62152.0      3.0  \n",
       "3            65646.0      4.0  \n",
       "4             4571.0      3.0  "
      ]
     },
     "execution_count": 4,
     "metadata": {},
     "output_type": "execute_result"
    }
   ],
   "source": [
    "data.head()"
   ]
  },
  {
   "cell_type": "code",
   "execution_count": 5,
   "metadata": {},
   "outputs": [
    {
     "data": {
      "text/plain": [
       "(9181, 7)"
      ]
     },
     "execution_count": 5,
     "metadata": {},
     "output_type": "execute_result"
    }
   ],
   "source": [
    "data.shape"
   ]
  },
  {
   "cell_type": "code",
   "execution_count": 6,
   "metadata": {
    "collapsed": true
   },
   "outputs": [],
   "source": [
    "# convert to float\n",
    "for col in list(data):\n",
    "    if col != 'CompleteTimestamp':\n",
    "        data[col] = data[col].apply(float)"
   ]
  },
  {
   "cell_type": "code",
   "execution_count": 7,
   "metadata": {
    "collapsed": true
   },
   "outputs": [],
   "source": [
    "# Convert activity from float to str\n",
    "data.ActivityID = data.ActivityID.astype(str)"
   ]
  },
  {
   "cell_type": "code",
   "execution_count": 8,
   "metadata": {},
   "outputs": [
    {
     "data": {
      "text/html": [
       "<div>\n",
       "<table border=\"1\" class=\"dataframe\">\n",
       "  <thead>\n",
       "    <tr style=\"text-align: right;\">\n",
       "      <th></th>\n",
       "      <th>CaseID</th>\n",
       "      <th>ActivityID</th>\n",
       "      <th>CompleteTimestamp</th>\n",
       "      <th>Duration</th>\n",
       "      <th>CumDuration</th>\n",
       "      <th>TimeSinceMidnight</th>\n",
       "      <th>WeekDay</th>\n",
       "    </tr>\n",
       "  </thead>\n",
       "  <tbody>\n",
       "    <tr>\n",
       "      <th>0</th>\n",
       "      <td>2.0</td>\n",
       "      <td>1.0</td>\n",
       "      <td>2012-04-03 16:55:38</td>\n",
       "      <td>0.0</td>\n",
       "      <td>0.0</td>\n",
       "      <td>60938.0</td>\n",
       "      <td>1.0</td>\n",
       "    </tr>\n",
       "    <tr>\n",
       "      <th>1</th>\n",
       "      <td>2.0</td>\n",
       "      <td>8.0</td>\n",
       "      <td>2012-04-03 16:55:53</td>\n",
       "      <td>15.0</td>\n",
       "      <td>15.0</td>\n",
       "      <td>60953.0</td>\n",
       "      <td>1.0</td>\n",
       "    </tr>\n",
       "    <tr>\n",
       "      <th>2</th>\n",
       "      <td>2.0</td>\n",
       "      <td>6.0</td>\n",
       "      <td>2012-04-05 17:15:52</td>\n",
       "      <td>173999.0</td>\n",
       "      <td>174014.0</td>\n",
       "      <td>62152.0</td>\n",
       "      <td>3.0</td>\n",
       "    </tr>\n",
       "    <tr>\n",
       "      <th>3</th>\n",
       "      <td>3.0</td>\n",
       "      <td>1.0</td>\n",
       "      <td>2010-10-29 18:14:06</td>\n",
       "      <td>0.0</td>\n",
       "      <td>0.0</td>\n",
       "      <td>65646.0</td>\n",
       "      <td>4.0</td>\n",
       "    </tr>\n",
       "    <tr>\n",
       "      <th>4</th>\n",
       "      <td>3.0</td>\n",
       "      <td>8.0</td>\n",
       "      <td>2010-11-04 01:16:11</td>\n",
       "      <td>457325.0</td>\n",
       "      <td>457325.0</td>\n",
       "      <td>4571.0</td>\n",
       "      <td>3.0</td>\n",
       "    </tr>\n",
       "  </tbody>\n",
       "</table>\n",
       "</div>"
      ],
      "text/plain": [
       "   CaseID ActivityID    CompleteTimestamp  Duration  CumDuration  \\\n",
       "0     2.0        1.0  2012-04-03 16:55:38       0.0          0.0   \n",
       "1     2.0        8.0  2012-04-03 16:55:53      15.0         15.0   \n",
       "2     2.0        6.0  2012-04-05 17:15:52  173999.0     174014.0   \n",
       "3     3.0        1.0  2010-10-29 18:14:06       0.0          0.0   \n",
       "4     3.0        8.0  2010-11-04 01:16:11  457325.0     457325.0   \n",
       "\n",
       "   TimeSinceMidnight  WeekDay  \n",
       "0            60938.0      1.0  \n",
       "1            60953.0      1.0  \n",
       "2            62152.0      3.0  \n",
       "3            65646.0      4.0  \n",
       "4             4571.0      3.0  "
      ]
     },
     "execution_count": 8,
     "metadata": {},
     "output_type": "execute_result"
    }
   ],
   "source": [
    "data.head()"
   ]
  },
  {
   "cell_type": "code",
   "execution_count": 9,
   "metadata": {},
   "outputs": [
    {
     "data": {
      "text/plain": [
       "array(['1.0', '8.0', '6.0', '3.0', '9.0', '2.0', '4.0', '5.0', '7.0'], dtype=object)"
      ]
     },
     "execution_count": 9,
     "metadata": {},
     "output_type": "execute_result"
    }
   ],
   "source": [
    "data['ActivityID'].unique()"
   ]
  },
  {
   "cell_type": "markdown",
   "metadata": {},
   "source": [
    "# Utils"
   ]
  },
  {
   "cell_type": "code",
   "execution_count": 10,
   "metadata": {
    "collapsed": true
   },
   "outputs": [],
   "source": [
    "groupByCase = data.groupby(['CaseID'])"
   ]
  },
  {
   "cell_type": "code",
   "execution_count": 11,
   "metadata": {},
   "outputs": [
    {
     "name": "stdout",
     "output_type": "stream",
     "text": [
      "15\n"
     ]
    }
   ],
   "source": [
    "#find len of longest case\n",
    "maxlen = 1\n",
    "for case, group in groupByCase:\n",
    "    temp_len = group.shape[0]\n",
    "    if temp_len > maxlen:\n",
    "        maxlen = temp_len\n",
    "        \n",
    "maxlen += 1 # include EOS\n",
    "print(maxlen)"
   ]
  },
  {
   "cell_type": "code",
   "execution_count": 12,
   "metadata": {},
   "outputs": [
    {
     "data": {
      "text/plain": [
       "14"
      ]
     },
     "execution_count": 12,
     "metadata": {},
     "output_type": "execute_result"
    }
   ],
   "source": [
    "#define number of features\n",
    "num_features = len(data['ActivityID'].unique()) + 5\n",
    "num_features"
   ]
  },
  {
   "cell_type": "code",
   "execution_count": 13,
   "metadata": {
    "collapsed": true
   },
   "outputs": [],
   "source": [
    "unique_chars = data['ActivityID'].unique().tolist()\n",
    "target_chars = unique_chars + ['EOS']"
   ]
  },
  {
   "cell_type": "code",
   "execution_count": 14,
   "metadata": {},
   "outputs": [
    {
     "data": {
      "text/plain": [
       "(['1.0', '8.0', '6.0', '3.0', '9.0', '2.0', '4.0', '5.0', '7.0'],\n",
       " ['1.0', '8.0', '6.0', '3.0', '9.0', '2.0', '4.0', '5.0', '7.0', 'EOS'])"
      ]
     },
     "execution_count": 14,
     "metadata": {},
     "output_type": "execute_result"
    }
   ],
   "source": [
    "unique_chars, target_chars"
   ]
  },
  {
   "cell_type": "code",
   "execution_count": 15,
   "metadata": {
    "collapsed": true
   },
   "outputs": [],
   "source": [
    "chartoindice = {}\n",
    "for indice, char in enumerate(unique_chars):\n",
    "    chartoindice[char] = indice"
   ]
  },
  {
   "cell_type": "code",
   "execution_count": 16,
   "metadata": {
    "collapsed": true
   },
   "outputs": [],
   "source": [
    "targetchartoindice = {}\n",
    "for indice, char in enumerate(target_chars):\n",
    "    targetchartoindice[char] = indice"
   ]
  },
  {
   "cell_type": "code",
   "execution_count": 17,
   "metadata": {},
   "outputs": [
    {
     "data": {
      "text/plain": [
       "({'1.0': 0,\n",
       "  '2.0': 5,\n",
       "  '3.0': 3,\n",
       "  '4.0': 6,\n",
       "  '5.0': 7,\n",
       "  '6.0': 2,\n",
       "  '7.0': 8,\n",
       "  '8.0': 1,\n",
       "  '9.0': 4},\n",
       " {'1.0': 0,\n",
       "  '2.0': 5,\n",
       "  '3.0': 3,\n",
       "  '4.0': 6,\n",
       "  '5.0': 7,\n",
       "  '6.0': 2,\n",
       "  '7.0': 8,\n",
       "  '8.0': 1,\n",
       "  '9.0': 4,\n",
       "  'EOS': 9})"
      ]
     },
     "execution_count": 17,
     "metadata": {},
     "output_type": "execute_result"
    }
   ],
   "source": [
    "chartoindice, targetchartoindice"
   ]
  },
  {
   "cell_type": "markdown",
   "metadata": {},
   "source": [
    "# Input"
   ]
  },
  {
   "cell_type": "code",
   "execution_count": 18,
   "metadata": {
    "collapsed": true
   },
   "outputs": [],
   "source": [
    "def getList(df):\n",
    "    temp = []\n",
    "    lst = df.tolist()\n",
    "    for i in range(1, len(lst)+1):\n",
    "        sub_lst = lst[:i]\n",
    "        temp.append(sub_lst)\n",
    "    return temp"
   ]
  },
  {
   "cell_type": "code",
   "execution_count": 19,
   "metadata": {
    "collapsed": true
   },
   "outputs": [],
   "source": [
    "sentences = []\n",
    "sentences_t = []\n",
    "sentences_t2 =[]\n",
    "sentences_t3 = []\n",
    "sentences_t4 = []\n",
    "for case, group in groupByCase:\n",
    "    case_sentences = getList(group['ActivityID'])\n",
    "    sentences += case_sentences\n",
    "    \n",
    "    case_sentences_t = getList(group['Duration'])\n",
    "    sentences_t += case_sentences_t\n",
    "    \n",
    "    case_sentences_t2 = getList(group['CumDuration'])\n",
    "    sentences_t2 += case_sentences_t2\n",
    "    \n",
    "    case_sentences_t3 = getList(group['TimeSinceMidnight'])\n",
    "    sentences_t3 += case_sentences_t3\n",
    "    \n",
    "    case_sentences_t4 = getList(group['WeekDay'])\n",
    "    sentences_t4 += case_sentences_t4"
   ]
  },
  {
   "cell_type": "code",
   "execution_count": 20,
   "metadata": {},
   "outputs": [
    {
     "data": {
      "text/plain": [
       "(9181, 9181, 9181, 9181, 9181)"
      ]
     },
     "execution_count": 20,
     "metadata": {},
     "output_type": "execute_result"
    }
   ],
   "source": [
    "len(sentences), len(sentences_t), len(sentences_t2), len(sentences_t3), len(sentences_t4)"
   ]
  },
  {
   "cell_type": "code",
   "execution_count": 21,
   "metadata": {
    "collapsed": true
   },
   "outputs": [],
   "source": [
    "divisor = data['Duration'].mean()\n",
    "divisor2 = data['CumDuration'].mean()\n",
    "# fill values for input X\n",
    "X = np.zeros((len(sentences), maxlen, num_features), dtype=np.float32)\n",
    "for i, sentence in enumerate(sentences):\n",
    "    leftpad = maxlen-len(sentence)\n",
    "    sentence_t = sentences_t[i]\n",
    "    sentence_t2 = sentences_t2[i]\n",
    "    sentence_t3 = sentences_t3[i]\n",
    "    sentence_t4 = sentences_t4[i]\n",
    "    for t, char in enumerate(sentence):\n",
    "        for c in unique_chars:\n",
    "            if c==char:\n",
    "                X[i, t+leftpad, chartoindice[c]] = 1\n",
    "            #print(X)   \n",
    "        X[i, t+leftpad, len(unique_chars)] = t+1\n",
    "        X[i, t+leftpad, len(unique_chars)+1] = sentence_t[t]/divisor\n",
    "        X[i, t+leftpad, len(unique_chars)+2] = sentence_t2[t]/divisor2\n",
    "        X[i, t+leftpad, len(unique_chars)+3] = sentence_t3[t]/86400\n",
    "        X[i, t+leftpad, len(unique_chars)+4] = sentence_t4[t]/7"
   ]
  },
  {
   "cell_type": "markdown",
   "metadata": {},
   "source": [
    "# Output"
   ]
  },
  {
   "cell_type": "code",
   "execution_count": 22,
   "metadata": {
    "collapsed": true
   },
   "outputs": [],
   "source": [
    "def getNextActivity(df):\n",
    "    '''This is used to get next activity'''\n",
    "    temp = []\n",
    "    lst = df.tolist()\n",
    "    for i in range(1, len(df)):\n",
    "        ele = lst[i]\n",
    "        temp.append(ele)\n",
    "    temp.append('EOS') #EOS: end of sentence\n",
    "    return temp"
   ]
  },
  {
   "cell_type": "code",
   "execution_count": 23,
   "metadata": {
    "collapsed": true
   },
   "outputs": [],
   "source": [
    "def getNextTime(df):\n",
    "    '''This is used to get next time'''\n",
    "    temp = []\n",
    "    lst = df.tolist()\n",
    "    for i in range(1, len(df)):\n",
    "        ele = lst[i]\n",
    "        temp.append(ele)\n",
    "    temp.append(0) # beginning time of next activity\n",
    "    return temp"
   ]
  },
  {
   "cell_type": "code",
   "execution_count": 24,
   "metadata": {
    "collapsed": true
   },
   "outputs": [],
   "source": [
    "next_chars = []\n",
    "next_chars_t = []\n",
    "next_chars_t2 = []\n",
    "next_chars_t3 = []\n",
    "next_chars_t4 = []\n",
    "for case, group in groupByCase:\n",
    "    case_next_char = getNextActivity(group['ActivityID'])\n",
    "    next_chars += case_next_char\n",
    "    \n",
    "    case_next_char_t = getNextTime(group['Duration'])\n",
    "    next_chars_t += case_next_char_t\n",
    "    \n",
    "    case_next_char_t2 = getNextTime(group['CumDuration'])\n",
    "    next_chars_t2 += case_next_char_t2\n",
    "    \n",
    "    case_next_char_t3 = getNextTime(group['TimeSinceMidnight'])\n",
    "    next_chars_t3 += case_next_char_t3\n",
    "    \n",
    "    case_next_char_t4 = getNextTime(group['WeekDay'])\n",
    "    next_chars_t4 += case_next_char_t4"
   ]
  },
  {
   "cell_type": "code",
   "execution_count": 25,
   "metadata": {},
   "outputs": [
    {
     "data": {
      "text/plain": [
       "(9181, 9181, 9181, 9181, 9181)"
      ]
     },
     "execution_count": 25,
     "metadata": {},
     "output_type": "execute_result"
    }
   ],
   "source": [
    "len(next_chars), len(next_chars_t), len(next_chars_t2), len(next_chars_t3), len(next_chars_t4)"
   ]
  },
  {
   "cell_type": "markdown",
   "metadata": {},
   "source": [
    "## y_a"
   ]
  },
  {
   "cell_type": "markdown",
   "metadata": {},
   "source": [
    "One-hot encode for y_a"
   ]
  },
  {
   "cell_type": "code",
   "execution_count": 26,
   "metadata": {},
   "outputs": [
    {
     "data": {
      "text/plain": [
       "['8.0', '6.0', 'EOS', '8.0', '6.0', 'EOS', '8.0', '6.0', 'EOS', '8.0']"
      ]
     },
     "execution_count": 26,
     "metadata": {},
     "output_type": "execute_result"
    }
   ],
   "source": [
    "next_chars[:10]"
   ]
  },
  {
   "cell_type": "markdown",
   "metadata": {
    "collapsed": true
   },
   "source": [
    "```python\n",
    "# new next_chars\n",
    "next_chars_indice = [targetchartoindice[act] for act in next_chars]\n",
    "# reshape for OHC without warning\n",
    "next_chars_indice = np.asarray(next_chars_indice).reshape(-1,1)\n",
    "\n",
    "next_chars_indice[:10]\n",
    "\n",
    "encoder = OneHotEncoder()\n",
    "data_feature_one_hot_encoded = encoder.fit_transform(next_chars_indice)\n",
    "\n",
    "y_a = data_feature_one_hot_encoded.toarray()\n",
    "y_a\n",
    "\n",
    "#y_a.shape (13710, 9)\n",
    "```"
   ]
  },
  {
   "cell_type": "code",
   "execution_count": 27,
   "metadata": {
    "collapsed": true
   },
   "outputs": [],
   "source": [
    "# fill values for output y_a\n",
    "y_a = np.zeros((len(sentences), len(target_chars)), dtype=np.float32)\n",
    "for i in range(len(sentences)):\n",
    "    for c in target_chars:\n",
    "        if c==next_chars[i]:\n",
    "            y_a[i, targetchartoindice[c]] = 1"
   ]
  },
  {
   "cell_type": "code",
   "execution_count": 28,
   "metadata": {},
   "outputs": [
    {
     "data": {
      "text/plain": [
       "(9181, 10)"
      ]
     },
     "execution_count": 28,
     "metadata": {},
     "output_type": "execute_result"
    }
   ],
   "source": [
    "y_a.shape"
   ]
  },
  {
   "cell_type": "code",
   "execution_count": 29,
   "metadata": {},
   "outputs": [
    {
     "data": {
      "text/plain": [
       "array([[ 0.,  1.,  0., ...,  0.,  0.,  0.],\n",
       "       [ 0.,  0.,  1., ...,  0.,  0.,  0.],\n",
       "       [ 0.,  0.,  0., ...,  0.,  0.,  1.],\n",
       "       ..., \n",
       "       [ 0.,  1.,  0., ...,  0.,  0.,  0.],\n",
       "       [ 0.,  0.,  1., ...,  0.,  0.,  0.],\n",
       "       [ 0.,  0.,  0., ...,  0.,  0.,  1.]], dtype=float32)"
      ]
     },
     "execution_count": 29,
     "metadata": {},
     "output_type": "execute_result"
    }
   ],
   "source": [
    "y_a"
   ]
  },
  {
   "cell_type": "markdown",
   "metadata": {},
   "source": [
    "## y_t"
   ]
  },
  {
   "cell_type": "markdown",
   "metadata": {},
   "source": [
    "Scale/Normalize data. This can be done by using [sklearn](http://scikit-learn.org/stable/modules/preprocessing.html#preprocessing-scaler)"
   ]
  },
  {
   "cell_type": "code",
   "execution_count": 30,
   "metadata": {
    "collapsed": true
   },
   "outputs": [],
   "source": [
    "next_chars_t = np.asarray(next_chars_t)"
   ]
  },
  {
   "cell_type": "code",
   "execution_count": 31,
   "metadata": {
    "collapsed": true
   },
   "outputs": [],
   "source": [
    "next_chars_t = next_chars_t.reshape(-1, 1)"
   ]
  },
  {
   "cell_type": "code",
   "execution_count": 32,
   "metadata": {
    "collapsed": true
   },
   "outputs": [],
   "source": [
    "scaler = StandardScaler().fit(next_chars_t)"
   ]
  },
  {
   "cell_type": "code",
   "execution_count": 33,
   "metadata": {
    "collapsed": true
   },
   "outputs": [],
   "source": [
    "y_t = scaler.transform(next_chars_t) "
   ]
  },
  {
   "cell_type": "code",
   "execution_count": 34,
   "metadata": {
    "collapsed": true
   },
   "outputs": [],
   "source": [
    "y_t = y_t.reshape([next_chars_t.shape[0],])"
   ]
  },
  {
   "cell_type": "code",
   "execution_count": 35,
   "metadata": {},
   "outputs": [
    {
     "data": {
      "text/plain": [
       "(9181,)"
      ]
     },
     "execution_count": 35,
     "metadata": {},
     "output_type": "execute_result"
    }
   ],
   "source": [
    "y_t.shape"
   ]
  },
  {
   "cell_type": "markdown",
   "metadata": {},
   "source": [
    "# Save data"
   ]
  },
  {
   "cell_type": "code",
   "execution_count": 36,
   "metadata": {
    "collapsed": true
   },
   "outputs": [],
   "source": [
    "import pickle"
   ]
  },
  {
   "cell_type": "code",
   "execution_count": 37,
   "metadata": {
    "collapsed": true
   },
   "outputs": [],
   "source": [
    "with open('../input/train_data.pkl', 'wb') as f:\n",
    "    pickle.dump(X, f, protocol=-1)\n",
    "    pickle.dump(y_a, f, protocol=-1)\n",
    "    pickle.dump(y_t, f, protocol=-1)"
   ]
  },
  {
   "cell_type": "markdown",
   "metadata": {},
   "source": [
    "# Test"
   ]
  },
  {
   "cell_type": "code",
   "execution_count": 38,
   "metadata": {},
   "outputs": [
    {
     "name": "stderr",
     "output_type": "stream",
     "text": [
      "Using Theano backend.\n"
     ]
    }
   ],
   "source": [
    "from keras.models import Sequential, Model\n",
    "from keras.layers.core import Dense\n",
    "from keras.layers.recurrent import LSTM, GRU, SimpleRNN\n",
    "from keras.layers import Input\n",
    "from keras.utils.data_utils import get_file\n",
    "from keras.regularizers import WeightRegularizer\n",
    "from keras.optimizers import Nadam\n",
    "from keras.callbacks import EarlyStopping, ModelCheckpoint, ReduceLROnPlateau\n",
    "from keras.layers.normalization import BatchNormalization\n",
    "from theano.ifelse import ifelse"
   ]
  },
  {
   "cell_type": "code",
   "execution_count": 40,
   "metadata": {},
   "outputs": [
    {
     "name": "stdout",
     "output_type": "stream",
     "text": [
      "Build model...\n",
      "Train on 7344 samples, validate on 1837 samples\n",
      "Epoch 1/500\n",
      "17s - loss: 1.5681 - act_output_loss: 0.9762 - time_output_loss: 0.5919 - val_loss: 1.1120 - val_act_output_loss: 0.6584 - val_time_output_loss: 0.4536\n",
      "Epoch 2/500\n",
      "17s - loss: 1.1802 - act_output_loss: 0.7254 - time_output_loss: 0.4548 - val_loss: 1.0449 - val_act_output_loss: 0.5937 - val_time_output_loss: 0.4512\n",
      "Epoch 3/500\n",
      "17s - loss: 1.1292 - act_output_loss: 0.6918 - time_output_loss: 0.4374 - val_loss: 1.0134 - val_act_output_loss: 0.5802 - val_time_output_loss: 0.4332\n",
      "Epoch 4/500\n",
      "17s - loss: 1.1145 - act_output_loss: 0.6877 - time_output_loss: 0.4268 - val_loss: 1.0020 - val_act_output_loss: 0.5885 - val_time_output_loss: 0.4135\n",
      "Epoch 5/500\n",
      "17s - loss: 1.0908 - act_output_loss: 0.6687 - time_output_loss: 0.4221 - val_loss: 1.0009 - val_act_output_loss: 0.5965 - val_time_output_loss: 0.4044\n",
      "Epoch 6/500\n",
      "17s - loss: 1.0785 - act_output_loss: 0.6583 - time_output_loss: 0.4202 - val_loss: 0.9783 - val_act_output_loss: 0.5742 - val_time_output_loss: 0.4041\n",
      "Epoch 7/500\n",
      "17s - loss: 1.0688 - act_output_loss: 0.6509 - time_output_loss: 0.4179 - val_loss: 0.9916 - val_act_output_loss: 0.5671 - val_time_output_loss: 0.4246\n",
      "Epoch 8/500\n",
      "17s - loss: 1.0665 - act_output_loss: 0.6470 - time_output_loss: 0.4195 - val_loss: 1.0261 - val_act_output_loss: 0.5931 - val_time_output_loss: 0.4330\n",
      "Epoch 9/500\n",
      "17s - loss: 1.0694 - act_output_loss: 0.6527 - time_output_loss: 0.4167 - val_loss: 0.9727 - val_act_output_loss: 0.5724 - val_time_output_loss: 0.4003\n",
      "Epoch 10/500\n",
      "17s - loss: 1.0725 - act_output_loss: 0.6547 - time_output_loss: 0.4178 - val_loss: 0.9782 - val_act_output_loss: 0.5713 - val_time_output_loss: 0.4068\n",
      "Epoch 11/500\n",
      "17s - loss: 1.0666 - act_output_loss: 0.6532 - time_output_loss: 0.4134 - val_loss: 0.9734 - val_act_output_loss: 0.5614 - val_time_output_loss: 0.4120\n",
      "Epoch 12/500\n",
      "17s - loss: 1.0630 - act_output_loss: 0.6475 - time_output_loss: 0.4154 - val_loss: 1.0025 - val_act_output_loss: 0.5910 - val_time_output_loss: 0.4115\n",
      "Epoch 13/500\n",
      "17s - loss: 1.0589 - act_output_loss: 0.6436 - time_output_loss: 0.4153 - val_loss: 0.9760 - val_act_output_loss: 0.5797 - val_time_output_loss: 0.3963\n",
      "Epoch 14/500\n",
      "18s - loss: 1.0701 - act_output_loss: 0.6562 - time_output_loss: 0.4139 - val_loss: 0.9760 - val_act_output_loss: 0.5771 - val_time_output_loss: 0.3989\n",
      "Epoch 15/500\n",
      "17s - loss: 1.0551 - act_output_loss: 0.6408 - time_output_loss: 0.4143 - val_loss: 0.9744 - val_act_output_loss: 0.5754 - val_time_output_loss: 0.3990\n",
      "Epoch 16/500\n",
      "17s - loss: 1.0594 - act_output_loss: 0.6477 - time_output_loss: 0.4117 - val_loss: 0.9724 - val_act_output_loss: 0.5740 - val_time_output_loss: 0.3984\n",
      "Epoch 17/500\n",
      "17s - loss: 1.0623 - act_output_loss: 0.6480 - time_output_loss: 0.4142 - val_loss: 0.9695 - val_act_output_loss: 0.5734 - val_time_output_loss: 0.3961\n",
      "Epoch 18/500\n",
      "17s - loss: 1.0606 - act_output_loss: 0.6498 - time_output_loss: 0.4107 - val_loss: 1.0593 - val_act_output_loss: 0.6554 - val_time_output_loss: 0.4039\n",
      "Epoch 19/500\n",
      "17s - loss: 1.0536 - act_output_loss: 0.6430 - time_output_loss: 0.4106 - val_loss: 0.9673 - val_act_output_loss: 0.5657 - val_time_output_loss: 0.4016\n",
      "Epoch 20/500\n",
      "20s - loss: 1.0568 - act_output_loss: 0.6474 - time_output_loss: 0.4094 - val_loss: 0.9613 - val_act_output_loss: 0.5663 - val_time_output_loss: 0.3950\n",
      "Epoch 21/500\n",
      "18s - loss: 1.0556 - act_output_loss: 0.6444 - time_output_loss: 0.4113 - val_loss: 0.9693 - val_act_output_loss: 0.5707 - val_time_output_loss: 0.3986\n",
      "Epoch 22/500\n",
      "17s - loss: 1.0441 - act_output_loss: 0.6341 - time_output_loss: 0.4100 - val_loss: 0.9574 - val_act_output_loss: 0.5639 - val_time_output_loss: 0.3936\n",
      "Epoch 23/500\n",
      "18s - loss: 1.0503 - act_output_loss: 0.6398 - time_output_loss: 0.4105 - val_loss: 0.9650 - val_act_output_loss: 0.5717 - val_time_output_loss: 0.3933\n",
      "Epoch 24/500\n",
      "18s - loss: 1.0413 - act_output_loss: 0.6321 - time_output_loss: 0.4092 - val_loss: 0.9749 - val_act_output_loss: 0.5808 - val_time_output_loss: 0.3941\n",
      "Epoch 25/500\n",
      "18s - loss: 1.0470 - act_output_loss: 0.6381 - time_output_loss: 0.4089 - val_loss: 0.9664 - val_act_output_loss: 0.5659 - val_time_output_loss: 0.4004\n",
      "Epoch 26/500\n",
      "17s - loss: 1.0480 - act_output_loss: 0.6385 - time_output_loss: 0.4094 - val_loss: 0.9561 - val_act_output_loss: 0.5610 - val_time_output_loss: 0.3951\n",
      "Epoch 27/500\n",
      "17s - loss: 1.0495 - act_output_loss: 0.6408 - time_output_loss: 0.4087 - val_loss: 0.9559 - val_act_output_loss: 0.5602 - val_time_output_loss: 0.3957\n",
      "Epoch 28/500\n",
      "17s - loss: 1.0505 - act_output_loss: 0.6415 - time_output_loss: 0.4090 - val_loss: 0.9791 - val_act_output_loss: 0.5718 - val_time_output_loss: 0.4073\n",
      "Epoch 29/500\n",
      "17s - loss: 1.0479 - act_output_loss: 0.6378 - time_output_loss: 0.4101 - val_loss: 0.9575 - val_act_output_loss: 0.5604 - val_time_output_loss: 0.3971\n",
      "Epoch 30/500\n",
      "17s - loss: 1.0553 - act_output_loss: 0.6449 - time_output_loss: 0.4103 - val_loss: 0.9710 - val_act_output_loss: 0.5710 - val_time_output_loss: 0.4000\n",
      "Epoch 31/500\n",
      "17s - loss: 1.0388 - act_output_loss: 0.6298 - time_output_loss: 0.4091 - val_loss: 0.9564 - val_act_output_loss: 0.5620 - val_time_output_loss: 0.3944\n",
      "Epoch 32/500\n",
      "17s - loss: 1.0458 - act_output_loss: 0.6377 - time_output_loss: 0.4080 - val_loss: 0.9543 - val_act_output_loss: 0.5616 - val_time_output_loss: 0.3927\n",
      "Epoch 33/500\n",
      "17s - loss: 1.0437 - act_output_loss: 0.6345 - time_output_loss: 0.4091 - val_loss: 0.9801 - val_act_output_loss: 0.5830 - val_time_output_loss: 0.3970\n",
      "Epoch 34/500\n",
      "17s - loss: 1.0330 - act_output_loss: 0.6255 - time_output_loss: 0.4075 - val_loss: 0.9663 - val_act_output_loss: 0.5713 - val_time_output_loss: 0.3950\n",
      "Epoch 35/500\n",
      "18s - loss: 1.0440 - act_output_loss: 0.6346 - time_output_loss: 0.4093 - val_loss: 0.9621 - val_act_output_loss: 0.5678 - val_time_output_loss: 0.3943\n",
      "Epoch 36/500\n",
      "17s - loss: 1.0428 - act_output_loss: 0.6348 - time_output_loss: 0.4080 - val_loss: 0.9681 - val_act_output_loss: 0.5686 - val_time_output_loss: 0.3995\n",
      "Epoch 37/500\n",
      "18s - loss: 1.0381 - act_output_loss: 0.6293 - time_output_loss: 0.4088 - val_loss: 0.9559 - val_act_output_loss: 0.5599 - val_time_output_loss: 0.3959\n",
      "Epoch 38/500\n",
      "17s - loss: 1.0414 - act_output_loss: 0.6312 - time_output_loss: 0.4103 - val_loss: 0.9686 - val_act_output_loss: 0.5706 - val_time_output_loss: 0.3979\n",
      "Epoch 39/500\n",
      "17s - loss: 1.0497 - act_output_loss: 0.6410 - time_output_loss: 0.4087 - val_loss: 0.9636 - val_act_output_loss: 0.5666 - val_time_output_loss: 0.3970\n",
      "Epoch 40/500\n",
      "17s - loss: 1.0335 - act_output_loss: 0.6254 - time_output_loss: 0.4081 - val_loss: 0.9680 - val_act_output_loss: 0.5726 - val_time_output_loss: 0.3954\n",
      "Epoch 41/500\n",
      "17s - loss: 1.0486 - act_output_loss: 0.6409 - time_output_loss: 0.4077 - val_loss: 0.9656 - val_act_output_loss: 0.5722 - val_time_output_loss: 0.3934\n",
      "Epoch 42/500\n",
      "19s - loss: 1.0401 - act_output_loss: 0.6311 - time_output_loss: 0.4090 - val_loss: 0.9745 - val_act_output_loss: 0.5790 - val_time_output_loss: 0.3955\n",
      "Epoch 43/500\n",
      "17s - loss: 1.0315 - act_output_loss: 0.6230 - time_output_loss: 0.4085 - val_loss: 0.9617 - val_act_output_loss: 0.5663 - val_time_output_loss: 0.3954\n",
      "Epoch 44/500\n",
      "17s - loss: 1.0335 - act_output_loss: 0.6248 - time_output_loss: 0.4087 - val_loss: 0.9667 - val_act_output_loss: 0.5739 - val_time_output_loss: 0.3928\n",
      "Epoch 45/500\n",
      "17s - loss: 1.0237 - act_output_loss: 0.6190 - time_output_loss: 0.4046 - val_loss: 0.9604 - val_act_output_loss: 0.5641 - val_time_output_loss: 0.3962\n",
      "Epoch 46/500\n",
      "17s - loss: 1.0333 - act_output_loss: 0.6252 - time_output_loss: 0.4082 - val_loss: 0.9641 - val_act_output_loss: 0.5728 - val_time_output_loss: 0.3913\n",
      "Epoch 47/500\n",
      "17s - loss: 1.0257 - act_output_loss: 0.6176 - time_output_loss: 0.4081 - val_loss: 0.9605 - val_act_output_loss: 0.5652 - val_time_output_loss: 0.3952\n",
      "Epoch 48/500\n",
      "17s - loss: 1.0228 - act_output_loss: 0.6170 - time_output_loss: 0.4057 - val_loss: 0.9620 - val_act_output_loss: 0.5696 - val_time_output_loss: 0.3924\n",
      "Epoch 49/500\n",
      "17s - loss: 1.0266 - act_output_loss: 0.6181 - time_output_loss: 0.4085 - val_loss: 0.9678 - val_act_output_loss: 0.5704 - val_time_output_loss: 0.3973\n",
      "Epoch 50/500\n",
      "17s - loss: 1.0331 - act_output_loss: 0.6254 - time_output_loss: 0.4077 - val_loss: 0.9634 - val_act_output_loss: 0.5647 - val_time_output_loss: 0.3986\n",
      "Epoch 51/500\n"
     ]
    },
    {
     "name": "stdout",
     "output_type": "stream",
     "text": [
      "17s - loss: 1.0248 - act_output_loss: 0.6169 - time_output_loss: 0.4079 - val_loss: 0.9592 - val_act_output_loss: 0.5650 - val_time_output_loss: 0.3942\n",
      "Epoch 52/500\n",
      "17s - loss: 1.0222 - act_output_loss: 0.6151 - time_output_loss: 0.4071 - val_loss: 0.9655 - val_act_output_loss: 0.5728 - val_time_output_loss: 0.3927\n",
      "Epoch 53/500\n",
      "33s - loss: 1.0239 - act_output_loss: 0.6193 - time_output_loss: 0.4047 - val_loss: 0.9580 - val_act_output_loss: 0.5674 - val_time_output_loss: 0.3906\n",
      "Epoch 54/500\n",
      "22s - loss: 1.0232 - act_output_loss: 0.6159 - time_output_loss: 0.4074 - val_loss: 0.9620 - val_act_output_loss: 0.5688 - val_time_output_loss: 0.3932\n",
      "Epoch 55/500\n",
      "24s - loss: 1.0286 - act_output_loss: 0.6231 - time_output_loss: 0.4055 - val_loss: 0.9642 - val_act_output_loss: 0.5709 - val_time_output_loss: 0.3933\n",
      "Epoch 56/500\n",
      "31s - loss: 1.0056 - act_output_loss: 0.6005 - time_output_loss: 0.4050 - val_loss: 0.9661 - val_act_output_loss: 0.5734 - val_time_output_loss: 0.3928\n",
      "Epoch 57/500\n",
      "20s - loss: 1.0115 - act_output_loss: 0.6051 - time_output_loss: 0.4064 - val_loss: 0.9609 - val_act_output_loss: 0.5672 - val_time_output_loss: 0.3937\n",
      "Epoch 58/500\n",
      "18s - loss: 1.0159 - act_output_loss: 0.6100 - time_output_loss: 0.4059 - val_loss: 0.9573 - val_act_output_loss: 0.5628 - val_time_output_loss: 0.3945\n",
      "Epoch 59/500\n",
      "19s - loss: 1.0166 - act_output_loss: 0.6112 - time_output_loss: 0.4054 - val_loss: 0.9595 - val_act_output_loss: 0.5664 - val_time_output_loss: 0.3931\n",
      "Epoch 60/500\n",
      "18s - loss: 1.0251 - act_output_loss: 0.6164 - time_output_loss: 0.4087 - val_loss: 0.9603 - val_act_output_loss: 0.5665 - val_time_output_loss: 0.3939\n",
      "Epoch 61/500\n",
      "17s - loss: 1.0108 - act_output_loss: 0.6040 - time_output_loss: 0.4069 - val_loss: 0.9634 - val_act_output_loss: 0.5688 - val_time_output_loss: 0.3947\n",
      "Epoch 62/500\n",
      "17s - loss: 1.0087 - act_output_loss: 0.6022 - time_output_loss: 0.4065 - val_loss: 0.9620 - val_act_output_loss: 0.5683 - val_time_output_loss: 0.3937\n",
      "Epoch 63/500\n",
      "17s - loss: 1.0106 - act_output_loss: 0.6052 - time_output_loss: 0.4054 - val_loss: 0.9568 - val_act_output_loss: 0.5640 - val_time_output_loss: 0.3929\n",
      "Epoch 64/500\n",
      "17s - loss: 1.0191 - act_output_loss: 0.6114 - time_output_loss: 0.4077 - val_loss: 0.9574 - val_act_output_loss: 0.5647 - val_time_output_loss: 0.3927\n",
      "Epoch 65/500\n",
      "17s - loss: 1.0113 - act_output_loss: 0.6051 - time_output_loss: 0.4062 - val_loss: 0.9597 - val_act_output_loss: 0.5663 - val_time_output_loss: 0.3935\n",
      "Epoch 66/500\n",
      "17s - loss: 1.0185 - act_output_loss: 0.6123 - time_output_loss: 0.4062 - val_loss: 0.9580 - val_act_output_loss: 0.5651 - val_time_output_loss: 0.3928\n",
      "Epoch 67/500\n",
      "17s - loss: 1.0101 - act_output_loss: 0.6040 - time_output_loss: 0.4061 - val_loss: 0.9605 - val_act_output_loss: 0.5666 - val_time_output_loss: 0.3939\n",
      "Epoch 68/500\n",
      "17s - loss: 1.0038 - act_output_loss: 0.5987 - time_output_loss: 0.4052 - val_loss: 0.9633 - val_act_output_loss: 0.5705 - val_time_output_loss: 0.3928\n",
      "Epoch 69/500\n",
      "18s - loss: 1.0085 - act_output_loss: 0.6036 - time_output_loss: 0.4050 - val_loss: 0.9616 - val_act_output_loss: 0.5687 - val_time_output_loss: 0.3930\n",
      "Epoch 70/500\n",
      "17s - loss: 1.0096 - act_output_loss: 0.6055 - time_output_loss: 0.4041 - val_loss: 0.9586 - val_act_output_loss: 0.5664 - val_time_output_loss: 0.3922\n",
      "Epoch 71/500\n",
      "17s - loss: 1.0119 - act_output_loss: 0.6046 - time_output_loss: 0.4073 - val_loss: 0.9600 - val_act_output_loss: 0.5669 - val_time_output_loss: 0.3931\n",
      "Epoch 72/500\n",
      "17s - loss: 1.0148 - act_output_loss: 0.6070 - time_output_loss: 0.4078 - val_loss: 0.9601 - val_act_output_loss: 0.5671 - val_time_output_loss: 0.3930\n",
      "Epoch 73/500\n",
      "17s - loss: 1.0046 - act_output_loss: 0.5983 - time_output_loss: 0.4063 - val_loss: 0.9622 - val_act_output_loss: 0.5693 - val_time_output_loss: 0.3930\n",
      "Epoch 74/500\n",
      "17s - loss: 1.0014 - act_output_loss: 0.5958 - time_output_loss: 0.4056 - val_loss: 0.9622 - val_act_output_loss: 0.5695 - val_time_output_loss: 0.3927\n",
      "Epoch 75/500\n",
      "17s - loss: 1.0095 - act_output_loss: 0.6041 - time_output_loss: 0.4054 - val_loss: 0.9613 - val_act_output_loss: 0.5693 - val_time_output_loss: 0.3920\n"
     ]
    },
    {
     "data": {
      "text/plain": [
       "<keras.callbacks.History at 0x7fd8a753ea50>"
      ]
     },
     "execution_count": 40,
     "metadata": {},
     "output_type": "execute_result"
    }
   ],
   "source": [
    "# build the model: \n",
    "print('Build model...')\n",
    "main_input = Input(shape=(maxlen, num_features), name='main_input')\n",
    "# train a 2-layer LSTM with one shared layer\n",
    "l1 = LSTM(100, consume_less='gpu', init='glorot_uniform', return_sequences=True, dropout_W=0.2)(main_input) # the shared layer\n",
    "b1 = BatchNormalization()(l1)\n",
    "l2_1 = LSTM(100, consume_less='gpu', init='glorot_uniform', return_sequences=False, dropout_W=0.2)(b1) # the layer specialized in activity prediction\n",
    "b2_1 = BatchNormalization()(l2_1)\n",
    "l2_2 = LSTM(100, consume_less='gpu', init='glorot_uniform', return_sequences=False, dropout_W=0.2)(b1) # the layer specialized in time prediction\n",
    "b2_2 = BatchNormalization()(l2_2)\n",
    "act_output = Dense(len(target_chars), activation='softmax', init='glorot_uniform', name='act_output')(b2_1)\n",
    "time_output = Dense(1, init='glorot_uniform', name='time_output')(b2_2)\n",
    "\n",
    "model = Model(input=[main_input], output=[act_output, time_output])\n",
    "\n",
    "opt = Nadam(lr=0.002, beta_1=0.9, beta_2=0.999, epsilon=1e-08, schedule_decay=0.004, clipvalue=3)\n",
    "\n",
    "model.compile(loss={'act_output':'categorical_crossentropy', 'time_output':'mae'}, optimizer=opt)\n",
    "early_stopping = EarlyStopping(monitor='val_loss', patience=42)\n",
    "model_checkpoint = ModelCheckpoint('output_files/models/model_{epoch:02d}-{val_loss:.2f}.h5', monitor='val_loss', verbose=0, save_best_only=True, save_weights_only=False, mode='auto')\n",
    "lr_reducer = ReduceLROnPlateau(monitor='val_loss', factor=0.5, patience=10, verbose=0, mode='auto', epsilon=0.0001, cooldown=0, min_lr=0)\n",
    "\n",
    "model.fit(X, {'act_output':y_a, 'time_output':y_t}, validation_split=0.2, verbose=2, callbacks=[early_stopping, model_checkpoint, lr_reducer], batch_size=maxlen, nb_epoch=500)"
   ]
  },
  {
   "cell_type": "code",
   "execution_count": null,
   "metadata": {},
   "outputs": [],
   "source": [
    "model.summary()"
   ]
  },
  {
   "cell_type": "code",
   "execution_count": null,
   "metadata": {
    "collapsed": true
   },
   "outputs": [],
   "source": []
  }
 ],
 "metadata": {
  "kernelspec": {
   "display_name": "Python 2",
   "language": "python",
   "name": "python2"
  },
  "language_info": {
   "codemirror_mode": {
    "name": "ipython",
    "version": 2
   },
   "file_extension": ".py",
   "mimetype": "text/x-python",
   "name": "python",
   "nbconvert_exporter": "python",
   "pygments_lexer": "ipython2",
   "version": "2.7.13"
  },
  "toc": {
   "colors": {
    "hover_highlight": "#DAA520",
    "running_highlight": "#FF0000",
    "selected_highlight": "#FFD700"
   },
   "moveMenuLeft": true,
   "nav_menu": {
    "height": "66px",
    "width": "252px"
   },
   "navigate_menu": true,
   "number_sections": true,
   "sideBar": true,
   "threshold": 4,
   "toc_cell": false,
   "toc_section_display": "block",
   "toc_window_display": false
  }
 },
 "nbformat": 4,
 "nbformat_minor": 2
}
