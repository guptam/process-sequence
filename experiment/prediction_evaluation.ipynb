{
 "cells": [
  {
   "cell_type": "code",
   "execution_count": 1,
   "metadata": {
    "collapsed": true,
    "deletable": true,
    "editable": true
   },
   "outputs": [],
   "source": [
    "import os\n",
    "import argparse\n",
    "import pandas as pd\n",
    "import numpy as np\n",
    "import pickle\n",
    "import sys"
   ]
  },
  {
   "cell_type": "code",
   "execution_count": 2,
   "metadata": {
    "collapsed": false
   },
   "outputs": [],
   "source": [
    "sys.path.insert(0, './../utils/')\n",
    "from utils import *\n",
    "#from utils_1 import *"
   ]
  },
  {
   "cell_type": "code",
   "execution_count": 3,
   "metadata": {
    "collapsed": true,
    "deletable": true,
    "editable": true
   },
   "outputs": [],
   "source": [
    "from jellyfish._jellyfish import damerau_levenshtein_distance\n",
    "import distance\n",
    "from sklearn import metrics"
   ]
  },
  {
   "cell_type": "code",
   "execution_count": 4,
   "metadata": {
    "collapsed": false,
    "deletable": true,
    "editable": true
   },
   "outputs": [
    {
     "name": "stderr",
     "output_type": "stream",
     "text": [
      "Using Theano backend.\n"
     ]
    }
   ],
   "source": [
    "from keras.models import load_model\n",
    "#from theano.ifelse import ifelse #added this"
   ]
  },
  {
   "cell_type": "code",
   "execution_count": 6,
   "metadata": {
    "collapsed": false
   },
   "outputs": [
    {
     "data": {
      "text/plain": [
       "'/home/hoang/Dropbox/process-sequence/experiment'"
      ]
     },
     "execution_count": 6,
     "metadata": {},
     "output_type": "execute_result"
    }
   ],
   "source": [
    "%pwd"
   ]
  },
  {
   "cell_type": "code",
   "execution_count": 7,
   "metadata": {
    "collapsed": true,
    "deletable": true,
    "editable": true
   },
   "outputs": [],
   "source": [
    "name = 'helpdesk'\n",
    "#name = 'bpi_12_w'\n",
    "args = {\n",
    "    'inputdir': './../input/{}/'.format(name),   \n",
    "    'outputdir': './output_files/{}/'.format(name),\n",
    "    'modelname': 'model_11-1.52.h5',\n",
    "}\n",
    "\n",
    "args = argparse.Namespace(**args)"
   ]
  },
  {
   "cell_type": "code",
   "execution_count": 8,
   "metadata": {
    "collapsed": true,
    "deletable": true,
    "editable": true
   },
   "outputs": [],
   "source": [
    "test = pd.read_csv(args.inputdir+'test.csv')\n",
    "test = transformDf(test)"
   ]
  },
  {
   "cell_type": "code",
   "execution_count": 9,
   "metadata": {
    "collapsed": true,
    "deletable": true,
    "editable": true
   },
   "outputs": [],
   "source": [
    "with open(args.inputdir+'parameters.pkl', \"rb\") as f:\n",
    "    maxlen = pickle.load(f)\n",
    "    num_features = pickle.load(f)\n",
    "    chartoindice = pickle.load(f)\n",
    "    targetchartoindice = pickle.load(f)\n",
    "    divisor = pickle.load(f)\n",
    "    divisor2 = pickle.load(f)"
   ]
  },
  {
   "cell_type": "code",
   "execution_count": 10,
   "metadata": {
    "collapsed": true,
    "deletable": true,
    "editable": true
   },
   "outputs": [],
   "source": [
    "with open(args.inputdir+'preprocessed_data.pkl', \"rb\") as f:\n",
    "    X = pickle.load(f)\n",
    "    y_a = pickle.load(f)\n",
    "    y_t = pickle.load(f)\n",
    "    X_test = pickle.load(f)\n",
    "    y_a_test = pickle.load(f)\n",
    "    y_t_test = pickle.load(f)"
   ]
  },
  {
   "cell_type": "markdown",
   "metadata": {
    "deletable": true,
    "editable": true
   },
   "source": [
    "# Utils"
   ]
  },
  {
   "cell_type": "code",
   "execution_count": 11,
   "metadata": {
    "collapsed": false,
    "deletable": true,
    "editable": true
   },
   "outputs": [],
   "source": [
    "model = load_model(args.outputdir+args.modelname)"
   ]
  },
  {
   "cell_type": "code",
   "execution_count": 12,
   "metadata": {
    "collapsed": false,
    "deletable": true,
    "editable": true
   },
   "outputs": [],
   "source": [
    "test_groupByCase = test.groupby(['CaseID'])\n",
    "\n",
    "#get features all data\n",
    "sentences, sentences_t, sentences_t2, sentences_t3, sentences_t4 = getFeature(test_groupByCase)\n",
    "\n",
    "#get output all data\n",
    "next_chars, next_chars_t, next_chars_t2, next_chars_t3, next_chars_t4 = getOutput(test_groupByCase)\n",
    "\n",
    "# Check longest case --> suffix: 2 to 7\n",
    "test_len = findLongestLength(test_groupByCase)"
   ]
  },
  {
   "cell_type": "code",
   "execution_count": 13,
   "metadata": {
    "collapsed": true,
    "deletable": true,
    "editable": true
   },
   "outputs": [],
   "source": [
    "def getSuffix(suffix, sentences, sentences_t, sentences_t2, sentences_t3, sentences_t4, next_chars, next_chars_t):\n",
    "    sentences_2 = []\n",
    "    sentences_t_2 = []\n",
    "    sentences_t2_2 = []\n",
    "    sentences_t3_2 = []\n",
    "    sentences_t4_2 = []\n",
    "    next_chars_2 = []\n",
    "    next_chars_t_2 = []\n",
    "\n",
    "    for i in range(len(sentences)):\n",
    "        if len(sentences[i]) == suffix and next_chars[i] != 'EOS':\n",
    "            sentences_2.append(sentences[i])\n",
    "            sentences_t_2.append(sentences_t[i])\n",
    "            sentences_t2_2.append(sentences_t2[i])\n",
    "            sentences_t3_2.append(sentences_t3[i])\n",
    "            sentences_t4_2.append(sentences_t4[i])\n",
    "            next_chars_2.append(next_chars[i])\n",
    "            next_chars_t_2.append(next_chars_t[i])\n",
    "    return sentences_2, sentences_t_2, sentences_t2_2, sentences_t3_2, sentences_t4_2, next_chars_2, next_chars_t_2"
   ]
  },
  {
   "cell_type": "code",
   "execution_count": 14,
   "metadata": {
    "collapsed": false,
    "deletable": true,
    "editable": true
   },
   "outputs": [],
   "source": [
    "def evalAct(true_label, pred_prob, targetchartoindice):\n",
    "    #for log-loss: get probabilities\n",
    "    gt_a = one_hot_encode(true_label, targetchartoindice)\n",
    "    log_loss = metrics.log_loss(gt_a, pred_prob)\n",
    "    print('Log-loss: {}'.format(log_loss))\n",
    "    \n",
    "    #for accuracy: get labels\n",
    "    gt_a_label = true_label\n",
    "    pred_a_label = getLabel(pred_prob, targetchartoindice)\n",
    "    acc = metrics.accuracy_score(gt_a_label, pred_a_label)\n",
    "    print('Accuracy: {}%'.format(acc*100))\n",
    "    acc_3 = get_top3_accuracy(pred_prob, gt_a_label, targetchartoindice)\n",
    "    print('Top 3 accuracy: {}%'.format(acc_3*100))"
   ]
  },
  {
   "cell_type": "code",
   "execution_count": 15,
   "metadata": {
    "collapsed": true,
    "deletable": true,
    "editable": true
   },
   "outputs": [],
   "source": [
    "def evalTime(true_time, pred_time, divisor):\n",
    "    #get time\n",
    "    gt_t = true_time\n",
    "    pred_t = inverseTime(pred_time, divisor)\n",
    "    \n",
    "    mse = metrics.mean_squared_error(gt_t, pred_t)\n",
    "    mae = metrics.mean_absolute_error(gt_t, pred_t)\n",
    "    median = metrics.median_absolute_error(gt_t, pred_t)\n",
    "    \n",
    "    print('Mean Squared Error: {0}s\\t| {1} days'.format(mse, mse/86400))\n",
    "    print('Mean Absolute Error: {0}s\\t| {1} days'.format(mae, mae/86400))\n",
    "    print('Median Absolute Error: {0}s\\t| {1} days'.format(median, median/86400))"
   ]
  },
  {
   "cell_type": "code",
   "execution_count": 16,
   "metadata": {
    "collapsed": true,
    "deletable": true,
    "editable": true
   },
   "outputs": [],
   "source": [
    "# DL distance\n",
    "#distance.nlevenshtein(gt_a_label, pred_a_label) #0.1731066460587326\n",
    "\n",
    "#damerau_levenshtein_distance(gt_a_label, pred_a_label) #784\n",
    "\n",
    "#distance.jaccard(gt_a_label, pred_a_label) #0.4444444444444444"
   ]
  },
  {
   "cell_type": "markdown",
   "metadata": {
    "deletable": true,
    "editable": true
   },
   "source": [
    "# Evaluation"
   ]
  },
  {
   "cell_type": "code",
   "execution_count": 17,
   "metadata": {
    "collapsed": true,
    "deletable": true,
    "editable": true
   },
   "outputs": [],
   "source": [
    "max_suffix = test_len-2"
   ]
  },
  {
   "cell_type": "code",
   "execution_count": 18,
   "metadata": {
    "collapsed": false,
    "deletable": true,
    "editable": true
   },
   "outputs": [
    {
     "name": "stdout",
     "output_type": "stream",
     "text": [
      "----------Suffix 2------------\n",
      "Evaluation of Activity\n",
      "Log-loss: 0.697656593422095\n",
      "Accuracy: 76.66666666666667%\n",
      "Top 3 accuracy: 98.66666666666667%\n",
      "Evaluation of Time\n",
      "Mean Squared Error: 365567461572.38293s\t| 4231104.879309988 days\n",
      "Mean Absolute Error: 293722.9643958537s\t| 3.3995713471742324 days\n",
      "Median Absolute Error: 35339.5234375s\t| 0.4090222620081019 days\n",
      "\n",
      "\n",
      "----------Suffix 3------------\n",
      "Evaluation of Activity\n",
      "Log-loss: 1.2063873319980805\n",
      "Accuracy: 53.25842696629214%\n",
      "Top 3 accuracy: 98.87640449438202%\n",
      "Evaluation of Time\n",
      "Mean Squared Error: 515488291394.41785s\t| 5966299.668916874 days\n",
      "Mean Absolute Error: 417871.3909873705s\t| 4.836474432724196 days\n",
      "Median Absolute Error: 241183.7465209961s\t| 2.791478547696714 days\n",
      "\n",
      "\n",
      "----------Suffix 4------------\n",
      "Evaluation of Activity\n",
      "Log-loss: 0.9715175428069555\n",
      "Accuracy: 62.56410256410256%\n",
      "Top 3 accuracy: 99.48717948717949%\n",
      "Evaluation of Time\n",
      "Mean Squared Error: 262428340930.0921s\t| 3037365.0570612513 days\n",
      "Mean Absolute Error: 223636.66146161983s\t| 2.588387285435415 days\n",
      "Median Absolute Error: 7730.033203125s\t| 0.08946797688802083 days\n",
      "\n",
      "\n",
      "----------Suffix 5------------\n",
      "Evaluation of Activity\n",
      "Log-loss: 0.7734744128551376\n",
      "Accuracy: 68.53932584269663%\n",
      "Top 3 accuracy: 100.0%\n",
      "Evaluation of Time\n",
      "Mean Squared Error: 519301542159.87445s\t| 6010434.515739287 days\n",
      "Mean Absolute Error: 337382.35641684424s\t| 3.9048883844542157 days\n",
      "Median Absolute Error: 69495.65625s\t| 0.8043478732638889 days\n",
      "\n",
      "\n",
      "----------Suffix 6------------\n",
      "Evaluation of Activity\n",
      "Log-loss: 0.773721058972371\n",
      "Accuracy: 76.92307692307693%\n",
      "Top 3 accuracy: 100.0%\n",
      "Evaluation of Time\n",
      "Mean Squared Error: 263154052887.43805s\t| 3045764.5010120147 days\n",
      "Mean Absolute Error: 187008.14403123123s\t| 2.164446111472584 days\n",
      "Median Absolute Error: 3511.73828125s\t| 0.040645118995949074 days\n",
      "\n",
      "\n",
      "----------Suffix 7------------\n",
      "Evaluation of Activity\n",
      "Log-loss: 1.189269880950451\n",
      "Accuracy: 60.0%\n",
      "Top 3 accuracy: 100.0%\n",
      "Evaluation of Time\n",
      "Mean Squared Error: 323142952662.0532s\t| 3740080.470625616 days\n",
      "Mean Absolute Error: 329855.94311828614s\t| 3.817777119424608 days\n",
      "Median Absolute Error: 87033.55078125s\t| 1.007332763671875 days\n",
      "\n",
      "\n",
      "----------Suffix 8------------\n",
      "Evaluation of Activity\n",
      "Log-loss: 1.2889148337500436\n",
      "Accuracy: 57.14285714285714%\n",
      "Top 3 accuracy: 100.0%\n",
      "Evaluation of Time\n",
      "Mean Squared Error: 39033235186.51652s\t| 451773.55539949675 days\n",
      "Mean Absolute Error: 125089.10137939453s\t| 1.4477905252244738 days\n",
      "Median Absolute Error: 67992.56829833984s\t| 0.786951021971526 days\n",
      "\n",
      "\n",
      "----------Suffix 9------------\n",
      "Evaluation of Activity\n",
      "Log-loss: 0.5429790504276752\n",
      "Accuracy: 75.0%\n",
      "Top 3 accuracy: 100.0%\n",
      "Evaluation of Time\n",
      "Mean Squared Error: 406432684327.5775s\t| 4704081.994532147 days\n",
      "Mean Absolute Error: 347405.276473999s\t| 4.020894403634248 days\n",
      "Median Absolute Error: 59640.33087158203s\t| 0.6902816073099772 days\n",
      "\n",
      "\n",
      "----------Suffix 10------------\n",
      "Evaluation of Activity\n",
      "Log-loss: 0.2357273449500402\n",
      "Accuracy: 100.0%\n",
      "Top 3 accuracy: 100.0%\n",
      "Evaluation of Time\n",
      "Mean Squared Error: 72143000119.26826s\t| 834988.4273063457 days\n",
      "Mean Absolute Error: 190557.64786783853s\t| 2.205528331803687 days\n",
      "Median Absolute Error: 120454.375s\t| 1.3941478587962963 days\n",
      "\n",
      "\n",
      "----------Suffix 11------------\n",
      "Evaluation of Activity\n",
      "Log-loss: 0.3274261951446533\n",
      "Accuracy: 100.0%\n",
      "Top 3 accuracy: 100.0%\n",
      "Evaluation of Time\n",
      "Mean Squared Error: 12027708808.945288s\t| 139209.59269612603 days\n",
      "Mean Absolute Error: 109670.9114074707s\t| 1.2693392524012812 days\n",
      "Median Absolute Error: 109670.9114074707s\t| 1.2693392524012812 days\n",
      "\n",
      "\n"
     ]
    }
   ],
   "source": [
    "for i in range(2, max_suffix+1):\n",
    "    print('----------Suffix {}------------'.format(i))\n",
    "    sentences_2, sentences_t_2, sentences_t2_2, sentences_t3_2, sentences_t4_2, next_chars_2, next_chars_t_2 = getSuffix(i, sentences, sentences_t, sentences_t2, sentences_t3, sentences_t4, next_chars, next_chars_t)\n",
    "    X_test = vectorizeInput(sentences_2, sentences_t_2, sentences_t2_2, sentences_t3_2, sentences_t4_2, \n",
    "                        maxlen, num_features, chartoindice, \n",
    "                        divisor, divisor2, divisor3=86400, divisor4=7)\n",
    "    pred = model.predict(X_test, verbose=0)\n",
    "    pred_a = pred[0]\n",
    "    pred_t = pred[1]\n",
    "    print('Evaluation of Activity')\n",
    "    evalAct(next_chars_2, pred[0], targetchartoindice)\n",
    "    print('Evaluation of Time')\n",
    "    evalTime(next_chars_t_2, pred_t, divisor)\n",
    "    print('\\n')\n",
    "    #Add gt and pred of each suffix\n",
    "    if i == 2:\n",
    "        full_gt_a = next_chars_2\n",
    "        full_pred_a = pred_a\n",
    "        full_gt_t = next_chars_t_2\n",
    "        full_pred_t = pred_t\n",
    "    else:\n",
    "        full_gt_a += next_chars_2\n",
    "        full_pred_a = np.concatenate((full_pred_a, pred_a), axis=0)\n",
    "        full_gt_t += next_chars_t_2\n",
    "        full_pred_t = np.concatenate((full_pred_t, pred_t), axis=0)"
   ]
  },
  {
   "cell_type": "code",
   "execution_count": 19,
   "metadata": {
    "collapsed": false,
    "deletable": true,
    "editable": true
   },
   "outputs": [
    {
     "name": "stdout",
     "output_type": "stream",
     "text": [
      "Log-loss: 0.8462680214824416\n",
      "Accuracy: 69.59357752132463%\n",
      "Top 3 accuracy: 98.89613647767185%\n"
     ]
    }
   ],
   "source": [
    "evalAct(full_gt_a, full_pred_a, targetchartoindice)"
   ]
  },
  {
   "cell_type": "code",
   "execution_count": 20,
   "metadata": {
    "collapsed": false,
    "deletable": true,
    "editable": true
   },
   "outputs": [
    {
     "name": "stdout",
     "output_type": "stream",
     "text": [
      "Mean Squared Error: 391914934758.14624s\t| 4536052.485626693 days\n",
      "Mean Absolute Error: 313896.12177093973s\t| 3.633056964941432 days\n",
      "Median Absolute Error: 41169.0234375s\t| 0.4764933268229167 days\n"
     ]
    }
   ],
   "source": [
    "evalTime(full_gt_t, full_pred_t, divisor)"
   ]
  },
  {
   "cell_type": "code",
   "execution_count": 21,
   "metadata": {
    "collapsed": false,
    "deletable": true,
    "editable": true
   },
   "outputs": [
    {
     "data": {
      "text/plain": [
       "1993"
      ]
     },
     "execution_count": 21,
     "metadata": {},
     "output_type": "execute_result"
    }
   ],
   "source": [
    "len(full_gt_a)"
   ]
  },
  {
   "cell_type": "markdown",
   "metadata": {
    "deletable": true,
    "editable": true
   },
   "source": [
    "# Test single case"
   ]
  },
  {
   "cell_type": "markdown",
   "metadata": {
    "deletable": true,
    "editable": true
   },
   "source": [
    "## Predict"
   ]
  },
  {
   "cell_type": "code",
   "execution_count": null,
   "metadata": {
    "collapsed": true,
    "deletable": true,
    "editable": true
   },
   "outputs": [],
   "source": [
    "sentences_2, sentences_t_2, sentences_t2_2, sentences_t3_2, sentences_t4_2, next_chars_2, next_chars_t_2 =  getSuffix(10, sentences, sentences_t, sentences_t2, sentences_t3, sentences_t4, next_chars, next_chars_t)"
   ]
  },
  {
   "cell_type": "code",
   "execution_count": null,
   "metadata": {
    "collapsed": false,
    "deletable": true,
    "editable": true
   },
   "outputs": [],
   "source": [
    "len(sentences_2), len(next_chars_2), len(sentences)"
   ]
  },
  {
   "cell_type": "code",
   "execution_count": null,
   "metadata": {
    "collapsed": true,
    "deletable": true,
    "editable": true
   },
   "outputs": [],
   "source": [
    "X_test = vectorizeInput(sentences_2, sentences_t_2, sentences_t2_2, sentences_t3_2, sentences_t4_2, \n",
    "                        maxlen, num_features, chartoindice, \n",
    "                        divisor, divisor2, divisor3=86400, divisor4=7)"
   ]
  },
  {
   "cell_type": "code",
   "execution_count": null,
   "metadata": {
    "collapsed": true,
    "deletable": true,
    "editable": true
   },
   "outputs": [],
   "source": [
    "pred = model.predict(X_test, verbose=0)\n",
    "pred_a1 = pred[0]\n",
    "pred_t = pred[1]"
   ]
  },
  {
   "cell_type": "code",
   "execution_count": null,
   "metadata": {
    "collapsed": false,
    "deletable": true,
    "editable": true
   },
   "outputs": [],
   "source": [
    "pred[0].shape, pred[1].shape"
   ]
  },
  {
   "cell_type": "markdown",
   "metadata": {
    "deletable": true,
    "editable": true
   },
   "source": [
    "## Evaluate"
   ]
  },
  {
   "cell_type": "markdown",
   "metadata": {
    "deletable": true,
    "editable": true
   },
   "source": [
    "### Activity"
   ]
  },
  {
   "cell_type": "code",
   "execution_count": null,
   "metadata": {
    "collapsed": false,
    "deletable": true,
    "editable": true
   },
   "outputs": [],
   "source": [
    "evalAct(next_chars_2, pred[0], targetchartoindice)"
   ]
  },
  {
   "cell_type": "markdown",
   "metadata": {
    "deletable": true,
    "editable": true
   },
   "source": [
    "### Time"
   ]
  },
  {
   "cell_type": "code",
   "execution_count": null,
   "metadata": {
    "collapsed": false,
    "deletable": true,
    "editable": true
   },
   "outputs": [],
   "source": [
    "evalTime(next_chars_t_2, pred_t, divisor)"
   ]
  }
 ],
 "metadata": {
  "kernelspec": {
   "display_name": "Python 3",
   "language": "python",
   "name": "python3"
  },
  "language_info": {
   "codemirror_mode": {
    "name": "ipython",
    "version": 3
   },
   "file_extension": ".py",
   "mimetype": "text/x-python",
   "name": "python",
   "nbconvert_exporter": "python",
   "pygments_lexer": "ipython3",
   "version": "3.5.3"
  },
  "toc": {
   "colors": {
    "hover_highlight": "#DAA520",
    "running_highlight": "#FF0000",
    "selected_highlight": "#FFD700"
   },
   "moveMenuLeft": true,
   "nav_menu": {
    "height": "84px",
    "width": "252px"
   },
   "navigate_menu": true,
   "number_sections": true,
   "sideBar": true,
   "threshold": 4,
   "toc_cell": false,
   "toc_section_display": "block",
   "toc_window_display": false
  }
 },
 "nbformat": 4,
 "nbformat_minor": 2
}
