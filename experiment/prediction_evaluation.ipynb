{
 "cells": [
  {
   "cell_type": "code",
   "execution_count": 1,
   "metadata": {},
   "outputs": [],
   "source": [
    "import os\n",
    "import argparse\n",
    "import pandas as pd\n",
    "import numpy as np\n",
    "import pickle\n",
    "from utils_test import *"
   ]
  },
  {
   "cell_type": "code",
   "execution_count": 2,
   "metadata": {
    "collapsed": true
   },
   "outputs": [],
   "source": [
    "from jellyfish._jellyfish import damerau_levenshtein_distance\n",
    "import distance\n",
    "from sklearn import metrics"
   ]
  },
  {
   "cell_type": "code",
   "execution_count": 3,
   "metadata": {},
   "outputs": [
    {
     "name": "stderr",
     "output_type": "stream",
     "text": [
      "Using Theano backend.\n"
     ]
    }
   ],
   "source": [
    "from keras.models import load_model\n",
    "from theano.ifelse import ifelse #added this"
   ]
  },
  {
   "cell_type": "code",
   "execution_count": 4,
   "metadata": {},
   "outputs": [],
   "source": [
    "name = 'helpdesk'\n",
    "args = {\n",
    "    'inputdir': '../input/{}/'.format(name),   \n",
    "    'outputdir': './output_files/{}/'.format(name),\n",
    "    'modelname': 'model_77-1.51.h5',\n",
    "}\n",
    "\n",
    "args = argparse.Namespace(**args)"
   ]
  },
  {
   "cell_type": "code",
   "execution_count": 5,
   "metadata": {},
   "outputs": [],
   "source": [
    "test = pd.read_csv(args.inputdir+'test.csv')\n",
    "test = transformDf(test)"
   ]
  },
  {
   "cell_type": "code",
   "execution_count": 6,
   "metadata": {
    "collapsed": true
   },
   "outputs": [],
   "source": [
    "with open(args.inputdir+'parameters.pkl', \"rb\") as f:\n",
    "    maxlen = pickle.load(f)\n",
    "    num_features = pickle.load(f)\n",
    "    chartoindice = pickle.load(f)\n",
    "    targetchartoindice = pickle.load(f)\n",
    "    divisor = pickle.load(f)\n",
    "    divisor2 = pickle.load(f)"
   ]
  },
  {
   "cell_type": "code",
   "execution_count": 7,
   "metadata": {
    "collapsed": true
   },
   "outputs": [],
   "source": [
    "with open(args.inputdir+'preprocessed_data.pkl', \"rb\") as f:\n",
    "    X = pickle.load(f)\n",
    "    y_a = pickle.load(f)\n",
    "    y_t = pickle.load(f)\n",
    "    X_test = pickle.load(f)\n",
    "    y_a_test = pickle.load(f)\n",
    "    y_t_test = pickle.load(f)"
   ]
  },
  {
   "cell_type": "markdown",
   "metadata": {},
   "source": [
    "# Utils"
   ]
  },
  {
   "cell_type": "code",
   "execution_count": 8,
   "metadata": {},
   "outputs": [],
   "source": [
    "model = load_model(args.outputdir+args.modelname)"
   ]
  },
  {
   "cell_type": "code",
   "execution_count": 9,
   "metadata": {},
   "outputs": [
    {
     "data": {
      "text/plain": [
       "8"
      ]
     },
     "execution_count": 9,
     "metadata": {},
     "output_type": "execute_result"
    }
   ],
   "source": [
    "test_groupByCase = test.groupby(['CaseID'])\n",
    "\n",
    "#get features all data\n",
    "sentences, sentences_t, sentences_t2, sentences_t3, sentences_t4 = getFeature(test_groupByCase)\n",
    "\n",
    "#get output all data\n",
    "next_chars, next_chars_t, next_chars_t2, next_chars_t3, next_chars_t4 = getOutput(test_groupByCase)\n",
    "\n",
    "# Check longest case --> suffix: 2 to 7\n",
    "test_len = findLongestLength(test_groupByCase)\n",
    "test_len - 5"
   ]
  },
  {
   "cell_type": "code",
   "execution_count": 10,
   "metadata": {
    "collapsed": true
   },
   "outputs": [],
   "source": [
    "def get_remaining_trace_accuracy(true_labels, pred_probabilities, targetchartoindice):\n",
    "    true_trace, pred_trace = getRemaingTrace(true_labels, pred_probabilities, targetchartoindice)\n",
    "    count=0.0\n",
    "    for i in range(len(true_trace)):\n",
    "        if true_trace[i] == pred_trace[i]:\n",
    "            count+=1\n",
    "    acc = count/len(true_trace)\n",
    "    print 'Accuracy of remaining trace: {}%'.format(acc*100)"
   ]
  },
  {
   "cell_type": "code",
   "execution_count": 11,
   "metadata": {
    "collapsed": true
   },
   "outputs": [],
   "source": [
    "def evalAct(true_label, pred_prob, targetchartoindice):\n",
    "    #for log-loss: get probabilities\n",
    "    gt_a = one_hot_encode(true_label, targetchartoindice)\n",
    "    log_loss = metrics.log_loss(gt_a, pred_prob)\n",
    "    print 'Log-loss: {}'.format(log_loss)\n",
    "    \n",
    "    #for accuracy: get labels\n",
    "    gt_a_label = true_label\n",
    "    pred_a_label = getLabel(pred_prob, targetchartoindice)\n",
    "    acc = metrics.accuracy_score(gt_a_label, pred_a_label)\n",
    "    print 'Accuracy: {}%'.format(acc*100)\n",
    "    acc_3 = get_top3_accuracy(pred_prob, gt_a_label, targetchartoindice)\n",
    "    print 'Top 3 accuracy: {}%'.format(acc_3*100)"
   ]
  },
  {
   "cell_type": "code",
   "execution_count": 12,
   "metadata": {
    "collapsed": true
   },
   "outputs": [],
   "source": [
    "def evalTime(true_time, pred_time, divisor):\n",
    "    #get time\n",
    "    gt_t = true_time\n",
    "    pred_t = inverseTime(pred_time, divisor)\n",
    "    \n",
    "    mse = metrics.mean_squared_error(gt_t, pred_t)\n",
    "    mae = metrics.mean_absolute_error(gt_t, pred_t)\n",
    "    median = metrics.median_absolute_error(gt_t, pred_t)\n",
    "    \n",
    "    print 'Mean Squared Error: {0}s\\t| {1} days'.format(mse, mse/86400)\n",
    "    print 'Mean Absolute Error: {0}s\\t| {1} days'.format(mae, mae/86400)\n",
    "    print 'Median Absolute Error: {0}s\\t| {1} days'.format(median, median/86400)"
   ]
  },
  {
   "cell_type": "code",
   "execution_count": 13,
   "metadata": {
    "collapsed": true
   },
   "outputs": [],
   "source": [
    "# DL distance\n",
    "#distance.nlevenshtein(gt_a_label, pred_a_label) #0.1731066460587326\n",
    "\n",
    "#damerau_levenshtein_distance(gt_a_label, pred_a_label) #784\n",
    "\n",
    "#distance.jaccard(gt_a_label, pred_a_label) #0.4444444444444444"
   ]
  },
  {
   "cell_type": "code",
   "execution_count": 14,
   "metadata": {
    "collapsed": true
   },
   "outputs": [],
   "source": [
    "def getSuffix(suffix, sentences, sentences_t, sentences_t2, sentences_t3, sentences_t4, next_chars, next_chars_t):\n",
    "    sentences_2 = []\n",
    "    sentences_t_2 = []\n",
    "    sentences_t2_2 = []\n",
    "    sentences_t3_2 = []\n",
    "    sentences_t4_2 = []\n",
    "    next_chars_2 = []\n",
    "    next_chars_t_2 = []\n",
    "\n",
    "    for i in range(len(sentences)):\n",
    "        if len(sentences[i]) == suffix:\n",
    "            sentences_2.append(sentences[i])\n",
    "            sentences_t_2.append(sentences_t[i])\n",
    "            sentences_t2_2.append(sentences_t2[i])\n",
    "            sentences_t3_2.append(sentences_t3[i])\n",
    "            sentences_t4_2.append(sentences_t4[i])\n",
    "            next_chars_2.append(next_chars[i])\n",
    "            next_chars_t_2.append(next_chars_t[i])\n",
    "    return sentences_2, sentences_t_2, sentences_t2_2, sentences_t3_2, sentences_t4_2, next_chars_2, next_chars_t_2"
   ]
  },
  {
   "cell_type": "markdown",
   "metadata": {},
   "source": [
    "# All data"
   ]
  },
  {
   "cell_type": "markdown",
   "metadata": {},
   "source": [
    "## Predict"
   ]
  },
  {
   "cell_type": "code",
   "execution_count": 15,
   "metadata": {
    "collapsed": true
   },
   "outputs": [],
   "source": [
    "pred = model.predict(X_test, verbose=0)\n",
    "pred_a = pred[0]\n",
    "pred_t = pred[1]"
   ]
  },
  {
   "cell_type": "code",
   "execution_count": 16,
   "metadata": {},
   "outputs": [
    {
     "data": {
      "text/plain": [
       "((4529, 10), (4529, 1))"
      ]
     },
     "execution_count": 16,
     "metadata": {},
     "output_type": "execute_result"
    }
   ],
   "source": [
    "pred[0].shape, pred[1].shape"
   ]
  },
  {
   "cell_type": "markdown",
   "metadata": {},
   "source": [
    "## Evaluate"
   ]
  },
  {
   "cell_type": "markdown",
   "metadata": {},
   "source": [
    "### Activity"
   ]
  },
  {
   "cell_type": "code",
   "execution_count": 17,
   "metadata": {},
   "outputs": [
    {
     "name": "stdout",
     "output_type": "stream",
     "text": [
      "Accuracy of remaining trace: 59.9369085174%\n"
     ]
    }
   ],
   "source": [
    "get_remaining_trace_accuracy(next_chars, pred_a, targetchartoindice)"
   ]
  },
  {
   "cell_type": "code",
   "execution_count": 18,
   "metadata": {},
   "outputs": [
    {
     "name": "stdout",
     "output_type": "stream",
     "text": [
      "Log-loss: 0.556910028043\n",
      "Accuracy: 82.5568558181%\n",
      "Top 3 accuracy: 99.1168028262%\n"
     ]
    }
   ],
   "source": [
    "evalAct(next_chars, pred_a, targetchartoindice)"
   ]
  },
  {
   "cell_type": "markdown",
   "metadata": {},
   "source": [
    "### Time"
   ]
  },
  {
   "cell_type": "code",
   "execution_count": 19,
   "metadata": {},
   "outputs": [
    {
     "name": "stdout",
     "output_type": "stream",
     "text": [
      "Mean Squared Error: 2.40264211257e+11s\t| 2780835.77844 days\n",
      "Mean Absolute Error: 194805.482155s\t| 2.2546930805 days\n",
      "Median Absolute Error: 16509.8847656s\t| 0.191086629232 days\n"
     ]
    }
   ],
   "source": [
    "evalTime(next_chars_t, pred_t, divisor)"
   ]
  },
  {
   "cell_type": "markdown",
   "metadata": {},
   "source": [
    "# Suffix"
   ]
  },
  {
   "cell_type": "markdown",
   "metadata": {},
   "source": [
    "## Predict"
   ]
  },
  {
   "cell_type": "code",
   "execution_count": 36,
   "metadata": {
    "collapsed": true
   },
   "outputs": [],
   "source": [
    "max_suffix = 11"
   ]
  },
  {
   "cell_type": "code",
   "execution_count": 76,
   "metadata": {},
   "outputs": [
    {
     "name": "stdout",
     "output_type": "stream",
     "text": [
      "----------Suffix 2------------\n",
      "Evaluation of Activity\n",
      "Log-loss: 0.664227357496\n",
      "Accuracy: 77.6813880126%\n",
      "Top 3 accuracy: 98.738170347%\n",
      "Evaluation of Time\n",
      "Mean Squared Error: 3.49056102713e+11s\t| 4040001.18881 days\n",
      "Mean Absolute Error: 277457.405924s\t| 3.21131256856 days\n",
      "Median Absolute Error: 27724.8496094s\t| 0.320889463071 days\n",
      "\n",
      "\n",
      "----------Suffix 3------------\n",
      "Evaluation of Activity\n",
      "Log-loss: 0.4838520479\n",
      "Accuracy: 84.25%\n",
      "Top 3 accuracy: 99.4166666667%\n",
      "Evaluation of Time\n",
      "Mean Squared Error: 1.95771055972e+11s\t| 2265868.70338 days\n",
      "Mean Absolute Error: 154406.375571s\t| 1.78711082837 days\n",
      "Median Absolute Error: 135.120529175s\t| 0.0015638950136 days\n",
      "\n",
      "\n",
      "----------Suffix 4------------\n",
      "Evaluation of Activity\n",
      "Log-loss: 0.472546177274\n",
      "Accuracy: 84.7191011236%\n",
      "Top 3 accuracy: 99.5505617978%\n",
      "Evaluation of Time\n",
      "Mean Squared Error: 1.19563640635e+11s\t| 1383838.43327 days\n",
      "Mean Absolute Error: 99842.7480553s\t| 1.15558736175 days\n",
      "Median Absolute Error: 648.383666992s\t| 0.00750444059019 days\n",
      "\n",
      "\n",
      "----------Suffix 5------------\n",
      "Evaluation of Activity\n",
      "Log-loss: 0.450260565502\n",
      "Accuracy: 85.641025641%\n",
      "Top 3 accuracy: 100.0%\n",
      "Evaluation of Time\n",
      "Mean Squared Error: 2.33156046843e+11s\t| 2698565.35698 days\n",
      "Mean Absolute Error: 147690.88542s\t| 1.70938524792 days\n",
      "Median Absolute Error: 864.98828125s\t| 0.0100114384404 days\n",
      "\n",
      "\n",
      "----------Suffix 6------------\n",
      "Evaluation of Activity\n",
      "Log-loss: 0.398030101021\n",
      "Accuracy: 88.7640449438%\n",
      "Top 3 accuracy: 98.8764044944%\n",
      "Evaluation of Time\n",
      "Mean Squared Error: 1.1745786022e+11s\t| 1359465.97477 days\n",
      "Mean Absolute Error: 82722.0566419s\t| 0.957431211134 days\n",
      "Median Absolute Error: 922.448059082s\t| 0.0106764821653 days\n",
      "\n",
      "\n",
      "----------Suffix 7------------\n",
      "Evaluation of Activity\n",
      "Log-loss: 0.285079968317\n",
      "Accuracy: 92.3076923077%\n",
      "Top 3 accuracy: 100.0%\n",
      "Evaluation of Time\n",
      "Mean Squared Error: 87795416013.4s\t| 1016150.6483 days\n",
      "Mean Absolute Error: 83967.8846216s\t| 0.971850516454 days\n",
      "Median Absolute Error: 1014.55822754s\t| 0.011742572078 days\n",
      "\n",
      "\n",
      "----------Suffix 8------------\n",
      "Evaluation of Activity\n",
      "Log-loss: 1.18448415734\n",
      "Accuracy: 70.0%\n",
      "Top 3 accuracy: 90.0%\n",
      "Evaluation of Time\n",
      "Mean Squared Error: 62575298929.6s\t| 724251.145018 days\n",
      "Mean Absolute Error: 120046.150354s\t| 1.3894230365 days\n",
      "Median Absolute Error: 30617.5868225s\t| 0.354370217853 days\n",
      "\n",
      "\n",
      "----------Suffix 9------------\n",
      "Evaluation of Activity\n",
      "Log-loss: 0.460423037676\n",
      "Accuracy: 85.7142857143%\n",
      "Top 3 accuracy: 100.0%\n",
      "Evaluation of Time\n",
      "Mean Squared Error: 1.49602395152e+11s\t| 1731509.20315 days\n",
      "Mean Absolute Error: 149504.533473s\t| 1.73037654483 days\n",
      "Median Absolute Error: 1645.91687012s\t| 0.0190499637745 days\n",
      "\n",
      "\n",
      "----------Suffix 10------------\n",
      "Evaluation of Activity\n",
      "Log-loss: 0.123089636443\n",
      "Accuracy: 100.0%\n",
      "Top 3 accuracy: 100.0%\n",
      "Evaluation of Time\n",
      "Mean Squared Error: 60581431405.1s\t| 701173.974596 days\n",
      "Mean Absolute Error: 161891.107307s\t| 1.87373966791 days\n",
      "Median Absolute Error: 97399.1495361s\t| 1.12730497148 days\n",
      "\n",
      "\n",
      "----------Suffix 11------------\n",
      "Evaluation of Activity\n",
      "Log-loss: 0.0695420602957\n",
      "Accuracy: 100.0%\n",
      "Top 3 accuracy: 100.0%\n",
      "Evaluation of Time\n",
      "Mean Squared Error: 3978214257.65s\t| 46044.1465006 days\n",
      "Mean Absolute Error: 37048.5639445s\t| 0.428802823432 days\n",
      "Median Absolute Error: 1222.78381348s\t| 0.0141525904338 days\n",
      "\n",
      "\n"
     ]
    }
   ],
   "source": [
    "for i in range(2, max_suffix+1):\n",
    "    print '----------Suffix {}------------'.format(i)\n",
    "    sentences_2, sentences_t_2, sentences_t2_2, sentences_t3_2, sentences_t4_2, next_chars_2, next_chars_t_2 = getSuffix(i, sentences, sentences_t, sentences_t2, sentences_t3, sentences_t4, next_chars, next_chars_t)\n",
    "    X_test = vectorizeInput(sentences_2, sentences_t_2, sentences_t2_2, sentences_t3_2, sentences_t4_2, \n",
    "                        maxlen, num_features, chartoindice, \n",
    "                        divisor, divisor2, divisor3=86400, divisor4=7)\n",
    "    pred = model.predict(X_test, verbose=0)\n",
    "    pred_a = pred[0]\n",
    "    pred_t = pred[1]\n",
    "    print 'Evaluation of Activity'\n",
    "    evalAct(next_chars_2, pred[0], targetchartoindice)\n",
    "    print 'Evaluation of Time'\n",
    "    evalTime(next_chars_t_2, pred_t, divisor)\n",
    "    print '\\n'\n",
    "    #Add gt and pred of each suffix\n",
    "    if i == 2:\n",
    "        full_gt_a = next_chars_2\n",
    "        full_pred_a = pred_a\n",
    "        full_gt_t = next_chars_t_2\n",
    "        full_pred_t = pred_t\n",
    "    else:\n",
    "        full_gt_a += next_chars_2\n",
    "        full_pred_a = np.concatenate((full_pred_a, pred_a), axis=0)\n",
    "        full_gt_t += next_chars_t_2\n",
    "        full_pred_t = np.concatenate((full_pred_t, pred_t), axis=0)"
   ]
  },
  {
   "cell_type": "code",
   "execution_count": 77,
   "metadata": {},
   "outputs": [
    {
     "name": "stdout",
     "output_type": "stream",
     "text": [
      "Log-loss: 0.547011715111\n",
      "Accuracy: 82.0552147239%\n",
      "Top 3 accuracy: 99.1717791411%\n"
     ]
    }
   ],
   "source": [
    "evalAct(full_gt_a, full_pred_a, targetchartoindice)"
   ]
  },
  {
   "cell_type": "code",
   "execution_count": 78,
   "metadata": {},
   "outputs": [
    {
     "name": "stdout",
     "output_type": "stream",
     "text": [
      "Mean Squared Error: 2.42946213353e+11s\t| 2811877.46937 days\n",
      "Mean Absolute Error: 191403.711914s\t| 2.21532073974 days\n",
      "Median Absolute Error: 9745.64794922s\t| 0.112796851264 days\n"
     ]
    }
   ],
   "source": [
    "evalTime(full_gt_t, full_pred_t, divisor)"
   ]
  },
  {
   "cell_type": "markdown",
   "metadata": {
    "heading_collapsed": true
   },
   "source": [
    "# Test"
   ]
  },
  {
   "cell_type": "markdown",
   "metadata": {
    "hidden": true
   },
   "source": [
    "## Predict"
   ]
  },
  {
   "cell_type": "code",
   "execution_count": 98,
   "metadata": {
    "collapsed": true,
    "hidden": true
   },
   "outputs": [],
   "source": [
    "sentences_2, sentences_t_2, sentences_t2_2, sentences_t3_2, sentences_t4_2, next_chars_2, next_chars_t_2 =  getSuffix(10, sentences, sentences_t, sentences_t2, sentences_t3, sentences_t4, next_chars, next_chars_t)"
   ]
  },
  {
   "cell_type": "code",
   "execution_count": 101,
   "metadata": {
    "hidden": true
   },
   "outputs": [
    {
     "data": {
      "text/plain": [
       "(4, 4, 4529)"
      ]
     },
     "execution_count": 101,
     "metadata": {},
     "output_type": "execute_result"
    }
   ],
   "source": [
    "len(sentences_2), len(next_chars_2), len(sentences)"
   ]
  },
  {
   "cell_type": "code",
   "execution_count": 102,
   "metadata": {
    "hidden": true
   },
   "outputs": [
    {
     "data": {
      "text/plain": [
       "(3258, 1271)"
      ]
     },
     "execution_count": 102,
     "metadata": {},
     "output_type": "execute_result"
    }
   ],
   "source": [
    "1268+1200+445+195+89+39+10+7+4+1, 4529-3258"
   ]
  },
  {
   "cell_type": "code",
   "execution_count": 54,
   "metadata": {
    "collapsed": true,
    "hidden": true
   },
   "outputs": [],
   "source": [
    "X_test = vectorizeInput(sentences_2, sentences_t_2, sentences_t2_2, sentences_t3_2, sentences_t4_2, \n",
    "                        maxlen, num_features, chartoindice, \n",
    "                        divisor, divisor2, divisor3=86400, divisor4=7)"
   ]
  },
  {
   "cell_type": "code",
   "execution_count": 55,
   "metadata": {
    "collapsed": true,
    "hidden": true
   },
   "outputs": [],
   "source": [
    "pred = model.predict(X_test, verbose=0)\n",
    "pred_a1 = pred[0]\n",
    "pred_t = pred[1]"
   ]
  },
  {
   "cell_type": "code",
   "execution_count": 43,
   "metadata": {
    "hidden": true
   },
   "outputs": [
    {
     "data": {
      "text/plain": [
       "((3, 10), (3, 1))"
      ]
     },
     "execution_count": 43,
     "metadata": {},
     "output_type": "execute_result"
    }
   ],
   "source": [
    "pred[0].shape, pred[1].shape"
   ]
  },
  {
   "cell_type": "markdown",
   "metadata": {
    "hidden": true
   },
   "source": [
    "## Evaluate"
   ]
  },
  {
   "cell_type": "markdown",
   "metadata": {
    "hidden": true
   },
   "source": [
    "### Activity"
   ]
  },
  {
   "cell_type": "code",
   "execution_count": 32,
   "metadata": {
    "hidden": true
   },
   "outputs": [
    {
     "name": "stdout",
     "output_type": "stream",
     "text": [
      "Log-loss: 0.123089636443\n",
      "Accuracy: 100.0%\n",
      "Top 3 accuracy: 100.0%\n"
     ]
    }
   ],
   "source": [
    "evalAct(next_chars_2, pred[0], targetchartoindice)"
   ]
  },
  {
   "cell_type": "markdown",
   "metadata": {
    "hidden": true
   },
   "source": [
    "### Time"
   ]
  },
  {
   "cell_type": "code",
   "execution_count": 33,
   "metadata": {
    "hidden": true
   },
   "outputs": [
    {
     "name": "stdout",
     "output_type": "stream",
     "text": [
      "Mean Squared Error: 60581431405.1s\t| 701173.974596 days\n",
      "Mean Absolute Error: 161891.107307s\t| 1.87373966791 days\n",
      "Median Absolute Error: 97399.1495361s\t| 1.12730497148 days\n"
     ]
    }
   ],
   "source": [
    "evalTime(next_chars_t_2, pred_t, divisor)"
   ]
  },
  {
   "cell_type": "code",
   "execution_count": null,
   "metadata": {
    "collapsed": true,
    "hidden": true
   },
   "outputs": [],
   "source": []
  }
 ],
 "metadata": {
  "kernelspec": {
   "display_name": "Python 2",
   "language": "python",
   "name": "python2"
  },
  "language_info": {
   "codemirror_mode": {
    "name": "ipython",
    "version": 2
   },
   "file_extension": ".py",
   "mimetype": "text/x-python",
   "name": "python",
   "nbconvert_exporter": "python",
   "pygments_lexer": "ipython2",
   "version": "2.7.13"
  },
  "toc": {
   "colors": {
    "hover_highlight": "#DAA520",
    "running_highlight": "#FF0000",
    "selected_highlight": "#FFD700"
   },
   "moveMenuLeft": true,
   "nav_menu": {
    "height": "84px",
    "width": "252px"
   },
   "navigate_menu": true,
   "number_sections": true,
   "sideBar": true,
   "threshold": 4,
   "toc_cell": false,
   "toc_section_display": "block",
   "toc_window_display": false
  }
 },
 "nbformat": 4,
 "nbformat_minor": 2
}
