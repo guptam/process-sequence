{
 "cells": [
  {
   "cell_type": "markdown",
   "metadata": {},
   "source": [
    "This is the original model"
   ]
  },
  {
   "cell_type": "markdown",
   "metadata": {},
   "source": [
    "# Load data"
   ]
  },
  {
   "cell_type": "code",
   "execution_count": 1,
   "metadata": {
    "collapsed": true
   },
   "outputs": [],
   "source": [
    "import os\n",
    "import argparse\n",
    "import pandas as pd\n",
    "import numpy as np\n",
    "import pickle\n",
    "import matplotlib.pyplot as plt\n",
    "import seaborn as sns\n",
    "\n",
    "%matplotlib inline"
   ]
  },
  {
   "cell_type": "code",
   "execution_count": 2,
   "metadata": {
    "collapsed": false
   },
   "outputs": [
    {
     "name": "stderr",
     "output_type": "stream",
     "text": [
      "Using Theano backend.\n"
     ]
    }
   ],
   "source": [
    "from keras.models import Sequential, Model\n",
    "from keras.layers.core import Dense\n",
    "from keras.layers.recurrent import LSTM, GRU, SimpleRNN\n",
    "from keras.layers import Input\n",
    "from keras.utils.data_utils import get_file\n",
    "#from keras.regularizers import WeightRegularizer\n",
    "from keras.optimizers import Nadam\n",
    "from keras.callbacks import EarlyStopping, ModelCheckpoint, ReduceLROnPlateau, History\n",
    "from keras.layers.normalization import BatchNormalization\n",
    "#from theano.ifelse import ifelse"
   ]
  },
  {
   "cell_type": "code",
   "execution_count": 3,
   "metadata": {
    "collapsed": true
   },
   "outputs": [],
   "source": [
    "#name = 'bpi_12_w'\n",
    "name = 'helpdesk'\n",
    "args = {\n",
    "    'inputdir': '../input/{}/'.format(name),   \n",
    "    'outputdir': './output_files/{}/'.format(name)\n",
    "}\n",
    "\n",
    "args = argparse.Namespace(**args)"
   ]
  },
  {
   "cell_type": "code",
   "execution_count": 4,
   "metadata": {
    "collapsed": true
   },
   "outputs": [],
   "source": [
    "if not os.path.isdir(args.outputdir):\n",
    "    os.makedirs(args.outputdir)"
   ]
  },
  {
   "cell_type": "code",
   "execution_count": 5,
   "metadata": {
    "collapsed": true
   },
   "outputs": [],
   "source": [
    "with open(args.inputdir + 'parameters.pkl', \"rb\") as f:\n",
    "    maxlen = pickle.load(f)\n",
    "    num_features = pickle.load(f)\n",
    "    chartoindice = pickle.load(f)\n",
    "    targetchartoindice = pickle.load(f)\n",
    "    divisor = pickle.load(f)\n",
    "    divisor2 = pickle.load(f)"
   ]
  },
  {
   "cell_type": "code",
   "execution_count": 6,
   "metadata": {
    "collapsed": true
   },
   "outputs": [],
   "source": [
    "with open(args.inputdir + 'preprocessed_data.pkl', \"rb\") as f:\n",
    "    X = pickle.load(f)\n",
    "    y_a = pickle.load(f)\n",
    "    y_t = pickle.load(f)\n",
    "    X_test = pickle.load(f)\n",
    "    y_a_test = pickle.load(f)\n",
    "    y_t_test = pickle.load(f)"
   ]
  },
  {
   "cell_type": "markdown",
   "metadata": {},
   "source": [
    "# Model"
   ]
  },
  {
   "cell_type": "code",
   "execution_count": 7,
   "metadata": {
    "collapsed": false
   },
   "outputs": [
    {
     "name": "stdout",
     "output_type": "stream",
     "text": [
      "Build model...\n",
      "Train on 7344 samples, validate on 1837 samples\n",
      "Epoch 1/500\n",
      "18s - loss: 2.1751 - act_output_loss: 0.9770 - time_output_loss: 1.1982 - val_loss: 1.7820 - val_act_output_loss: 0.6655 - val_time_output_loss: 1.1165\n",
      "Epoch 2/500\n",
      "19s - loss: 1.7698 - act_output_loss: 0.7224 - time_output_loss: 1.0474 - val_loss: 1.6782 - val_act_output_loss: 0.6278 - val_time_output_loss: 1.0504\n",
      "Epoch 3/500\n",
      "20s - loss: 1.7252 - act_output_loss: 0.7033 - time_output_loss: 1.0219 - val_loss: 1.5675 - val_act_output_loss: 0.5939 - val_time_output_loss: 0.9736\n",
      "Epoch 4/500\n",
      "18s - loss: 1.6863 - act_output_loss: 0.6739 - time_output_loss: 1.0124 - val_loss: 1.5738 - val_act_output_loss: 0.5855 - val_time_output_loss: 0.9883\n",
      "Epoch 5/500\n",
      "18s - loss: 1.6805 - act_output_loss: 0.6744 - time_output_loss: 1.0060 - val_loss: 1.5365 - val_act_output_loss: 0.5681 - val_time_output_loss: 0.9684\n",
      "Epoch 6/500\n",
      "18s - loss: 1.6725 - act_output_loss: 0.6660 - time_output_loss: 1.0064 - val_loss: 1.5698 - val_act_output_loss: 0.5874 - val_time_output_loss: 0.9824\n",
      "Epoch 7/500\n",
      "19s - loss: 1.6529 - act_output_loss: 0.6508 - time_output_loss: 1.0022 - val_loss: 1.5349 - val_act_output_loss: 0.5688 - val_time_output_loss: 0.9660\n",
      "Epoch 8/500\n",
      "18s - loss: 1.6605 - act_output_loss: 0.6585 - time_output_loss: 1.0019 - val_loss: 1.5442 - val_act_output_loss: 0.5713 - val_time_output_loss: 0.9729\n",
      "Epoch 9/500\n",
      "18s - loss: 1.6556 - act_output_loss: 0.6591 - time_output_loss: 0.9965 - val_loss: 1.5280 - val_act_output_loss: 0.5693 - val_time_output_loss: 0.9587\n",
      "Epoch 10/500\n",
      "19s - loss: 1.6477 - act_output_loss: 0.6481 - time_output_loss: 0.9996 - val_loss: 1.5448 - val_act_output_loss: 0.5737 - val_time_output_loss: 0.9711\n",
      "Epoch 11/500\n",
      "18s - loss: 1.6551 - act_output_loss: 0.6569 - time_output_loss: 0.9982 - val_loss: 1.5296 - val_act_output_loss: 0.5689 - val_time_output_loss: 0.9607\n",
      "Epoch 12/500\n",
      "18s - loss: 1.6366 - act_output_loss: 0.6424 - time_output_loss: 0.9942 - val_loss: 1.5292 - val_act_output_loss: 0.5683 - val_time_output_loss: 0.9610\n",
      "Epoch 13/500\n",
      "19s - loss: 1.6413 - act_output_loss: 0.6473 - time_output_loss: 0.9940 - val_loss: 1.5319 - val_act_output_loss: 0.5781 - val_time_output_loss: 0.9538\n",
      "Epoch 14/500\n",
      "18s - loss: 1.6383 - act_output_loss: 0.6411 - time_output_loss: 0.9972 - val_loss: 1.5332 - val_act_output_loss: 0.5784 - val_time_output_loss: 0.9548\n",
      "Epoch 15/500\n",
      "18s - loss: 1.6429 - act_output_loss: 0.6494 - time_output_loss: 0.9935 - val_loss: 1.5397 - val_act_output_loss: 0.5753 - val_time_output_loss: 0.9644\n",
      "Epoch 16/500\n",
      "25s - loss: 1.6358 - act_output_loss: 0.6430 - time_output_loss: 0.9929 - val_loss: 1.5354 - val_act_output_loss: 0.5825 - val_time_output_loss: 0.9529\n",
      "Epoch 17/500\n",
      "18s - loss: 1.6386 - act_output_loss: 0.6435 - time_output_loss: 0.9951 - val_loss: 1.5561 - val_act_output_loss: 0.5828 - val_time_output_loss: 0.9732\n",
      "Epoch 18/500\n",
      "19s - loss: 1.6436 - act_output_loss: 0.6481 - time_output_loss: 0.9956 - val_loss: 1.5061 - val_act_output_loss: 0.5619 - val_time_output_loss: 0.9442\n",
      "Epoch 19/500\n",
      "21s - loss: 1.6429 - act_output_loss: 0.6513 - time_output_loss: 0.9915 - val_loss: 1.5201 - val_act_output_loss: 0.5645 - val_time_output_loss: 0.9557\n",
      "Epoch 20/500\n",
      "19s - loss: 1.6388 - act_output_loss: 0.6447 - time_output_loss: 0.9941 - val_loss: 1.5275 - val_act_output_loss: 0.5727 - val_time_output_loss: 0.9548\n",
      "Epoch 21/500\n",
      "19s - loss: 1.6281 - act_output_loss: 0.6374 - time_output_loss: 0.9906 - val_loss: 1.5369 - val_act_output_loss: 0.5808 - val_time_output_loss: 0.9561\n",
      "Epoch 22/500\n",
      "21s - loss: 1.6343 - act_output_loss: 0.6397 - time_output_loss: 0.9946 - val_loss: 1.5204 - val_act_output_loss: 0.5633 - val_time_output_loss: 0.9571\n",
      "Epoch 23/500\n",
      "18s - loss: 1.6315 - act_output_loss: 0.6402 - time_output_loss: 0.9912 - val_loss: 1.5181 - val_act_output_loss: 0.5719 - val_time_output_loss: 0.9463\n",
      "Epoch 24/500\n",
      "18s - loss: 1.6276 - act_output_loss: 0.6369 - time_output_loss: 0.9907 - val_loss: 1.5231 - val_act_output_loss: 0.5702 - val_time_output_loss: 0.9530\n",
      "Epoch 25/500\n",
      "18s - loss: 1.6264 - act_output_loss: 0.6327 - time_output_loss: 0.9937 - val_loss: 1.5275 - val_act_output_loss: 0.5756 - val_time_output_loss: 0.9518\n",
      "Epoch 26/500\n",
      "18s - loss: 1.6258 - act_output_loss: 0.6373 - time_output_loss: 0.9885 - val_loss: 1.5256 - val_act_output_loss: 0.5683 - val_time_output_loss: 0.9574\n",
      "Epoch 27/500\n",
      "18s - loss: 1.6268 - act_output_loss: 0.6364 - time_output_loss: 0.9904 - val_loss: 1.5226 - val_act_output_loss: 0.5625 - val_time_output_loss: 0.9601\n",
      "Epoch 28/500\n",
      "18s - loss: 1.6189 - act_output_loss: 0.6299 - time_output_loss: 0.9890 - val_loss: 1.5337 - val_act_output_loss: 0.5761 - val_time_output_loss: 0.9575\n",
      "Epoch 29/500\n",
      "18s - loss: 1.6259 - act_output_loss: 0.6335 - time_output_loss: 0.9924 - val_loss: 1.5240 - val_act_output_loss: 0.5614 - val_time_output_loss: 0.9625\n",
      "Epoch 30/500\n",
      "18s - loss: 1.6076 - act_output_loss: 0.6228 - time_output_loss: 0.9848 - val_loss: 1.5230 - val_act_output_loss: 0.5696 - val_time_output_loss: 0.9534\n",
      "Epoch 31/500\n",
      "18s - loss: 1.6099 - act_output_loss: 0.6238 - time_output_loss: 0.9860 - val_loss: 1.5228 - val_act_output_loss: 0.5661 - val_time_output_loss: 0.9567\n",
      "Epoch 32/500\n",
      "19s - loss: 1.6053 - act_output_loss: 0.6164 - time_output_loss: 0.9889 - val_loss: 1.5198 - val_act_output_loss: 0.5600 - val_time_output_loss: 0.9598\n",
      "Epoch 33/500\n",
      "18s - loss: 1.5977 - act_output_loss: 0.6140 - time_output_loss: 0.9837 - val_loss: 1.5143 - val_act_output_loss: 0.5618 - val_time_output_loss: 0.9526\n",
      "Epoch 34/500\n",
      "18s - loss: 1.6015 - act_output_loss: 0.6161 - time_output_loss: 0.9855 - val_loss: 1.5077 - val_act_output_loss: 0.5607 - val_time_output_loss: 0.9470\n",
      "Epoch 35/500\n",
      "19s - loss: 1.5947 - act_output_loss: 0.6102 - time_output_loss: 0.9846 - val_loss: 1.5220 - val_act_output_loss: 0.5671 - val_time_output_loss: 0.9549\n",
      "Epoch 36/500\n",
      "18s - loss: 1.6015 - act_output_loss: 0.6180 - time_output_loss: 0.9835 - val_loss: 1.5097 - val_act_output_loss: 0.5602 - val_time_output_loss: 0.9495\n",
      "Epoch 37/500\n",
      "18s - loss: 1.6070 - act_output_loss: 0.6199 - time_output_loss: 0.9870 - val_loss: 1.5284 - val_act_output_loss: 0.5686 - val_time_output_loss: 0.9598\n",
      "Epoch 38/500\n",
      "20s - loss: 1.5991 - act_output_loss: 0.6140 - time_output_loss: 0.9850 - val_loss: 1.5170 - val_act_output_loss: 0.5698 - val_time_output_loss: 0.9472\n",
      "Epoch 39/500\n",
      "26s - loss: 1.6103 - act_output_loss: 0.6193 - time_output_loss: 0.9910 - val_loss: 1.5142 - val_act_output_loss: 0.5635 - val_time_output_loss: 0.9507\n",
      "Epoch 40/500\n",
      "19s - loss: 1.6021 - act_output_loss: 0.6152 - time_output_loss: 0.9869 - val_loss: 1.5187 - val_act_output_loss: 0.5660 - val_time_output_loss: 0.9527\n",
      "Epoch 41/500\n",
      "20s - loss: 1.5952 - act_output_loss: 0.6118 - time_output_loss: 0.9835 - val_loss: 1.5154 - val_act_output_loss: 0.5636 - val_time_output_loss: 0.9517\n",
      "Epoch 42/500\n",
      "18s - loss: 1.5919 - act_output_loss: 0.6055 - time_output_loss: 0.9864 - val_loss: 1.5193 - val_act_output_loss: 0.5620 - val_time_output_loss: 0.9573\n",
      "Epoch 43/500\n",
      "18s - loss: 1.5910 - act_output_loss: 0.6039 - time_output_loss: 0.9870 - val_loss: 1.5181 - val_act_output_loss: 0.5650 - val_time_output_loss: 0.9532\n",
      "Epoch 44/500\n",
      "18s - loss: 1.5899 - act_output_loss: 0.6063 - time_output_loss: 0.9836 - val_loss: 1.5173 - val_act_output_loss: 0.5634 - val_time_output_loss: 0.9539\n",
      "Epoch 45/500\n",
      "18s - loss: 1.5970 - act_output_loss: 0.6097 - time_output_loss: 0.9874 - val_loss: 1.5152 - val_act_output_loss: 0.5607 - val_time_output_loss: 0.9545\n",
      "Epoch 46/500\n",
      "18s - loss: 1.5915 - act_output_loss: 0.6074 - time_output_loss: 0.9842 - val_loss: 1.5152 - val_act_output_loss: 0.5609 - val_time_output_loss: 0.9543\n",
      "Epoch 47/500\n",
      "18s - loss: 1.5915 - act_output_loss: 0.6050 - time_output_loss: 0.9865 - val_loss: 1.5127 - val_act_output_loss: 0.5592 - val_time_output_loss: 0.9534\n",
      "Epoch 48/500\n",
      "18s - loss: 1.5968 - act_output_loss: 0.6092 - time_output_loss: 0.9876 - val_loss: 1.5180 - val_act_output_loss: 0.5665 - val_time_output_loss: 0.9515\n",
      "Epoch 49/500\n",
      "18s - loss: 1.5986 - act_output_loss: 0.6115 - time_output_loss: 0.9871 - val_loss: 1.5254 - val_act_output_loss: 0.5701 - val_time_output_loss: 0.9553\n",
      "Epoch 50/500\n",
      "19s - loss: 1.5878 - act_output_loss: 0.6037 - time_output_loss: 0.9842 - val_loss: 1.5203 - val_act_output_loss: 0.5660 - val_time_output_loss: 0.9543\n",
      "Epoch 51/500\n",
      "18s - loss: 1.5890 - act_output_loss: 0.6032 - time_output_loss: 0.9859 - val_loss: 1.5164 - val_act_output_loss: 0.5616 - val_time_output_loss: 0.9547\n",
      "Epoch 52/500\n",
      "18s - loss: 1.5845 - act_output_loss: 0.6002 - time_output_loss: 0.9843 - val_loss: 1.5143 - val_act_output_loss: 0.5598 - val_time_output_loss: 0.9545\n",
      "Epoch 53/500\n",
      "18s - loss: 1.5896 - act_output_loss: 0.6005 - time_output_loss: 0.9891 - val_loss: 1.5150 - val_act_output_loss: 0.5615 - val_time_output_loss: 0.9534\n",
      "Epoch 54/500\n",
      "18s - loss: 1.5898 - act_output_loss: 0.6009 - time_output_loss: 0.9890 - val_loss: 1.5180 - val_act_output_loss: 0.5615 - val_time_output_loss: 0.9565\n",
      "Epoch 55/500\n",
      "18s - loss: 1.5866 - act_output_loss: 0.6013 - time_output_loss: 0.9853 - val_loss: 1.5138 - val_act_output_loss: 0.5608 - val_time_output_loss: 0.9530\n",
      "Epoch 56/500\n",
      "18s - loss: 1.5932 - act_output_loss: 0.6067 - time_output_loss: 0.9865 - val_loss: 1.5170 - val_act_output_loss: 0.5606 - val_time_output_loss: 0.9564\n",
      "Epoch 57/500\n",
      "18s - loss: 1.5878 - act_output_loss: 0.6006 - time_output_loss: 0.9872 - val_loss: 1.5144 - val_act_output_loss: 0.5616 - val_time_output_loss: 0.9528\n",
      "Epoch 58/500\n",
      "25s - loss: 1.5881 - act_output_loss: 0.6043 - time_output_loss: 0.9838 - val_loss: 1.5189 - val_act_output_loss: 0.5643 - val_time_output_loss: 0.9545\n",
      "Epoch 59/500\n",
      "18s - loss: 1.5917 - act_output_loss: 0.6059 - time_output_loss: 0.9858 - val_loss: 1.5161 - val_act_output_loss: 0.5625 - val_time_output_loss: 0.9536\n",
      "Epoch 60/500\n",
      "18s - loss: 1.5825 - act_output_loss: 0.6007 - time_output_loss: 0.9818 - val_loss: 1.5159 - val_act_output_loss: 0.5627 - val_time_output_loss: 0.9532\n",
      "Epoch 61/500\n",
      "18s - loss: 1.5819 - act_output_loss: 0.5999 - time_output_loss: 0.9819 - val_loss: 1.5177 - val_act_output_loss: 0.5633 - val_time_output_loss: 0.9544\n"
     ]
    },
    {
     "data": {
      "text/plain": [
       "<keras.callbacks.History at 0x7f9805e5e518>"
      ]
     },
     "execution_count": 7,
     "metadata": {},
     "output_type": "execute_result"
    }
   ],
   "source": [
    "# build the model: \n",
    "print('Build model...')\n",
    "main_input = Input(shape=(maxlen, num_features), name='main_input')\n",
    "\n",
    "# train a 2-layer LSTM with one shared layer\n",
    "l1 = LSTM(100, kernel_initializer=\"glorot_uniform\", dropout=0.2, return_sequences=True, implementation=2)(main_input) # the shared layer\n",
    "b1 = BatchNormalization()(l1)\n",
    "\n",
    "l2_1 = LSTM(100, kernel_initializer=\"glorot_uniform\", dropout=0.2, return_sequences=False, implementation=2)(b1) # the layer specialized in activity prediction\n",
    "b2_1 = BatchNormalization()(l2_1)\n",
    "l2_2 = LSTM(100, kernel_initializer=\"glorot_uniform\", dropout=0.2, return_sequences=False, implementation=2)(b1) # the layer specialized in time prediction\n",
    "b2_2 = BatchNormalization()(l2_2)\n",
    "\n",
    "act_output = Dense(len(targetchartoindice), kernel_initializer=\"glorot_uniform\", name=\"act_output\", activation=\"softmax\")(b2_1)\n",
    "time_output = Dense(1, kernel_initializer=\"glorot_uniform\", name=\"time_output\")(b2_2)\n",
    "\n",
    "model = Model(inputs=[main_input], outputs=[act_output, time_output])\n",
    "\n",
    "opt = Nadam(lr=0.002, beta_1=0.9, beta_2=0.999, epsilon=1e-08, schedule_decay=0.004, clipvalue=3)\n",
    "\n",
    "model.compile(loss={'act_output':'categorical_crossentropy', 'time_output':'mae'}, optimizer=opt)\n",
    "early_stopping = EarlyStopping(monitor='val_loss', patience=42)\n",
    "model_checkpoint = ModelCheckpoint(args.outputdir + 'model_{epoch:02d}-{val_loss:.2f}.h5', \n",
    "                                   monitor='val_loss', verbose=0, save_best_only=True, \n",
    "                                   save_weights_only=False, mode='auto')\n",
    "lr_reducer = ReduceLROnPlateau(monitor='val_loss', factor=0.5, patience=10, verbose=0, \n",
    "                               mode='auto', epsilon=0.0001, cooldown=0, min_lr=0)\n",
    "history = History()\n",
    "\n",
    "model.fit(X, {'act_output':y_a, 'time_output':y_t}, validation_split=0.2, verbose=2, \n",
    "          callbacks=[early_stopping, model_checkpoint, lr_reducer, history], batch_size=maxlen, epochs=500)"
   ]
  },
  {
   "cell_type": "code",
   "execution_count": 8,
   "metadata": {
    "collapsed": false
   },
   "outputs": [
    {
     "name": "stdout",
     "output_type": "stream",
     "text": [
      "____________________________________________________________________________________________________\n",
      "Layer (type)                     Output Shape          Param #     Connected to                     \n",
      "====================================================================================================\n",
      "main_input (InputLayer)          (None, 15, 14)        0                                            \n",
      "____________________________________________________________________________________________________\n",
      "lstm_1 (LSTM)                    (None, 15, 100)       46000       main_input[0][0]                 \n",
      "____________________________________________________________________________________________________\n",
      "batch_normalization_1 (BatchNorm (None, 15, 100)       400         lstm_1[0][0]                     \n",
      "____________________________________________________________________________________________________\n",
      "lstm_2 (LSTM)                    (None, 100)           80400       batch_normalization_1[0][0]      \n",
      "____________________________________________________________________________________________________\n",
      "lstm_3 (LSTM)                    (None, 100)           80400       batch_normalization_1[0][0]      \n",
      "____________________________________________________________________________________________________\n",
      "batch_normalization_2 (BatchNorm (None, 100)           400         lstm_2[0][0]                     \n",
      "____________________________________________________________________________________________________\n",
      "batch_normalization_3 (BatchNorm (None, 100)           400         lstm_3[0][0]                     \n",
      "____________________________________________________________________________________________________\n",
      "act_output (Dense)               (None, 10)            1010        batch_normalization_2[0][0]      \n",
      "____________________________________________________________________________________________________\n",
      "time_output (Dense)              (None, 1)             101         batch_normalization_3[0][0]      \n",
      "====================================================================================================\n",
      "Total params: 209,111\n",
      "Trainable params: 208,511\n",
      "Non-trainable params: 600\n",
      "____________________________________________________________________________________________________\n"
     ]
    }
   ],
   "source": [
    "model.summary()"
   ]
  },
  {
   "cell_type": "code",
   "execution_count": 9,
   "metadata": {
    "collapsed": false
   },
   "outputs": [
    {
     "data": {
      "text/plain": [
       "dict_keys(['lr', 'val_act_output_loss', 'val_time_output_loss', 'act_output_loss', 'val_loss', 'loss', 'time_output_loss'])"
      ]
     },
     "execution_count": 9,
     "metadata": {},
     "output_type": "execute_result"
    }
   ],
   "source": [
    "history.history.keys()"
   ]
  },
  {
   "cell_type": "code",
   "execution_count": 10,
   "metadata": {
    "collapsed": false
   },
   "outputs": [
    {
     "data": {
      "image/png": "[encoded data removed]",
      "text/plain": [
       "<matplotlib.figure.Figure at 0x7f97e77666d8>"
      ]
     },
     "metadata": {},
     "output_type": "display_data"
    }
   ],
   "source": [
    "# summarize history for activity accuracy\n",
    "plt.plot(history.history['act_output_loss'])\n",
    "plt.plot(history.history['val_act_output_loss'])\n",
    "plt.title('Activity accuracy')\n",
    "plt.ylabel('accuracy')\n",
    "plt.xlabel('epoch')\n",
    "plt.legend(['train', 'val'], loc='upper right')\n",
    "plt.show()"
   ]
  },
  {
   "cell_type": "code",
   "execution_count": 11,
   "metadata": {
    "collapsed": false
   },
   "outputs": [
    {
     "data": {
      "image/png": "[encoded data removed]",
      "text/plain": [
       "<matplotlib.figure.Figure at 0x7f97e774dd68>"
      ]
     },
     "metadata": {},
     "output_type": "display_data"
    }
   ],
   "source": [
    "# summarize history for time loss\n",
    "plt.plot(history.history['time_output_loss'])\n",
    "plt.plot(history.history['val_time_output_loss'])\n",
    "plt.title('Time loss')\n",
    "plt.ylabel('loss')\n",
    "plt.xlabel('epoch')\n",
    "plt.legend(['train', 'val'], loc='upper right')\n",
    "plt.show()"
   ]
  },
  {
   "cell_type": "code",
   "execution_count": 12,
   "metadata": {
    "collapsed": false
   },
   "outputs": [
    {
     "data": {
      "image/png": "[encoded data removed]",
      "text/plain": [
       "<matplotlib.figure.Figure at 0x7f97e5e19da0>"
      ]
     },
     "metadata": {},
     "output_type": "display_data"
    }
   ],
   "source": [
    "# summarize history for model loss\n",
    "plt.plot(history.history['loss'])\n",
    "plt.plot(history.history['val_loss'])\n",
    "plt.title('Model loss')\n",
    "plt.ylabel('loss')\n",
    "plt.xlabel('epoch')\n",
    "plt.legend(['train', 'val'], loc='upper right')\n",
    "plt.show()"
   ]
  },
  {
   "cell_type": "markdown",
   "metadata": {},
   "source": [
    "# Model keras 1"
   ]
  },
  {
   "cell_type": "markdown",
   "metadata": {},
   "source": [
    "``` python\n",
    "# build the model: \n",
    "print('Build model...')\n",
    "main_input = Input(shape=(maxlen, num_features), name='main_input')\n",
    "\n",
    "# train a 2-layer LSTM with one shared layer\n",
    "l1 = LSTM(100, consume_less='gpu', init='glorot_uniform', return_sequences=True, dropout_W=0.2)(main_input) # the shared layer\n",
    "b1 = BatchNormalization()(l1)\n",
    "\n",
    "l2_1 = LSTM(100, consume_less='gpu', init='glorot_uniform', return_sequences=False, dropout_W=0.2)(b1) # the layer specialized in activity prediction\n",
    "b2_1 = BatchNormalization()(l2_1)\n",
    "l2_2 = LSTM(100, consume_less='gpu', init='glorot_uniform', return_sequences=False, dropout_W=0.2)(b1) # the layer specialized in time prediction\n",
    "b2_2 = BatchNormalization()(l2_2)\n",
    "\n",
    "act_output = Dense(len(targetchartoindice), activation='softmax', init='glorot_uniform', name='act_output')(b2_1)\n",
    "time_output = Dense(1, init='glorot_uniform', name='time_output')(b2_2)\n",
    "\n",
    "model = Model(input=[main_input], output=[act_output, time_output])\n",
    "\n",
    "opt = Nadam(lr=0.002, beta_1=0.9, beta_2=0.999, epsilon=1e-08, schedule_decay=0.004, clipvalue=3)\n",
    "\n",
    "model.compile(loss={'act_output':'categorical_crossentropy', 'time_output':'mae'}, optimizer=opt)\n",
    "early_stopping = EarlyStopping(monitor='val_loss', patience=42)\n",
    "model_checkpoint = ModelCheckpoint(args.outputdir + 'model_{epoch:02d}-{val_loss:.2f}.h5', \n",
    "                                   monitor='val_loss', verbose=0, save_best_only=True, \n",
    "                                   save_weights_only=False, mode='auto')\n",
    "lr_reducer = ReduceLROnPlateau(monitor='val_loss', factor=0.5, patience=10, verbose=0, \n",
    "                               mode='auto', epsilon=0.0001, cooldown=0, min_lr=0)\n",
    "\n",
    "model.fit(X, {'act_output':y_a, 'time_output':y_t}, validation_split=0.2, verbose=2, \n",
    "          callbacks=[early_stopping, model_checkpoint, lr_reducer], batch_size=maxlen, nb_epoch=500)\n",
    "```"
   ]
  }
 ],
 "metadata": {
  "kernelspec": {
   "display_name": "Python 3",
   "language": "python",
   "name": "python3"
  },
  "language_info": {
   "codemirror_mode": {
    "name": "ipython",
    "version": 3
   },
   "file_extension": ".py",
   "mimetype": "text/x-python",
   "name": "python",
   "nbconvert_exporter": "python",
   "pygments_lexer": "ipython3",
   "version": "3.5.3"
  },
  "toc": {
   "colors": {
    "hover_highlight": "#DAA520",
    "running_highlight": "#FF0000",
    "selected_highlight": "#FFD700"
   },
   "moveMenuLeft": true,
   "nav_menu": {
    "height": "66px",
    "width": "252px"
   },
   "navigate_menu": true,
   "number_sections": true,
   "sideBar": true,
   "threshold": 4,
   "toc_cell": false,
   "toc_section_display": "block",
   "toc_window_display": false
  }
 },
 "nbformat": 4,
 "nbformat_minor": 2
}
