{
 "cells": [
  {
   "cell_type": "markdown",
   "metadata": {
    "deletable": true,
    "editable": true
   },
   "source": [
    "This is the original model"
   ]
  },
  {
   "cell_type": "markdown",
   "metadata": {
    "deletable": true,
    "editable": true
   },
   "source": [
    "# Load data"
   ]
  },
  {
   "cell_type": "code",
   "execution_count": 1,
   "metadata": {
    "collapsed": true,
    "deletable": true,
    "editable": true
   },
   "outputs": [],
   "source": [
    "import os\n",
    "import argparse\n",
    "import pandas as pd\n",
    "import numpy as np\n",
    "import pickle\n",
    "import matplotlib.pyplot as plt\n",
    "import seaborn as sns\n",
    "\n",
    "%matplotlib inline"
   ]
  },
  {
   "cell_type": "code",
   "execution_count": 2,
   "metadata": {
    "collapsed": false,
    "deletable": true,
    "editable": true
   },
   "outputs": [
    {
     "name": "stderr",
     "output_type": "stream",
     "text": [
      "Using Theano backend.\n"
     ]
    }
   ],
   "source": [
    "from keras.models import Sequential, Model\n",
    "from keras.layers.core import Dense\n",
    "from keras.layers.recurrent import LSTM, GRU, SimpleRNN\n",
    "from keras.layers import Input\n",
    "from keras.utils.data_utils import get_file\n",
    "#from keras.regularizers import WeightRegularizer\n",
    "from keras.optimizers import Nadam\n",
    "from keras.callbacks import EarlyStopping, ModelCheckpoint, ReduceLROnPlateau, History\n",
    "from keras.layers.normalization import BatchNormalization\n",
    "#from theano.ifelse import ifelse"
   ]
  },
  {
   "cell_type": "code",
   "execution_count": 3,
   "metadata": {
    "collapsed": true,
    "deletable": true,
    "editable": true
   },
   "outputs": [],
   "source": [
    "#name = 'bpi_12_w'\n",
    "name = 'helpdesk'\n",
    "args = {\n",
    "    'inputdir': '../input/{}/'.format(name),   \n",
    "    'outputdir': './output_files/{}/'.format(name)\n",
    "}\n",
    "\n",
    "args = argparse.Namespace(**args)"
   ]
  },
  {
   "cell_type": "code",
   "execution_count": 4,
   "metadata": {
    "collapsed": true,
    "deletable": true,
    "editable": true
   },
   "outputs": [],
   "source": [
    "if not os.path.isdir(args.outputdir):\n",
    "    os.makedirs(args.outputdir)"
   ]
  },
  {
   "cell_type": "code",
   "execution_count": 5,
   "metadata": {
    "collapsed": true,
    "deletable": true,
    "editable": true
   },
   "outputs": [],
   "source": [
    "with open(args.inputdir + 'parameters.pkl', \"rb\") as f:\n",
    "    maxlen = pickle.load(f)\n",
    "    num_features = pickle.load(f)\n",
    "    chartoindice = pickle.load(f)\n",
    "    targetchartoindice = pickle.load(f)\n",
    "    divisor = pickle.load(f)\n",
    "    divisor2 = pickle.load(f)"
   ]
  },
  {
   "cell_type": "code",
   "execution_count": 6,
   "metadata": {
    "collapsed": true,
    "deletable": true,
    "editable": true
   },
   "outputs": [],
   "source": [
    "with open(args.inputdir + 'preprocessed_data.pkl', \"rb\") as f:\n",
    "    X = pickle.load(f)\n",
    "    y_a = pickle.load(f)\n",
    "    y_t = pickle.load(f)\n",
    "    X_test = pickle.load(f)\n",
    "    y_a_test = pickle.load(f)\n",
    "    y_t_test = pickle.load(f)"
   ]
  },
  {
   "cell_type": "markdown",
   "metadata": {
    "deletable": true,
    "editable": true
   },
   "source": [
    "# Model for activity"
   ]
  },
  {
   "cell_type": "code",
   "execution_count": 7,
   "metadata": {
    "collapsed": false,
    "deletable": true,
    "editable": true
   },
   "outputs": [
    {
     "name": "stdout",
     "output_type": "stream",
     "text": [
      "Build model...\n",
      "Train on 7344 samples, validate on 1837 samples\n",
      "Epoch 1/500\n",
      "14s - loss: 0.9908 - acc: 0.7102 - val_loss: 0.6993 - val_acc: 0.8062\n",
      "Epoch 2/500\n",
      "12s - loss: 0.7195 - acc: 0.7704 - val_loss: 0.5973 - val_acc: 0.8198\n",
      "Epoch 3/500\n",
      "12s - loss: 0.6887 - acc: 0.7806 - val_loss: 0.5992 - val_acc: 0.8176\n",
      "Epoch 4/500\n",
      "12s - loss: 0.6809 - acc: 0.7861 - val_loss: 0.5946 - val_acc: 0.8231\n",
      "Epoch 5/500\n",
      "12s - loss: 0.6635 - acc: 0.7923 - val_loss: 0.5737 - val_acc: 0.8274\n",
      "Epoch 6/500\n",
      "12s - loss: 0.6692 - acc: 0.7847 - val_loss: 0.5727 - val_acc: 0.8242\n",
      "Epoch 7/500\n",
      "12s - loss: 0.6579 - acc: 0.7923 - val_loss: 0.5866 - val_acc: 0.8236\n",
      "Epoch 8/500\n",
      "12s - loss: 0.6577 - acc: 0.7904 - val_loss: 0.5815 - val_acc: 0.8247\n",
      "Epoch 9/500\n",
      "12s - loss: 0.6492 - acc: 0.7953 - val_loss: 0.5675 - val_acc: 0.8253\n",
      "Epoch 10/500\n",
      "13s - loss: 0.6534 - acc: 0.7883 - val_loss: 0.5608 - val_acc: 0.8291\n",
      "Epoch 11/500\n",
      "12s - loss: 0.6450 - acc: 0.7985 - val_loss: 0.5608 - val_acc: 0.8280\n",
      "Epoch 12/500\n",
      "13s - loss: 0.6513 - acc: 0.7975 - val_loss: 0.5636 - val_acc: 0.8280\n",
      "Epoch 13/500\n",
      "12s - loss: 0.6391 - acc: 0.7953 - val_loss: 0.5966 - val_acc: 0.8258\n",
      "Epoch 14/500\n",
      "12s - loss: 0.6494 - acc: 0.7953 - val_loss: 0.5700 - val_acc: 0.8312\n",
      "Epoch 15/500\n",
      "12s - loss: 0.6447 - acc: 0.7952 - val_loss: 0.5644 - val_acc: 0.8312\n",
      "Epoch 16/500\n",
      "12s - loss: 0.6351 - acc: 0.7981 - val_loss: 0.5795 - val_acc: 0.8231\n",
      "Epoch 17/500\n",
      "12s - loss: 0.6381 - acc: 0.7930 - val_loss: 0.5718 - val_acc: 0.8291\n",
      "Epoch 18/500\n",
      "12s - loss: 0.6443 - acc: 0.7962 - val_loss: 0.5684 - val_acc: 0.8247\n",
      "Epoch 19/500\n",
      "12s - loss: 0.6428 - acc: 0.7936 - val_loss: 0.5633 - val_acc: 0.8231\n",
      "Epoch 20/500\n",
      "12s - loss: 0.6367 - acc: 0.7933 - val_loss: 0.5873 - val_acc: 0.8253\n",
      "Epoch 21/500\n",
      "12s - loss: 0.6402 - acc: 0.7921 - val_loss: 0.5653 - val_acc: 0.8302\n",
      "Epoch 22/500\n",
      "12s - loss: 0.6283 - acc: 0.7972 - val_loss: 0.5688 - val_acc: 0.8263\n",
      "Epoch 23/500\n",
      "12s - loss: 0.6303 - acc: 0.7979 - val_loss: 0.5668 - val_acc: 0.8258\n",
      "Epoch 24/500\n",
      "12s - loss: 0.6204 - acc: 0.7977 - val_loss: 0.5593 - val_acc: 0.8312\n",
      "Epoch 25/500\n",
      "14s - loss: 0.6279 - acc: 0.7987 - val_loss: 0.5701 - val_acc: 0.8280\n",
      "Epoch 26/500\n",
      "12s - loss: 0.6261 - acc: 0.7992 - val_loss: 0.5624 - val_acc: 0.8263\n",
      "Epoch 27/500\n",
      "12s - loss: 0.6295 - acc: 0.7962 - val_loss: 0.5668 - val_acc: 0.8247\n",
      "Epoch 28/500\n",
      "12s - loss: 0.6200 - acc: 0.8004 - val_loss: 0.5636 - val_acc: 0.8285\n",
      "Epoch 29/500\n",
      "12s - loss: 0.6179 - acc: 0.7977 - val_loss: 0.5645 - val_acc: 0.8323\n",
      "Epoch 30/500\n",
      "12s - loss: 0.6193 - acc: 0.7978 - val_loss: 0.5659 - val_acc: 0.8242\n",
      "Epoch 31/500\n",
      "12s - loss: 0.6187 - acc: 0.7998 - val_loss: 0.5646 - val_acc: 0.8280\n",
      "Epoch 32/500\n",
      "12s - loss: 0.6244 - acc: 0.7981 - val_loss: 0.5645 - val_acc: 0.8258\n",
      "Epoch 33/500\n",
      "12s - loss: 0.6194 - acc: 0.7977 - val_loss: 0.5696 - val_acc: 0.8263\n",
      "Epoch 34/500\n",
      "12s - loss: 0.6176 - acc: 0.7992 - val_loss: 0.5602 - val_acc: 0.8291\n",
      "Epoch 35/500\n",
      "16s - loss: 0.6136 - acc: 0.8035 - val_loss: 0.5673 - val_acc: 0.8258\n",
      "Epoch 36/500\n",
      "16s - loss: 0.6195 - acc: 0.7996 - val_loss: 0.5601 - val_acc: 0.8280\n",
      "Epoch 37/500\n",
      "18s - loss: 0.6146 - acc: 0.7983 - val_loss: 0.5638 - val_acc: 0.8263\n",
      "Epoch 38/500\n",
      "13s - loss: 0.6157 - acc: 0.8005 - val_loss: 0.5655 - val_acc: 0.8258\n",
      "Epoch 39/500\n",
      "12s - loss: 0.6079 - acc: 0.8035 - val_loss: 0.5637 - val_acc: 0.8269\n",
      "Epoch 40/500\n",
      "12s - loss: 0.6051 - acc: 0.8028 - val_loss: 0.5668 - val_acc: 0.8242\n",
      "Epoch 41/500\n",
      "12s - loss: 0.6127 - acc: 0.8017 - val_loss: 0.5627 - val_acc: 0.8269\n",
      "Epoch 42/500\n",
      "12s - loss: 0.6017 - acc: 0.8057 - val_loss: 0.5697 - val_acc: 0.8280\n",
      "Epoch 43/500\n",
      "12s - loss: 0.6173 - acc: 0.8017 - val_loss: 0.5684 - val_acc: 0.8242\n",
      "Epoch 44/500\n",
      "12s - loss: 0.6074 - acc: 0.8023 - val_loss: 0.5651 - val_acc: 0.8263\n",
      "Epoch 45/500\n",
      "12s - loss: 0.6118 - acc: 0.8023 - val_loss: 0.5601 - val_acc: 0.8291\n",
      "Epoch 46/500\n",
      "12s - loss: 0.6080 - acc: 0.7996 - val_loss: 0.5589 - val_acc: 0.8274\n",
      "Epoch 47/500\n",
      "13s - loss: 0.6070 - acc: 0.8022 - val_loss: 0.5607 - val_acc: 0.8302\n",
      "Epoch 48/500\n",
      "12s - loss: 0.6074 - acc: 0.8020 - val_loss: 0.5600 - val_acc: 0.8318\n",
      "Epoch 49/500\n",
      "12s - loss: 0.6077 - acc: 0.8019 - val_loss: 0.5597 - val_acc: 0.8307\n",
      "Epoch 50/500\n",
      "12s - loss: 0.6059 - acc: 0.8027 - val_loss: 0.5607 - val_acc: 0.8296\n",
      "Epoch 51/500\n",
      "12s - loss: 0.6017 - acc: 0.8031 - val_loss: 0.5605 - val_acc: 0.8291\n",
      "Epoch 52/500\n",
      "12s - loss: 0.6003 - acc: 0.8022 - val_loss: 0.5665 - val_acc: 0.8296\n",
      "Epoch 53/500\n",
      "12s - loss: 0.5977 - acc: 0.8036 - val_loss: 0.5644 - val_acc: 0.8285\n",
      "Epoch 54/500\n",
      "12s - loss: 0.6035 - acc: 0.8049 - val_loss: 0.5631 - val_acc: 0.8307\n",
      "Epoch 55/500\n",
      "12s - loss: 0.6118 - acc: 0.8002 - val_loss: 0.5649 - val_acc: 0.8296\n",
      "Epoch 56/500\n",
      "12s - loss: 0.6024 - acc: 0.8053 - val_loss: 0.5609 - val_acc: 0.8307\n",
      "Epoch 57/500\n",
      "13s - loss: 0.6017 - acc: 0.8047 - val_loss: 0.5647 - val_acc: 0.8291\n",
      "Epoch 58/500\n",
      "12s - loss: 0.5990 - acc: 0.8047 - val_loss: 0.5639 - val_acc: 0.8296\n",
      "Epoch 59/500\n",
      "13s - loss: 0.6066 - acc: 0.8019 - val_loss: 0.5645 - val_acc: 0.8280\n",
      "Epoch 60/500\n",
      "12s - loss: 0.5957 - acc: 0.8060 - val_loss: 0.5642 - val_acc: 0.8285\n",
      "Epoch 61/500\n",
      "12s - loss: 0.5928 - acc: 0.8096 - val_loss: 0.5651 - val_acc: 0.8291\n",
      "Epoch 62/500\n",
      "12s - loss: 0.6028 - acc: 0.8020 - val_loss: 0.5653 - val_acc: 0.8285\n",
      "Epoch 63/500\n",
      "12s - loss: 0.5929 - acc: 0.8071 - val_loss: 0.5651 - val_acc: 0.8302\n",
      "Epoch 64/500\n",
      "12s - loss: 0.6046 - acc: 0.8034 - val_loss: 0.5639 - val_acc: 0.8296\n",
      "Epoch 65/500\n",
      "12s - loss: 0.5940 - acc: 0.8061 - val_loss: 0.5637 - val_acc: 0.8302\n",
      "Epoch 66/500\n",
      "12s - loss: 0.6035 - acc: 0.8050 - val_loss: 0.5655 - val_acc: 0.8291\n",
      "Epoch 67/500\n",
      "12s - loss: 0.5970 - acc: 0.8046 - val_loss: 0.5644 - val_acc: 0.8291\n",
      "Epoch 68/500\n",
      "12s - loss: 0.6035 - acc: 0.8051 - val_loss: 0.5651 - val_acc: 0.8302\n",
      "Epoch 69/500\n",
      "12s - loss: 0.5974 - acc: 0.8061 - val_loss: 0.5646 - val_acc: 0.8296\n",
      "Epoch 70/500\n",
      "12s - loss: 0.6015 - acc: 0.8026 - val_loss: 0.5644 - val_acc: 0.8296\n",
      "Epoch 71/500\n",
      "12s - loss: 0.5995 - acc: 0.8058 - val_loss: 0.5644 - val_acc: 0.8285\n",
      "Epoch 72/500\n",
      "12s - loss: 0.5881 - acc: 0.8096 - val_loss: 0.5642 - val_acc: 0.8285\n",
      "Epoch 73/500\n",
      "12s - loss: 0.5953 - acc: 0.8064 - val_loss: 0.5646 - val_acc: 0.8291\n",
      "Epoch 74/500\n",
      "12s - loss: 0.5968 - acc: 0.8034 - val_loss: 0.5640 - val_acc: 0.8285\n",
      "Epoch 75/500\n",
      "12s - loss: 0.5983 - acc: 0.8045 - val_loss: 0.5637 - val_acc: 0.8291\n",
      "Epoch 76/500\n",
      "12s - loss: 0.5908 - acc: 0.8039 - val_loss: 0.5619 - val_acc: 0.8291\n",
      "Epoch 77/500\n",
      "12s - loss: 0.6027 - acc: 0.8034 - val_loss: 0.5642 - val_acc: 0.8296\n",
      "Epoch 78/500\n",
      "12s - loss: 0.5963 - acc: 0.8057 - val_loss: 0.5633 - val_acc: 0.8291\n",
      "Epoch 79/500\n",
      "12s - loss: 0.5967 - acc: 0.8031 - val_loss: 0.5626 - val_acc: 0.8296\n",
      "Epoch 80/500\n",
      "12s - loss: 0.5898 - acc: 0.8087 - val_loss: 0.5626 - val_acc: 0.8296\n",
      "Epoch 81/500\n",
      "12s - loss: 0.6037 - acc: 0.8009 - val_loss: 0.5636 - val_acc: 0.8291\n",
      "Epoch 82/500\n",
      "13s - loss: 0.5975 - acc: 0.8043 - val_loss: 0.5637 - val_acc: 0.8291\n",
      "Epoch 83/500\n",
      "12s - loss: 0.5903 - acc: 0.8043 - val_loss: 0.5641 - val_acc: 0.8291\n",
      "Epoch 84/500\n",
      "12s - loss: 0.5924 - acc: 0.8081 - val_loss: 0.5634 - val_acc: 0.8280\n",
      "Epoch 85/500\n",
      "12s - loss: 0.6037 - acc: 0.8054 - val_loss: 0.5630 - val_acc: 0.8280\n",
      "Epoch 86/500\n",
      "12s - loss: 0.5965 - acc: 0.8076 - val_loss: 0.5641 - val_acc: 0.8291\n",
      "Epoch 87/500\n",
      "12s - loss: 0.5973 - acc: 0.8058 - val_loss: 0.5637 - val_acc: 0.8291\n",
      "Epoch 88/500\n",
      "12s - loss: 0.6043 - acc: 0.8022 - val_loss: 0.5636 - val_acc: 0.8280\n",
      "Epoch 89/500\n",
      "12s - loss: 0.5941 - acc: 0.8086 - val_loss: 0.5636 - val_acc: 0.8291\n"
     ]
    },
    {
     "data": {
      "text/plain": [
       "<keras.callbacks.History at 0x7fd6aff756d8>"
      ]
     },
     "execution_count": 7,
     "metadata": {},
     "output_type": "execute_result"
    }
   ],
   "source": [
    "# build the model: \n",
    "print('Build model...')\n",
    "main_input = Input(shape=(maxlen, num_features), name='main_input')\n",
    "\n",
    "# shared layer\n",
    "l1 = LSTM(100, kernel_initializer=\"glorot_uniform\", dropout=0.2, return_sequences=True, implementation=2)(main_input)\n",
    "b1 = BatchNormalization()(l1)\n",
    "\n",
    "# the layer specialized in activity prediction\n",
    "l2_1 = LSTM(100, kernel_initializer=\"glorot_uniform\", dropout=0.2, return_sequences=False, implementation=2)(b1) \n",
    "b2_1 = BatchNormalization()(l2_1)\n",
    "\n",
    "\n",
    "act_output = Dense(len(targetchartoindice), kernel_initializer=\"glorot_uniform\", name=\"act_output\", activation=\"softmax\")(b2_1)\n",
    "\n",
    "model = Model(inputs=[main_input], outputs=[act_output])\n",
    "\n",
    "opt = Nadam(lr=0.002, beta_1=0.9, beta_2=0.999, epsilon=1e-08, schedule_decay=0.004, clipvalue=3)\n",
    "\n",
    "model.compile(loss={'act_output':'categorical_crossentropy'}, \n",
    "              optimizer=opt, metrics=['accuracy'])\n",
    "early_stopping = EarlyStopping(monitor='val_loss', patience=42)\n",
    "model_checkpoint = ModelCheckpoint(args.outputdir + 'model_a_{epoch:02d}-{val_loss:.2f}.h5', \n",
    "                                   monitor='val_loss', verbose=0, save_best_only=True, \n",
    "                                   save_weights_only=False, mode='auto')\n",
    "lr_reducer = ReduceLROnPlateau(monitor='val_loss', factor=0.5, patience=10, verbose=0, \n",
    "                               mode='auto', epsilon=0.0001, cooldown=0, min_lr=0)\n",
    "history_a = History()\n",
    "\n",
    "model.fit(X, {'act_output':y_a}, validation_split=0.2, verbose=2, \n",
    "          callbacks=[early_stopping, model_checkpoint, lr_reducer, history_a], batch_size=maxlen, epochs=500)"
   ]
  },
  {
   "cell_type": "markdown",
   "metadata": {},
   "source": [
    "# Model for time"
   ]
  },
  {
   "cell_type": "code",
   "execution_count": 8,
   "metadata": {
    "collapsed": false
   },
   "outputs": [
    {
     "name": "stdout",
     "output_type": "stream",
     "text": [
      "Build model...\n",
      "Train on 7344 samples, validate on 1837 samples\n",
      "Epoch 1/500\n",
      "11s - loss: 1.2023 - val_loss: 1.0516\n",
      "Epoch 2/500\n",
      "12s - loss: 1.0575 - val_loss: 1.0152\n",
      "Epoch 3/500\n",
      "12s - loss: 1.0314 - val_loss: 0.9888\n",
      "Epoch 4/500\n",
      "13s - loss: 1.0191 - val_loss: 0.9705\n",
      "Epoch 5/500\n",
      "12s - loss: 1.0119 - val_loss: 0.9837\n",
      "Epoch 6/500\n",
      "12s - loss: 1.0055 - val_loss: 0.9724\n",
      "Epoch 7/500\n",
      "12s - loss: 1.0060 - val_loss: 0.9867\n",
      "Epoch 8/500\n",
      "12s - loss: 1.0082 - val_loss: 0.9693\n",
      "Epoch 9/500\n",
      "12s - loss: 1.0051 - val_loss: 0.9763\n",
      "Epoch 10/500\n",
      "12s - loss: 0.9978 - val_loss: 0.9575\n",
      "Epoch 11/500\n",
      "12s - loss: 0.9965 - val_loss: 0.9802\n",
      "Epoch 12/500\n",
      "12s - loss: 0.9974 - val_loss: 0.9598\n",
      "Epoch 13/500\n",
      "12s - loss: 0.9980 - val_loss: 0.9651\n",
      "Epoch 14/500\n",
      "12s - loss: 0.9977 - val_loss: 0.9731\n",
      "Epoch 15/500\n",
      "13s - loss: 0.9911 - val_loss: 0.9561\n",
      "Epoch 16/500\n",
      "12s - loss: 0.9949 - val_loss: 0.9653\n",
      "Epoch 17/500\n",
      "12s - loss: 0.9937 - val_loss: 0.9545\n",
      "Epoch 18/500\n",
      "12s - loss: 0.9973 - val_loss: 0.9712\n",
      "Epoch 19/500\n",
      "12s - loss: 0.9949 - val_loss: 0.9575\n",
      "Epoch 20/500\n",
      "12s - loss: 0.9993 - val_loss: 1.7577\n",
      "Epoch 21/500\n",
      "12s - loss: 1.0029 - val_loss: 0.9844\n",
      "Epoch 22/500\n",
      "12s - loss: 0.9991 - val_loss: 0.9850\n",
      "Epoch 23/500\n",
      "13s - loss: 0.9961 - val_loss: 0.9892\n",
      "Epoch 24/500\n",
      "13s - loss: 0.9927 - val_loss: 0.9637\n",
      "Epoch 25/500\n",
      "12s - loss: 0.9961 - val_loss: 0.9742\n",
      "Epoch 26/500\n",
      "13s - loss: 0.9931 - val_loss: 0.9600\n",
      "Epoch 27/500\n",
      "12s - loss: 0.9943 - val_loss: 0.9559\n",
      "Epoch 28/500\n",
      "13s - loss: 0.9908 - val_loss: 0.9589\n",
      "Epoch 29/500\n",
      "12s - loss: 0.9912 - val_loss: 0.9619\n",
      "Epoch 30/500\n",
      "12s - loss: 0.9918 - val_loss: 0.9561\n",
      "Epoch 31/500\n",
      "12s - loss: 0.9910 - val_loss: 0.9561\n",
      "Epoch 32/500\n",
      "13s - loss: 0.9906 - val_loss: 0.9530\n",
      "Epoch 33/500\n",
      "13s - loss: 0.9907 - val_loss: 0.9503\n",
      "Epoch 34/500\n",
      "13s - loss: 0.9886 - val_loss: 0.9578\n",
      "Epoch 35/500\n",
      "13s - loss: 0.9892 - val_loss: 0.9592\n",
      "Epoch 36/500\n",
      "12s - loss: 0.9914 - val_loss: 0.9542\n",
      "Epoch 37/500\n",
      "13s - loss: 0.9899 - val_loss: 0.9573\n",
      "Epoch 38/500\n",
      "13s - loss: 0.9942 - val_loss: 0.9638\n",
      "Epoch 39/500\n",
      "13s - loss: 0.9928 - val_loss: 0.9649\n",
      "Epoch 40/500\n",
      "13s - loss: 0.9864 - val_loss: 0.9568\n",
      "Epoch 41/500\n",
      "13s - loss: 0.9878 - val_loss: 0.9572\n",
      "Epoch 42/500\n",
      "13s - loss: 0.9892 - val_loss: 0.9597\n",
      "Epoch 43/500\n",
      "12s - loss: 0.9902 - val_loss: 0.9584\n",
      "Epoch 44/500\n",
      "13s - loss: 0.9897 - val_loss: 0.9658\n",
      "Epoch 45/500\n",
      "13s - loss: 0.9884 - val_loss: 0.9501\n",
      "Epoch 46/500\n",
      "13s - loss: 0.9860 - val_loss: 0.9536\n",
      "Epoch 47/500\n",
      "13s - loss: 0.9923 - val_loss: 0.9575\n",
      "Epoch 48/500\n",
      "13s - loss: 0.9802 - val_loss: 0.9527\n",
      "Epoch 49/500\n",
      "13s - loss: 0.9918 - val_loss: 0.9575\n",
      "Epoch 50/500\n",
      "13s - loss: 0.9884 - val_loss: 0.9568\n",
      "Epoch 51/500\n",
      "13s - loss: 0.9881 - val_loss: 0.9582\n",
      "Epoch 52/500\n",
      "13s - loss: 0.9886 - val_loss: 0.9561\n",
      "Epoch 53/500\n",
      "13s - loss: 0.9880 - val_loss: 0.9555\n",
      "Epoch 54/500\n",
      "12s - loss: 0.9936 - val_loss: 0.9543\n",
      "Epoch 55/500\n",
      "13s - loss: 0.9861 - val_loss: 0.9482\n",
      "Epoch 56/500\n",
      "13s - loss: 0.9895 - val_loss: 0.9533\n",
      "Epoch 57/500\n",
      "13s - loss: 0.9905 - val_loss: 0.9539\n",
      "Epoch 58/500\n",
      "12s - loss: 0.9856 - val_loss: 0.9508\n",
      "Epoch 59/500\n",
      "13s - loss: 0.9884 - val_loss: 0.9544\n",
      "Epoch 60/500\n",
      "13s - loss: 0.9864 - val_loss: 0.9525\n",
      "Epoch 61/500\n",
      "14s - loss: 0.9886 - val_loss: 0.9591\n",
      "Epoch 62/500\n",
      "13s - loss: 0.9890 - val_loss: 0.9558\n",
      "Epoch 63/500\n",
      "13s - loss: 0.9879 - val_loss: 0.9536\n",
      "Epoch 64/500\n",
      "13s - loss: 0.9849 - val_loss: 0.9538\n",
      "Epoch 65/500\n",
      "13s - loss: 0.9913 - val_loss: 0.9555\n",
      "Epoch 66/500\n",
      "13s - loss: 0.9858 - val_loss: 0.9493\n",
      "Epoch 67/500\n",
      "13s - loss: 0.9881 - val_loss: 0.9525\n",
      "Epoch 68/500\n",
      "13s - loss: 0.9883 - val_loss: 0.9549\n",
      "Epoch 69/500\n",
      "13s - loss: 0.9849 - val_loss: 0.9528\n",
      "Epoch 70/500\n",
      "13s - loss: 0.9831 - val_loss: 0.9541\n",
      "Epoch 71/500\n",
      "13s - loss: 0.9848 - val_loss: 0.9513\n",
      "Epoch 72/500\n",
      "13s - loss: 0.9882 - val_loss: 0.9539\n",
      "Epoch 73/500\n",
      "13s - loss: 0.9867 - val_loss: 0.9527\n",
      "Epoch 74/500\n",
      "13s - loss: 0.9876 - val_loss: 0.9538\n",
      "Epoch 75/500\n",
      "12s - loss: 0.9866 - val_loss: 0.9514\n",
      "Epoch 76/500\n",
      "12s - loss: 0.9889 - val_loss: 0.9528\n",
      "Epoch 77/500\n",
      "12s - loss: 0.9872 - val_loss: 0.9548\n",
      "Epoch 78/500\n",
      "13s - loss: 0.9868 - val_loss: 0.9513\n",
      "Epoch 79/500\n",
      "12s - loss: 0.9904 - val_loss: 0.9509\n",
      "Epoch 80/500\n",
      "12s - loss: 0.9880 - val_loss: 0.9519\n",
      "Epoch 81/500\n",
      "12s - loss: 0.9884 - val_loss: 0.9521\n",
      "Epoch 82/500\n",
      "12s - loss: 0.9893 - val_loss: 0.9535\n",
      "Epoch 83/500\n",
      "12s - loss: 0.9884 - val_loss: 0.9555\n",
      "Epoch 84/500\n",
      "14s - loss: 0.9851 - val_loss: 0.9561\n",
      "Epoch 85/500\n",
      "12s - loss: 0.9833 - val_loss: 0.9519\n",
      "Epoch 86/500\n",
      "12s - loss: 0.9878 - val_loss: 0.9519\n",
      "Epoch 87/500\n",
      "13s - loss: 0.9878 - val_loss: 0.9523\n",
      "Epoch 88/500\n",
      "12s - loss: 0.9886 - val_loss: 0.9521\n",
      "Epoch 89/500\n",
      "12s - loss: 0.9899 - val_loss: 0.9555\n",
      "Epoch 90/500\n",
      "12s - loss: 0.9864 - val_loss: 0.9539\n",
      "Epoch 91/500\n",
      "12s - loss: 0.9848 - val_loss: 0.9524\n",
      "Epoch 92/500\n",
      "13s - loss: 0.9858 - val_loss: 0.9530\n",
      "Epoch 93/500\n",
      "12s - loss: 0.9854 - val_loss: 0.9527\n",
      "Epoch 94/500\n",
      "12s - loss: 0.9873 - val_loss: 0.9528\n",
      "Epoch 95/500\n",
      "12s - loss: 0.9862 - val_loss: 0.9534\n",
      "Epoch 96/500\n",
      "13s - loss: 0.9850 - val_loss: 0.9522\n",
      "Epoch 97/500\n",
      "12s - loss: 0.9850 - val_loss: 0.9538\n",
      "Epoch 98/500\n",
      "12s - loss: 0.9853 - val_loss: 0.9532\n"
     ]
    },
    {
     "data": {
      "text/plain": [
       "<keras.callbacks.History at 0x7fd685a545c0>"
      ]
     },
     "execution_count": 8,
     "metadata": {},
     "output_type": "execute_result"
    }
   ],
   "source": [
    "# build the model: \n",
    "print('Build model...')\n",
    "main_input = Input(shape=(maxlen, num_features), name='main_input')\n",
    "\n",
    "# shared layer\n",
    "l1 = LSTM(100, kernel_initializer=\"glorot_uniform\", dropout=0.2, return_sequences=True, implementation=2)(main_input) \n",
    "b1 = BatchNormalization()(l1)\n",
    "\n",
    "# the layer specialized in time prediction\n",
    "l2_2 = LSTM(100, kernel_initializer=\"glorot_uniform\", dropout=0.2, return_sequences=False, implementation=2)(b1) \n",
    "b2_2 = BatchNormalization()(l2_2)\n",
    "\n",
    "time_output = Dense(1, kernel_initializer=\"glorot_uniform\", name=\"time_output\")(b2_2)\n",
    "\n",
    "model = Model(inputs=[main_input], outputs=[time_output])\n",
    "\n",
    "opt = Nadam(lr=0.002, beta_1=0.9, beta_2=0.999, epsilon=1e-08, schedule_decay=0.004, clipvalue=3)\n",
    "\n",
    "model.compile(loss={'time_output':'mae'}, optimizer=opt)\n",
    "early_stopping = EarlyStopping(monitor='val_loss', patience=42)\n",
    "model_checkpoint = ModelCheckpoint(args.outputdir + 'model_t_{epoch:02d}-{val_loss:.2f}.h5', \n",
    "                                   monitor='val_loss', verbose=0, save_best_only=True, \n",
    "                                   save_weights_only=False, mode='auto')\n",
    "lr_reducer = ReduceLROnPlateau(monitor='val_loss', factor=0.5, patience=10, verbose=0, \n",
    "                               mode='auto', epsilon=0.0001, cooldown=0, min_lr=0)\n",
    "history_t = History()\n",
    "\n",
    "model.fit(X, {'time_output':y_t}, validation_split=0.2, verbose=2, \n",
    "          callbacks=[early_stopping, model_checkpoint, lr_reducer, history_t], batch_size=maxlen, epochs=500)"
   ]
  },
  {
   "cell_type": "code",
   "execution_count": 9,
   "metadata": {
    "collapsed": false
   },
   "outputs": [
    {
     "data": {
      "text/plain": [
       "dict_keys(['acc', 'loss', 'val_loss', 'lr', 'val_acc'])"
      ]
     },
     "execution_count": 9,
     "metadata": {},
     "output_type": "execute_result"
    }
   ],
   "source": [
    "history_a.history.keys()"
   ]
  },
  {
   "cell_type": "code",
   "execution_count": 10,
   "metadata": {
    "collapsed": false
   },
   "outputs": [
    {
     "data": {
      "image/png": "[encoded data removed]",
      "text/plain": [
       "<matplotlib.figure.Figure at 0x7fd685623518>"
      ]
     },
     "metadata": {},
     "output_type": "display_data"
    }
   ],
   "source": [
    "# summarize history for activity accuracy\n",
    "plt.plot(history_a.history['loss'])\n",
    "plt.plot(history_a.history['val_loss'])\n",
    "plt.title('Activity loss')\n",
    "plt.ylabel('loss')\n",
    "plt.xlabel('epoch')\n",
    "plt.legend(['train', 'val'], loc='upper right')\n",
    "plt.show()"
   ]
  },
  {
   "cell_type": "code",
   "execution_count": 11,
   "metadata": {
    "collapsed": false
   },
   "outputs": [
    {
     "data": {
      "image/png": "[encoded data removed]",
      "text/plain": [
       "<matplotlib.figure.Figure at 0x7fd6856230f0>"
      ]
     },
     "metadata": {},
     "output_type": "display_data"
    }
   ],
   "source": [
    "# summarize history for activity accuracy\n",
    "plt.plot(history_a.history['acc'])\n",
    "plt.plot(history_a.history['val_acc'])\n",
    "plt.title('Activity accuracy')\n",
    "plt.ylabel('accuracy')\n",
    "plt.xlabel('epoch')\n",
    "plt.legend(['train', 'val'], loc='upper right')\n",
    "plt.show()"
   ]
  },
  {
   "cell_type": "code",
   "execution_count": 12,
   "metadata": {
    "collapsed": false
   },
   "outputs": [
    {
     "data": {
      "image/png": "[encoded data removed]",
      "text/plain": [
       "<matplotlib.figure.Figure at 0x7fd68558a940>"
      ]
     },
     "metadata": {},
     "output_type": "display_data"
    }
   ],
   "source": [
    "# summarize history for time loss\n",
    "plt.plot(history_t.history['loss'])\n",
    "plt.plot(history_t.history['val_loss'])\n",
    "plt.title('Time loss')\n",
    "plt.ylabel('loss')\n",
    "plt.xlabel('epoch')\n",
    "plt.legend(['train', 'val'], loc='upper right')\n",
    "plt.show()"
   ]
  },
  {
   "cell_type": "code",
   "execution_count": null,
   "metadata": {
    "collapsed": true
   },
   "outputs": [],
   "source": []
  }
 ],
 "metadata": {
  "kernelspec": {
   "display_name": "Python 3",
   "language": "python",
   "name": "python3"
  },
  "language_info": {
   "codemirror_mode": {
    "name": "ipython",
    "version": 3
   },
   "file_extension": ".py",
   "mimetype": "text/x-python",
   "name": "python",
   "nbconvert_exporter": "python",
   "pygments_lexer": "ipython3",
   "version": "3.5.3"
  },
  "toc": {
   "colors": {
    "hover_highlight": "#DAA520",
    "running_highlight": "#FF0000",
    "selected_highlight": "#FFD700"
   },
   "moveMenuLeft": true,
   "nav_menu": {
    "height": "66px",
    "width": "252px"
   },
   "navigate_menu": true,
   "number_sections": true,
   "sideBar": true,
   "threshold": 4,
   "toc_cell": false,
   "toc_section_display": "block",
   "toc_window_display": false
  }
 },
 "nbformat": 4,
 "nbformat_minor": 2
}
