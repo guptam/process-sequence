{
 "cells": [
  {
   "cell_type": "markdown",
   "metadata": {},
   "source": [
    "This is the original model"
   ]
  },
  {
   "cell_type": "markdown",
   "metadata": {},
   "source": [
    "# Load data"
   ]
  },
  {
   "cell_type": "code",
   "execution_count": 1,
   "metadata": {
    "collapsed": true
   },
   "outputs": [],
   "source": [
    "import os\n",
    "import argparse\n",
    "import pandas as pd\n",
    "import numpy as np\n",
    "import pickle\n",
    "import matplotlib.pyplot as plt\n",
    "import seaborn as sns\n",
    "\n",
    "%matplotlib inline"
   ]
  },
  {
   "cell_type": "code",
   "execution_count": 2,
   "metadata": {
    "collapsed": false,
    "scrolled": true
   },
   "outputs": [
    {
     "name": "stderr",
     "output_type": "stream",
     "text": [
      "Using Theano backend.\n"
     ]
    }
   ],
   "source": [
    "from keras.models import Sequential, Model\n",
    "from keras.layers.core import Dense\n",
    "from keras.layers.recurrent import LSTM, GRU, SimpleRNN\n",
    "from keras.layers import Input\n",
    "from keras.utils.data_utils import get_file\n",
    "#from keras.regularizers import WeightRegularizer\n",
    "from keras.optimizers import Nadam\n",
    "from keras.callbacks import EarlyStopping, ModelCheckpoint, ReduceLROnPlateau, History\n",
    "from keras.layers.normalization import BatchNormalization\n",
    "#from theano.ifelse import ifelse"
   ]
  },
  {
   "cell_type": "code",
   "execution_count": 3,
   "metadata": {
    "collapsed": true
   },
   "outputs": [],
   "source": [
    "#name = 'bpi_12_w'\n",
    "name = 'helpdesk'\n",
    "args = {\n",
    "    'inputdir': '../input/{}/'.format(name),   \n",
    "    'outputdir': './output_files/{}/'.format(name)\n",
    "}\n",
    "\n",
    "args = argparse.Namespace(**args)"
   ]
  },
  {
   "cell_type": "code",
   "execution_count": 4,
   "metadata": {
    "collapsed": true
   },
   "outputs": [],
   "source": [
    "if not os.path.isdir(args.outputdir):\n",
    "    os.makedirs(args.outputdir)"
   ]
  },
  {
   "cell_type": "code",
   "execution_count": 5,
   "metadata": {
    "collapsed": true
   },
   "outputs": [],
   "source": [
    "with open(args.inputdir + 'parameters.pkl', \"rb\") as f:\n",
    "    maxlen = pickle.load(f)\n",
    "    num_features = pickle.load(f)\n",
    "    chartoindice = pickle.load(f)\n",
    "    targetchartoindice = pickle.load(f)\n",
    "    divisor = pickle.load(f)\n",
    "    divisor2 = pickle.load(f)"
   ]
  },
  {
   "cell_type": "code",
   "execution_count": 6,
   "metadata": {
    "collapsed": true
   },
   "outputs": [],
   "source": [
    "with open(args.inputdir + 'preprocessed_data.pkl', \"rb\") as f:\n",
    "    X = pickle.load(f)\n",
    "    y_a = pickle.load(f)\n",
    "    y_t = pickle.load(f)\n",
    "    X_test = pickle.load(f)\n",
    "    y_a_test = pickle.load(f)\n",
    "    y_t_test = pickle.load(f)"
   ]
  },
  {
   "cell_type": "markdown",
   "metadata": {},
   "source": [
    "# Model"
   ]
  },
  {
   "cell_type": "code",
   "execution_count": 7,
   "metadata": {
    "collapsed": false
   },
   "outputs": [
    {
     "name": "stdout",
     "output_type": "stream",
     "text": [
      "Build model...\n",
      "Train on 7344 samples, validate on 1837 samples\n",
      "Epoch 1/500\n",
      "18s - loss: 2.1426 - act_output_loss: 0.9588 - time_output_loss: 1.1838 - val_loss: 1.7654 - val_act_output_loss: 0.7085 - val_time_output_loss: 1.0569\n",
      "Epoch 2/500\n",
      "18s - loss: 1.7757 - act_output_loss: 0.7326 - time_output_loss: 1.0431 - val_loss: 1.5851 - val_act_output_loss: 0.5876 - val_time_output_loss: 0.9975\n",
      "Epoch 3/500\n",
      "18s - loss: 1.7134 - act_output_loss: 0.6911 - time_output_loss: 1.0222 - val_loss: 1.6030 - val_act_output_loss: 0.5970 - val_time_output_loss: 1.0060\n",
      "Epoch 4/500\n",
      "18s - loss: 1.6885 - act_output_loss: 0.6794 - time_output_loss: 1.0092 - val_loss: 1.6075 - val_act_output_loss: 0.5728 - val_time_output_loss: 1.0347\n",
      "Epoch 5/500\n",
      "18s - loss: 1.6659 - act_output_loss: 0.6618 - time_output_loss: 1.0040 - val_loss: 1.5657 - val_act_output_loss: 0.5923 - val_time_output_loss: 0.9734\n",
      "Epoch 6/500\n",
      "18s - loss: 1.6642 - act_output_loss: 0.6609 - time_output_loss: 1.0033 - val_loss: 1.5385 - val_act_output_loss: 0.5701 - val_time_output_loss: 0.9683\n",
      "Epoch 7/500\n",
      "18s - loss: 1.6583 - act_output_loss: 0.6570 - time_output_loss: 1.0013 - val_loss: 1.5433 - val_act_output_loss: 0.5679 - val_time_output_loss: 0.9754\n",
      "Epoch 8/500\n",
      "18s - loss: 1.6497 - act_output_loss: 0.6512 - time_output_loss: 0.9985 - val_loss: 1.5503 - val_act_output_loss: 0.5823 - val_time_output_loss: 0.9681\n",
      "Epoch 9/500\n",
      "19s - loss: 1.6488 - act_output_loss: 0.6538 - time_output_loss: 0.9949 - val_loss: 1.5520 - val_act_output_loss: 0.5817 - val_time_output_loss: 0.9702\n",
      "Epoch 10/500\n",
      "19s - loss: 1.6509 - act_output_loss: 0.6527 - time_output_loss: 0.9982 - val_loss: 1.5538 - val_act_output_loss: 0.5817 - val_time_output_loss: 0.9720\n",
      "Epoch 11/500\n",
      "18s - loss: 1.6468 - act_output_loss: 0.6496 - time_output_loss: 0.9972 - val_loss: 1.5306 - val_act_output_loss: 0.5724 - val_time_output_loss: 0.9582\n",
      "Epoch 12/500\n",
      "20s - loss: 1.6480 - act_output_loss: 0.6521 - time_output_loss: 0.9959 - val_loss: 1.5387 - val_act_output_loss: 0.5737 - val_time_output_loss: 0.9650\n",
      "Epoch 13/500\n",
      "19s - loss: 1.6452 - act_output_loss: 0.6483 - time_output_loss: 0.9969 - val_loss: 1.5535 - val_act_output_loss: 0.5880 - val_time_output_loss: 0.9655\n",
      "Epoch 14/500\n",
      "20s - loss: 1.6392 - act_output_loss: 0.6445 - time_output_loss: 0.9947 - val_loss: 1.5484 - val_act_output_loss: 0.5676 - val_time_output_loss: 0.9808\n",
      "Epoch 15/500\n",
      "19s - loss: 1.6386 - act_output_loss: 0.6445 - time_output_loss: 0.9941 - val_loss: 1.5285 - val_act_output_loss: 0.5780 - val_time_output_loss: 0.9505\n",
      "Epoch 16/500\n",
      "20s - loss: 1.6427 - act_output_loss: 0.6478 - time_output_loss: 0.9948 - val_loss: 1.5216 - val_act_output_loss: 0.5654 - val_time_output_loss: 0.9562\n",
      "Epoch 17/500\n",
      "19s - loss: 1.6408 - act_output_loss: 0.6441 - time_output_loss: 0.9967 - val_loss: 1.5433 - val_act_output_loss: 0.5757 - val_time_output_loss: 0.9676\n",
      "Epoch 18/500\n",
      "19s - loss: 1.6368 - act_output_loss: 0.6463 - time_output_loss: 0.9905 - val_loss: 1.5313 - val_act_output_loss: 0.5661 - val_time_output_loss: 0.9653\n",
      "Epoch 19/500\n",
      "20s - loss: 1.6338 - act_output_loss: 0.6451 - time_output_loss: 0.9887 - val_loss: 1.5231 - val_act_output_loss: 0.5735 - val_time_output_loss: 0.9496\n",
      "Epoch 20/500\n",
      "19s - loss: 1.6332 - act_output_loss: 0.6392 - time_output_loss: 0.9940 - val_loss: 1.5113 - val_act_output_loss: 0.5613 - val_time_output_loss: 0.9500\n",
      "Epoch 21/500\n",
      "19s - loss: 1.6382 - act_output_loss: 0.6437 - time_output_loss: 0.9945 - val_loss: 1.5281 - val_act_output_loss: 0.5697 - val_time_output_loss: 0.9584\n",
      "Epoch 22/500\n",
      "19s - loss: 1.6214 - act_output_loss: 0.6338 - time_output_loss: 0.9876 - val_loss: 1.5204 - val_act_output_loss: 0.5676 - val_time_output_loss: 0.9528\n",
      "Epoch 23/500\n",
      "19s - loss: 1.6257 - act_output_loss: 0.6344 - time_output_loss: 0.9912 - val_loss: 1.5255 - val_act_output_loss: 0.5689 - val_time_output_loss: 0.9566\n",
      "Epoch 24/500\n",
      "19s - loss: 1.6205 - act_output_loss: 0.6319 - time_output_loss: 0.9886 - val_loss: 1.5370 - val_act_output_loss: 0.5783 - val_time_output_loss: 0.9587\n",
      "Epoch 25/500\n",
      "20s - loss: 1.6306 - act_output_loss: 0.6380 - time_output_loss: 0.9925 - val_loss: 1.5209 - val_act_output_loss: 0.5640 - val_time_output_loss: 0.9568\n",
      "Epoch 26/500\n",
      "18s - loss: 1.6320 - act_output_loss: 0.6411 - time_output_loss: 0.9908 - val_loss: 1.5150 - val_act_output_loss: 0.5680 - val_time_output_loss: 0.9469\n",
      "Epoch 27/500\n",
      "18s - loss: 1.6225 - act_output_loss: 0.6314 - time_output_loss: 0.9911 - val_loss: 1.5259 - val_act_output_loss: 0.5664 - val_time_output_loss: 0.9595\n",
      "Epoch 28/500\n",
      "19s - loss: 1.6284 - act_output_loss: 0.6368 - time_output_loss: 0.9916 - val_loss: 1.5132 - val_act_output_loss: 0.5658 - val_time_output_loss: 0.9474\n",
      "Epoch 29/500\n",
      "18s - loss: 1.6183 - act_output_loss: 0.6278 - time_output_loss: 0.9905 - val_loss: 1.5106 - val_act_output_loss: 0.5634 - val_time_output_loss: 0.9472\n",
      "Epoch 30/500\n",
      "19s - loss: 1.6343 - act_output_loss: 0.6407 - time_output_loss: 0.9937 - val_loss: 1.5271 - val_act_output_loss: 0.5731 - val_time_output_loss: 0.9540\n",
      "Epoch 31/500\n",
      "19s - loss: 1.6207 - act_output_loss: 0.6311 - time_output_loss: 0.9895 - val_loss: 1.5280 - val_act_output_loss: 0.5635 - val_time_output_loss: 0.9645\n",
      "Epoch 32/500\n",
      "18s - loss: 1.6195 - act_output_loss: 0.6289 - time_output_loss: 0.9906 - val_loss: 1.5170 - val_act_output_loss: 0.5647 - val_time_output_loss: 0.9523\n",
      "Epoch 33/500\n",
      "18s - loss: 1.6198 - act_output_loss: 0.6305 - time_output_loss: 0.9893 - val_loss: 1.5402 - val_act_output_loss: 0.5728 - val_time_output_loss: 0.9674\n",
      "Epoch 34/500\n",
      "19s - loss: 1.6229 - act_output_loss: 0.6292 - time_output_loss: 0.9937 - val_loss: 1.5362 - val_act_output_loss: 0.5801 - val_time_output_loss: 0.9561\n",
      "Epoch 35/500\n",
      "19s - loss: 1.6235 - act_output_loss: 0.6353 - time_output_loss: 0.9882 - val_loss: 1.5215 - val_act_output_loss: 0.5657 - val_time_output_loss: 0.9558\n",
      "Epoch 36/500\n",
      "18s - loss: 1.6191 - act_output_loss: 0.6319 - time_output_loss: 0.9873 - val_loss: 1.5232 - val_act_output_loss: 0.5701 - val_time_output_loss: 0.9531\n",
      "Epoch 37/500\n",
      "18s - loss: 1.6158 - act_output_loss: 0.6268 - time_output_loss: 0.9890 - val_loss: 1.5383 - val_act_output_loss: 0.5818 - val_time_output_loss: 0.9565\n",
      "Epoch 38/500\n",
      "19s - loss: 1.6237 - act_output_loss: 0.6321 - time_output_loss: 0.9916 - val_loss: 1.5269 - val_act_output_loss: 0.5642 - val_time_output_loss: 0.9627\n",
      "Epoch 39/500\n",
      "19s - loss: 1.6064 - act_output_loss: 0.6209 - time_output_loss: 0.9855 - val_loss: 1.5191 - val_act_output_loss: 0.5688 - val_time_output_loss: 0.9503\n",
      "Epoch 40/500\n",
      "19s - loss: 1.6148 - act_output_loss: 0.6229 - time_output_loss: 0.9919 - val_loss: 1.5292 - val_act_output_loss: 0.5628 - val_time_output_loss: 0.9665\n",
      "Epoch 41/500\n",
      "20s - loss: 1.6145 - act_output_loss: 0.6241 - time_output_loss: 0.9904 - val_loss: 1.5109 - val_act_output_loss: 0.5558 - val_time_output_loss: 0.9551\n",
      "Epoch 42/500\n",
      "19s - loss: 1.5988 - act_output_loss: 0.6119 - time_output_loss: 0.9868 - val_loss: 1.5151 - val_act_output_loss: 0.5662 - val_time_output_loss: 0.9489\n",
      "Epoch 43/500\n",
      "19s - loss: 1.5966 - act_output_loss: 0.6133 - time_output_loss: 0.9833 - val_loss: 1.5194 - val_act_output_loss: 0.5643 - val_time_output_loss: 0.9551\n",
      "Epoch 44/500\n",
      "19s - loss: 1.5997 - act_output_loss: 0.6134 - time_output_loss: 0.9863 - val_loss: 1.5110 - val_act_output_loss: 0.5632 - val_time_output_loss: 0.9478\n",
      "Epoch 45/500\n",
      "18s - loss: 1.6052 - act_output_loss: 0.6147 - time_output_loss: 0.9906 - val_loss: 1.5163 - val_act_output_loss: 0.5619 - val_time_output_loss: 0.9544\n",
      "Epoch 46/500\n",
      "18s - loss: 1.5999 - act_output_loss: 0.6130 - time_output_loss: 0.9869 - val_loss: 1.5190 - val_act_output_loss: 0.5625 - val_time_output_loss: 0.9565\n",
      "Epoch 47/500\n",
      "18s - loss: 1.6002 - act_output_loss: 0.6138 - time_output_loss: 0.9864 - val_loss: 1.5195 - val_act_output_loss: 0.5646 - val_time_output_loss: 0.9549\n",
      "Epoch 48/500\n",
      "19s - loss: 1.6075 - act_output_loss: 0.6175 - time_output_loss: 0.9900 - val_loss: 1.5178 - val_act_output_loss: 0.5650 - val_time_output_loss: 0.9528\n",
      "Epoch 49/500\n",
      "19s - loss: 1.5921 - act_output_loss: 0.6056 - time_output_loss: 0.9865 - val_loss: 1.5227 - val_act_output_loss: 0.5692 - val_time_output_loss: 0.9535\n",
      "Epoch 50/500\n",
      "19s - loss: 1.6044 - act_output_loss: 0.6155 - time_output_loss: 0.9889 - val_loss: 1.5125 - val_act_output_loss: 0.5637 - val_time_output_loss: 0.9488\n",
      "Epoch 51/500\n",
      "19s - loss: 1.5896 - act_output_loss: 0.6040 - time_output_loss: 0.9856 - val_loss: 1.5150 - val_act_output_loss: 0.5625 - val_time_output_loss: 0.9526\n",
      "Epoch 52/500\n",
      "19s - loss: 1.5891 - act_output_loss: 0.6046 - time_output_loss: 0.9845 - val_loss: 1.5165 - val_act_output_loss: 0.5649 - val_time_output_loss: 0.9516\n",
      "Epoch 53/500\n",
      "19s - loss: 1.5957 - act_output_loss: 0.6074 - time_output_loss: 0.9883 - val_loss: 1.5138 - val_act_output_loss: 0.5618 - val_time_output_loss: 0.9520\n",
      "Epoch 54/500\n",
      "19s - loss: 1.5951 - act_output_loss: 0.6124 - time_output_loss: 0.9827 - val_loss: 1.5143 - val_act_output_loss: 0.5639 - val_time_output_loss: 0.9504\n",
      "Epoch 55/500\n",
      "18s - loss: 1.5956 - act_output_loss: 0.6078 - time_output_loss: 0.9878 - val_loss: 1.5133 - val_act_output_loss: 0.5610 - val_time_output_loss: 0.9523\n",
      "Epoch 56/500\n",
      "20s - loss: 1.5816 - act_output_loss: 0.5992 - time_output_loss: 0.9824 - val_loss: 1.5115 - val_act_output_loss: 0.5599 - val_time_output_loss: 0.9516\n",
      "Epoch 57/500\n",
      "18s - loss: 1.5797 - act_output_loss: 0.5950 - time_output_loss: 0.9847 - val_loss: 1.5186 - val_act_output_loss: 0.5648 - val_time_output_loss: 0.9538\n",
      "Epoch 58/500\n",
      "19s - loss: 1.5901 - act_output_loss: 0.6070 - time_output_loss: 0.9831 - val_loss: 1.5148 - val_act_output_loss: 0.5626 - val_time_output_loss: 0.9522\n",
      "Epoch 59/500\n",
      "19s - loss: 1.5813 - act_output_loss: 0.5983 - time_output_loss: 0.9830 - val_loss: 1.5172 - val_act_output_loss: 0.5626 - val_time_output_loss: 0.9546\n",
      "Epoch 60/500\n",
      "19s - loss: 1.5758 - act_output_loss: 0.5939 - time_output_loss: 0.9819 - val_loss: 1.5149 - val_act_output_loss: 0.5626 - val_time_output_loss: 0.9523\n",
      "Epoch 61/500\n",
      "18s - loss: 1.5726 - act_output_loss: 0.5942 - time_output_loss: 0.9784 - val_loss: 1.5172 - val_act_output_loss: 0.5631 - val_time_output_loss: 0.9541\n",
      "Epoch 62/500\n",
      "18s - loss: 1.5728 - act_output_loss: 0.5900 - time_output_loss: 0.9828 - val_loss: 1.5200 - val_act_output_loss: 0.5644 - val_time_output_loss: 0.9556\n",
      "Epoch 63/500\n",
      "18s - loss: 1.5717 - act_output_loss: 0.5930 - time_output_loss: 0.9787 - val_loss: 1.5189 - val_act_output_loss: 0.5650 - val_time_output_loss: 0.9539\n",
      "Epoch 64/500\n",
      "18s - loss: 1.5708 - act_output_loss: 0.5955 - time_output_loss: 0.9752 - val_loss: 1.5172 - val_act_output_loss: 0.5628 - val_time_output_loss: 0.9544\n",
      "Epoch 65/500\n",
      "18s - loss: 1.5794 - act_output_loss: 0.5965 - time_output_loss: 0.9829 - val_loss: 1.5200 - val_act_output_loss: 0.5650 - val_time_output_loss: 0.9549\n",
      "Epoch 66/500\n",
      "19s - loss: 1.5749 - act_output_loss: 0.5919 - time_output_loss: 0.9830 - val_loss: 1.5195 - val_act_output_loss: 0.5649 - val_time_output_loss: 0.9545\n",
      "Epoch 67/500\n",
      "18s - loss: 1.5848 - act_output_loss: 0.5997 - time_output_loss: 0.9851 - val_loss: 1.5213 - val_act_output_loss: 0.5660 - val_time_output_loss: 0.9553\n",
      "Epoch 68/500\n",
      "19s - loss: 1.5873 - act_output_loss: 0.6072 - time_output_loss: 0.9802 - val_loss: 1.5204 - val_act_output_loss: 0.5652 - val_time_output_loss: 0.9551\n",
      "Epoch 69/500\n",
      "19s - loss: 1.5751 - act_output_loss: 0.5925 - time_output_loss: 0.9826 - val_loss: 1.5216 - val_act_output_loss: 0.5673 - val_time_output_loss: 0.9543\n",
      "Epoch 70/500\n",
      "18s - loss: 1.5789 - act_output_loss: 0.5960 - time_output_loss: 0.9829 - val_loss: 1.5197 - val_act_output_loss: 0.5663 - val_time_output_loss: 0.9534\n",
      "Epoch 71/500\n",
      "19s - loss: 1.5728 - act_output_loss: 0.5928 - time_output_loss: 0.9800 - val_loss: 1.5192 - val_act_output_loss: 0.5666 - val_time_output_loss: 0.9526\n",
      "Epoch 72/500\n",
      "20s - loss: 1.5759 - act_output_loss: 0.5927 - time_output_loss: 0.9832 - val_loss: 1.5204 - val_act_output_loss: 0.5665 - val_time_output_loss: 0.9538\n"
     ]
    },
    {
     "data": {
      "text/plain": [
       "<keras.callbacks.History at 0x7f12c7770860>"
      ]
     },
     "execution_count": 7,
     "metadata": {},
     "output_type": "execute_result"
    }
   ],
   "source": [
    "# build the model: \n",
    "print('Build model...')\n",
    "main_input = Input(shape=(maxlen, num_features), name='main_input')\n",
    "\n",
    "# train a 2-layer LSTM with one shared layer\n",
    "l1 = LSTM(100, kernel_initializer=\"glorot_uniform\", dropout=0.2, return_sequences=True, implementation=2)(main_input) # the shared layer\n",
    "b1 = BatchNormalization()(l1)\n",
    "\n",
    "l2_1 = LSTM(100, kernel_initializer=\"glorot_uniform\", dropout=0.2, return_sequences=False, implementation=2)(b1) # the layer specialized in activity prediction\n",
    "b2_1 = BatchNormalization()(l2_1)\n",
    "l2_2 = LSTM(100, kernel_initializer=\"glorot_uniform\", dropout=0.2, return_sequences=False, implementation=2)(b1) # the layer specialized in time prediction\n",
    "b2_2 = BatchNormalization()(l2_2)\n",
    "\n",
    "act_output = Dense(len(targetchartoindice), kernel_initializer=\"glorot_uniform\", name=\"act_output\", activation=\"softmax\")(b2_1)\n",
    "time_output = Dense(1, kernel_initializer=\"glorot_uniform\", name=\"time_output\")(b2_2)\n",
    "\n",
    "model = Model(inputs=[main_input], outputs=[act_output, time_output])\n",
    "\n",
    "opt = Nadam(lr=0.002, beta_1=0.9, beta_2=0.999, epsilon=1e-08, schedule_decay=0.004, clipvalue=3)\n",
    "\n",
    "model.compile(loss={'act_output':'categorical_crossentropy', 'time_output':'mae'}, optimizer=opt)\n",
    "early_stopping = EarlyStopping(monitor='val_loss', patience=42)\n",
    "model_checkpoint = ModelCheckpoint(args.outputdir + 'model_{epoch:02d}-{val_loss:.2f}.h5', \n",
    "                                   monitor='val_loss', verbose=0, save_best_only=True, \n",
    "                                   save_weights_only=False, mode='auto')\n",
    "lr_reducer = ReduceLROnPlateau(monitor='val_loss', factor=0.5, patience=10, verbose=0, \n",
    "                               mode='auto', epsilon=0.0001, cooldown=0, min_lr=0)\n",
    "history = History()\n",
    "\n",
    "model.fit(X, {'act_output':y_a, 'time_output':y_t}, validation_split=0.2, verbose=2, \n",
    "          callbacks=[early_stopping, model_checkpoint, lr_reducer, history], batch_size=maxlen, epochs=500)"
   ]
  },
  {
   "cell_type": "code",
   "execution_count": 8,
   "metadata": {
    "collapsed": false
   },
   "outputs": [
    {
     "name": "stdout",
     "output_type": "stream",
     "text": [
      "____________________________________________________________________________________________________\n",
      "Layer (type)                     Output Shape          Param #     Connected to                     \n",
      "====================================================================================================\n",
      "main_input (InputLayer)          (None, 15, 19)        0                                            \n",
      "____________________________________________________________________________________________________\n",
      "lstm_1 (LSTM)                    (None, 15, 100)       48000       main_input[0][0]                 \n",
      "____________________________________________________________________________________________________\n",
      "batch_normalization_1 (BatchNorm (None, 15, 100)       400         lstm_1[0][0]                     \n",
      "____________________________________________________________________________________________________\n",
      "lstm_2 (LSTM)                    (None, 100)           80400       batch_normalization_1[0][0]      \n",
      "____________________________________________________________________________________________________\n",
      "lstm_3 (LSTM)                    (None, 100)           80400       batch_normalization_1[0][0]      \n",
      "____________________________________________________________________________________________________\n",
      "batch_normalization_2 (BatchNorm (None, 100)           400         lstm_2[0][0]                     \n",
      "____________________________________________________________________________________________________\n",
      "batch_normalization_3 (BatchNorm (None, 100)           400         lstm_3[0][0]                     \n",
      "____________________________________________________________________________________________________\n",
      "act_output (Dense)               (None, 10)            1010        batch_normalization_2[0][0]      \n",
      "____________________________________________________________________________________________________\n",
      "time_output (Dense)              (None, 1)             101         batch_normalization_3[0][0]      \n",
      "====================================================================================================\n",
      "Total params: 211,111\n",
      "Trainable params: 210,511\n",
      "Non-trainable params: 600\n",
      "____________________________________________________________________________________________________\n"
     ]
    }
   ],
   "source": [
    "model.summary()"
   ]
  },
  {
   "cell_type": "code",
   "execution_count": 9,
   "metadata": {
    "collapsed": false
   },
   "outputs": [
    {
     "data": {
      "text/plain": [
       "dict_keys(['val_act_output_loss', 'val_loss', 'val_time_output_loss', 'loss', 'lr', 'act_output_loss', 'time_output_loss'])"
      ]
     },
     "execution_count": 9,
     "metadata": {},
     "output_type": "execute_result"
    }
   ],
   "source": [
    "history.history.keys()"
   ]
  },
  {
   "cell_type": "code",
   "execution_count": 10,
   "metadata": {
    "collapsed": false
   },
   "outputs": [
    {
     "data": {
      "image/png": "[encoded data removed]",
      "text/plain": [
       "<matplotlib.figure.Figure at 0x7f12dc8cbbe0>"
      ]
     },
     "metadata": {},
     "output_type": "display_data"
    }
   ],
   "source": [
    "# summarize history for activity accuracy\n",
    "plt.plot(history.history['act_output_loss'])\n",
    "plt.plot(history.history['val_act_output_loss'])\n",
    "plt.title('Activity accuracy')\n",
    "plt.ylabel('accuracy')\n",
    "plt.xlabel('epoch')\n",
    "plt.legend(['train', 'val'], loc='upper right')\n",
    "plt.show()"
   ]
  },
  {
   "cell_type": "code",
   "execution_count": 11,
   "metadata": {
    "collapsed": false
   },
   "outputs": [
    {
     "data": {
      "image/png": "[encoded data removed]",
      "text/plain": [
       "<matplotlib.figure.Figure at 0x7f12a9629630>"
      ]
     },
     "metadata": {},
     "output_type": "display_data"
    }
   ],
   "source": [
    "# summarize history for time loss\n",
    "plt.plot(history.history['time_output_loss'])\n",
    "plt.plot(history.history['val_time_output_loss'])\n",
    "plt.title('Time loss')\n",
    "plt.ylabel('loss')\n",
    "plt.xlabel('epoch')\n",
    "plt.legend(['train', 'val'], loc='upper right')\n",
    "plt.show()"
   ]
  },
  {
   "cell_type": "code",
   "execution_count": 12,
   "metadata": {
    "collapsed": false
   },
   "outputs": [
    {
     "data": {
      "image/png": "[encoded data removed]",
      "text/plain": [
       "<matplotlib.figure.Figure at 0x7f12a855e9e8>"
      ]
     },
     "metadata": {},
     "output_type": "display_data"
    }
   ],
   "source": [
    "# summarize history for model loss\n",
    "plt.plot(history.history['loss'])\n",
    "plt.plot(history.history['val_loss'])\n",
    "plt.title('Model loss')\n",
    "plt.ylabel('loss')\n",
    "plt.xlabel('epoch')\n",
    "plt.legend(['train', 'val'], loc='upper right')\n",
    "plt.show()"
   ]
  },
  {
   "cell_type": "markdown",
   "metadata": {},
   "source": [
    "# Model keras 1"
   ]
  },
  {
   "cell_type": "markdown",
   "metadata": {},
   "source": [
    "``` python\n",
    "# build the model: \n",
    "print('Build model...')\n",
    "main_input = Input(shape=(maxlen, num_features), name='main_input')\n",
    "\n",
    "# train a 2-layer LSTM with one shared layer\n",
    "l1 = LSTM(100, consume_less='gpu', init='glorot_uniform', return_sequences=True, dropout_W=0.2)(main_input) # the shared layer\n",
    "b1 = BatchNormalization()(l1)\n",
    "\n",
    "l2_1 = LSTM(100, consume_less='gpu', init='glorot_uniform', return_sequences=False, dropout_W=0.2)(b1) # the layer specialized in activity prediction\n",
    "b2_1 = BatchNormalization()(l2_1)\n",
    "l2_2 = LSTM(100, consume_less='gpu', init='glorot_uniform', return_sequences=False, dropout_W=0.2)(b1) # the layer specialized in time prediction\n",
    "b2_2 = BatchNormalization()(l2_2)\n",
    "\n",
    "act_output = Dense(len(targetchartoindice), activation='softmax', init='glorot_uniform', name='act_output')(b2_1)\n",
    "time_output = Dense(1, init='glorot_uniform', name='time_output')(b2_2)\n",
    "\n",
    "model = Model(input=[main_input], output=[act_output, time_output])\n",
    "\n",
    "opt = Nadam(lr=0.002, beta_1=0.9, beta_2=0.999, epsilon=1e-08, schedule_decay=0.004, clipvalue=3)\n",
    "\n",
    "model.compile(loss={'act_output':'categorical_crossentropy', 'time_output':'mae'}, optimizer=opt)\n",
    "early_stopping = EarlyStopping(monitor='val_loss', patience=42)\n",
    "model_checkpoint = ModelCheckpoint(args.outputdir + 'model_{epoch:02d}-{val_loss:.2f}.h5', \n",
    "                                   monitor='val_loss', verbose=0, save_best_only=True, \n",
    "                                   save_weights_only=False, mode='auto')\n",
    "lr_reducer = ReduceLROnPlateau(monitor='val_loss', factor=0.5, patience=10, verbose=0, \n",
    "                               mode='auto', epsilon=0.0001, cooldown=0, min_lr=0)\n",
    "\n",
    "model.fit(X, {'act_output':y_a, 'time_output':y_t}, validation_split=0.2, verbose=2, \n",
    "          callbacks=[early_stopping, model_checkpoint, lr_reducer], batch_size=maxlen, nb_epoch=500)\n",
    "```"
   ]
  }
 ],
 "metadata": {
  "kernelspec": {
   "display_name": "Python 3",
   "language": "python",
   "name": "python3"
  },
  "language_info": {
   "codemirror_mode": {
    "name": "ipython",
    "version": 3
   },
   "file_extension": ".py",
   "mimetype": "text/x-python",
   "name": "python",
   "nbconvert_exporter": "python",
   "pygments_lexer": "ipython3",
   "version": "3.5.3"
  },
  "toc": {
   "colors": {
    "hover_highlight": "#DAA520",
    "running_highlight": "#FF0000",
    "selected_highlight": "#FFD700"
   },
   "moveMenuLeft": true,
   "nav_menu": {
    "height": "66px",
    "width": "252px"
   },
   "navigate_menu": true,
   "number_sections": true,
   "sideBar": true,
   "threshold": 4,
   "toc_cell": false,
   "toc_section_display": "block",
   "toc_window_display": false
  }
 },
 "nbformat": 4,
 "nbformat_minor": 2
}
