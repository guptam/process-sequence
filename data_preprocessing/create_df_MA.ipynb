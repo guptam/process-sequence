{
 "cells": [
  {
   "cell_type": "markdown",
   "metadata": {
    "deletable": true,
    "editable": true
   },
   "source": [
    "This script returns a dataframe with all information needed for analysis and later used for preparing input"
   ]
  },
  {
   "cell_type": "code",
   "execution_count": 1,
   "metadata": {
    "collapsed": true,
    "deletable": true,
    "editable": true
   },
   "outputs": [],
   "source": [
    "import os\n",
    "import argparse\n",
    "import pandas as pd\n",
    "import numpy as np\n",
    "import sys"
   ]
  },
  {
   "cell_type": "code",
   "execution_count": 2,
   "metadata": {
    "collapsed": true,
    "deletable": true,
    "editable": true
   },
   "outputs": [],
   "source": [
    "from dateutil.parser import parse\n",
    "from datetime import datetime\n",
    "import time\n",
    "\n",
    "pd.options.mode.chained_assignment = None #to run loop quicker without warnings"
   ]
  },
  {
   "cell_type": "code",
   "execution_count": 3,
   "metadata": {
    "collapsed": true,
    "deletable": true,
    "editable": true
   },
   "outputs": [],
   "source": [
    "name = 'helpdesk'\n",
    "args = {\n",
    "    'datadir': '../data/',\n",
    "    'datafile': name + '.csv',\n",
    "    'inputdir': '../input/{}/'.format(name),   \n",
    "}\n",
    "\n",
    "args = argparse.Namespace(**args)"
   ]
  },
  {
   "cell_type": "code",
   "execution_count": 4,
   "metadata": {
    "collapsed": true,
    "deletable": true,
    "editable": true
   },
   "outputs": [],
   "source": [
    "if not os.path.isdir('../input/'):\n",
    "    os.makedirs('../input/')\n",
    "    \n",
    "if not os.path.isdir(args.inputdir):\n",
    "    os.makedirs(args.inputdir)"
   ]
  },
  {
   "cell_type": "code",
   "execution_count": 5,
   "metadata": {
    "collapsed": false,
    "deletable": true,
    "editable": true
   },
   "outputs": [
    {
     "data": {
      "text/plain": [
       "'helpdesk.csv'"
      ]
     },
     "execution_count": 5,
     "metadata": {},
     "output_type": "execute_result"
    }
   ],
   "source": [
    "args.datafile"
   ]
  },
  {
   "cell_type": "markdown",
   "metadata": {
    "deletable": true,
    "editable": true
   },
   "source": [
    "# Preprocessing data"
   ]
  },
  {
   "cell_type": "markdown",
   "metadata": {},
   "source": [
    "## Get time features"
   ]
  },
  {
   "cell_type": "code",
   "execution_count": 6,
   "metadata": {
    "collapsed": true,
    "deletable": true,
    "editable": true
   },
   "outputs": [],
   "source": [
    "data = pd.read_csv(args.datadir + args.datafile)\n",
    "data['CompleteTimestamp'] = pd.to_datetime(data['CompleteTimestamp'], errors='coerce')"
   ]
  },
  {
   "cell_type": "code",
   "execution_count": 7,
   "metadata": {
    "collapsed": false,
    "deletable": true,
    "editable": true,
    "scrolled": true
   },
   "outputs": [
    {
     "data": {
      "text/html": [
       "<div>\n",
       "<table border=\"1\" class=\"dataframe\">\n",
       "  <thead>\n",
       "    <tr style=\"text-align: right;\">\n",
       "      <th></th>\n",
       "      <th>CaseID</th>\n",
       "      <th>ActivityID</th>\n",
       "      <th>CompleteTimestamp</th>\n",
       "    </tr>\n",
       "  </thead>\n",
       "  <tbody>\n",
       "    <tr>\n",
       "      <th>0</th>\n",
       "      <td>2</td>\n",
       "      <td>1</td>\n",
       "      <td>2012-04-03 16:55:38</td>\n",
       "    </tr>\n",
       "    <tr>\n",
       "      <th>1</th>\n",
       "      <td>2</td>\n",
       "      <td>8</td>\n",
       "      <td>2012-04-03 16:55:53</td>\n",
       "    </tr>\n",
       "    <tr>\n",
       "      <th>2</th>\n",
       "      <td>2</td>\n",
       "      <td>6</td>\n",
       "      <td>2012-04-05 17:15:52</td>\n",
       "    </tr>\n",
       "    <tr>\n",
       "      <th>3</th>\n",
       "      <td>3</td>\n",
       "      <td>1</td>\n",
       "      <td>2010-10-29 18:14:06</td>\n",
       "    </tr>\n",
       "    <tr>\n",
       "      <th>4</th>\n",
       "      <td>3</td>\n",
       "      <td>8</td>\n",
       "      <td>2010-11-04 01:16:11</td>\n",
       "    </tr>\n",
       "  </tbody>\n",
       "</table>\n",
       "</div>"
      ],
      "text/plain": [
       "   CaseID  ActivityID   CompleteTimestamp\n",
       "0       2           1 2012-04-03 16:55:38\n",
       "1       2           8 2012-04-03 16:55:53\n",
       "2       2           6 2012-04-05 17:15:52\n",
       "3       3           1 2010-10-29 18:14:06\n",
       "4       3           8 2010-11-04 01:16:11"
      ]
     },
     "execution_count": 7,
     "metadata": {},
     "output_type": "execute_result"
    }
   ],
   "source": [
    "data.head()"
   ]
  },
  {
   "cell_type": "code",
   "execution_count": 8,
   "metadata": {
    "collapsed": false,
    "deletable": true,
    "editable": true
   },
   "outputs": [
    {
     "data": {
      "text/plain": [
       "(13710, 3)"
      ]
     },
     "execution_count": 8,
     "metadata": {},
     "output_type": "execute_result"
    }
   ],
   "source": [
    "data.shape"
   ]
  },
  {
   "cell_type": "code",
   "execution_count": 9,
   "metadata": {
    "collapsed": true,
    "deletable": true,
    "editable": true
   },
   "outputs": [],
   "source": [
    "def calculateDuration(df):\n",
    "    df['Duration'] = (df['CompleteTimestamp'] - df['CompleteTimestamp'].shift(1)).fillna(0)\n",
    "    return df\n",
    "\n",
    "def calculateCumDuration(df):\n",
    "    df['CumDuration'] = (df['CompleteTimestamp'] - df['CompleteTimestamp'].iloc[0]).fillna(0) \n",
    "    #change df['CompleteTimestamp'][0] --> df['CompleteTimestamp'].iloc[0]\n",
    "    return df\n",
    "\n",
    "def calculateTimeSinceMidNight(x):\n",
    "    x = str(x)\n",
    "    x = time.strptime(x, \"%Y-%m-%d %H:%M:%S\")\n",
    "    midnight = datetime.fromtimestamp(time.mktime(x)).replace(hour=0, minute=0, second=0, microsecond=0)\n",
    "    timesincemidnight = datetime.fromtimestamp(time.mktime(x))-midnight\n",
    "    return timesincemidnight.seconds\n",
    "\n",
    "def convert2seconds(x):\n",
    "    x = int(x.total_seconds())\n",
    "    return x"
   ]
  },
  {
   "cell_type": "code",
   "execution_count": 10,
   "metadata": {
    "collapsed": true,
    "deletable": true,
    "editable": true
   },
   "outputs": [],
   "source": [
    "groupByCase = data.groupby(['CaseID'])"
   ]
  },
  {
   "cell_type": "code",
   "execution_count": 11,
   "metadata": {
    "collapsed": false,
    "deletable": true,
    "editable": true
   },
   "outputs": [
    {
     "data": {
      "text/plain": [
       "3804"
      ]
     },
     "execution_count": 11,
     "metadata": {},
     "output_type": "execute_result"
    }
   ],
   "source": [
    "len(groupByCase)"
   ]
  },
  {
   "cell_type": "code",
   "execution_count": 12,
   "metadata": {
    "collapsed": false,
    "deletable": true,
    "editable": true
   },
   "outputs": [],
   "source": [
    "df = pd.DataFrame(columns=['CaseID', 'ActivityID', 'CompleteTimestamp', 'Duration', 'CumDuration', 'TimeSinceMidnight', 'WeekDay'])\n",
    "#Loop all group and apply above functions\n",
    "for case, group in groupByCase:\n",
    "    group = calculateDuration(group)\n",
    "    group = calculateCumDuration(group)\n",
    "    group['Duration'] = group['Duration'].apply(convert2seconds)\n",
    "    group['CumDuration'] = group['CumDuration'].apply(convert2seconds)\n",
    "    group['TimeSinceMidnight'] = group['CompleteTimestamp'].apply(calculateTimeSinceMidNight)\n",
    "    group['WeekDay'] = group['CompleteTimestamp'].dt.dayofweek\n",
    "    \n",
    "    df = df.append(group)"
   ]
  },
  {
   "cell_type": "code",
   "execution_count": 13,
   "metadata": {
    "collapsed": false,
    "deletable": true,
    "editable": true
   },
   "outputs": [
    {
     "data": {
      "text/html": [
       "<div>\n",
       "<table border=\"1\" class=\"dataframe\">\n",
       "  <thead>\n",
       "    <tr style=\"text-align: right;\">\n",
       "      <th></th>\n",
       "      <th>CaseID</th>\n",
       "      <th>ActivityID</th>\n",
       "      <th>CompleteTimestamp</th>\n",
       "      <th>Duration</th>\n",
       "      <th>CumDuration</th>\n",
       "      <th>TimeSinceMidnight</th>\n",
       "      <th>WeekDay</th>\n",
       "    </tr>\n",
       "  </thead>\n",
       "  <tbody>\n",
       "    <tr>\n",
       "      <th>0</th>\n",
       "      <td>2.0</td>\n",
       "      <td>1.0</td>\n",
       "      <td>2012-04-03 16:55:38</td>\n",
       "      <td>0.0</td>\n",
       "      <td>0.0</td>\n",
       "      <td>60938.0</td>\n",
       "      <td>1.0</td>\n",
       "    </tr>\n",
       "    <tr>\n",
       "      <th>1</th>\n",
       "      <td>2.0</td>\n",
       "      <td>8.0</td>\n",
       "      <td>2012-04-03 16:55:53</td>\n",
       "      <td>15.0</td>\n",
       "      <td>15.0</td>\n",
       "      <td>60953.0</td>\n",
       "      <td>1.0</td>\n",
       "    </tr>\n",
       "    <tr>\n",
       "      <th>2</th>\n",
       "      <td>2.0</td>\n",
       "      <td>6.0</td>\n",
       "      <td>2012-04-05 17:15:52</td>\n",
       "      <td>173999.0</td>\n",
       "      <td>174014.0</td>\n",
       "      <td>62152.0</td>\n",
       "      <td>3.0</td>\n",
       "    </tr>\n",
       "    <tr>\n",
       "      <th>3</th>\n",
       "      <td>3.0</td>\n",
       "      <td>1.0</td>\n",
       "      <td>2010-10-29 18:14:06</td>\n",
       "      <td>0.0</td>\n",
       "      <td>0.0</td>\n",
       "      <td>65646.0</td>\n",
       "      <td>4.0</td>\n",
       "    </tr>\n",
       "    <tr>\n",
       "      <th>4</th>\n",
       "      <td>3.0</td>\n",
       "      <td>8.0</td>\n",
       "      <td>2010-11-04 01:16:11</td>\n",
       "      <td>457325.0</td>\n",
       "      <td>457325.0</td>\n",
       "      <td>4571.0</td>\n",
       "      <td>3.0</td>\n",
       "    </tr>\n",
       "    <tr>\n",
       "      <th>5</th>\n",
       "      <td>3.0</td>\n",
       "      <td>6.0</td>\n",
       "      <td>2010-11-04 01:21:17</td>\n",
       "      <td>306.0</td>\n",
       "      <td>457631.0</td>\n",
       "      <td>4877.0</td>\n",
       "      <td>3.0</td>\n",
       "    </tr>\n",
       "    <tr>\n",
       "      <th>6</th>\n",
       "      <td>4.0</td>\n",
       "      <td>1.0</td>\n",
       "      <td>2010-12-15 23:31:53</td>\n",
       "      <td>0.0</td>\n",
       "      <td>0.0</td>\n",
       "      <td>84713.0</td>\n",
       "      <td>2.0</td>\n",
       "    </tr>\n",
       "    <tr>\n",
       "      <th>7</th>\n",
       "      <td>4.0</td>\n",
       "      <td>8.0</td>\n",
       "      <td>2010-12-16 17:01:07</td>\n",
       "      <td>62954.0</td>\n",
       "      <td>62954.0</td>\n",
       "      <td>61267.0</td>\n",
       "      <td>3.0</td>\n",
       "    </tr>\n",
       "    <tr>\n",
       "      <th>8</th>\n",
       "      <td>4.0</td>\n",
       "      <td>6.0</td>\n",
       "      <td>2010-12-16 17:08:19</td>\n",
       "      <td>432.0</td>\n",
       "      <td>63386.0</td>\n",
       "      <td>61699.0</td>\n",
       "      <td>3.0</td>\n",
       "    </tr>\n",
       "    <tr>\n",
       "      <th>9</th>\n",
       "      <td>5.0</td>\n",
       "      <td>1.0</td>\n",
       "      <td>2012-04-03 21:08:32</td>\n",
       "      <td>0.0</td>\n",
       "      <td>0.0</td>\n",
       "      <td>76112.0</td>\n",
       "      <td>1.0</td>\n",
       "    </tr>\n",
       "  </tbody>\n",
       "</table>\n",
       "</div>"
      ],
      "text/plain": [
       "   CaseID  ActivityID   CompleteTimestamp  Duration  CumDuration  \\\n",
       "0     2.0         1.0 2012-04-03 16:55:38       0.0          0.0   \n",
       "1     2.0         8.0 2012-04-03 16:55:53      15.0         15.0   \n",
       "2     2.0         6.0 2012-04-05 17:15:52  173999.0     174014.0   \n",
       "3     3.0         1.0 2010-10-29 18:14:06       0.0          0.0   \n",
       "4     3.0         8.0 2010-11-04 01:16:11  457325.0     457325.0   \n",
       "5     3.0         6.0 2010-11-04 01:21:17     306.0     457631.0   \n",
       "6     4.0         1.0 2010-12-15 23:31:53       0.0          0.0   \n",
       "7     4.0         8.0 2010-12-16 17:01:07   62954.0      62954.0   \n",
       "8     4.0         6.0 2010-12-16 17:08:19     432.0      63386.0   \n",
       "9     5.0         1.0 2012-04-03 21:08:32       0.0          0.0   \n",
       "\n",
       "   TimeSinceMidnight  WeekDay  \n",
       "0            60938.0      1.0  \n",
       "1            60953.0      1.0  \n",
       "2            62152.0      3.0  \n",
       "3            65646.0      4.0  \n",
       "4             4571.0      3.0  \n",
       "5             4877.0      3.0  \n",
       "6            84713.0      2.0  \n",
       "7            61267.0      3.0  \n",
       "8            61699.0      3.0  \n",
       "9            76112.0      1.0  "
      ]
     },
     "execution_count": 13,
     "metadata": {},
     "output_type": "execute_result"
    }
   ],
   "source": [
    "df.head(10)"
   ]
  },
  {
   "cell_type": "code",
   "execution_count": 14,
   "metadata": {
    "collapsed": false,
    "deletable": true,
    "editable": true
   },
   "outputs": [
    {
     "data": {
      "text/plain": [
       "['CaseID',\n",
       " 'ActivityID',\n",
       " 'CompleteTimestamp',\n",
       " 'Duration',\n",
       " 'CumDuration',\n",
       " 'TimeSinceMidnight',\n",
       " 'WeekDay']"
      ]
     },
     "execution_count": 14,
     "metadata": {},
     "output_type": "execute_result"
    }
   ],
   "source": [
    "list(df)"
   ]
  },
  {
   "cell_type": "code",
   "execution_count": 15,
   "metadata": {
    "collapsed": true,
    "deletable": true,
    "editable": true
   },
   "outputs": [],
   "source": [
    "for i in list(df):\n",
    "    if i != 'CompleteTimestamp':\n",
    "        df[i] = df[i].apply(int)"
   ]
  },
  {
   "cell_type": "code",
   "execution_count": 16,
   "metadata": {
    "collapsed": true,
    "deletable": true,
    "editable": true
   },
   "outputs": [],
   "source": [
    "#df.to_csv(args.inputdir+'full_data.csv', index=False)"
   ]
  },
  {
   "cell_type": "code",
   "execution_count": 17,
   "metadata": {
    "collapsed": true,
    "deletable": true,
    "editable": true
   },
   "outputs": [],
   "source": [
    "#df = pd.read_csv(args.inputdir+'full_data.csv')"
   ]
  },
  {
   "cell_type": "markdown",
   "metadata": {},
   "source": [
    "## Add new features"
   ]
  },
  {
   "cell_type": "code",
   "execution_count": 18,
   "metadata": {
    "collapsed": false
   },
   "outputs": [],
   "source": [
    "sys.path.insert(0, '../utils/')\n",
    "from indicators import *"
   ]
  },
  {
   "cell_type": "code",
   "execution_count": 19,
   "metadata": {
    "collapsed": true
   },
   "outputs": [],
   "source": [
    "df = df.rename(index=str, columns={\"Duration\": \"Price\"})"
   ]
  },
  {
   "cell_type": "code",
   "execution_count": 20,
   "metadata": {
    "collapsed": true
   },
   "outputs": [],
   "source": [
    "window = 16"
   ]
  },
  {
   "cell_type": "code",
   "execution_count": 21,
   "metadata": {
    "collapsed": false
   },
   "outputs": [],
   "source": [
    "# get features\n",
    "df = compute_rolling_mean(df, window)\n",
    "df = compute_rolling_std(df, window)\n",
    "df = compute_bollinger_bands(df, window)\n",
    "#df = compute_momentum(df)\n",
    "df = compute_rsi(df, window)\n",
    "df = compute_william_percent_r(df, window)\n",
    "df = compute_macd(df)\n",
    "#data = compute_daily_return(data)\n",
    "#data = compute_cumulative_return(data)\n",
    "fill_missing_values(data)"
   ]
  },
  {
   "cell_type": "code",
   "execution_count": 22,
   "metadata": {
    "collapsed": true
   },
   "outputs": [],
   "source": [
    "df = df.iloc[window+1:]"
   ]
  },
  {
   "cell_type": "code",
   "execution_count": 23,
   "metadata": {
    "collapsed": false
   },
   "outputs": [
    {
     "data": {
      "text/plain": [
       "Series([], dtype: int64)"
      ]
     },
     "execution_count": 23,
     "metadata": {},
     "output_type": "execute_result"
    }
   ],
   "source": [
    "nans = pd.isnull(df).sum()\n",
    "nans[nans>0]"
   ]
  },
  {
   "cell_type": "code",
   "execution_count": 24,
   "metadata": {
    "collapsed": false
   },
   "outputs": [
    {
     "data": {
      "text/html": [
       "<div>\n",
       "<table border=\"1\" class=\"dataframe\">\n",
       "  <thead>\n",
       "    <tr style=\"text-align: right;\">\n",
       "      <th></th>\n",
       "      <th>CaseID</th>\n",
       "      <th>ActivityID</th>\n",
       "      <th>CompleteTimestamp</th>\n",
       "      <th>Price</th>\n",
       "      <th>CumDuration</th>\n",
       "      <th>TimeSinceMidnight</th>\n",
       "      <th>WeekDay</th>\n",
       "      <th>SMA_16</th>\n",
       "      <th>STD_16</th>\n",
       "      <th>Upper_band_16</th>\n",
       "      <th>Lower_band_16</th>\n",
       "      <th>Band_value_16</th>\n",
       "      <th>RSI</th>\n",
       "      <th>Williams</th>\n",
       "      <th>MACD</th>\n",
       "    </tr>\n",
       "  </thead>\n",
       "  <tbody>\n",
       "    <tr>\n",
       "      <th>17</th>\n",
       "      <td>8</td>\n",
       "      <td>1</td>\n",
       "      <td>2012-07-05 16:30:32</td>\n",
       "      <td>0</td>\n",
       "      <td>0</td>\n",
       "      <td>59432</td>\n",
       "      <td>3</td>\n",
       "      <td>8</td>\n",
       "      <td>118396.803377</td>\n",
       "      <td>24</td>\n",
       "      <td>-8</td>\n",
       "      <td>-0.5</td>\n",
       "      <td>49.999512</td>\n",
       "      <td>-100.000000</td>\n",
       "      <td>1406.666730</td>\n",
       "    </tr>\n",
       "    <tr>\n",
       "      <th>18</th>\n",
       "      <td>8</td>\n",
       "      <td>8</td>\n",
       "      <td>2012-07-05 17:25:45</td>\n",
       "      <td>3313</td>\n",
       "      <td>3313</td>\n",
       "      <td>62745</td>\n",
       "      <td>3</td>\n",
       "      <td>8</td>\n",
       "      <td>113922.209586</td>\n",
       "      <td>24</td>\n",
       "      <td>-8</td>\n",
       "      <td>206.562</td>\n",
       "      <td>43.746336</td>\n",
       "      <td>-99.275570</td>\n",
       "      <td>1224.258754</td>\n",
       "    </tr>\n",
       "    <tr>\n",
       "      <th>19</th>\n",
       "      <td>8</td>\n",
       "      <td>6</td>\n",
       "      <td>2012-07-05 17:44:46</td>\n",
       "      <td>1141</td>\n",
       "      <td>4454</td>\n",
       "      <td>63886</td>\n",
       "      <td>3</td>\n",
       "      <td>8</td>\n",
       "      <td>113897.428427</td>\n",
       "      <td>24</td>\n",
       "      <td>-8</td>\n",
       "      <td>70.8125</td>\n",
       "      <td>50.047826</td>\n",
       "      <td>-99.750506</td>\n",
       "      <td>923.719680</td>\n",
       "    </tr>\n",
       "    <tr>\n",
       "      <th>20</th>\n",
       "      <td>9</td>\n",
       "      <td>3</td>\n",
       "      <td>2010-05-07 21:02:21</td>\n",
       "      <td>0</td>\n",
       "      <td>0</td>\n",
       "      <td>75741</td>\n",
       "      <td>4</td>\n",
       "      <td>9</td>\n",
       "      <td>21398.527859</td>\n",
       "      <td>27</td>\n",
       "      <td>-9</td>\n",
       "      <td>-0.5</td>\n",
       "      <td>18.960277</td>\n",
       "      <td>-100.000000</td>\n",
       "      <td>605.548176</td>\n",
       "    </tr>\n",
       "    <tr>\n",
       "      <th>21</th>\n",
       "      <td>9</td>\n",
       "      <td>1</td>\n",
       "      <td>2010-05-07 21:02:34</td>\n",
       "      <td>13</td>\n",
       "      <td>13</td>\n",
       "      <td>75754</td>\n",
       "      <td>4</td>\n",
       "      <td>9</td>\n",
       "      <td>21406.709379</td>\n",
       "      <td>27</td>\n",
       "      <td>-9</td>\n",
       "      <td>0.222222</td>\n",
       "      <td>49.947617</td>\n",
       "      <td>-99.979861</td>\n",
       "      <td>368.878283</td>\n",
       "    </tr>\n",
       "  </tbody>\n",
       "</table>\n",
       "</div>"
      ],
      "text/plain": [
       "    CaseID  ActivityID   CompleteTimestamp  Price  CumDuration  \\\n",
       "17       8           1 2012-07-05 16:30:32      0            0   \n",
       "18       8           8 2012-07-05 17:25:45   3313         3313   \n",
       "19       8           6 2012-07-05 17:44:46   1141         4454   \n",
       "20       9           3 2010-05-07 21:02:21      0            0   \n",
       "21       9           1 2010-05-07 21:02:34     13           13   \n",
       "\n",
       "    TimeSinceMidnight  WeekDay SMA_16         STD_16 Upper_band_16  \\\n",
       "17              59432        3      8  118396.803377            24   \n",
       "18              62745        3      8  113922.209586            24   \n",
       "19              63886        3      8  113897.428427            24   \n",
       "20              75741        4      9   21398.527859            27   \n",
       "21              75754        4      9   21406.709379            27   \n",
       "\n",
       "   Lower_band_16 Band_value_16        RSI    Williams         MACD  \n",
       "17            -8          -0.5  49.999512 -100.000000  1406.666730  \n",
       "18            -8       206.562  43.746336  -99.275570  1224.258754  \n",
       "19            -8       70.8125  50.047826  -99.750506   923.719680  \n",
       "20            -9          -0.5  18.960277 -100.000000   605.548176  \n",
       "21            -9      0.222222  49.947617  -99.979861   368.878283  "
      ]
     },
     "execution_count": 24,
     "metadata": {},
     "output_type": "execute_result"
    }
   ],
   "source": [
    "df.head()"
   ]
  },
  {
   "cell_type": "code",
   "execution_count": 25,
   "metadata": {
    "collapsed": false
   },
   "outputs": [],
   "source": [
    "df = df.rename(index=str, columns={\"Price\": \"Duration\"})\n",
    "df.to_csv(args.inputdir+'full_data_newfeatures.csv', index=False)"
   ]
  },
  {
   "cell_type": "code",
   "execution_count": 26,
   "metadata": {
    "collapsed": false
   },
   "outputs": [
    {
     "data": {
      "text/html": [
       "<div>\n",
       "<table border=\"1\" class=\"dataframe\">\n",
       "  <thead>\n",
       "    <tr style=\"text-align: right;\">\n",
       "      <th></th>\n",
       "      <th>CaseID</th>\n",
       "      <th>ActivityID</th>\n",
       "      <th>CompleteTimestamp</th>\n",
       "      <th>Duration</th>\n",
       "      <th>CumDuration</th>\n",
       "      <th>TimeSinceMidnight</th>\n",
       "      <th>WeekDay</th>\n",
       "      <th>SMA_16</th>\n",
       "      <th>STD_16</th>\n",
       "      <th>Upper_band_16</th>\n",
       "      <th>Lower_band_16</th>\n",
       "      <th>Band_value_16</th>\n",
       "      <th>RSI</th>\n",
       "      <th>Williams</th>\n",
       "      <th>MACD</th>\n",
       "    </tr>\n",
       "  </thead>\n",
       "  <tbody>\n",
       "    <tr>\n",
       "      <th>17</th>\n",
       "      <td>8</td>\n",
       "      <td>1</td>\n",
       "      <td>2012-07-05 16:30:32</td>\n",
       "      <td>0</td>\n",
       "      <td>0</td>\n",
       "      <td>59432</td>\n",
       "      <td>3</td>\n",
       "      <td>8</td>\n",
       "      <td>118396.803377</td>\n",
       "      <td>24</td>\n",
       "      <td>-8</td>\n",
       "      <td>-0.5</td>\n",
       "      <td>49.999512</td>\n",
       "      <td>-100.000000</td>\n",
       "      <td>1406.666730</td>\n",
       "    </tr>\n",
       "    <tr>\n",
       "      <th>18</th>\n",
       "      <td>8</td>\n",
       "      <td>8</td>\n",
       "      <td>2012-07-05 17:25:45</td>\n",
       "      <td>3313</td>\n",
       "      <td>3313</td>\n",
       "      <td>62745</td>\n",
       "      <td>3</td>\n",
       "      <td>8</td>\n",
       "      <td>113922.209586</td>\n",
       "      <td>24</td>\n",
       "      <td>-8</td>\n",
       "      <td>206.562</td>\n",
       "      <td>43.746336</td>\n",
       "      <td>-99.275570</td>\n",
       "      <td>1224.258754</td>\n",
       "    </tr>\n",
       "    <tr>\n",
       "      <th>19</th>\n",
       "      <td>8</td>\n",
       "      <td>6</td>\n",
       "      <td>2012-07-05 17:44:46</td>\n",
       "      <td>1141</td>\n",
       "      <td>4454</td>\n",
       "      <td>63886</td>\n",
       "      <td>3</td>\n",
       "      <td>8</td>\n",
       "      <td>113897.428427</td>\n",
       "      <td>24</td>\n",
       "      <td>-8</td>\n",
       "      <td>70.8125</td>\n",
       "      <td>50.047826</td>\n",
       "      <td>-99.750506</td>\n",
       "      <td>923.719680</td>\n",
       "    </tr>\n",
       "    <tr>\n",
       "      <th>20</th>\n",
       "      <td>9</td>\n",
       "      <td>3</td>\n",
       "      <td>2010-05-07 21:02:21</td>\n",
       "      <td>0</td>\n",
       "      <td>0</td>\n",
       "      <td>75741</td>\n",
       "      <td>4</td>\n",
       "      <td>9</td>\n",
       "      <td>21398.527859</td>\n",
       "      <td>27</td>\n",
       "      <td>-9</td>\n",
       "      <td>-0.5</td>\n",
       "      <td>18.960277</td>\n",
       "      <td>-100.000000</td>\n",
       "      <td>605.548176</td>\n",
       "    </tr>\n",
       "    <tr>\n",
       "      <th>21</th>\n",
       "      <td>9</td>\n",
       "      <td>1</td>\n",
       "      <td>2010-05-07 21:02:34</td>\n",
       "      <td>13</td>\n",
       "      <td>13</td>\n",
       "      <td>75754</td>\n",
       "      <td>4</td>\n",
       "      <td>9</td>\n",
       "      <td>21406.709379</td>\n",
       "      <td>27</td>\n",
       "      <td>-9</td>\n",
       "      <td>0.222222</td>\n",
       "      <td>49.947617</td>\n",
       "      <td>-99.979861</td>\n",
       "      <td>368.878283</td>\n",
       "    </tr>\n",
       "  </tbody>\n",
       "</table>\n",
       "</div>"
      ],
      "text/plain": [
       "    CaseID  ActivityID   CompleteTimestamp  Duration  CumDuration  \\\n",
       "17       8           1 2012-07-05 16:30:32         0            0   \n",
       "18       8           8 2012-07-05 17:25:45      3313         3313   \n",
       "19       8           6 2012-07-05 17:44:46      1141         4454   \n",
       "20       9           3 2010-05-07 21:02:21         0            0   \n",
       "21       9           1 2010-05-07 21:02:34        13           13   \n",
       "\n",
       "    TimeSinceMidnight  WeekDay SMA_16         STD_16 Upper_band_16  \\\n",
       "17              59432        3      8  118396.803377            24   \n",
       "18              62745        3      8  113922.209586            24   \n",
       "19              63886        3      8  113897.428427            24   \n",
       "20              75741        4      9   21398.527859            27   \n",
       "21              75754        4      9   21406.709379            27   \n",
       "\n",
       "   Lower_band_16 Band_value_16        RSI    Williams         MACD  \n",
       "17            -8          -0.5  49.999512 -100.000000  1406.666730  \n",
       "18            -8       206.562  43.746336  -99.275570  1224.258754  \n",
       "19            -8       70.8125  50.047826  -99.750506   923.719680  \n",
       "20            -9          -0.5  18.960277 -100.000000   605.548176  \n",
       "21            -9      0.222222  49.947617  -99.979861   368.878283  "
      ]
     },
     "execution_count": 26,
     "metadata": {},
     "output_type": "execute_result"
    }
   ],
   "source": [
    "df.head()"
   ]
  },
  {
   "cell_type": "code",
   "execution_count": 27,
   "metadata": {
    "collapsed": false
   },
   "outputs": [
    {
     "data": {
      "text/plain": [
       "(13693, 15)"
      ]
     },
     "execution_count": 27,
     "metadata": {},
     "output_type": "execute_result"
    }
   ],
   "source": [
    "df.shape"
   ]
  },
  {
   "cell_type": "markdown",
   "metadata": {
    "deletable": true,
    "editable": true
   },
   "source": [
    "# Split data into train and test"
   ]
  },
  {
   "cell_type": "code",
   "execution_count": 28,
   "metadata": {
    "collapsed": true,
    "deletable": true,
    "editable": true
   },
   "outputs": [],
   "source": [
    "groupByCase = df.groupby(['CaseID'])"
   ]
  },
  {
   "cell_type": "code",
   "execution_count": 29,
   "metadata": {
    "collapsed": true,
    "deletable": true,
    "editable": true
   },
   "outputs": [],
   "source": [
    "num_cases = len(groupByCase)\n",
    "train_size = int(num_cases*2/3)\n",
    "test_size = num_cases - train_size"
   ]
  },
  {
   "cell_type": "code",
   "execution_count": 30,
   "metadata": {
    "collapsed": false,
    "deletable": true,
    "editable": true
   },
   "outputs": [
    {
     "data": {
      "text/plain": [
       "(3799, 2532, 1267)"
      ]
     },
     "execution_count": 30,
     "metadata": {},
     "output_type": "execute_result"
    }
   ],
   "source": [
    "num_cases, train_size, test_size"
   ]
  },
  {
   "cell_type": "code",
   "execution_count": 31,
   "metadata": {
    "collapsed": true,
    "deletable": true,
    "editable": true
   },
   "outputs": [],
   "source": [
    "df_train = pd.DataFrame(columns=['CaseID', 'ActivityID', 'CompleteTimestamp', 'Duration', 'CumDuration', 'TimeSinceMidnight', 'WeekDay'])\n",
    "df_test = pd.DataFrame(columns=['CaseID', 'ActivityID', 'CompleteTimestamp', 'Duration', 'CumDuration', 'TimeSinceMidnight', 'WeekDay'])\n",
    "\n",
    "for i, (case, group) in enumerate(groupByCase):\n",
    "    if i < train_size:     \n",
    "        df_train = df_train.append(group)\n",
    "    else:\n",
    "        df_test = df_test.append(group)"
   ]
  },
  {
   "cell_type": "code",
   "execution_count": 32,
   "metadata": {
    "collapsed": false,
    "deletable": true,
    "editable": true
   },
   "outputs": [
    {
     "data": {
      "text/plain": [
       "((13693, 15), (9167, 15), (4526, 15))"
      ]
     },
     "execution_count": 32,
     "metadata": {},
     "output_type": "execute_result"
    }
   ],
   "source": [
    "df.shape, df_train.shape, df_test.shape"
   ]
  },
  {
   "cell_type": "code",
   "execution_count": 33,
   "metadata": {
    "collapsed": true,
    "deletable": true,
    "editable": true
   },
   "outputs": [],
   "source": [
    "trainGroupby = df_train.groupby(['CaseID'])\n",
    "testGroupby = df_test.groupby(['CaseID'])"
   ]
  },
  {
   "cell_type": "code",
   "execution_count": 34,
   "metadata": {
    "collapsed": false,
    "deletable": true,
    "editable": true
   },
   "outputs": [
    {
     "data": {
      "text/plain": [
       "(2532, 1267)"
      ]
     },
     "execution_count": 34,
     "metadata": {},
     "output_type": "execute_result"
    }
   ],
   "source": [
    "len(trainGroupby), len(testGroupby)"
   ]
  },
  {
   "cell_type": "code",
   "execution_count": 35,
   "metadata": {
    "collapsed": true,
    "deletable": true,
    "editable": true
   },
   "outputs": [],
   "source": [
    "df_train.to_csv(args.inputdir+'train_newfeatures.csv', index=False)\n",
    "df_test.to_csv(args.inputdir+'test_newfeatures.csv', index=False)"
   ]
  },
  {
   "cell_type": "code",
   "execution_count": 36,
   "metadata": {
    "collapsed": false
   },
   "outputs": [
    {
     "data": {
      "text/html": [
       "<div>\n",
       "<table border=\"1\" class=\"dataframe\">\n",
       "  <thead>\n",
       "    <tr style=\"text-align: right;\">\n",
       "      <th></th>\n",
       "      <th>ActivityID</th>\n",
       "      <th>Band_value_16</th>\n",
       "      <th>CaseID</th>\n",
       "      <th>CompleteTimestamp</th>\n",
       "      <th>CumDuration</th>\n",
       "      <th>Duration</th>\n",
       "      <th>Lower_band_16</th>\n",
       "      <th>MACD</th>\n",
       "      <th>RSI</th>\n",
       "      <th>SMA_16</th>\n",
       "      <th>STD_16</th>\n",
       "      <th>TimeSinceMidnight</th>\n",
       "      <th>Upper_band_16</th>\n",
       "      <th>WeekDay</th>\n",
       "      <th>Williams</th>\n",
       "    </tr>\n",
       "  </thead>\n",
       "  <tbody>\n",
       "    <tr>\n",
       "      <th>17</th>\n",
       "      <td>1.0</td>\n",
       "      <td>-0.5</td>\n",
       "      <td>8.0</td>\n",
       "      <td>2012-07-05 16:30:32</td>\n",
       "      <td>0.0</td>\n",
       "      <td>0.0</td>\n",
       "      <td>-8</td>\n",
       "      <td>1406.666730</td>\n",
       "      <td>49.999512</td>\n",
       "      <td>8</td>\n",
       "      <td>118396.803377</td>\n",
       "      <td>59432.0</td>\n",
       "      <td>24</td>\n",
       "      <td>3.0</td>\n",
       "      <td>-100.000000</td>\n",
       "    </tr>\n",
       "    <tr>\n",
       "      <th>18</th>\n",
       "      <td>8.0</td>\n",
       "      <td>206.562</td>\n",
       "      <td>8.0</td>\n",
       "      <td>2012-07-05 17:25:45</td>\n",
       "      <td>3313.0</td>\n",
       "      <td>3313.0</td>\n",
       "      <td>-8</td>\n",
       "      <td>1224.258754</td>\n",
       "      <td>43.746336</td>\n",
       "      <td>8</td>\n",
       "      <td>113922.209586</td>\n",
       "      <td>62745.0</td>\n",
       "      <td>24</td>\n",
       "      <td>3.0</td>\n",
       "      <td>-99.275570</td>\n",
       "    </tr>\n",
       "    <tr>\n",
       "      <th>19</th>\n",
       "      <td>6.0</td>\n",
       "      <td>70.8125</td>\n",
       "      <td>8.0</td>\n",
       "      <td>2012-07-05 17:44:46</td>\n",
       "      <td>4454.0</td>\n",
       "      <td>1141.0</td>\n",
       "      <td>-8</td>\n",
       "      <td>923.719680</td>\n",
       "      <td>50.047826</td>\n",
       "      <td>8</td>\n",
       "      <td>113897.428427</td>\n",
       "      <td>63886.0</td>\n",
       "      <td>24</td>\n",
       "      <td>3.0</td>\n",
       "      <td>-99.750506</td>\n",
       "    </tr>\n",
       "    <tr>\n",
       "      <th>20</th>\n",
       "      <td>3.0</td>\n",
       "      <td>-0.5</td>\n",
       "      <td>9.0</td>\n",
       "      <td>2010-05-07 21:02:21</td>\n",
       "      <td>0.0</td>\n",
       "      <td>0.0</td>\n",
       "      <td>-9</td>\n",
       "      <td>605.548176</td>\n",
       "      <td>18.960277</td>\n",
       "      <td>9</td>\n",
       "      <td>21398.527859</td>\n",
       "      <td>75741.0</td>\n",
       "      <td>27</td>\n",
       "      <td>4.0</td>\n",
       "      <td>-100.000000</td>\n",
       "    </tr>\n",
       "    <tr>\n",
       "      <th>21</th>\n",
       "      <td>1.0</td>\n",
       "      <td>0.222222</td>\n",
       "      <td>9.0</td>\n",
       "      <td>2010-05-07 21:02:34</td>\n",
       "      <td>13.0</td>\n",
       "      <td>13.0</td>\n",
       "      <td>-9</td>\n",
       "      <td>368.878283</td>\n",
       "      <td>49.947617</td>\n",
       "      <td>9</td>\n",
       "      <td>21406.709379</td>\n",
       "      <td>75754.0</td>\n",
       "      <td>27</td>\n",
       "      <td>4.0</td>\n",
       "      <td>-99.979861</td>\n",
       "    </tr>\n",
       "  </tbody>\n",
       "</table>\n",
       "</div>"
      ],
      "text/plain": [
       "    ActivityID Band_value_16  CaseID   CompleteTimestamp  CumDuration  \\\n",
       "17         1.0          -0.5     8.0 2012-07-05 16:30:32          0.0   \n",
       "18         8.0       206.562     8.0 2012-07-05 17:25:45       3313.0   \n",
       "19         6.0       70.8125     8.0 2012-07-05 17:44:46       4454.0   \n",
       "20         3.0          -0.5     9.0 2010-05-07 21:02:21          0.0   \n",
       "21         1.0      0.222222     9.0 2010-05-07 21:02:34         13.0   \n",
       "\n",
       "    Duration Lower_band_16         MACD        RSI SMA_16         STD_16  \\\n",
       "17       0.0            -8  1406.666730  49.999512      8  118396.803377   \n",
       "18    3313.0            -8  1224.258754  43.746336      8  113922.209586   \n",
       "19    1141.0            -8   923.719680  50.047826      8  113897.428427   \n",
       "20       0.0            -9   605.548176  18.960277      9   21398.527859   \n",
       "21      13.0            -9   368.878283  49.947617      9   21406.709379   \n",
       "\n",
       "    TimeSinceMidnight Upper_band_16  WeekDay    Williams  \n",
       "17            59432.0            24      3.0 -100.000000  \n",
       "18            62745.0            24      3.0  -99.275570  \n",
       "19            63886.0            24      3.0  -99.750506  \n",
       "20            75741.0            27      4.0 -100.000000  \n",
       "21            75754.0            27      4.0  -99.979861  "
      ]
     },
     "execution_count": 36,
     "metadata": {},
     "output_type": "execute_result"
    }
   ],
   "source": [
    "df_train.head()"
   ]
  },
  {
   "cell_type": "markdown",
   "metadata": {
    "collapsed": true,
    "deletable": true,
    "editable": true
   },
   "source": [
    "# Test"
   ]
  },
  {
   "cell_type": "code",
   "execution_count": 37,
   "metadata": {
    "collapsed": true,
    "deletable": true,
    "editable": true
   },
   "outputs": [],
   "source": [
    "test = data[:10]\n",
    "#data['CompleteTimestamp'] = data['CompleteTimestamp'].apply(parse)\n",
    "test['CompleteTimestamp'] = pd.to_datetime(test['CompleteTimestamp'])"
   ]
  },
  {
   "cell_type": "code",
   "execution_count": 38,
   "metadata": {
    "collapsed": false,
    "deletable": true,
    "editable": true
   },
   "outputs": [
    {
     "data": {
      "text/html": [
       "<div>\n",
       "<table border=\"1\" class=\"dataframe\">\n",
       "  <thead>\n",
       "    <tr style=\"text-align: right;\">\n",
       "      <th></th>\n",
       "      <th>CaseID</th>\n",
       "      <th>ActivityID</th>\n",
       "      <th>CompleteTimestamp</th>\n",
       "    </tr>\n",
       "  </thead>\n",
       "  <tbody>\n",
       "    <tr>\n",
       "      <th>0</th>\n",
       "      <td>2</td>\n",
       "      <td>1</td>\n",
       "      <td>2012-04-03 16:55:38</td>\n",
       "    </tr>\n",
       "    <tr>\n",
       "      <th>1</th>\n",
       "      <td>2</td>\n",
       "      <td>8</td>\n",
       "      <td>2012-04-03 16:55:53</td>\n",
       "    </tr>\n",
       "    <tr>\n",
       "      <th>2</th>\n",
       "      <td>2</td>\n",
       "      <td>6</td>\n",
       "      <td>2012-04-05 17:15:52</td>\n",
       "    </tr>\n",
       "    <tr>\n",
       "      <th>3</th>\n",
       "      <td>3</td>\n",
       "      <td>1</td>\n",
       "      <td>2010-10-29 18:14:06</td>\n",
       "    </tr>\n",
       "    <tr>\n",
       "      <th>4</th>\n",
       "      <td>3</td>\n",
       "      <td>8</td>\n",
       "      <td>2010-11-04 01:16:11</td>\n",
       "    </tr>\n",
       "    <tr>\n",
       "      <th>5</th>\n",
       "      <td>3</td>\n",
       "      <td>6</td>\n",
       "      <td>2010-11-04 01:21:17</td>\n",
       "    </tr>\n",
       "    <tr>\n",
       "      <th>6</th>\n",
       "      <td>4</td>\n",
       "      <td>1</td>\n",
       "      <td>2010-12-15 23:31:53</td>\n",
       "    </tr>\n",
       "    <tr>\n",
       "      <th>7</th>\n",
       "      <td>4</td>\n",
       "      <td>8</td>\n",
       "      <td>2010-12-16 17:01:07</td>\n",
       "    </tr>\n",
       "    <tr>\n",
       "      <th>8</th>\n",
       "      <td>4</td>\n",
       "      <td>6</td>\n",
       "      <td>2010-12-16 17:08:19</td>\n",
       "    </tr>\n",
       "    <tr>\n",
       "      <th>9</th>\n",
       "      <td>5</td>\n",
       "      <td>1</td>\n",
       "      <td>2012-04-03 21:08:32</td>\n",
       "    </tr>\n",
       "  </tbody>\n",
       "</table>\n",
       "</div>"
      ],
      "text/plain": [
       "   CaseID  ActivityID   CompleteTimestamp\n",
       "0       2           1 2012-04-03 16:55:38\n",
       "1       2           8 2012-04-03 16:55:53\n",
       "2       2           6 2012-04-05 17:15:52\n",
       "3       3           1 2010-10-29 18:14:06\n",
       "4       3           8 2010-11-04 01:16:11\n",
       "5       3           6 2010-11-04 01:21:17\n",
       "6       4           1 2010-12-15 23:31:53\n",
       "7       4           8 2010-12-16 17:01:07\n",
       "8       4           6 2010-12-16 17:08:19\n",
       "9       5           1 2012-04-03 21:08:32"
      ]
     },
     "execution_count": 38,
     "metadata": {},
     "output_type": "execute_result"
    }
   ],
   "source": [
    "test"
   ]
  },
  {
   "cell_type": "code",
   "execution_count": 39,
   "metadata": {
    "collapsed": false,
    "deletable": true,
    "editable": true
   },
   "outputs": [
    {
     "data": {
      "text/plain": [
       "pandas.core.series.Series"
      ]
     },
     "execution_count": 39,
     "metadata": {},
     "output_type": "execute_result"
    }
   ],
   "source": [
    "type(test['CompleteTimestamp'])"
   ]
  },
  {
   "cell_type": "code",
   "execution_count": 40,
   "metadata": {
    "collapsed": true,
    "deletable": true,
    "editable": true
   },
   "outputs": [],
   "source": [
    "test = calculateDuration(test)\n",
    "test = calculateCumDuration(test)"
   ]
  },
  {
   "cell_type": "code",
   "execution_count": 41,
   "metadata": {
    "collapsed": true,
    "deletable": true,
    "editable": true
   },
   "outputs": [],
   "source": [
    "test['Duration'] = test['Duration'].apply(convert2seconds)\n",
    "test['CumDuration'] = test['CumDuration'].apply(convert2seconds)"
   ]
  },
  {
   "cell_type": "code",
   "execution_count": 42,
   "metadata": {
    "collapsed": true,
    "deletable": true,
    "editable": true
   },
   "outputs": [],
   "source": [
    "test['Timefrommidnight'] = test['CompleteTimestamp'].apply(calculateTimeSinceMidNight)"
   ]
  },
  {
   "cell_type": "code",
   "execution_count": 43,
   "metadata": {
    "collapsed": true,
    "deletable": true,
    "editable": true
   },
   "outputs": [],
   "source": [
    "test['WeekDay'] = test['CompleteTimestamp'].dt.dayofweek"
   ]
  },
  {
   "cell_type": "code",
   "execution_count": 44,
   "metadata": {
    "collapsed": true,
    "deletable": true,
    "editable": true
   },
   "outputs": [],
   "source": [
    "test['CaseID'] = test['CaseID'].apply(float)"
   ]
  },
  {
   "cell_type": "code",
   "execution_count": 45,
   "metadata": {
    "collapsed": false,
    "deletable": true,
    "editable": true
   },
   "outputs": [
    {
     "data": {
      "text/html": [
       "<div>\n",
       "<table border=\"1\" class=\"dataframe\">\n",
       "  <thead>\n",
       "    <tr style=\"text-align: right;\">\n",
       "      <th></th>\n",
       "      <th>CaseID</th>\n",
       "      <th>ActivityID</th>\n",
       "      <th>CompleteTimestamp</th>\n",
       "      <th>Duration</th>\n",
       "      <th>CumDuration</th>\n",
       "      <th>Timefrommidnight</th>\n",
       "      <th>WeekDay</th>\n",
       "    </tr>\n",
       "  </thead>\n",
       "  <tbody>\n",
       "    <tr>\n",
       "      <th>0</th>\n",
       "      <td>2.0</td>\n",
       "      <td>1</td>\n",
       "      <td>2012-04-03 16:55:38</td>\n",
       "      <td>0</td>\n",
       "      <td>0</td>\n",
       "      <td>60938</td>\n",
       "      <td>1</td>\n",
       "    </tr>\n",
       "    <tr>\n",
       "      <th>1</th>\n",
       "      <td>2.0</td>\n",
       "      <td>8</td>\n",
       "      <td>2012-04-03 16:55:53</td>\n",
       "      <td>15</td>\n",
       "      <td>15</td>\n",
       "      <td>60953</td>\n",
       "      <td>1</td>\n",
       "    </tr>\n",
       "    <tr>\n",
       "      <th>2</th>\n",
       "      <td>2.0</td>\n",
       "      <td>6</td>\n",
       "      <td>2012-04-05 17:15:52</td>\n",
       "      <td>173999</td>\n",
       "      <td>174014</td>\n",
       "      <td>62152</td>\n",
       "      <td>3</td>\n",
       "    </tr>\n",
       "    <tr>\n",
       "      <th>3</th>\n",
       "      <td>3.0</td>\n",
       "      <td>1</td>\n",
       "      <td>2010-10-29 18:14:06</td>\n",
       "      <td>-45270106</td>\n",
       "      <td>-45096092</td>\n",
       "      <td>65646</td>\n",
       "      <td>4</td>\n",
       "    </tr>\n",
       "    <tr>\n",
       "      <th>4</th>\n",
       "      <td>3.0</td>\n",
       "      <td>8</td>\n",
       "      <td>2010-11-04 01:16:11</td>\n",
       "      <td>457325</td>\n",
       "      <td>-44638767</td>\n",
       "      <td>4571</td>\n",
       "      <td>3</td>\n",
       "    </tr>\n",
       "    <tr>\n",
       "      <th>5</th>\n",
       "      <td>3.0</td>\n",
       "      <td>6</td>\n",
       "      <td>2010-11-04 01:21:17</td>\n",
       "      <td>306</td>\n",
       "      <td>-44638461</td>\n",
       "      <td>4877</td>\n",
       "      <td>3</td>\n",
       "    </tr>\n",
       "    <tr>\n",
       "      <th>6</th>\n",
       "      <td>4.0</td>\n",
       "      <td>1</td>\n",
       "      <td>2010-12-15 23:31:53</td>\n",
       "      <td>3622236</td>\n",
       "      <td>-41016225</td>\n",
       "      <td>84713</td>\n",
       "      <td>2</td>\n",
       "    </tr>\n",
       "    <tr>\n",
       "      <th>7</th>\n",
       "      <td>4.0</td>\n",
       "      <td>8</td>\n",
       "      <td>2010-12-16 17:01:07</td>\n",
       "      <td>62954</td>\n",
       "      <td>-40953271</td>\n",
       "      <td>61267</td>\n",
       "      <td>3</td>\n",
       "    </tr>\n",
       "    <tr>\n",
       "      <th>8</th>\n",
       "      <td>4.0</td>\n",
       "      <td>6</td>\n",
       "      <td>2010-12-16 17:08:19</td>\n",
       "      <td>432</td>\n",
       "      <td>-40952839</td>\n",
       "      <td>61699</td>\n",
       "      <td>3</td>\n",
       "    </tr>\n",
       "    <tr>\n",
       "      <th>9</th>\n",
       "      <td>5.0</td>\n",
       "      <td>1</td>\n",
       "      <td>2012-04-03 21:08:32</td>\n",
       "      <td>40968013</td>\n",
       "      <td>15174</td>\n",
       "      <td>76112</td>\n",
       "      <td>1</td>\n",
       "    </tr>\n",
       "  </tbody>\n",
       "</table>\n",
       "</div>"
      ],
      "text/plain": [
       "   CaseID  ActivityID   CompleteTimestamp  Duration  CumDuration  \\\n",
       "0     2.0           1 2012-04-03 16:55:38         0            0   \n",
       "1     2.0           8 2012-04-03 16:55:53        15           15   \n",
       "2     2.0           6 2012-04-05 17:15:52    173999       174014   \n",
       "3     3.0           1 2010-10-29 18:14:06 -45270106    -45096092   \n",
       "4     3.0           8 2010-11-04 01:16:11    457325    -44638767   \n",
       "5     3.0           6 2010-11-04 01:21:17       306    -44638461   \n",
       "6     4.0           1 2010-12-15 23:31:53   3622236    -41016225   \n",
       "7     4.0           8 2010-12-16 17:01:07     62954    -40953271   \n",
       "8     4.0           6 2010-12-16 17:08:19       432    -40952839   \n",
       "9     5.0           1 2012-04-03 21:08:32  40968013        15174   \n",
       "\n",
       "   Timefrommidnight  WeekDay  \n",
       "0             60938        1  \n",
       "1             60953        1  \n",
       "2             62152        3  \n",
       "3             65646        4  \n",
       "4              4571        3  \n",
       "5              4877        3  \n",
       "6             84713        2  \n",
       "7             61267        3  \n",
       "8             61699        3  \n",
       "9             76112        1  "
      ]
     },
     "execution_count": 45,
     "metadata": {},
     "output_type": "execute_result"
    }
   ],
   "source": [
    "test"
   ]
  },
  {
   "cell_type": "markdown",
   "metadata": {
    "deletable": true,
    "editable": true
   },
   "source": [
    "Another way to get ```Duration```:\n",
    "\n",
    "```python\n",
    "import pandas as pd\n",
    "from dateutil.parser import parse\n",
    "data = pd.read_csv('../data/helpdesk.csv')\n",
    "df = data[:10]\n",
    "for i in range(0, len(df)-1):\n",
    "    starting = parse(df.loc[i,'CompleteTimestamp'])\n",
    "    ending = parse(df.loc[i+1,'CompleteTimestamp'])\n",
    "    df.loc[i+1,'Duration'] = (ending-starting).total_seconds()\n",
    "\n",
    "df.fillna(0)\n",
    "```"
   ]
  },
  {
   "cell_type": "code",
   "execution_count": null,
   "metadata": {
    "collapsed": true,
    "deletable": true,
    "editable": true
   },
   "outputs": [],
   "source": []
  }
 ],
 "metadata": {
  "kernelspec": {
   "display_name": "Python 3",
   "language": "python",
   "name": "python3"
  },
  "language_info": {
   "codemirror_mode": {
    "name": "ipython",
    "version": 3
   },
   "file_extension": ".py",
   "mimetype": "text/x-python",
   "name": "python",
   "nbconvert_exporter": "python",
   "pygments_lexer": "ipython3",
   "version": "3.5.3"
  },
  "toc": {
   "colors": {
    "hover_highlight": "#DAA520",
    "running_highlight": "#FF0000",
    "selected_highlight": "#FFD700"
   },
   "moveMenuLeft": true,
   "nav_menu": {
    "height": "48px",
    "width": "252px"
   },
   "navigate_menu": true,
   "number_sections": true,
   "sideBar": true,
   "threshold": 4,
   "toc_cell": false,
   "toc_section_display": "block",
   "toc_window_display": false
  }
 },
 "nbformat": 4,
 "nbformat_minor": 2
}
