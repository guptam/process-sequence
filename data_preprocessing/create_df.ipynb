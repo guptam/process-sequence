{
 "cells": [
  {
   "cell_type": "markdown",
   "metadata": {
    "deletable": true,
    "editable": true
   },
   "source": [
    "This script returns a dataframe with all information needed for analysis and later used for preparing input"
   ]
  },
  {
   "cell_type": "code",
   "execution_count": 1,
   "metadata": {
    "collapsed": true,
    "deletable": true,
    "editable": true
   },
   "outputs": [],
   "source": [
    "import os\n",
    "import argparse\n",
    "import pandas as pd\n",
    "import numpy as np"
   ]
  },
  {
   "cell_type": "code",
   "execution_count": 2,
   "metadata": {
    "collapsed": true,
    "deletable": true,
    "editable": true
   },
   "outputs": [],
   "source": [
    "from dateutil.parser import parse\n",
    "from datetime import datetime\n",
    "import time\n",
    "\n",
    "pd.options.mode.chained_assignment = None #to run loop quicker without warnings"
   ]
  },
  {
   "cell_type": "code",
   "execution_count": 3,
   "metadata": {
    "collapsed": true,
    "deletable": true,
    "editable": true
   },
   "outputs": [],
   "source": [
    "name = 'bpi_12_w'\n",
    "args = {\n",
    "    'datadir': '../data/',\n",
    "    'datafile': name + '.csv',\n",
    "    'inputdir': '../input/{}/'.format(name),   \n",
    "}\n",
    "\n",
    "args = argparse.Namespace(**args)"
   ]
  },
  {
   "cell_type": "code",
   "execution_count": 4,
   "metadata": {
    "collapsed": true,
    "deletable": true,
    "editable": true
   },
   "outputs": [],
   "source": [
    "if not os.path.isdir('../input/'):\n",
    "    os.makedirs('../input/')\n",
    "    \n",
    "if not os.path.isdir(args.inputdir):\n",
    "    os.makedirs(args.inputdir)"
   ]
  },
  {
   "cell_type": "code",
   "execution_count": 5,
   "metadata": {
    "collapsed": false,
    "deletable": true,
    "editable": true
   },
   "outputs": [
    {
     "data": {
      "text/plain": [
       "'bpi_12_w.csv'"
      ]
     },
     "execution_count": 5,
     "metadata": {},
     "output_type": "execute_result"
    }
   ],
   "source": [
    "args.datafile"
   ]
  },
  {
   "cell_type": "markdown",
   "metadata": {
    "deletable": true,
    "editable": true
   },
   "source": [
    "# Preprocessing data"
   ]
  },
  {
   "cell_type": "code",
   "execution_count": 6,
   "metadata": {
    "collapsed": true,
    "deletable": true,
    "editable": true
   },
   "outputs": [],
   "source": [
    "data = pd.read_csv(args.datadir + args.datafile)\n",
    "data['CompleteTimestamp'] = pd.to_datetime(data['CompleteTimestamp'], errors='coerce')"
   ]
  },
  {
   "cell_type": "code",
   "execution_count": 7,
   "metadata": {
    "collapsed": false,
    "deletable": true,
    "editable": true,
    "scrolled": true
   },
   "outputs": [
    {
     "data": {
      "text/html": [
       "<div>\n",
       "<table border=\"1\" class=\"dataframe\">\n",
       "  <thead>\n",
       "    <tr style=\"text-align: right;\">\n",
       "      <th></th>\n",
       "      <th>CaseID</th>\n",
       "      <th>ActivityID</th>\n",
       "      <th>CompleteTimestamp</th>\n",
       "    </tr>\n",
       "  </thead>\n",
       "  <tbody>\n",
       "    <tr>\n",
       "      <th>0</th>\n",
       "      <td>173688</td>\n",
       "      <td>3</td>\n",
       "      <td>2011-10-01 19:45:13</td>\n",
       "    </tr>\n",
       "    <tr>\n",
       "      <th>1</th>\n",
       "      <td>173688</td>\n",
       "      <td>5</td>\n",
       "      <td>2011-10-01 20:17:08</td>\n",
       "    </tr>\n",
       "    <tr>\n",
       "      <th>2</th>\n",
       "      <td>173688</td>\n",
       "      <td>5</td>\n",
       "      <td>2011-10-09 00:32:00</td>\n",
       "    </tr>\n",
       "    <tr>\n",
       "      <th>3</th>\n",
       "      <td>173688</td>\n",
       "      <td>5</td>\n",
       "      <td>2011-10-10 19:33:05</td>\n",
       "    </tr>\n",
       "    <tr>\n",
       "      <th>4</th>\n",
       "      <td>173688</td>\n",
       "      <td>6</td>\n",
       "      <td>2011-10-13 18:37:37</td>\n",
       "    </tr>\n",
       "  </tbody>\n",
       "</table>\n",
       "</div>"
      ],
      "text/plain": [
       "   CaseID  ActivityID   CompleteTimestamp\n",
       "0  173688           3 2011-10-01 19:45:13\n",
       "1  173688           5 2011-10-01 20:17:08\n",
       "2  173688           5 2011-10-09 00:32:00\n",
       "3  173688           5 2011-10-10 19:33:05\n",
       "4  173688           6 2011-10-13 18:37:37"
      ]
     },
     "execution_count": 7,
     "metadata": {},
     "output_type": "execute_result"
    }
   ],
   "source": [
    "data.head()"
   ]
  },
  {
   "cell_type": "code",
   "execution_count": 8,
   "metadata": {
    "collapsed": false,
    "deletable": true,
    "editable": true
   },
   "outputs": [
    {
     "data": {
      "text/plain": [
       "(72413, 3)"
      ]
     },
     "execution_count": 8,
     "metadata": {},
     "output_type": "execute_result"
    }
   ],
   "source": [
    "data.shape"
   ]
  },
  {
   "cell_type": "code",
   "execution_count": 9,
   "metadata": {
    "collapsed": true,
    "deletable": true,
    "editable": true
   },
   "outputs": [],
   "source": [
    "def calculateDuration(df):\n",
    "    df['Duration'] = (df['CompleteTimestamp'] - df['CompleteTimestamp'].shift(1)).fillna(0)\n",
    "    return df\n",
    "\n",
    "def calculateCumDuration(df):\n",
    "    df['CumDuration'] = (df['CompleteTimestamp'] - df['CompleteTimestamp'].iloc[0]).fillna(0) \n",
    "    #change df['CompleteTimestamp'][0] --> df['CompleteTimestamp'].iloc[0]\n",
    "    return df\n",
    "\n",
    "def calculateTimeSinceMidNight(x):\n",
    "    x = str(x)\n",
    "    x = time.strptime(x, \"%Y-%m-%d %H:%M:%S\")\n",
    "    midnight = datetime.fromtimestamp(time.mktime(x)).replace(hour=0, minute=0, second=0, microsecond=0)\n",
    "    timesincemidnight = datetime.fromtimestamp(time.mktime(x))-midnight\n",
    "    return timesincemidnight.seconds\n",
    "\n",
    "def convert2seconds(x):\n",
    "    x = int(x.total_seconds())\n",
    "    return x"
   ]
  },
  {
   "cell_type": "code",
   "execution_count": 10,
   "metadata": {
    "collapsed": true,
    "deletable": true,
    "editable": true
   },
   "outputs": [],
   "source": [
    "groupByCase = data.groupby(['CaseID'])"
   ]
  },
  {
   "cell_type": "code",
   "execution_count": 11,
   "metadata": {
    "collapsed": false,
    "deletable": true,
    "editable": true
   },
   "outputs": [
    {
     "data": {
      "text/plain": [
       "9658"
      ]
     },
     "execution_count": 11,
     "metadata": {},
     "output_type": "execute_result"
    }
   ],
   "source": [
    "len(groupByCase)"
   ]
  },
  {
   "cell_type": "code",
   "execution_count": 12,
   "metadata": {
    "collapsed": true,
    "deletable": true,
    "editable": true
   },
   "outputs": [],
   "source": [
    "df = pd.DataFrame(columns=['CaseID', 'ActivityID', 'CompleteTimestamp', 'Duration', 'CumDuration', 'TimeSinceMidnight', 'WeekDay'])\n",
    "#Loop all group and apply above functions\n",
    "for case, group in groupByCase:\n",
    "    group = calculateDuration(group)\n",
    "    group = calculateCumDuration(group)\n",
    "    group['Duration'] = group['Duration'].apply(convert2seconds)\n",
    "    group['CumDuration'] = group['CumDuration'].apply(convert2seconds)\n",
    "    group['TimeSinceMidnight'] = group['CompleteTimestamp'].apply(calculateTimeSinceMidNight)\n",
    "    group['WeekDay'] = group['CompleteTimestamp'].dt.dayofweek\n",
    "    \n",
    "    df = df.append(group)"
   ]
  },
  {
   "cell_type": "code",
   "execution_count": 13,
   "metadata": {
    "collapsed": false,
    "deletable": true,
    "editable": true
   },
   "outputs": [
    {
     "data": {
      "text/html": [
       "<div>\n",
       "<table border=\"1\" class=\"dataframe\">\n",
       "  <thead>\n",
       "    <tr style=\"text-align: right;\">\n",
       "      <th></th>\n",
       "      <th>CaseID</th>\n",
       "      <th>ActivityID</th>\n",
       "      <th>CompleteTimestamp</th>\n",
       "      <th>Duration</th>\n",
       "      <th>CumDuration</th>\n",
       "      <th>TimeSinceMidnight</th>\n",
       "      <th>WeekDay</th>\n",
       "    </tr>\n",
       "  </thead>\n",
       "  <tbody>\n",
       "    <tr>\n",
       "      <th>0</th>\n",
       "      <td>173688.0</td>\n",
       "      <td>3.0</td>\n",
       "      <td>2011-10-01 19:45:13</td>\n",
       "      <td>0.0</td>\n",
       "      <td>0.0</td>\n",
       "      <td>71113.0</td>\n",
       "      <td>5.0</td>\n",
       "    </tr>\n",
       "    <tr>\n",
       "      <th>1</th>\n",
       "      <td>173688.0</td>\n",
       "      <td>5.0</td>\n",
       "      <td>2011-10-01 20:17:08</td>\n",
       "      <td>1915.0</td>\n",
       "      <td>1915.0</td>\n",
       "      <td>73028.0</td>\n",
       "      <td>5.0</td>\n",
       "    </tr>\n",
       "    <tr>\n",
       "      <th>2</th>\n",
       "      <td>173688.0</td>\n",
       "      <td>5.0</td>\n",
       "      <td>2011-10-09 00:32:00</td>\n",
       "      <td>620092.0</td>\n",
       "      <td>622007.0</td>\n",
       "      <td>1920.0</td>\n",
       "      <td>6.0</td>\n",
       "    </tr>\n",
       "    <tr>\n",
       "      <th>3</th>\n",
       "      <td>173688.0</td>\n",
       "      <td>5.0</td>\n",
       "      <td>2011-10-10 19:33:05</td>\n",
       "      <td>154865.0</td>\n",
       "      <td>776872.0</td>\n",
       "      <td>70385.0</td>\n",
       "      <td>0.0</td>\n",
       "    </tr>\n",
       "    <tr>\n",
       "      <th>4</th>\n",
       "      <td>173688.0</td>\n",
       "      <td>6.0</td>\n",
       "      <td>2011-10-13 18:37:37</td>\n",
       "      <td>255872.0</td>\n",
       "      <td>1032744.0</td>\n",
       "      <td>67057.0</td>\n",
       "      <td>3.0</td>\n",
       "    </tr>\n",
       "    <tr>\n",
       "      <th>5</th>\n",
       "      <td>173691.0</td>\n",
       "      <td>3.0</td>\n",
       "      <td>2011-10-01 19:43:13</td>\n",
       "      <td>0.0</td>\n",
       "      <td>0.0</td>\n",
       "      <td>70993.0</td>\n",
       "      <td>5.0</td>\n",
       "    </tr>\n",
       "    <tr>\n",
       "      <th>6</th>\n",
       "      <td>173691.0</td>\n",
       "      <td>3.0</td>\n",
       "      <td>2011-10-01 22:35:48</td>\n",
       "      <td>10355.0</td>\n",
       "      <td>10355.0</td>\n",
       "      <td>81348.0</td>\n",
       "      <td>5.0</td>\n",
       "    </tr>\n",
       "    <tr>\n",
       "      <th>7</th>\n",
       "      <td>173691.0</td>\n",
       "      <td>5.0</td>\n",
       "      <td>2011-10-01 22:36:25</td>\n",
       "      <td>37.0</td>\n",
       "      <td>10392.0</td>\n",
       "      <td>81385.0</td>\n",
       "      <td>5.0</td>\n",
       "    </tr>\n",
       "    <tr>\n",
       "      <th>8</th>\n",
       "      <td>173691.0</td>\n",
       "      <td>5.0</td>\n",
       "      <td>2011-10-04 00:56:21</td>\n",
       "      <td>181196.0</td>\n",
       "      <td>191588.0</td>\n",
       "      <td>3381.0</td>\n",
       "      <td>1.0</td>\n",
       "    </tr>\n",
       "    <tr>\n",
       "      <th>9</th>\n",
       "      <td>173691.0</td>\n",
       "      <td>5.0</td>\n",
       "      <td>2011-10-04 00:57:16</td>\n",
       "      <td>55.0</td>\n",
       "      <td>191643.0</td>\n",
       "      <td>3436.0</td>\n",
       "      <td>1.0</td>\n",
       "    </tr>\n",
       "  </tbody>\n",
       "</table>\n",
       "</div>"
      ],
      "text/plain": [
       "     CaseID  ActivityID   CompleteTimestamp  Duration  CumDuration  \\\n",
       "0  173688.0         3.0 2011-10-01 19:45:13       0.0          0.0   \n",
       "1  173688.0         5.0 2011-10-01 20:17:08    1915.0       1915.0   \n",
       "2  173688.0         5.0 2011-10-09 00:32:00  620092.0     622007.0   \n",
       "3  173688.0         5.0 2011-10-10 19:33:05  154865.0     776872.0   \n",
       "4  173688.0         6.0 2011-10-13 18:37:37  255872.0    1032744.0   \n",
       "5  173691.0         3.0 2011-10-01 19:43:13       0.0          0.0   \n",
       "6  173691.0         3.0 2011-10-01 22:35:48   10355.0      10355.0   \n",
       "7  173691.0         5.0 2011-10-01 22:36:25      37.0      10392.0   \n",
       "8  173691.0         5.0 2011-10-04 00:56:21  181196.0     191588.0   \n",
       "9  173691.0         5.0 2011-10-04 00:57:16      55.0     191643.0   \n",
       "\n",
       "   TimeSinceMidnight  WeekDay  \n",
       "0            71113.0      5.0  \n",
       "1            73028.0      5.0  \n",
       "2             1920.0      6.0  \n",
       "3            70385.0      0.0  \n",
       "4            67057.0      3.0  \n",
       "5            70993.0      5.0  \n",
       "6            81348.0      5.0  \n",
       "7            81385.0      5.0  \n",
       "8             3381.0      1.0  \n",
       "9             3436.0      1.0  "
      ]
     },
     "execution_count": 13,
     "metadata": {},
     "output_type": "execute_result"
    }
   ],
   "source": [
    "df.head(10)"
   ]
  },
  {
   "cell_type": "code",
   "execution_count": 14,
   "metadata": {
    "collapsed": false,
    "deletable": true,
    "editable": true
   },
   "outputs": [
    {
     "data": {
      "text/plain": [
       "['CaseID',\n",
       " 'ActivityID',\n",
       " 'CompleteTimestamp',\n",
       " 'Duration',\n",
       " 'CumDuration',\n",
       " 'TimeSinceMidnight',\n",
       " 'WeekDay']"
      ]
     },
     "execution_count": 14,
     "metadata": {},
     "output_type": "execute_result"
    }
   ],
   "source": [
    "list(df)"
   ]
  },
  {
   "cell_type": "code",
   "execution_count": 15,
   "metadata": {
    "collapsed": true,
    "deletable": true,
    "editable": true
   },
   "outputs": [],
   "source": [
    "for i in list(df):\n",
    "    if i != 'CompleteTimestamp':\n",
    "        df[i] = df[i].apply(int)"
   ]
  },
  {
   "cell_type": "code",
   "execution_count": 16,
   "metadata": {
    "collapsed": false,
    "deletable": true,
    "editable": true
   },
   "outputs": [
    {
     "data": {
      "text/html": [
       "<div>\n",
       "<table border=\"1\" class=\"dataframe\">\n",
       "  <thead>\n",
       "    <tr style=\"text-align: right;\">\n",
       "      <th></th>\n",
       "      <th>CaseID</th>\n",
       "      <th>ActivityID</th>\n",
       "      <th>CompleteTimestamp</th>\n",
       "      <th>Duration</th>\n",
       "      <th>CumDuration</th>\n",
       "      <th>TimeSinceMidnight</th>\n",
       "      <th>WeekDay</th>\n",
       "    </tr>\n",
       "  </thead>\n",
       "  <tbody>\n",
       "    <tr>\n",
       "      <th>0</th>\n",
       "      <td>173688</td>\n",
       "      <td>3</td>\n",
       "      <td>2011-10-01 19:45:13</td>\n",
       "      <td>0</td>\n",
       "      <td>0</td>\n",
       "      <td>71113</td>\n",
       "      <td>5</td>\n",
       "    </tr>\n",
       "    <tr>\n",
       "      <th>1</th>\n",
       "      <td>173688</td>\n",
       "      <td>5</td>\n",
       "      <td>2011-10-01 20:17:08</td>\n",
       "      <td>1915</td>\n",
       "      <td>1915</td>\n",
       "      <td>73028</td>\n",
       "      <td>5</td>\n",
       "    </tr>\n",
       "    <tr>\n",
       "      <th>2</th>\n",
       "      <td>173688</td>\n",
       "      <td>5</td>\n",
       "      <td>2011-10-09 00:32:00</td>\n",
       "      <td>620092</td>\n",
       "      <td>622007</td>\n",
       "      <td>1920</td>\n",
       "      <td>6</td>\n",
       "    </tr>\n",
       "    <tr>\n",
       "      <th>3</th>\n",
       "      <td>173688</td>\n",
       "      <td>5</td>\n",
       "      <td>2011-10-10 19:33:05</td>\n",
       "      <td>154865</td>\n",
       "      <td>776872</td>\n",
       "      <td>70385</td>\n",
       "      <td>0</td>\n",
       "    </tr>\n",
       "    <tr>\n",
       "      <th>4</th>\n",
       "      <td>173688</td>\n",
       "      <td>6</td>\n",
       "      <td>2011-10-13 18:37:37</td>\n",
       "      <td>255872</td>\n",
       "      <td>1032744</td>\n",
       "      <td>67057</td>\n",
       "      <td>3</td>\n",
       "    </tr>\n",
       "    <tr>\n",
       "      <th>5</th>\n",
       "      <td>173691</td>\n",
       "      <td>3</td>\n",
       "      <td>2011-10-01 19:43:13</td>\n",
       "      <td>0</td>\n",
       "      <td>0</td>\n",
       "      <td>70993</td>\n",
       "      <td>5</td>\n",
       "    </tr>\n",
       "    <tr>\n",
       "      <th>6</th>\n",
       "      <td>173691</td>\n",
       "      <td>3</td>\n",
       "      <td>2011-10-01 22:35:48</td>\n",
       "      <td>10355</td>\n",
       "      <td>10355</td>\n",
       "      <td>81348</td>\n",
       "      <td>5</td>\n",
       "    </tr>\n",
       "    <tr>\n",
       "      <th>7</th>\n",
       "      <td>173691</td>\n",
       "      <td>5</td>\n",
       "      <td>2011-10-01 22:36:25</td>\n",
       "      <td>37</td>\n",
       "      <td>10392</td>\n",
       "      <td>81385</td>\n",
       "      <td>5</td>\n",
       "    </tr>\n",
       "    <tr>\n",
       "      <th>8</th>\n",
       "      <td>173691</td>\n",
       "      <td>5</td>\n",
       "      <td>2011-10-04 00:56:21</td>\n",
       "      <td>181196</td>\n",
       "      <td>191588</td>\n",
       "      <td>3381</td>\n",
       "      <td>1</td>\n",
       "    </tr>\n",
       "    <tr>\n",
       "      <th>9</th>\n",
       "      <td>173691</td>\n",
       "      <td>5</td>\n",
       "      <td>2011-10-04 00:57:16</td>\n",
       "      <td>55</td>\n",
       "      <td>191643</td>\n",
       "      <td>3436</td>\n",
       "      <td>1</td>\n",
       "    </tr>\n",
       "  </tbody>\n",
       "</table>\n",
       "</div>"
      ],
      "text/plain": [
       "   CaseID  ActivityID   CompleteTimestamp  Duration  CumDuration  \\\n",
       "0  173688           3 2011-10-01 19:45:13         0            0   \n",
       "1  173688           5 2011-10-01 20:17:08      1915         1915   \n",
       "2  173688           5 2011-10-09 00:32:00    620092       622007   \n",
       "3  173688           5 2011-10-10 19:33:05    154865       776872   \n",
       "4  173688           6 2011-10-13 18:37:37    255872      1032744   \n",
       "5  173691           3 2011-10-01 19:43:13         0            0   \n",
       "6  173691           3 2011-10-01 22:35:48     10355        10355   \n",
       "7  173691           5 2011-10-01 22:36:25        37        10392   \n",
       "8  173691           5 2011-10-04 00:56:21    181196       191588   \n",
       "9  173691           5 2011-10-04 00:57:16        55       191643   \n",
       "\n",
       "   TimeSinceMidnight  WeekDay  \n",
       "0              71113        5  \n",
       "1              73028        5  \n",
       "2               1920        6  \n",
       "3              70385        0  \n",
       "4              67057        3  \n",
       "5              70993        5  \n",
       "6              81348        5  \n",
       "7              81385        5  \n",
       "8               3381        1  \n",
       "9               3436        1  "
      ]
     },
     "execution_count": 16,
     "metadata": {},
     "output_type": "execute_result"
    }
   ],
   "source": [
    "df.head(10)"
   ]
  },
  {
   "cell_type": "code",
   "execution_count": 17,
   "metadata": {
    "collapsed": false,
    "deletable": true,
    "editable": true
   },
   "outputs": [
    {
     "data": {
      "text/plain": [
       "(72413, 7)"
      ]
     },
     "execution_count": 17,
     "metadata": {},
     "output_type": "execute_result"
    }
   ],
   "source": [
    "df.shape"
   ]
  },
  {
   "cell_type": "code",
   "execution_count": 18,
   "metadata": {
    "collapsed": true,
    "deletable": true,
    "editable": true
   },
   "outputs": [],
   "source": [
    "df.to_csv(args.inputdir+'full_data.csv', index=False)"
   ]
  },
  {
   "cell_type": "code",
   "execution_count": 19,
   "metadata": {
    "collapsed": true,
    "deletable": true,
    "editable": true
   },
   "outputs": [],
   "source": [
    "df = pd.read_csv(args.inputdir+'full_data.csv')"
   ]
  },
  {
   "cell_type": "code",
   "execution_count": 20,
   "metadata": {
    "collapsed": false,
    "deletable": true,
    "editable": true
   },
   "outputs": [
    {
     "data": {
      "text/html": [
       "<div>\n",
       "<table border=\"1\" class=\"dataframe\">\n",
       "  <thead>\n",
       "    <tr style=\"text-align: right;\">\n",
       "      <th></th>\n",
       "      <th>CaseID</th>\n",
       "      <th>ActivityID</th>\n",
       "      <th>CompleteTimestamp</th>\n",
       "      <th>Duration</th>\n",
       "      <th>CumDuration</th>\n",
       "      <th>TimeSinceMidnight</th>\n",
       "      <th>WeekDay</th>\n",
       "    </tr>\n",
       "  </thead>\n",
       "  <tbody>\n",
       "    <tr>\n",
       "      <th>0</th>\n",
       "      <td>173688</td>\n",
       "      <td>3</td>\n",
       "      <td>2011-10-01 19:45:13</td>\n",
       "      <td>0</td>\n",
       "      <td>0</td>\n",
       "      <td>71113</td>\n",
       "      <td>5</td>\n",
       "    </tr>\n",
       "    <tr>\n",
       "      <th>1</th>\n",
       "      <td>173688</td>\n",
       "      <td>5</td>\n",
       "      <td>2011-10-01 20:17:08</td>\n",
       "      <td>1915</td>\n",
       "      <td>1915</td>\n",
       "      <td>73028</td>\n",
       "      <td>5</td>\n",
       "    </tr>\n",
       "    <tr>\n",
       "      <th>2</th>\n",
       "      <td>173688</td>\n",
       "      <td>5</td>\n",
       "      <td>2011-10-09 00:32:00</td>\n",
       "      <td>620092</td>\n",
       "      <td>622007</td>\n",
       "      <td>1920</td>\n",
       "      <td>6</td>\n",
       "    </tr>\n",
       "    <tr>\n",
       "      <th>3</th>\n",
       "      <td>173688</td>\n",
       "      <td>5</td>\n",
       "      <td>2011-10-10 19:33:05</td>\n",
       "      <td>154865</td>\n",
       "      <td>776872</td>\n",
       "      <td>70385</td>\n",
       "      <td>0</td>\n",
       "    </tr>\n",
       "    <tr>\n",
       "      <th>4</th>\n",
       "      <td>173688</td>\n",
       "      <td>6</td>\n",
       "      <td>2011-10-13 18:37:37</td>\n",
       "      <td>255872</td>\n",
       "      <td>1032744</td>\n",
       "      <td>67057</td>\n",
       "      <td>3</td>\n",
       "    </tr>\n",
       "  </tbody>\n",
       "</table>\n",
       "</div>"
      ],
      "text/plain": [
       "   CaseID  ActivityID    CompleteTimestamp  Duration  CumDuration  \\\n",
       "0  173688           3  2011-10-01 19:45:13         0            0   \n",
       "1  173688           5  2011-10-01 20:17:08      1915         1915   \n",
       "2  173688           5  2011-10-09 00:32:00    620092       622007   \n",
       "3  173688           5  2011-10-10 19:33:05    154865       776872   \n",
       "4  173688           6  2011-10-13 18:37:37    255872      1032744   \n",
       "\n",
       "   TimeSinceMidnight  WeekDay  \n",
       "0              71113        5  \n",
       "1              73028        5  \n",
       "2               1920        6  \n",
       "3              70385        0  \n",
       "4              67057        3  "
      ]
     },
     "execution_count": 20,
     "metadata": {},
     "output_type": "execute_result"
    }
   ],
   "source": [
    "df.head()"
   ]
  },
  {
   "cell_type": "markdown",
   "metadata": {
    "deletable": true,
    "editable": true
   },
   "source": [
    "# Split data into train and test"
   ]
  },
  {
   "cell_type": "code",
   "execution_count": 21,
   "metadata": {
    "collapsed": true,
    "deletable": true,
    "editable": true
   },
   "outputs": [],
   "source": [
    "groupByCase = df.groupby(['CaseID'])"
   ]
  },
  {
   "cell_type": "code",
   "execution_count": 22,
   "metadata": {
    "collapsed": true,
    "deletable": true,
    "editable": true
   },
   "outputs": [],
   "source": [
    "num_cases = len(groupByCase)\n",
    "train_size = int(num_cases*2/3)\n",
    "test_size = num_cases - train_size"
   ]
  },
  {
   "cell_type": "code",
   "execution_count": 23,
   "metadata": {
    "collapsed": false,
    "deletable": true,
    "editable": true
   },
   "outputs": [
    {
     "data": {
      "text/plain": [
       "(9658, 6438, 3220)"
      ]
     },
     "execution_count": 23,
     "metadata": {},
     "output_type": "execute_result"
    }
   ],
   "source": [
    "num_cases, train_size, test_size"
   ]
  },
  {
   "cell_type": "code",
   "execution_count": 24,
   "metadata": {
    "collapsed": true,
    "deletable": true,
    "editable": true
   },
   "outputs": [],
   "source": [
    "df_train = pd.DataFrame(columns=['CaseID', 'ActivityID', 'CompleteTimestamp', 'Duration', 'CumDuration', 'TimeSinceMidnight', 'WeekDay'])\n",
    "df_test = pd.DataFrame(columns=['CaseID', 'ActivityID', 'CompleteTimestamp', 'Duration', 'CumDuration', 'TimeSinceMidnight', 'WeekDay'])\n",
    "\n",
    "for i, (case, group) in enumerate(groupByCase):\n",
    "    if i < train_size:     \n",
    "        df_train = df_train.append(group)\n",
    "    else:\n",
    "        df_test = df_test.append(group)"
   ]
  },
  {
   "cell_type": "code",
   "execution_count": 25,
   "metadata": {
    "collapsed": false,
    "deletable": true,
    "editable": true
   },
   "outputs": [
    {
     "data": {
      "text/plain": [
       "((72413, 7), (49194, 7), (23219, 7))"
      ]
     },
     "execution_count": 25,
     "metadata": {},
     "output_type": "execute_result"
    }
   ],
   "source": [
    "df.shape, df_train.shape, df_test.shape"
   ]
  },
  {
   "cell_type": "code",
   "execution_count": 26,
   "metadata": {
    "collapsed": true,
    "deletable": true,
    "editable": true
   },
   "outputs": [],
   "source": [
    "trainGroupby = df_train.groupby(['CaseID'])\n",
    "testGroupby = df_test.groupby(['CaseID'])"
   ]
  },
  {
   "cell_type": "code",
   "execution_count": 27,
   "metadata": {
    "collapsed": false,
    "deletable": true,
    "editable": true
   },
   "outputs": [
    {
     "data": {
      "text/plain": [
       "(6438, 3220)"
      ]
     },
     "execution_count": 27,
     "metadata": {},
     "output_type": "execute_result"
    }
   ],
   "source": [
    "len(trainGroupby), len(testGroupby)"
   ]
  },
  {
   "cell_type": "code",
   "execution_count": 28,
   "metadata": {
    "collapsed": true,
    "deletable": true,
    "editable": true
   },
   "outputs": [],
   "source": [
    "df_train.to_csv(args.inputdir+'train.csv', index=False)\n",
    "df_test.to_csv(args.inputdir+'test.csv', index=False)"
   ]
  },
  {
   "cell_type": "markdown",
   "metadata": {
    "collapsed": true,
    "deletable": true,
    "editable": true
   },
   "source": [
    "# Test"
   ]
  },
  {
   "cell_type": "code",
   "execution_count": 29,
   "metadata": {
    "collapsed": true,
    "deletable": true,
    "editable": true
   },
   "outputs": [],
   "source": [
    "test = data[:10]\n",
    "#data['CompleteTimestamp'] = data['CompleteTimestamp'].apply(parse)\n",
    "test['CompleteTimestamp'] = pd.to_datetime(test['CompleteTimestamp'])"
   ]
  },
  {
   "cell_type": "code",
   "execution_count": 30,
   "metadata": {
    "collapsed": false,
    "deletable": true,
    "editable": true
   },
   "outputs": [
    {
     "data": {
      "text/html": [
       "<div>\n",
       "<table border=\"1\" class=\"dataframe\">\n",
       "  <thead>\n",
       "    <tr style=\"text-align: right;\">\n",
       "      <th></th>\n",
       "      <th>CaseID</th>\n",
       "      <th>ActivityID</th>\n",
       "      <th>CompleteTimestamp</th>\n",
       "    </tr>\n",
       "  </thead>\n",
       "  <tbody>\n",
       "    <tr>\n",
       "      <th>0</th>\n",
       "      <td>173688</td>\n",
       "      <td>3</td>\n",
       "      <td>2011-10-01 19:45:13</td>\n",
       "    </tr>\n",
       "    <tr>\n",
       "      <th>1</th>\n",
       "      <td>173688</td>\n",
       "      <td>5</td>\n",
       "      <td>2011-10-01 20:17:08</td>\n",
       "    </tr>\n",
       "    <tr>\n",
       "      <th>2</th>\n",
       "      <td>173688</td>\n",
       "      <td>5</td>\n",
       "      <td>2011-10-09 00:32:00</td>\n",
       "    </tr>\n",
       "    <tr>\n",
       "      <th>3</th>\n",
       "      <td>173688</td>\n",
       "      <td>5</td>\n",
       "      <td>2011-10-10 19:33:05</td>\n",
       "    </tr>\n",
       "    <tr>\n",
       "      <th>4</th>\n",
       "      <td>173688</td>\n",
       "      <td>6</td>\n",
       "      <td>2011-10-13 18:37:37</td>\n",
       "    </tr>\n",
       "    <tr>\n",
       "      <th>5</th>\n",
       "      <td>173691</td>\n",
       "      <td>3</td>\n",
       "      <td>2011-10-01 19:43:13</td>\n",
       "    </tr>\n",
       "    <tr>\n",
       "      <th>6</th>\n",
       "      <td>173691</td>\n",
       "      <td>3</td>\n",
       "      <td>2011-10-01 22:35:48</td>\n",
       "    </tr>\n",
       "    <tr>\n",
       "      <th>7</th>\n",
       "      <td>173691</td>\n",
       "      <td>5</td>\n",
       "      <td>2011-10-01 22:36:25</td>\n",
       "    </tr>\n",
       "    <tr>\n",
       "      <th>8</th>\n",
       "      <td>173691</td>\n",
       "      <td>5</td>\n",
       "      <td>2011-10-04 00:56:21</td>\n",
       "    </tr>\n",
       "    <tr>\n",
       "      <th>9</th>\n",
       "      <td>173691</td>\n",
       "      <td>5</td>\n",
       "      <td>2011-10-04 00:57:16</td>\n",
       "    </tr>\n",
       "  </tbody>\n",
       "</table>\n",
       "</div>"
      ],
      "text/plain": [
       "   CaseID  ActivityID   CompleteTimestamp\n",
       "0  173688           3 2011-10-01 19:45:13\n",
       "1  173688           5 2011-10-01 20:17:08\n",
       "2  173688           5 2011-10-09 00:32:00\n",
       "3  173688           5 2011-10-10 19:33:05\n",
       "4  173688           6 2011-10-13 18:37:37\n",
       "5  173691           3 2011-10-01 19:43:13\n",
       "6  173691           3 2011-10-01 22:35:48\n",
       "7  173691           5 2011-10-01 22:36:25\n",
       "8  173691           5 2011-10-04 00:56:21\n",
       "9  173691           5 2011-10-04 00:57:16"
      ]
     },
     "execution_count": 30,
     "metadata": {},
     "output_type": "execute_result"
    }
   ],
   "source": [
    "test"
   ]
  },
  {
   "cell_type": "code",
   "execution_count": 31,
   "metadata": {
    "collapsed": false,
    "deletable": true,
    "editable": true
   },
   "outputs": [
    {
     "data": {
      "text/plain": [
       "pandas.core.series.Series"
      ]
     },
     "execution_count": 31,
     "metadata": {},
     "output_type": "execute_result"
    }
   ],
   "source": [
    "type(test['CompleteTimestamp'])"
   ]
  },
  {
   "cell_type": "code",
   "execution_count": 32,
   "metadata": {
    "collapsed": true,
    "deletable": true,
    "editable": true
   },
   "outputs": [],
   "source": [
    "test = calculateDuration(test)\n",
    "test = calculateCumDuration(test)"
   ]
  },
  {
   "cell_type": "code",
   "execution_count": 33,
   "metadata": {
    "collapsed": true,
    "deletable": true,
    "editable": true
   },
   "outputs": [],
   "source": [
    "test['Duration'] = test['Duration'].apply(convert2seconds)\n",
    "test['CumDuration'] = test['CumDuration'].apply(convert2seconds)"
   ]
  },
  {
   "cell_type": "code",
   "execution_count": 34,
   "metadata": {
    "collapsed": true,
    "deletable": true,
    "editable": true
   },
   "outputs": [],
   "source": [
    "test['Timefrommidnight'] = test['CompleteTimestamp'].apply(calculateTimeSinceMidNight)"
   ]
  },
  {
   "cell_type": "code",
   "execution_count": 35,
   "metadata": {
    "collapsed": true,
    "deletable": true,
    "editable": true
   },
   "outputs": [],
   "source": [
    "test['WeekDay'] = test['CompleteTimestamp'].dt.dayofweek"
   ]
  },
  {
   "cell_type": "code",
   "execution_count": 36,
   "metadata": {
    "collapsed": true,
    "deletable": true,
    "editable": true
   },
   "outputs": [],
   "source": [
    "test['CaseID'] = test['CaseID'].apply(float)"
   ]
  },
  {
   "cell_type": "code",
   "execution_count": 37,
   "metadata": {
    "collapsed": false,
    "deletable": true,
    "editable": true
   },
   "outputs": [
    {
     "data": {
      "text/html": [
       "<div>\n",
       "<table border=\"1\" class=\"dataframe\">\n",
       "  <thead>\n",
       "    <tr style=\"text-align: right;\">\n",
       "      <th></th>\n",
       "      <th>CaseID</th>\n",
       "      <th>ActivityID</th>\n",
       "      <th>CompleteTimestamp</th>\n",
       "      <th>Duration</th>\n",
       "      <th>CumDuration</th>\n",
       "      <th>Timefrommidnight</th>\n",
       "      <th>WeekDay</th>\n",
       "    </tr>\n",
       "  </thead>\n",
       "  <tbody>\n",
       "    <tr>\n",
       "      <th>0</th>\n",
       "      <td>173688.0</td>\n",
       "      <td>3</td>\n",
       "      <td>2011-10-01 19:45:13</td>\n",
       "      <td>0</td>\n",
       "      <td>0</td>\n",
       "      <td>71113</td>\n",
       "      <td>5</td>\n",
       "    </tr>\n",
       "    <tr>\n",
       "      <th>1</th>\n",
       "      <td>173688.0</td>\n",
       "      <td>5</td>\n",
       "      <td>2011-10-01 20:17:08</td>\n",
       "      <td>1915</td>\n",
       "      <td>1915</td>\n",
       "      <td>73028</td>\n",
       "      <td>5</td>\n",
       "    </tr>\n",
       "    <tr>\n",
       "      <th>2</th>\n",
       "      <td>173688.0</td>\n",
       "      <td>5</td>\n",
       "      <td>2011-10-09 00:32:00</td>\n",
       "      <td>620092</td>\n",
       "      <td>622007</td>\n",
       "      <td>1920</td>\n",
       "      <td>6</td>\n",
       "    </tr>\n",
       "    <tr>\n",
       "      <th>3</th>\n",
       "      <td>173688.0</td>\n",
       "      <td>5</td>\n",
       "      <td>2011-10-10 19:33:05</td>\n",
       "      <td>154865</td>\n",
       "      <td>776872</td>\n",
       "      <td>70385</td>\n",
       "      <td>0</td>\n",
       "    </tr>\n",
       "    <tr>\n",
       "      <th>4</th>\n",
       "      <td>173688.0</td>\n",
       "      <td>6</td>\n",
       "      <td>2011-10-13 18:37:37</td>\n",
       "      <td>255872</td>\n",
       "      <td>1032744</td>\n",
       "      <td>67057</td>\n",
       "      <td>3</td>\n",
       "    </tr>\n",
       "    <tr>\n",
       "      <th>5</th>\n",
       "      <td>173691.0</td>\n",
       "      <td>3</td>\n",
       "      <td>2011-10-01 19:43:13</td>\n",
       "      <td>-1032864</td>\n",
       "      <td>-120</td>\n",
       "      <td>70993</td>\n",
       "      <td>5</td>\n",
       "    </tr>\n",
       "    <tr>\n",
       "      <th>6</th>\n",
       "      <td>173691.0</td>\n",
       "      <td>3</td>\n",
       "      <td>2011-10-01 22:35:48</td>\n",
       "      <td>10355</td>\n",
       "      <td>10235</td>\n",
       "      <td>81348</td>\n",
       "      <td>5</td>\n",
       "    </tr>\n",
       "    <tr>\n",
       "      <th>7</th>\n",
       "      <td>173691.0</td>\n",
       "      <td>5</td>\n",
       "      <td>2011-10-01 22:36:25</td>\n",
       "      <td>37</td>\n",
       "      <td>10272</td>\n",
       "      <td>81385</td>\n",
       "      <td>5</td>\n",
       "    </tr>\n",
       "    <tr>\n",
       "      <th>8</th>\n",
       "      <td>173691.0</td>\n",
       "      <td>5</td>\n",
       "      <td>2011-10-04 00:56:21</td>\n",
       "      <td>181196</td>\n",
       "      <td>191468</td>\n",
       "      <td>3381</td>\n",
       "      <td>1</td>\n",
       "    </tr>\n",
       "    <tr>\n",
       "      <th>9</th>\n",
       "      <td>173691.0</td>\n",
       "      <td>5</td>\n",
       "      <td>2011-10-04 00:57:16</td>\n",
       "      <td>55</td>\n",
       "      <td>191523</td>\n",
       "      <td>3436</td>\n",
       "      <td>1</td>\n",
       "    </tr>\n",
       "  </tbody>\n",
       "</table>\n",
       "</div>"
      ],
      "text/plain": [
       "     CaseID  ActivityID   CompleteTimestamp  Duration  CumDuration  \\\n",
       "0  173688.0           3 2011-10-01 19:45:13         0            0   \n",
       "1  173688.0           5 2011-10-01 20:17:08      1915         1915   \n",
       "2  173688.0           5 2011-10-09 00:32:00    620092       622007   \n",
       "3  173688.0           5 2011-10-10 19:33:05    154865       776872   \n",
       "4  173688.0           6 2011-10-13 18:37:37    255872      1032744   \n",
       "5  173691.0           3 2011-10-01 19:43:13  -1032864         -120   \n",
       "6  173691.0           3 2011-10-01 22:35:48     10355        10235   \n",
       "7  173691.0           5 2011-10-01 22:36:25        37        10272   \n",
       "8  173691.0           5 2011-10-04 00:56:21    181196       191468   \n",
       "9  173691.0           5 2011-10-04 00:57:16        55       191523   \n",
       "\n",
       "   Timefrommidnight  WeekDay  \n",
       "0             71113        5  \n",
       "1             73028        5  \n",
       "2              1920        6  \n",
       "3             70385        0  \n",
       "4             67057        3  \n",
       "5             70993        5  \n",
       "6             81348        5  \n",
       "7             81385        5  \n",
       "8              3381        1  \n",
       "9              3436        1  "
      ]
     },
     "execution_count": 37,
     "metadata": {},
     "output_type": "execute_result"
    }
   ],
   "source": [
    "test"
   ]
  },
  {
   "cell_type": "markdown",
   "metadata": {
    "deletable": true,
    "editable": true
   },
   "source": [
    "Another way to get ```Duration```:\n",
    "\n",
    "```python\n",
    "import pandas as pd\n",
    "from dateutil.parser import parse\n",
    "data = pd.read_csv('../data/helpdesk.csv')\n",
    "df = data[:10]\n",
    "for i in range(0, len(df)-1):\n",
    "    starting = parse(df.loc[i,'CompleteTimestamp'])\n",
    "    ending = parse(df.loc[i+1,'CompleteTimestamp'])\n",
    "    df.loc[i+1,'Duration'] = (ending-starting).total_seconds()\n",
    "\n",
    "df.fillna(0)\n",
    "```"
   ]
  },
  {
   "cell_type": "code",
   "execution_count": null,
   "metadata": {
    "collapsed": true,
    "deletable": true,
    "editable": true
   },
   "outputs": [],
   "source": []
  }
 ],
 "metadata": {
  "kernelspec": {
   "display_name": "Python 3",
   "language": "python",
   "name": "python3"
  },
  "language_info": {
   "codemirror_mode": {
    "name": "ipython",
    "version": 3
   },
   "file_extension": ".py",
   "mimetype": "text/x-python",
   "name": "python",
   "nbconvert_exporter": "python",
   "pygments_lexer": "ipython3",
   "version": "3.5.2"
  },
  "toc": {
   "colors": {
    "hover_highlight": "#DAA520",
    "running_highlight": "#FF0000",
    "selected_highlight": "#FFD700"
   },
   "moveMenuLeft": true,
   "nav_menu": {
    "height": "48px",
    "width": "252px"
   },
   "navigate_menu": true,
   "number_sections": true,
   "sideBar": true,
   "threshold": 4,
   "toc_cell": false,
   "toc_section_display": "block",
   "toc_window_display": false
  }
 },
 "nbformat": 4,
 "nbformat_minor": 2
}
