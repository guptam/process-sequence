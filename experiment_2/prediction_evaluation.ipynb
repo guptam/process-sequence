{
 "cells": [
  {
   "cell_type": "code",
   "execution_count": 1,
   "metadata": {
    "collapsed": true,
    "deletable": true,
    "editable": true
   },
   "outputs": [],
   "source": [
    "import os\n",
    "import argparse\n",
    "import pandas as pd\n",
    "import numpy as np\n",
    "import pickle\n",
    "from utils_test import *"
   ]
  },
  {
   "cell_type": "code",
   "execution_count": 2,
   "metadata": {
    "collapsed": false,
    "deletable": true,
    "editable": true
   },
   "outputs": [],
   "source": [
    "from jellyfish._jellyfish import damerau_levenshtein_distance\n",
    "import distance\n",
    "from sklearn import metrics"
   ]
  },
  {
   "cell_type": "code",
   "execution_count": 3,
   "metadata": {
    "collapsed": false,
    "deletable": true,
    "editable": true
   },
   "outputs": [
    {
     "name": "stderr",
     "output_type": "stream",
     "text": [
      "Using Theano backend.\n"
     ]
    }
   ],
   "source": [
    "from keras.models import load_model\n",
    "from keras import backend as K\n",
    "from keras.engine.topology import Layer, InputSpec\n",
    "from keras import initializers, regularizers, constraints"
   ]
  },
  {
   "cell_type": "code",
   "execution_count": 4,
   "metadata": {
    "collapsed": true,
    "deletable": true,
    "editable": true
   },
   "outputs": [],
   "source": [
    "name = 'helpdesk'\n",
    "sub_name = 'attention_context'\n",
    "args = {\n",
    "    'inputdir': '../input/{}/'.format(name),   \n",
    "    'outputdir': './output_files/{0}_{1}/'.format(name, sub_name),\n",
    "    'modelname': 'model_114-1.77.h5',\n",
    "}\n",
    "\n",
    "args = argparse.Namespace(**args)"
   ]
  },
  {
   "cell_type": "code",
   "execution_count": 5,
   "metadata": {
    "collapsed": true,
    "deletable": true,
    "editable": true
   },
   "outputs": [],
   "source": [
    "test = pd.read_csv(args.inputdir+'test.csv')\n",
    "test = transformDf(test)"
   ]
  },
  {
   "cell_type": "code",
   "execution_count": 6,
   "metadata": {
    "collapsed": true,
    "deletable": true,
    "editable": true
   },
   "outputs": [],
   "source": [
    "with open(args.inputdir+'parameters.pkl', \"rb\") as f:\n",
    "    maxlen = pickle.load(f)\n",
    "    num_features = pickle.load(f)\n",
    "    chartoindice = pickle.load(f)\n",
    "    targetchartoindice = pickle.load(f)\n",
    "    divisor = pickle.load(f)\n",
    "    divisor2 = pickle.load(f)"
   ]
  },
  {
   "cell_type": "code",
   "execution_count": 7,
   "metadata": {
    "collapsed": true,
    "deletable": true,
    "editable": true
   },
   "outputs": [],
   "source": [
    "with open(args.inputdir+'preprocessed_data.pkl', \"rb\") as f:\n",
    "    X = pickle.load(f)\n",
    "    y_a = pickle.load(f)\n",
    "    y_t = pickle.load(f)\n",
    "    X_test = pickle.load(f)\n",
    "    y_a_test = pickle.load(f)\n",
    "    y_t_test = pickle.load(f)"
   ]
  },
  {
   "cell_type": "markdown",
   "metadata": {},
   "source": [
    "# Load model"
   ]
  },
  {
   "cell_type": "code",
   "execution_count": 8,
   "metadata": {
    "collapsed": true
   },
   "outputs": [],
   "source": [
    "class AttLayer(Layer):\n",
    "    def __init__(self, **kwargs):\n",
    "        self.init = initializers.get('normal')\n",
    "        #self.input_spec = [InputSpec(ndim=3)]\n",
    "        super(AttLayer, self).__init__(** kwargs)\n",
    "\n",
    "    def build(self, input_shape):\n",
    "        assert len(input_shape)==3\n",
    "        #self.W = self.init((input_shape[-1],1))\n",
    "        self.W = K.variable(self.init((input_shape[-1],)))\n",
    "        #self.input_spec = [InputSpec(shape=input_shape)]\n",
    "        self.trainable_weights = [self.W]\n",
    "        super(AttLayer, self).build(input_shape)  # be sure you call this somewhere!\n",
    "\n",
    "    def call(self, x, mask=None):\n",
    "        eij = K.tanh(K.dot(x, self.W))\n",
    "\n",
    "        ai = K.exp(eij)\n",
    "        weights = ai/K.sum(ai, axis=1).dimshuffle(0,'x')\n",
    "\n",
    "        weighted_input = x*weights.dimshuffle(0,1,'x')\n",
    "        return weighted_input.sum(axis=1)\n",
    "\n",
    "    def compute_output_shape(self, input_shape):\n",
    "        return (input_shape[0], input_shape[-1])"
   ]
  },
  {
   "cell_type": "code",
   "execution_count": 9,
   "metadata": {
    "collapsed": true
   },
   "outputs": [],
   "source": [
    "class AttentionWithContext(Layer):\n",
    "    \"\"\"\n",
    "        Attention operation, with a context/query vector, for temporal data.\n",
    "        Supports Masking.\n",
    "        Follows the work of Yang et al. [https://www.cs.cmu.edu/~diyiy/docs/naacl16.pdf]\n",
    "        \"Hierarchical Attention Networks for Document Classification\"\n",
    "        by using a context vector to assist the attention\n",
    "        # Input shape\n",
    "            3D tensor with shape: `(samples, steps, features)`.\n",
    "        # Output shape\n",
    "            2D tensor with shape: `(samples, features)`.\n",
    "        :param kwargs:\n",
    "        Just put it on top of an RNN Layer (GRU/LSTM/SimpleRNN) with return_sequences=True.\n",
    "        The dimensions are inferred based on the output shape of the RNN.\n",
    "        Example:\n",
    "            model.add(LSTM(64, return_sequences=True))\n",
    "            model.add(AttentionWithContext())\n",
    "        \"\"\"\n",
    "\n",
    "    def __init__(self,\n",
    "                 W_regularizer=None, u_regularizer=None, b_regularizer=None,\n",
    "                 W_constraint=None, u_constraint=None, b_constraint=None,\n",
    "                 bias=True, **kwargs):\n",
    "\n",
    "        self.supports_masking = True\n",
    "        self.init = initializers.get('glorot_uniform')\n",
    "\n",
    "        self.W_regularizer = regularizers.get(W_regularizer)\n",
    "        self.u_regularizer = regularizers.get(u_regularizer)\n",
    "        self.b_regularizer = regularizers.get(b_regularizer)\n",
    "\n",
    "        self.W_constraint = constraints.get(W_constraint)\n",
    "        self.u_constraint = constraints.get(u_constraint)\n",
    "        self.b_constraint = constraints.get(b_constraint)\n",
    "\n",
    "        self.bias = bias\n",
    "        super(AttentionWithContext, self).__init__(**kwargs)\n",
    "\n",
    "    def build(self, input_shape):\n",
    "        assert len(input_shape) == 3\n",
    "\n",
    "        self.W = self.add_weight((input_shape[-1], input_shape[-1],),\n",
    "                                 initializer=self.init,\n",
    "                                 name='{}_W'.format(self.name),\n",
    "                                 regularizer=self.W_regularizer,\n",
    "                                 constraint=self.W_constraint)\n",
    "        if self.bias:\n",
    "            self.b = self.add_weight((input_shape[-1],),\n",
    "                                     initializer='zero',\n",
    "                                     name='{}_b'.format(self.name),\n",
    "                                     regularizer=self.b_regularizer,\n",
    "                                     constraint=self.b_constraint)\n",
    "\n",
    "        self.u = self.add_weight((input_shape[-1],),\n",
    "                                 initializer=self.init,\n",
    "                                 name='{}_u'.format(self.name),\n",
    "                                 regularizer=self.u_regularizer,\n",
    "                                 constraint=self.u_constraint)\n",
    "\n",
    "        super(AttentionWithContext, self).build(input_shape)\n",
    "\n",
    "    def compute_mask(self, input, input_mask=None):\n",
    "        # do not pass the mask to the next layers\n",
    "        return None\n",
    "\n",
    "    def call(self, x, mask=None):\n",
    "        uit = K.dot(x, self.W)\n",
    "\n",
    "        if self.bias:\n",
    "            uit += self.b\n",
    "\n",
    "        uit = K.tanh(uit)\n",
    "        ait = K.dot(uit, self.u)\n",
    "\n",
    "        a = K.exp(ait)\n",
    "\n",
    "        # apply mask after the exp. will be re-normalized next\n",
    "        if mask is not None:\n",
    "            # Cast the mask to floatX to avoid float64 upcasting in theano\n",
    "            a *= K.cast(mask, K.floatx())\n",
    "\n",
    "        # in some cases especially in the early stages of training the sum may be almost zero\n",
    "        # and this results in NaN's. A workaround is to add a very small positive number ε to the sum.\n",
    "        # a /= K.cast(K.sum(a, axis=1, keepdims=True), K.floatx())\n",
    "        a /= K.cast(K.sum(a, axis=1, keepdims=True) + K.epsilon(), K.floatx())\n",
    "\n",
    "        a = K.expand_dims(a)\n",
    "        weighted_input = x * a\n",
    "        return K.sum(weighted_input, axis=1)\n",
    "\n",
    "    def compute_output_shape(self, input_shape):\n",
    "        return input_shape[0], input_shape[-1]"
   ]
  },
  {
   "cell_type": "markdown",
   "metadata": {
    "deletable": true,
    "editable": true
   },
   "source": [
    "# Utils"
   ]
  },
  {
   "cell_type": "code",
   "execution_count": 10,
   "metadata": {
    "collapsed": false,
    "deletable": true,
    "editable": true
   },
   "outputs": [],
   "source": [
    "model = load_model(args.outputdir+args.modelname, custom_objects={'AttentionWithContext': AttentionWithContext})"
   ]
  },
  {
   "cell_type": "code",
   "execution_count": 11,
   "metadata": {
    "collapsed": false,
    "deletable": true,
    "editable": true
   },
   "outputs": [
    {
     "data": {
      "text/plain": [
       "8"
      ]
     },
     "execution_count": 11,
     "metadata": {},
     "output_type": "execute_result"
    }
   ],
   "source": [
    "test_groupByCase = test.groupby(['CaseID'])\n",
    "\n",
    "#get features all data\n",
    "sentences, sentences_t, sentences_t2, sentences_t3, sentences_t4 = getFeature(test_groupByCase)\n",
    "\n",
    "#get output all data\n",
    "next_chars, next_chars_t, next_chars_t2, next_chars_t3, next_chars_t4 = getOutput(test_groupByCase)\n",
    "\n",
    "# Check longest case --> suffix: 2 to 7\n",
    "test_len = findLongestLength(test_groupByCase)\n",
    "test_len - 5"
   ]
  },
  {
   "cell_type": "code",
   "execution_count": 12,
   "metadata": {
    "collapsed": false
   },
   "outputs": [],
   "source": [
    "def getSuffix(suffix, sentences, sentences_t, sentences_t2, sentences_t3, sentences_t4, next_chars, next_chars_t):\n",
    "    sentences_2 = []\n",
    "    sentences_t_2 = []\n",
    "    sentences_t2_2 = []\n",
    "    sentences_t3_2 = []\n",
    "    sentences_t4_2 = []\n",
    "    next_chars_2 = []\n",
    "    next_chars_t_2 = []\n",
    "\n",
    "    for i in range(len(sentences)):\n",
    "        if len(sentences[i]) == suffix and next_chars[i] != 'EOS':\n",
    "            sentences_2.append(sentences[i])\n",
    "            sentences_t_2.append(sentences_t[i])\n",
    "            sentences_t2_2.append(sentences_t2[i])\n",
    "            sentences_t3_2.append(sentences_t3[i])\n",
    "            sentences_t4_2.append(sentences_t4[i])\n",
    "            next_chars_2.append(next_chars[i])\n",
    "            next_chars_t_2.append(next_chars_t[i])\n",
    "    return sentences_2, sentences_t_2, sentences_t2_2, sentences_t3_2, sentences_t4_2, next_chars_2, next_chars_t_2"
   ]
  },
  {
   "cell_type": "code",
   "execution_count": 13,
   "metadata": {
    "collapsed": false,
    "deletable": true,
    "editable": true
   },
   "outputs": [],
   "source": [
    "def evalAct(true_label, pred_prob, targetchartoindice):\n",
    "    #for log-loss: get probabilities\n",
    "    gt_a = one_hot_encode(true_label, targetchartoindice)\n",
    "    log_loss = metrics.log_loss(gt_a, pred_prob)\n",
    "    print('Log-loss: {}'.format(log_loss))\n",
    "    \n",
    "    #for accuracy: get labels\n",
    "    gt_a_label = true_label\n",
    "    pred_a_label = getLabel(pred_prob, targetchartoindice)\n",
    "    acc = metrics.accuracy_score(gt_a_label, pred_a_label)\n",
    "    print('Accuracy: {}%'.format(acc*100))\n",
    "    acc_3 = get_top3_accuracy(pred_prob, gt_a_label, targetchartoindice)\n",
    "    print('Top 3 accuracy: {}%'.format(acc_3*100))"
   ]
  },
  {
   "cell_type": "code",
   "execution_count": 14,
   "metadata": {
    "collapsed": false,
    "deletable": true,
    "editable": true
   },
   "outputs": [],
   "source": [
    "def evalTime(true_time, pred_time, divisor):\n",
    "    #get time\n",
    "    gt_t = true_time\n",
    "    pred_t = inverseTime(pred_time, divisor)\n",
    "    \n",
    "    mse = metrics.mean_squared_error(gt_t, pred_t)\n",
    "    mae = metrics.mean_absolute_error(gt_t, pred_t)\n",
    "    median = metrics.median_absolute_error(gt_t, pred_t)\n",
    "    \n",
    "    print('Mean Squared Error: {0}s\\t| {1} days'.format(mse, mse/86400))\n",
    "    print('Mean Absolute Error: {0}s\\t| {1} days'.format(mae, mae/86400))\n",
    "    print('Median Absolute Error: {0}s\\t| {1} days'.format(median, median/86400))"
   ]
  },
  {
   "cell_type": "code",
   "execution_count": 15,
   "metadata": {
    "collapsed": true,
    "deletable": true,
    "editable": true
   },
   "outputs": [],
   "source": [
    "# DL distance\n",
    "#distance.nlevenshtein(gt_a_label, pred_a_label) #0.1731066460587326\n",
    "\n",
    "#damerau_levenshtein_distance(gt_a_label, pred_a_label) #784\n",
    "\n",
    "#distance.jaccard(gt_a_label, pred_a_label) #0.4444444444444444"
   ]
  },
  {
   "cell_type": "markdown",
   "metadata": {
    "deletable": true,
    "editable": true
   },
   "source": [
    "# Evaluation"
   ]
  },
  {
   "cell_type": "code",
   "execution_count": 16,
   "metadata": {
    "collapsed": true
   },
   "outputs": [],
   "source": [
    "max_suffix = 11"
   ]
  },
  {
   "cell_type": "code",
   "execution_count": 17,
   "metadata": {
    "collapsed": false
   },
   "outputs": [
    {
     "name": "stdout",
     "output_type": "stream",
     "text": [
      "----------Suffix 2------------\n",
      "Evaluation of Activity\n",
      "Log-loss: 0.7205273837720354\n",
      "Accuracy: 77.16666666666666%\n",
      "Top 3 accuracy: 96.25%\n",
      "Evaluation of Time\n",
      "Mean Squared Error: 372015185597.5445s\t| 4305731.314786395 days\n",
      "Mean Absolute Error: 293781.1405045064s\t| 3.4002446817651206 days\n",
      "Median Absolute Error: 24892.6435546875s\t| 0.2881093004014757 days\n",
      "\n",
      "\n",
      "----------Suffix 3------------\n",
      "Evaluation of Activity\n",
      "Log-loss: 1.6949198865321244\n",
      "Accuracy: 24.9438202247191%\n",
      "Top 3 accuracy: 93.25842696629213%\n",
      "Evaluation of Time\n",
      "Mean Squared Error: 532840271824.4129s\t| 6167132.775745519 days\n",
      "Mean Absolute Error: 427631.70528573456s\t| 4.949441033399705 days\n",
      "Median Absolute Error: 237007.9541015625s\t| 2.7431476169162328 days\n",
      "\n",
      "\n",
      "----------Suffix 4------------\n",
      "Evaluation of Activity\n",
      "Log-loss: 1.7410077984516437\n",
      "Accuracy: 3.5897435897435894%\n",
      "Top 3 accuracy: 82.56410256410255%\n",
      "Evaluation of Time\n",
      "Mean Squared Error: 262860696065.8372s\t| 3042369.1674286714 days\n",
      "Mean Absolute Error: 230031.05051613832s\t| 2.6623964180108604 days\n",
      "Median Absolute Error: 13451.4052734375s\t| 0.15568756103515624 days\n",
      "\n",
      "\n",
      "----------Suffix 5------------\n",
      "Evaluation of Activity\n",
      "Log-loss: 1.5957677431320876\n",
      "Accuracy: 1.1235955056179776%\n",
      "Top 3 accuracy: 93.25842696629213%\n",
      "Evaluation of Time\n",
      "Mean Squared Error: 558580250566.4291s\t| 6465049.196370707 days\n",
      "Mean Absolute Error: 352662.47784218093s\t| 4.081741641691909 days\n",
      "Median Absolute Error: 58985.900390625s\t| 0.6827071804470486 days\n",
      "\n",
      "\n",
      "----------Suffix 6------------\n",
      "Evaluation of Activity\n",
      "Log-loss: 1.518099225484408\n",
      "Accuracy: 0.0%\n",
      "Top 3 accuracy: 89.74358974358975%\n",
      "Evaluation of Time\n",
      "Mean Squared Error: 290069319671.2552s\t| 3357283.7924913797 days\n",
      "Mean Absolute Error: 205963.45755083134s\t| 2.383836314245733 days\n",
      "Median Absolute Error: 6886.9208984375s\t| 0.0797097326208044 days\n",
      "\n",
      "\n",
      "----------Suffix 7------------\n",
      "Evaluation of Activity\n",
      "Log-loss: 2.0667140007019045\n",
      "Accuracy: 0.0%\n",
      "Top 3 accuracy: 80.0%\n",
      "Evaluation of Time\n",
      "Mean Squared Error: 288802230949.318s\t| 3342618.4137652544 days\n",
      "Mean Absolute Error: 284954.11170654296s\t| 3.2980799966035064 days\n",
      "Median Absolute Error: 22240.5888671875s\t| 0.25741422299985534 days\n",
      "\n",
      "\n",
      "----------Suffix 8------------\n",
      "Evaluation of Activity\n",
      "Log-loss: 1.7552728652954102\n",
      "Accuracy: 0.0%\n",
      "Top 3 accuracy: 85.71428571428571%\n",
      "Evaluation of Time\n",
      "Mean Squared Error: 77533883404.75491s\t| 897382.909777256 days\n",
      "Mean Absolute Error: 162755.50130353656s\t| 1.8837442280501917 days\n",
      "Median Absolute Error: 47605.4365234375s\t| 0.550988848650897 days\n",
      "\n",
      "\n",
      "----------Suffix 9------------\n",
      "Evaluation of Activity\n",
      "Log-loss: 1.978410005569458\n",
      "Accuracy: 0.0%\n",
      "Top 3 accuracy: 75.0%\n",
      "Evaluation of Time\n",
      "Mean Squared Error: 292561965937.3024s\t| 3386133.8650150746 days\n",
      "Mean Absolute Error: 287181.4190673828s\t| 3.3238590169835973 days\n",
      "Median Absolute Error: 31141.338134765625s\t| 0.3604321543375651 days\n",
      "\n",
      "\n",
      "----------Suffix 10------------\n",
      "Evaluation of Activity\n",
      "Log-loss: 1.4391380151112874\n",
      "Accuracy: 0.0%\n",
      "Top 3 accuracy: 100.0%\n",
      "Evaluation of Time\n",
      "Mean Squared Error: 92357323636.96454s\t| 1068950.50505746 days\n",
      "Mean Absolute Error: 246717.0859375s\t| 2.8555218279803243 days\n",
      "Median Absolute Error: 330269.5625s\t| 3.822564380787037 days\n",
      "\n",
      "\n",
      "----------Suffix 11------------\n",
      "Evaluation of Activity\n",
      "Log-loss: 1.2857593297958374\n",
      "Accuracy: 0.0%\n",
      "Top 3 accuracy: 100.0%\n",
      "Evaluation of Time\n",
      "Mean Squared Error: 12120248464.0s\t| 140280.65351851852 days\n",
      "Mean Absolute Error: 110092.0s\t| 1.274212962962963 days\n",
      "Median Absolute Error: 110092.0s\t| 1.274212962962963 days\n",
      "\n",
      "\n"
     ]
    }
   ],
   "source": [
    "for i in range(2, max_suffix+1):\n",
    "    print('----------Suffix {}------------'.format(i))\n",
    "    sentences_2, sentences_t_2, sentences_t2_2, sentences_t3_2, sentences_t4_2, next_chars_2, next_chars_t_2 = getSuffix(i, sentences, sentences_t, sentences_t2, sentences_t3, sentences_t4, next_chars, next_chars_t)\n",
    "    X_test = vectorizeInput(sentences_2, sentences_t_2, sentences_t2_2, sentences_t3_2, sentences_t4_2, \n",
    "                        maxlen, num_features, chartoindice, \n",
    "                        divisor, divisor2, divisor3=86400, divisor4=7)\n",
    "    pred = model.predict(X_test, verbose=0)\n",
    "    pred_a = pred[0]\n",
    "    pred_t = pred[1]\n",
    "    print('Evaluation of Activity')\n",
    "    evalAct(next_chars_2, pred[0], targetchartoindice)\n",
    "    print('Evaluation of Time')\n",
    "    evalTime(next_chars_t_2, pred_t, divisor)\n",
    "    print('\\n')\n",
    "    #Add gt and pred of each suffix\n",
    "    if i == 2:\n",
    "        full_gt_a = next_chars_2\n",
    "        full_pred_a = pred_a\n",
    "        full_gt_t = next_chars_t_2\n",
    "        full_pred_t = pred_t\n",
    "    else:\n",
    "        full_gt_a += next_chars_2\n",
    "        full_pred_a = np.concatenate((full_pred_a, pred_a), axis=0)\n",
    "        full_gt_t += next_chars_t_2\n",
    "        full_pred_t = np.concatenate((full_pred_t, pred_t), axis=0)"
   ]
  },
  {
   "cell_type": "code",
   "execution_count": 18,
   "metadata": {
    "collapsed": false
   },
   "outputs": [
    {
     "name": "stdout",
     "output_type": "stream",
     "text": [
      "Log-loss: 1.106908576580758\n",
      "Accuracy: 52.43351731058705%\n",
      "Top 3 accuracy: 93.82839939789262%\n"
     ]
    }
   ],
   "source": [
    "evalAct(full_gt_a, full_pred_a, targetchartoindice)"
   ]
  },
  {
   "cell_type": "code",
   "execution_count": 19,
   "metadata": {
    "collapsed": false
   },
   "outputs": [
    {
     "name": "stdout",
     "output_type": "stream",
     "text": [
      "Mean Squared Error: 401759420349.1204s\t| 4649993.291077782 days\n",
      "Mean Absolute Error: 317660.2439743679s\t| 3.6766231941477767 days\n",
      "Median Absolute Error: 45308.9111328125s\t| 0.5244086936668113 days\n"
     ]
    }
   ],
   "source": [
    "evalTime(full_gt_t, full_pred_t, divisor)"
   ]
  },
  {
   "cell_type": "code",
   "execution_count": 20,
   "metadata": {
    "collapsed": false
   },
   "outputs": [
    {
     "data": {
      "text/plain": [
       "1993"
      ]
     },
     "execution_count": 20,
     "metadata": {},
     "output_type": "execute_result"
    }
   ],
   "source": [
    "len(full_gt_a)"
   ]
  },
  {
   "cell_type": "markdown",
   "metadata": {
    "deletable": true,
    "editable": true
   },
   "source": [
    "# Test single case"
   ]
  },
  {
   "cell_type": "markdown",
   "metadata": {},
   "source": [
    "## Predict"
   ]
  },
  {
   "cell_type": "code",
   "execution_count": null,
   "metadata": {
    "collapsed": true
   },
   "outputs": [],
   "source": [
    "sentences_2, sentences_t_2, sentences_t2_2, sentences_t3_2, sentences_t4_2, next_chars_2, next_chars_t_2 =  getSuffix(2, sentences, sentences_t, sentences_t2, sentences_t3, sentences_t4, next_chars, next_chars_t)"
   ]
  },
  {
   "cell_type": "code",
   "execution_count": null,
   "metadata": {
    "collapsed": true
   },
   "outputs": [],
   "source": [
    "len(sentences_2), len(next_chars_2)"
   ]
  },
  {
   "cell_type": "code",
   "execution_count": null,
   "metadata": {
    "collapsed": true
   },
   "outputs": [],
   "source": [
    "X_test = vectorizeInput(sentences_2, sentences_t_2, sentences_t2_2, sentences_t3_2, sentences_t4_2, \n",
    "                        maxlen, num_features, chartoindice, \n",
    "                        divisor, divisor2, divisor3=86400, divisor4=7)"
   ]
  },
  {
   "cell_type": "code",
   "execution_count": null,
   "metadata": {
    "collapsed": true
   },
   "outputs": [],
   "source": [
    "pred = model.predict(X_test, verbose=0)\n",
    "pred_a = pred[0]\n",
    "pred_t = pred[1]"
   ]
  },
  {
   "cell_type": "code",
   "execution_count": null,
   "metadata": {
    "collapsed": true
   },
   "outputs": [],
   "source": [
    "pred[0].shape, pred[1].shape"
   ]
  },
  {
   "cell_type": "markdown",
   "metadata": {},
   "source": [
    "## Evaluate"
   ]
  },
  {
   "cell_type": "markdown",
   "metadata": {
    "deletable": true,
    "editable": true
   },
   "source": [
    "### Activity"
   ]
  },
  {
   "cell_type": "code",
   "execution_count": 54,
   "metadata": {
    "collapsed": false,
    "deletable": true,
    "editable": true
   },
   "outputs": [
    {
     "name": "stdout",
     "output_type": "stream",
     "text": [
      "Log-loss: 0.8279025054504443\n",
      "Accuracy: 74.13249211356468%\n",
      "Top 3 accuracy: 96.45110410094637%\n"
     ]
    }
   ],
   "source": [
    "evalAct(next_chars_2, pred[0], targetchartoindice)"
   ]
  },
  {
   "cell_type": "markdown",
   "metadata": {
    "deletable": true,
    "editable": true
   },
   "source": [
    "### Time"
   ]
  },
  {
   "cell_type": "code",
   "execution_count": 55,
   "metadata": {
    "collapsed": false,
    "deletable": true,
    "editable": true
   },
   "outputs": [
    {
     "name": "stdout",
     "output_type": "stream",
     "text": [
      "Mean Squared Error: 352065377389.28595s\t| 4074830.7568204394 days\n",
      "Mean Absolute Error: 278174.0577465262s\t| 3.2196071498440535 days\n",
      "Median Absolute Error: 23685.9453125s\t| 0.2741428855613426 days\n"
     ]
    }
   ],
   "source": [
    "evalTime(next_chars_t_2, pred_t, divisor)"
   ]
  }
 ],
 "metadata": {
  "kernelspec": {
   "display_name": "Python 3",
   "language": "python",
   "name": "python3"
  },
  "language_info": {
   "codemirror_mode": {
    "name": "ipython",
    "version": 3
   },
   "file_extension": ".py",
   "mimetype": "text/x-python",
   "name": "python",
   "nbconvert_exporter": "python",
   "pygments_lexer": "ipython3",
   "version": "3.5.3"
  },
  "toc": {
   "colors": {
    "hover_highlight": "#DAA520",
    "running_highlight": "#FF0000",
    "selected_highlight": "#FFD700"
   },
   "moveMenuLeft": true,
   "nav_menu": {
    "height": "84px",
    "width": "252px"
   },
   "navigate_menu": true,
   "number_sections": true,
   "sideBar": true,
   "threshold": 4,
   "toc_cell": false,
   "toc_section_display": "block",
   "toc_window_display": false
  }
 },
 "nbformat": 4,
 "nbformat_minor": 2
}
