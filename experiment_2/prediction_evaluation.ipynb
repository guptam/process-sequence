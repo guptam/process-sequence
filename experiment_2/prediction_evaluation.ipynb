{
 "cells": [
  {
   "cell_type": "code",
   "execution_count": 1,
   "metadata": {
    "collapsed": true,
    "deletable": true,
    "editable": true
   },
   "outputs": [],
   "source": [
    "import os\n",
    "import argparse\n",
    "import pandas as pd\n",
    "import numpy as np\n",
    "import pickle\n",
    "from utils_test import *"
   ]
  },
  {
   "cell_type": "code",
   "execution_count": 2,
   "metadata": {
    "collapsed": false,
    "deletable": true,
    "editable": true
   },
   "outputs": [],
   "source": [
    "from jellyfish._jellyfish import damerau_levenshtein_distance\n",
    "import distance\n",
    "from sklearn import metrics"
   ]
  },
  {
   "cell_type": "code",
   "execution_count": 3,
   "metadata": {
    "collapsed": false,
    "deletable": true,
    "editable": true
   },
   "outputs": [
    {
     "name": "stderr",
     "output_type": "stream",
     "text": [
      "Using Theano backend.\n"
     ]
    }
   ],
   "source": [
    "from keras.models import load_model\n",
    "from keras import backend as K\n",
    "from keras.engine.topology import Layer, InputSpec\n",
    "from keras import initializers, regularizers, constraints"
   ]
  },
  {
   "cell_type": "code",
   "execution_count": 4,
   "metadata": {
    "collapsed": true,
    "deletable": true,
    "editable": true
   },
   "outputs": [],
   "source": [
    "name = 'helpdesk'\n",
    "sub_name = 'activity-time'\n",
    "args = {\n",
    "    'inputdir': '../input/{}/'.format(name),   \n",
    "    'outputdir': './output_files/{0}_{1}/'.format(name, sub_name),\n",
    "    'modelname': 'model_33-1.51.h5',\n",
    "}\n",
    "\n",
    "args = argparse.Namespace(**args)"
   ]
  },
  {
   "cell_type": "code",
   "execution_count": 5,
   "metadata": {
    "collapsed": true,
    "deletable": true,
    "editable": true
   },
   "outputs": [],
   "source": [
    "test = pd.read_csv(args.inputdir+'test.csv')\n",
    "test = transformDf(test)"
   ]
  },
  {
   "cell_type": "code",
   "execution_count": 6,
   "metadata": {
    "collapsed": true,
    "deletable": true,
    "editable": true
   },
   "outputs": [],
   "source": [
    "with open(args.inputdir+'parameters.pkl', \"rb\") as f:\n",
    "    maxlen = pickle.load(f)\n",
    "    num_features = pickle.load(f)\n",
    "    chartoindice = pickle.load(f)\n",
    "    targetchartoindice = pickle.load(f)\n",
    "    divisor = pickle.load(f)\n",
    "    divisor2 = pickle.load(f)"
   ]
  },
  {
   "cell_type": "code",
   "execution_count": 7,
   "metadata": {
    "collapsed": true,
    "deletable": true,
    "editable": true
   },
   "outputs": [],
   "source": [
    "with open(args.inputdir+'preprocessed_data.pkl', \"rb\") as f:\n",
    "    X = pickle.load(f)\n",
    "    y_a = pickle.load(f)\n",
    "    y_t = pickle.load(f)\n",
    "    X_test = pickle.load(f)\n",
    "    y_a_test = pickle.load(f)\n",
    "    y_t_test = pickle.load(f)"
   ]
  },
  {
   "cell_type": "markdown",
   "metadata": {},
   "source": [
    "# Load model"
   ]
  },
  {
   "cell_type": "code",
   "execution_count": 8,
   "metadata": {
    "collapsed": true
   },
   "outputs": [],
   "source": [
    "class AttLayer(Layer):\n",
    "    def __init__(self, **kwargs):\n",
    "        self.init = initializers.get('normal')\n",
    "        #self.input_spec = [InputSpec(ndim=3)]\n",
    "        super(AttLayer, self).__init__(** kwargs)\n",
    "\n",
    "    def build(self, input_shape):\n",
    "        assert len(input_shape)==3\n",
    "        #self.W = self.init((input_shape[-1],1))\n",
    "        self.W = K.variable(self.init((input_shape[-1],)))\n",
    "        #self.input_spec = [InputSpec(shape=input_shape)]\n",
    "        self.trainable_weights = [self.W]\n",
    "        super(AttLayer, self).build(input_shape)  # be sure you call this somewhere!\n",
    "\n",
    "    def call(self, x, mask=None):\n",
    "        eij = K.tanh(K.dot(x, self.W))\n",
    "\n",
    "        ai = K.exp(eij)\n",
    "        weights = ai/K.sum(ai, axis=1).dimshuffle(0,'x')\n",
    "\n",
    "        weighted_input = x*weights.dimshuffle(0,1,'x')\n",
    "        return weighted_input.sum(axis=1)\n",
    "\n",
    "    def compute_output_shape(self, input_shape):\n",
    "        return (input_shape[0], input_shape[-1])"
   ]
  },
  {
   "cell_type": "code",
   "execution_count": 9,
   "metadata": {
    "collapsed": true
   },
   "outputs": [],
   "source": [
    "class AttentionWithContext(Layer):\n",
    "    \"\"\"\n",
    "        Attention operation, with a context/query vector, for temporal data.\n",
    "        Supports Masking.\n",
    "        Follows the work of Yang et al. [https://www.cs.cmu.edu/~diyiy/docs/naacl16.pdf]\n",
    "        \"Hierarchical Attention Networks for Document Classification\"\n",
    "        by using a context vector to assist the attention\n",
    "        # Input shape\n",
    "            3D tensor with shape: `(samples, steps, features)`.\n",
    "        # Output shape\n",
    "            2D tensor with shape: `(samples, features)`.\n",
    "        :param kwargs:\n",
    "        Just put it on top of an RNN Layer (GRU/LSTM/SimpleRNN) with return_sequences=True.\n",
    "        The dimensions are inferred based on the output shape of the RNN.\n",
    "        Example:\n",
    "            model.add(LSTM(64, return_sequences=True))\n",
    "            model.add(AttentionWithContext())\n",
    "        \"\"\"\n",
    "\n",
    "    def __init__(self,\n",
    "                 W_regularizer=None, u_regularizer=None, b_regularizer=None,\n",
    "                 W_constraint=None, u_constraint=None, b_constraint=None,\n",
    "                 bias=True, **kwargs):\n",
    "\n",
    "        self.supports_masking = True\n",
    "        self.init = initializers.get('glorot_uniform')\n",
    "\n",
    "        self.W_regularizer = regularizers.get(W_regularizer)\n",
    "        self.u_regularizer = regularizers.get(u_regularizer)\n",
    "        self.b_regularizer = regularizers.get(b_regularizer)\n",
    "\n",
    "        self.W_constraint = constraints.get(W_constraint)\n",
    "        self.u_constraint = constraints.get(u_constraint)\n",
    "        self.b_constraint = constraints.get(b_constraint)\n",
    "\n",
    "        self.bias = bias\n",
    "        super(AttentionWithContext, self).__init__(**kwargs)\n",
    "\n",
    "    def build(self, input_shape):\n",
    "        assert len(input_shape) == 3\n",
    "\n",
    "        self.W = self.add_weight((input_shape[-1], input_shape[-1],),\n",
    "                                 initializer=self.init,\n",
    "                                 name='{}_W'.format(self.name),\n",
    "                                 regularizer=self.W_regularizer,\n",
    "                                 constraint=self.W_constraint)\n",
    "        if self.bias:\n",
    "            self.b = self.add_weight((input_shape[-1],),\n",
    "                                     initializer='zero',\n",
    "                                     name='{}_b'.format(self.name),\n",
    "                                     regularizer=self.b_regularizer,\n",
    "                                     constraint=self.b_constraint)\n",
    "\n",
    "        self.u = self.add_weight((input_shape[-1],),\n",
    "                                 initializer=self.init,\n",
    "                                 name='{}_u'.format(self.name),\n",
    "                                 regularizer=self.u_regularizer,\n",
    "                                 constraint=self.u_constraint)\n",
    "\n",
    "        super(AttentionWithContext, self).build(input_shape)\n",
    "\n",
    "    def compute_mask(self, input, input_mask=None):\n",
    "        # do not pass the mask to the next layers\n",
    "        return None\n",
    "\n",
    "    def call(self, x, mask=None):\n",
    "        uit = K.dot(x, self.W)\n",
    "\n",
    "        if self.bias:\n",
    "            uit += self.b\n",
    "\n",
    "        uit = K.tanh(uit)\n",
    "        ait = K.dot(uit, self.u)\n",
    "\n",
    "        a = K.exp(ait)\n",
    "\n",
    "        # apply mask after the exp. will be re-normalized next\n",
    "        if mask is not None:\n",
    "            # Cast the mask to floatX to avoid float64 upcasting in theano\n",
    "            a *= K.cast(mask, K.floatx())\n",
    "\n",
    "        # in some cases especially in the early stages of training the sum may be almost zero\n",
    "        # and this results in NaN's. A workaround is to add a very small positive number ε to the sum.\n",
    "        # a /= K.cast(K.sum(a, axis=1, keepdims=True), K.floatx())\n",
    "        a /= K.cast(K.sum(a, axis=1, keepdims=True) + K.epsilon(), K.floatx())\n",
    "\n",
    "        a = K.expand_dims(a)\n",
    "        weighted_input = x * a\n",
    "        return K.sum(weighted_input, axis=1)\n",
    "\n",
    "    def compute_output_shape(self, input_shape):\n",
    "        return input_shape[0], input_shape[-1]"
   ]
  },
  {
   "cell_type": "markdown",
   "metadata": {
    "deletable": true,
    "editable": true
   },
   "source": [
    "# Utils"
   ]
  },
  {
   "cell_type": "code",
   "execution_count": 11,
   "metadata": {
    "collapsed": false,
    "deletable": true,
    "editable": true
   },
   "outputs": [],
   "source": [
    "model = load_model(args.outputdir+args.modelname, custom_objects={'AttLayer': AttLayer})\n",
    "#model = load_model(args.outputdir+args.modelname, custom_objects={'AttentionWithContext': AttentionWithContext})"
   ]
  },
  {
   "cell_type": "code",
   "execution_count": 12,
   "metadata": {
    "collapsed": false,
    "deletable": true,
    "editable": true
   },
   "outputs": [
    {
     "data": {
      "text/plain": [
       "8"
      ]
     },
     "execution_count": 12,
     "metadata": {},
     "output_type": "execute_result"
    }
   ],
   "source": [
    "test_groupByCase = test.groupby(['CaseID'])\n",
    "\n",
    "#get features all data\n",
    "sentences, sentences_t, sentences_t2, sentences_t3, sentences_t4 = getFeature(test_groupByCase)\n",
    "\n",
    "#get output all data\n",
    "next_chars, next_chars_t, next_chars_t2, next_chars_t3, next_chars_t4 = getOutput(test_groupByCase)\n",
    "\n",
    "# Check longest case --> suffix: 2 to 7\n",
    "test_len = findLongestLength(test_groupByCase)\n",
    "test_len - 5"
   ]
  },
  {
   "cell_type": "code",
   "execution_count": 13,
   "metadata": {
    "collapsed": false
   },
   "outputs": [],
   "source": [
    "def getSuffix(suffix, sentences, sentences_t, sentences_t2, sentences_t3, sentences_t4, next_chars, next_chars_t):\n",
    "    sentences_2 = []\n",
    "    sentences_t_2 = []\n",
    "    sentences_t2_2 = []\n",
    "    sentences_t3_2 = []\n",
    "    sentences_t4_2 = []\n",
    "    next_chars_2 = []\n",
    "    next_chars_t_2 = []\n",
    "\n",
    "    for i in range(len(sentences)):\n",
    "        if len(sentences[i]) == suffix and next_chars[i] != 'EOS':\n",
    "            sentences_2.append(sentences[i])\n",
    "            sentences_t_2.append(sentences_t[i])\n",
    "            sentences_t2_2.append(sentences_t2[i])\n",
    "            sentences_t3_2.append(sentences_t3[i])\n",
    "            sentences_t4_2.append(sentences_t4[i])\n",
    "            next_chars_2.append(next_chars[i])\n",
    "            next_chars_t_2.append(next_chars_t[i])\n",
    "    return sentences_2, sentences_t_2, sentences_t2_2, sentences_t3_2, sentences_t4_2, next_chars_2, next_chars_t_2"
   ]
  },
  {
   "cell_type": "code",
   "execution_count": 14,
   "metadata": {
    "collapsed": false,
    "deletable": true,
    "editable": true
   },
   "outputs": [],
   "source": [
    "def evalAct(true_label, pred_prob, targetchartoindice):\n",
    "    #for log-loss: get probabilities\n",
    "    gt_a = one_hot_encode(true_label, targetchartoindice)\n",
    "    log_loss = metrics.log_loss(gt_a, pred_prob)\n",
    "    print('Log-loss: {}'.format(log_loss))\n",
    "    \n",
    "    #for accuracy: get labels\n",
    "    gt_a_label = true_label\n",
    "    pred_a_label = getLabel(pred_prob, targetchartoindice)\n",
    "    acc = metrics.accuracy_score(gt_a_label, pred_a_label)\n",
    "    print('Accuracy: {}%'.format(acc*100))\n",
    "    acc_3 = get_top3_accuracy(pred_prob, gt_a_label, targetchartoindice)\n",
    "    print('Top 3 accuracy: {}%'.format(acc_3*100))"
   ]
  },
  {
   "cell_type": "code",
   "execution_count": 15,
   "metadata": {
    "collapsed": false,
    "deletable": true,
    "editable": true
   },
   "outputs": [],
   "source": [
    "def evalTime(true_time, pred_time, divisor):\n",
    "    #get time\n",
    "    gt_t = true_time\n",
    "    pred_t = inverseTime(pred_time, divisor)\n",
    "    \n",
    "    mse = metrics.mean_squared_error(gt_t, pred_t)\n",
    "    mae = metrics.mean_absolute_error(gt_t, pred_t)\n",
    "    median = metrics.median_absolute_error(gt_t, pred_t)\n",
    "    \n",
    "    print('Mean Squared Error: {0}s\\t| {1} days'.format(mse, mse/86400))\n",
    "    print('Mean Absolute Error: {0}s\\t| {1} days'.format(mae, mae/86400))\n",
    "    print('Median Absolute Error: {0}s\\t| {1} days'.format(median, median/86400))"
   ]
  },
  {
   "cell_type": "code",
   "execution_count": 16,
   "metadata": {
    "collapsed": true,
    "deletable": true,
    "editable": true
   },
   "outputs": [],
   "source": [
    "# DL distance\n",
    "#distance.nlevenshtein(gt_a_label, pred_a_label) #0.1731066460587326\n",
    "\n",
    "#damerau_levenshtein_distance(gt_a_label, pred_a_label) #784\n",
    "\n",
    "#distance.jaccard(gt_a_label, pred_a_label) #0.4444444444444444"
   ]
  },
  {
   "cell_type": "markdown",
   "metadata": {
    "deletable": true,
    "editable": true
   },
   "source": [
    "# Evaluation"
   ]
  },
  {
   "cell_type": "code",
   "execution_count": 17,
   "metadata": {
    "collapsed": true
   },
   "outputs": [],
   "source": [
    "max_suffix = 11"
   ]
  },
  {
   "cell_type": "code",
   "execution_count": 18,
   "metadata": {
    "collapsed": false
   },
   "outputs": [
    {
     "name": "stdout",
     "output_type": "stream",
     "text": [
      "----------Suffix 2------------\n",
      "Evaluation of Activity\n",
      "Log-loss: 0.6865805017327269\n",
      "Accuracy: 76.75%\n",
      "Top 3 accuracy: 98.75%\n",
      "Evaluation of Time\n",
      "Mean Squared Error: 367552253146.4725s\t| 4254077.004010098 days\n",
      "Mean Absolute Error: 292663.7551888275s\t| 3.38731198135217 days\n",
      "Median Absolute Error: 36959.423828125s\t| 0.42777110912181715 days\n",
      "\n",
      "\n",
      "----------Suffix 3------------\n",
      "Evaluation of Activity\n",
      "Log-loss: 1.1647142244858688\n",
      "Accuracy: 57.078651685393254%\n",
      "Top 3 accuracy: 98.87640449438202%\n",
      "Evaluation of Time\n",
      "Mean Squared Error: 541842365391.3339s\t| 6271323.673510809 days\n",
      "Mean Absolute Error: 412551.466673536s\t| 4.774901234647407 days\n",
      "Median Absolute Error: 190514.546875s\t| 2.2050294777199073 days\n",
      "\n",
      "\n",
      "----------Suffix 4------------\n",
      "Evaluation of Activity\n",
      "Log-loss: 0.9586668748886157\n",
      "Accuracy: 68.2051282051282%\n",
      "Top 3 accuracy: 98.97435897435898%\n",
      "Evaluation of Time\n",
      "Mean Squared Error: 283052751103.26776s\t| 3276073.508139673 days\n",
      "Mean Absolute Error: 231364.01161913015s\t| 2.677824208554747 days\n",
      "Median Absolute Error: 12560.486328125s\t| 0.14537599916811342 days\n",
      "\n",
      "\n",
      "----------Suffix 5------------\n",
      "Evaluation of Activity\n",
      "Log-loss: 0.8745433131463072\n",
      "Accuracy: 68.53932584269663%\n",
      "Top 3 accuracy: 100.0%\n",
      "Evaluation of Time\n",
      "Mean Squared Error: 544964657041.74774s\t| 6307461.308353562 days\n",
      "Mean Absolute Error: 342889.24853438477s\t| 3.9686255617405646 days\n",
      "Median Absolute Error: 35446.5s\t| 0.4102604166666667 days\n",
      "\n",
      "\n",
      "----------Suffix 6------------\n",
      "Evaluation of Activity\n",
      "Log-loss: 0.7772968012170914\n",
      "Accuracy: 76.92307692307693%\n",
      "Top 3 accuracy: 100.0%\n",
      "Evaluation of Time\n",
      "Mean Squared Error: 278783605682.3725s\t| 3226662.1028052373 days\n",
      "Mean Absolute Error: 194746.52826680892s\t| 2.254010743828807 days\n",
      "Median Absolute Error: 226.35031127929688s\t| 0.0026197952694363064 days\n",
      "\n",
      "\n",
      "----------Suffix 7------------\n",
      "Evaluation of Activity\n",
      "Log-loss: 1.2243820913136005\n",
      "Accuracy: 70.0%\n",
      "Top 3 accuracy: 90.0%\n",
      "Evaluation of Time\n",
      "Mean Squared Error: 344011062928.76105s\t| 3981609.524638438 days\n",
      "Mean Absolute Error: 320193.8382171631s\t| 3.705947201587536 days\n",
      "Median Absolute Error: 30368.3896484375s\t| 0.35148599130135993 days\n",
      "\n",
      "\n",
      "----------Suffix 8------------\n",
      "Evaluation of Activity\n",
      "Log-loss: 1.3252723078642572\n",
      "Accuracy: 71.42857142857143%\n",
      "Top 3 accuracy: 100.0%\n",
      "Evaluation of Time\n",
      "Mean Squared Error: 24197739268.933502s\t| 280066.42672376736 days\n",
      "Mean Absolute Error: 91583.01126670837s\t| 1.0599885563276432 days\n",
      "Median Absolute Error: 61127.0s\t| 0.707488425925926 days\n",
      "\n",
      "\n",
      "----------Suffix 9------------\n",
      "Evaluation of Activity\n",
      "Log-loss: 0.9874682351946831\n",
      "Accuracy: 75.0%\n",
      "Top 3 accuracy: 100.0%\n",
      "Evaluation of Time\n",
      "Mean Squared Error: 366684407202.055s\t| 4244032.490764526 days\n",
      "Mean Absolute Error: 304556.19181251526s\t| 3.5249559237559636 days\n",
      "Median Absolute Error: 3539.7812881469727s\t| 0.040969690835034406 days\n",
      "\n",
      "\n",
      "----------Suffix 10------------\n",
      "Evaluation of Activity\n",
      "Log-loss: 0.2273972680171331\n",
      "Accuracy: 100.0%\n",
      "Top 3 accuracy: 100.0%\n",
      "Evaluation of Time\n",
      "Mean Squared Error: 77777354173.58855s\t| 900200.8584906082 days\n",
      "Mean Absolute Error: 205070.70833333334s\t| 2.3735035686728394 days\n",
      "Median Absolute Error: 159115.125s\t| 1.8416102430555557 days\n",
      "\n",
      "\n",
      "----------Suffix 11------------\n",
      "Evaluation of Activity\n",
      "Log-loss: 0.873542845249176\n",
      "Accuracy: 100.0%\n",
      "Top 3 accuracy: 100.0%\n",
      "Evaluation of Time\n",
      "Mean Squared Error: 12027282787.012428s\t| 139204.66188671792 days\n",
      "Mean Absolute Error: 109668.96911621094s\t| 1.2693167721783674 days\n",
      "Median Absolute Error: 109668.96911621094s\t| 1.2693167721783674 days\n",
      "\n",
      "\n"
     ]
    }
   ],
   "source": [
    "for i in range(2, max_suffix+1):\n",
    "    print('----------Suffix {}------------'.format(i))\n",
    "    sentences_2, sentences_t_2, sentences_t2_2, sentences_t3_2, sentences_t4_2, next_chars_2, next_chars_t_2 = getSuffix(i, sentences, sentences_t, sentences_t2, sentences_t3, sentences_t4, next_chars, next_chars_t)\n",
    "    X_test = vectorizeInput(sentences_2, sentences_t_2, sentences_t2_2, sentences_t3_2, sentences_t4_2, \n",
    "                        maxlen, num_features, chartoindice, \n",
    "                        divisor, divisor2, divisor3=86400, divisor4=7)\n",
    "    pred = model.predict(X_test, verbose=0)\n",
    "    pred_a = pred[0]\n",
    "    pred_t = pred[1]\n",
    "    print('Evaluation of Activity')\n",
    "    evalAct(next_chars_2, pred[0], targetchartoindice)\n",
    "    print('Evaluation of Time')\n",
    "    evalTime(next_chars_t_2, pred_t, divisor)\n",
    "    print('\\n')\n",
    "    #Add gt and pred of each suffix\n",
    "    if i == 2:\n",
    "        full_gt_a = next_chars_2\n",
    "        full_pred_a = pred_a\n",
    "        full_gt_t = next_chars_t_2\n",
    "        full_pred_t = pred_t\n",
    "    else:\n",
    "        full_gt_a += next_chars_2\n",
    "        full_pred_a = np.concatenate((full_pred_a, pred_a), axis=0)\n",
    "        full_gt_t += next_chars_t_2\n",
    "        full_pred_t = np.concatenate((full_pred_t, pred_t), axis=0)"
   ]
  },
  {
   "cell_type": "code",
   "execution_count": 19,
   "metadata": {
    "collapsed": false
   },
   "outputs": [
    {
     "name": "stdout",
     "output_type": "stream",
     "text": [
      "Log-loss: 0.835077640418724\n",
      "Accuracy: 71.1490215755143%\n",
      "Top 3 accuracy: 98.84596086302058%\n"
     ]
    }
   ],
   "source": [
    "evalAct(full_gt_a, full_pred_a, targetchartoindice)"
   ]
  },
  {
   "cell_type": "code",
   "execution_count": 20,
   "metadata": {
    "collapsed": false
   },
   "outputs": [
    {
     "name": "stdout",
     "output_type": "stream",
     "text": [
      "Mean Squared Error: 402445484052.51483s\t| 4657933.843200403 days\n",
      "Mean Absolute Error: 312993.61475485074s\t| 3.6226112818848466 days\n",
      "Median Absolute Error: 42486.68359375s\t| 0.49174402307581017 days\n"
     ]
    }
   ],
   "source": [
    "evalTime(full_gt_t, full_pred_t, divisor)"
   ]
  },
  {
   "cell_type": "code",
   "execution_count": 21,
   "metadata": {
    "collapsed": false
   },
   "outputs": [
    {
     "data": {
      "text/plain": [
       "1993"
      ]
     },
     "execution_count": 21,
     "metadata": {},
     "output_type": "execute_result"
    }
   ],
   "source": [
    "len(full_gt_a)"
   ]
  },
  {
   "cell_type": "markdown",
   "metadata": {
    "deletable": true,
    "editable": true
   },
   "source": [
    "# Test single case"
   ]
  },
  {
   "cell_type": "markdown",
   "metadata": {},
   "source": [
    "## Predict"
   ]
  },
  {
   "cell_type": "code",
   "execution_count": null,
   "metadata": {
    "collapsed": true
   },
   "outputs": [],
   "source": [
    "sentences_2, sentences_t_2, sentences_t2_2, sentences_t3_2, sentences_t4_2, next_chars_2, next_chars_t_2 =  getSuffix(2, sentences, sentences_t, sentences_t2, sentences_t3, sentences_t4, next_chars, next_chars_t)"
   ]
  },
  {
   "cell_type": "code",
   "execution_count": null,
   "metadata": {
    "collapsed": true
   },
   "outputs": [],
   "source": [
    "len(sentences_2), len(next_chars_2)"
   ]
  },
  {
   "cell_type": "code",
   "execution_count": null,
   "metadata": {
    "collapsed": true
   },
   "outputs": [],
   "source": [
    "X_test = vectorizeInput(sentences_2, sentences_t_2, sentences_t2_2, sentences_t3_2, sentences_t4_2, \n",
    "                        maxlen, num_features, chartoindice, \n",
    "                        divisor, divisor2, divisor3=86400, divisor4=7)"
   ]
  },
  {
   "cell_type": "code",
   "execution_count": null,
   "metadata": {
    "collapsed": true
   },
   "outputs": [],
   "source": [
    "pred = model.predict(X_test, verbose=0)\n",
    "pred_a = pred[0]\n",
    "pred_t = pred[1]"
   ]
  },
  {
   "cell_type": "code",
   "execution_count": null,
   "metadata": {
    "collapsed": true
   },
   "outputs": [],
   "source": [
    "pred[0].shape, pred[1].shape"
   ]
  },
  {
   "cell_type": "markdown",
   "metadata": {},
   "source": [
    "## Evaluate"
   ]
  },
  {
   "cell_type": "markdown",
   "metadata": {
    "deletable": true,
    "editable": true
   },
   "source": [
    "### Activity"
   ]
  },
  {
   "cell_type": "code",
   "execution_count": 54,
   "metadata": {
    "collapsed": false,
    "deletable": true,
    "editable": true
   },
   "outputs": [
    {
     "name": "stdout",
     "output_type": "stream",
     "text": [
      "Log-loss: 0.8279025054504443\n",
      "Accuracy: 74.13249211356468%\n",
      "Top 3 accuracy: 96.45110410094637%\n"
     ]
    }
   ],
   "source": [
    "evalAct(next_chars_2, pred[0], targetchartoindice)"
   ]
  },
  {
   "cell_type": "markdown",
   "metadata": {
    "deletable": true,
    "editable": true
   },
   "source": [
    "### Time"
   ]
  },
  {
   "cell_type": "code",
   "execution_count": 55,
   "metadata": {
    "collapsed": false,
    "deletable": true,
    "editable": true
   },
   "outputs": [
    {
     "name": "stdout",
     "output_type": "stream",
     "text": [
      "Mean Squared Error: 352065377389.28595s\t| 4074830.7568204394 days\n",
      "Mean Absolute Error: 278174.0577465262s\t| 3.2196071498440535 days\n",
      "Median Absolute Error: 23685.9453125s\t| 0.2741428855613426 days\n"
     ]
    }
   ],
   "source": [
    "evalTime(next_chars_t_2, pred_t, divisor)"
   ]
  }
 ],
 "metadata": {
  "kernelspec": {
   "display_name": "Python 3",
   "language": "python",
   "name": "python3"
  },
  "language_info": {
   "codemirror_mode": {
    "name": "ipython",
    "version": 3
   },
   "file_extension": ".py",
   "mimetype": "text/x-python",
   "name": "python",
   "nbconvert_exporter": "python",
   "pygments_lexer": "ipython3",
   "version": "3.5.3"
  },
  "toc": {
   "colors": {
    "hover_highlight": "#DAA520",
    "running_highlight": "#FF0000",
    "selected_highlight": "#FFD700"
   },
   "moveMenuLeft": true,
   "nav_menu": {
    "height": "84px",
    "width": "252px"
   },
   "navigate_menu": true,
   "number_sections": true,
   "sideBar": true,
   "threshold": 4,
   "toc_cell": false,
   "toc_section_display": "block",
   "toc_window_display": false
  }
 },
 "nbformat": 4,
 "nbformat_minor": 2
}
