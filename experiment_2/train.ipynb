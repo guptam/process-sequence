{
 "cells": [
  {
   "cell_type": "markdown",
   "metadata": {
    "deletable": true,
    "editable": true
   },
   "source": [
    "**Modification:**\n",
    "- Apply attention for time"
   ]
  },
  {
   "cell_type": "code",
   "execution_count": 1,
   "metadata": {
    "collapsed": true,
    "deletable": true,
    "editable": true
   },
   "outputs": [],
   "source": [
    "import os\n",
    "import argparse\n",
    "import pandas as pd\n",
    "import numpy as np\n",
    "import pickle\n",
    "import matplotlib.pyplot as plt\n",
    "import seaborn as sns\n",
    "\n",
    "%matplotlib inline"
   ]
  },
  {
   "cell_type": "code",
   "execution_count": 2,
   "metadata": {
    "collapsed": false,
    "deletable": true,
    "editable": true
   },
   "outputs": [
    {
     "name": "stderr",
     "output_type": "stream",
     "text": [
      "Using Theano backend.\n"
     ]
    }
   ],
   "source": [
    "from keras.models import Sequential, Model\n",
    "from keras.layers.core import Dense\n",
    "from keras.layers.recurrent import LSTM\n",
    "from keras.layers.wrappers import Bidirectional\n",
    "from keras.layers import Input, Reshape, Flatten, merge\n",
    "from keras import optimizers, regularizers\n",
    "from keras.callbacks import EarlyStopping, ModelCheckpoint, ReduceLROnPlateau, History\n",
    "from keras.layers.normalization import BatchNormalization"
   ]
  },
  {
   "cell_type": "code",
   "execution_count": 3,
   "metadata": {
    "collapsed": false,
    "deletable": true,
    "editable": true
   },
   "outputs": [],
   "source": [
    "name = 'helpdesk'\n",
    "sub_name = 'blstm_att' #activity-time\n",
    "args = {\n",
    "    'inputdir': '../input/{}/'.format(name),   \n",
    "    'outputdir': './output_files/{0}_{1}/'.format(name, sub_name)\n",
    "}\n",
    "\n",
    "args = argparse.Namespace(**args)"
   ]
  },
  {
   "cell_type": "code",
   "execution_count": 4,
   "metadata": {
    "collapsed": false,
    "deletable": true,
    "editable": true
   },
   "outputs": [],
   "source": [
    "if not os.path.isdir(args.outputdir):\n",
    "    os.makedirs(args.outputdir)"
   ]
  },
  {
   "cell_type": "code",
   "execution_count": 5,
   "metadata": {
    "collapsed": true,
    "deletable": true,
    "editable": true
   },
   "outputs": [],
   "source": [
    "with open(args.inputdir + 'parameters.pkl', \"rb\") as f:\n",
    "    maxlen = pickle.load(f)\n",
    "    num_features = pickle.load(f)\n",
    "    chartoindice = pickle.load(f)\n",
    "    targetchartoindice = pickle.load(f)\n",
    "    divisor = pickle.load(f)\n",
    "    divisor2 = pickle.load(f)"
   ]
  },
  {
   "cell_type": "code",
   "execution_count": 6,
   "metadata": {
    "collapsed": true,
    "deletable": true,
    "editable": true
   },
   "outputs": [],
   "source": [
    "with open(args.inputdir + 'preprocessed_data.pkl', \"rb\") as f:\n",
    "    X = pickle.load(f)\n",
    "    y_a = pickle.load(f)\n",
    "    y_t = pickle.load(f)\n",
    "    X_test = pickle.load(f)\n",
    "    y_a_test = pickle.load(f)\n",
    "    y_t_test = pickle.load(f)"
   ]
  },
  {
   "cell_type": "markdown",
   "metadata": {},
   "source": [
    "# Customized layer"
   ]
  },
  {
   "cell_type": "code",
   "execution_count": 7,
   "metadata": {
    "collapsed": false,
    "deletable": true,
    "editable": true
   },
   "outputs": [],
   "source": [
    "from keras import backend as K\n",
    "from keras.engine.topology import Layer, InputSpec\n",
    "from keras import initializers, regularizers, constraints"
   ]
  },
  {
   "cell_type": "code",
   "execution_count": 8,
   "metadata": {
    "collapsed": true,
    "deletable": true,
    "editable": true
   },
   "outputs": [],
   "source": [
    "class AttLayer(Layer):\n",
    "    def __init__(self, **kwargs):\n",
    "        self.init = initializers.get('normal')\n",
    "        #self.input_spec = [InputSpec(ndim=3)]\n",
    "        super(AttLayer, self).__init__(** kwargs)\n",
    "\n",
    "    def build(self, input_shape):\n",
    "        assert len(input_shape)==3\n",
    "        #self.W = self.init((input_shape[-1],1))\n",
    "        self.W = K.variable(self.init((input_shape[-1],)))\n",
    "        #self.input_spec = [InputSpec(shape=input_shape)]\n",
    "        self.trainable_weights = [self.W]\n",
    "        super(AttLayer, self).build(input_shape)  # be sure you call this somewhere!\n",
    "\n",
    "    def call(self, x, mask=None):\n",
    "        eij = K.tanh(K.dot(x, self.W))\n",
    "\n",
    "        ai = K.exp(eij)\n",
    "        weights = ai/K.sum(ai, axis=1).dimshuffle(0,'x')\n",
    "\n",
    "        weighted_input = x*weights.dimshuffle(0,1,'x')\n",
    "        return weighted_input.sum(axis=1)\n",
    "\n",
    "    def compute_output_shape(self, input_shape):\n",
    "        return (input_shape[0], input_shape[-1])"
   ]
  },
  {
   "cell_type": "markdown",
   "metadata": {},
   "source": [
    "# Model 1"
   ]
  },
  {
   "cell_type": "code",
   "execution_count": 9,
   "metadata": {
    "collapsed": false
   },
   "outputs": [
    {
     "name": "stdout",
     "output_type": "stream",
     "text": [
      "Build model attention for activity and output with blstm\n",
      "Train on 7344 samples, validate on 1837 samples\n",
      "Epoch 1/1000\n",
      "538s - loss: 2.1192 - act_output_loss: 1.0167 - time_output_loss: 1.1025 - act_output_acc: 0.6849 - time_output_acc: 0.2640 - val_loss: 2.1912 - val_act_output_loss: 1.1589 - val_time_output_loss: 1.0323 - val_act_output_acc: 0.5514 - val_time_output_acc: 0.2869\n",
      "Epoch 2/1000\n",
      "558s - loss: 1.8011 - act_output_loss: 0.7537 - time_output_loss: 1.0474 - act_output_acc: 0.7606 - time_output_acc: 0.2802 - val_loss: 1.6502 - val_act_output_loss: 0.6167 - val_time_output_loss: 1.0336 - val_act_output_acc: 0.8100 - val_time_output_acc: 0.2869\n",
      "Epoch 3/1000\n",
      "558s - loss: 1.7142 - act_output_loss: 0.6825 - time_output_loss: 1.0317 - act_output_acc: 0.7879 - time_output_acc: 0.2804 - val_loss: 1.6030 - val_act_output_loss: 0.5947 - val_time_output_loss: 1.0083 - val_act_output_acc: 0.8182 - val_time_output_acc: 0.2869\n",
      "Epoch 4/1000\n",
      "553s - loss: 1.6700 - act_output_loss: 0.6468 - time_output_loss: 1.0232 - act_output_acc: 0.7974 - time_output_acc: 0.2800 - val_loss: 1.5745 - val_act_output_loss: 0.5889 - val_time_output_loss: 0.9856 - val_act_output_acc: 0.8253 - val_time_output_acc: 0.2858\n",
      "Epoch 5/1000\n",
      "554s - loss: 1.6364 - act_output_loss: 0.6224 - time_output_loss: 1.0140 - act_output_acc: 0.8056 - time_output_acc: 0.2797 - val_loss: 1.5875 - val_act_output_loss: 0.5956 - val_time_output_loss: 0.9919 - val_act_output_acc: 0.8231 - val_time_output_acc: 0.2858\n",
      "Epoch 6/1000\n",
      "540s - loss: 1.6160 - act_output_loss: 0.6109 - time_output_loss: 1.0051 - act_output_acc: 0.8057 - time_output_acc: 0.2786 - val_loss: 1.5566 - val_act_output_loss: 0.5776 - val_time_output_loss: 0.9790 - val_act_output_acc: 0.8225 - val_time_output_acc: 0.2858\n",
      "Epoch 7/1000\n",
      "561s - loss: 1.6061 - act_output_loss: 0.6074 - time_output_loss: 0.9986 - act_output_acc: 0.8113 - time_output_acc: 0.2809 - val_loss: 1.5378 - val_act_output_loss: 0.5743 - val_time_output_loss: 0.9635 - val_act_output_acc: 0.8274 - val_time_output_acc: 0.2858\n",
      "Epoch 8/1000\n",
      "563s - loss: 1.5925 - act_output_loss: 0.6029 - time_output_loss: 0.9897 - act_output_acc: 0.8102 - time_output_acc: 0.2805 - val_loss: 1.5495 - val_act_output_loss: 0.5797 - val_time_output_loss: 0.9698 - val_act_output_acc: 0.8274 - val_time_output_acc: 0.2858\n",
      "Epoch 9/1000\n",
      "558s - loss: 1.5863 - act_output_loss: 0.5970 - time_output_loss: 0.9893 - act_output_acc: 0.8087 - time_output_acc: 0.2808 - val_loss: 1.5457 - val_act_output_loss: 0.5674 - val_time_output_loss: 0.9782 - val_act_output_acc: 0.8269 - val_time_output_acc: 0.2858\n",
      "Epoch 10/1000\n",
      "544s - loss: 1.5770 - act_output_loss: 0.5902 - time_output_loss: 0.9868 - act_output_acc: 0.8147 - time_output_acc: 0.2806 - val_loss: 1.5579 - val_act_output_loss: 0.5629 - val_time_output_loss: 0.9951 - val_act_output_acc: 0.8263 - val_time_output_acc: 0.2858\n",
      "Epoch 11/1000\n",
      "544s - loss: 1.5752 - act_output_loss: 0.5881 - time_output_loss: 0.9871 - act_output_acc: 0.8143 - time_output_acc: 0.2810 - val_loss: 1.5447 - val_act_output_loss: 0.5699 - val_time_output_loss: 0.9749 - val_act_output_acc: 0.8312 - val_time_output_acc: 0.2858\n",
      "Epoch 12/1000\n",
      "546s - loss: 1.5659 - act_output_loss: 0.5852 - time_output_loss: 0.9806 - act_output_acc: 0.8141 - time_output_acc: 0.2816 - val_loss: 1.5345 - val_act_output_loss: 0.5591 - val_time_output_loss: 0.9754 - val_act_output_acc: 0.8296 - val_time_output_acc: 0.2858\n",
      "Epoch 13/1000\n",
      "562s - loss: 1.5670 - act_output_loss: 0.5867 - time_output_loss: 0.9803 - act_output_acc: 0.8128 - time_output_acc: 0.2809 - val_loss: 1.5451 - val_act_output_loss: 0.5699 - val_time_output_loss: 0.9752 - val_act_output_acc: 0.8312 - val_time_output_acc: 0.2858\n",
      "Epoch 14/1000\n",
      "545s - loss: 1.5576 - act_output_loss: 0.5802 - time_output_loss: 0.9774 - act_output_acc: 0.8148 - time_output_acc: 0.2809 - val_loss: 1.5279 - val_act_output_loss: 0.5628 - val_time_output_loss: 0.9652 - val_act_output_acc: 0.8323 - val_time_output_acc: 0.2858\n",
      "Epoch 15/1000\n",
      "564s - loss: 1.5524 - act_output_loss: 0.5815 - time_output_loss: 0.9709 - act_output_acc: 0.8118 - time_output_acc: 0.2815 - val_loss: 1.5373 - val_act_output_loss: 0.5688 - val_time_output_loss: 0.9684 - val_act_output_acc: 0.8291 - val_time_output_acc: 0.2858\n",
      "Epoch 16/1000\n",
      "548s - loss: 1.5488 - act_output_loss: 0.5773 - time_output_loss: 0.9714 - act_output_acc: 0.8155 - time_output_acc: 0.2808 - val_loss: 1.5138 - val_act_output_loss: 0.5620 - val_time_output_loss: 0.9518 - val_act_output_acc: 0.8323 - val_time_output_acc: 0.2858\n",
      "Epoch 17/1000\n",
      "560s - loss: 1.5489 - act_output_loss: 0.5786 - time_output_loss: 0.9703 - act_output_acc: 0.8154 - time_output_acc: 0.2815 - val_loss: 1.5253 - val_act_output_loss: 0.5605 - val_time_output_loss: 0.9648 - val_act_output_acc: 0.8296 - val_time_output_acc: 0.2858\n",
      "Epoch 18/1000\n",
      "543s - loss: 1.5487 - act_output_loss: 0.5765 - time_output_loss: 0.9722 - act_output_acc: 0.8152 - time_output_acc: 0.2809 - val_loss: 1.5378 - val_act_output_loss: 0.5680 - val_time_output_loss: 0.9699 - val_act_output_acc: 0.8253 - val_time_output_acc: 0.2858\n",
      "Epoch 19/1000\n",
      "550s - loss: 1.5446 - act_output_loss: 0.5751 - time_output_loss: 0.9694 - act_output_acc: 0.8140 - time_output_acc: 0.2815 - val_loss: 1.5144 - val_act_output_loss: 0.5634 - val_time_output_loss: 0.9510 - val_act_output_acc: 0.8323 - val_time_output_acc: 0.2858\n",
      "Epoch 20/1000\n",
      "544s - loss: 1.5455 - act_output_loss: 0.5768 - time_output_loss: 0.9687 - act_output_acc: 0.8150 - time_output_acc: 0.2813 - val_loss: 1.5299 - val_act_output_loss: 0.5636 - val_time_output_loss: 0.9662 - val_act_output_acc: 0.8182 - val_time_output_acc: 0.2858\n",
      "Epoch 21/1000\n",
      "543s - loss: 1.5359 - act_output_loss: 0.5684 - time_output_loss: 0.9676 - act_output_acc: 0.8162 - time_output_acc: 0.2816 - val_loss: 1.5291 - val_act_output_loss: 0.5593 - val_time_output_loss: 0.9698 - val_act_output_acc: 0.8280 - val_time_output_acc: 0.2858\n",
      "Epoch 22/1000\n",
      "580s - loss: 1.5362 - act_output_loss: 0.5705 - time_output_loss: 0.9657 - act_output_acc: 0.8171 - time_output_acc: 0.2816 - val_loss: 1.5171 - val_act_output_loss: 0.5613 - val_time_output_loss: 0.9558 - val_act_output_acc: 0.8253 - val_time_output_acc: 0.2858\n",
      "Epoch 23/1000\n",
      "550s - loss: 1.5377 - act_output_loss: 0.5676 - time_output_loss: 0.9701 - act_output_acc: 0.8154 - time_output_acc: 0.2813 - val_loss: 1.5263 - val_act_output_loss: 0.5679 - val_time_output_loss: 0.9584 - val_act_output_acc: 0.8280 - val_time_output_acc: 0.2858\n",
      "Epoch 24/1000\n",
      "555s - loss: 1.5345 - act_output_loss: 0.5663 - time_output_loss: 0.9682 - act_output_acc: 0.8171 - time_output_acc: 0.2815 - val_loss: 1.5049 - val_act_output_loss: 0.5564 - val_time_output_loss: 0.9484 - val_act_output_acc: 0.8302 - val_time_output_acc: 0.2858\n",
      "Epoch 25/1000\n",
      "566s - loss: 1.5301 - act_output_loss: 0.5651 - time_output_loss: 0.9650 - act_output_acc: 0.8184 - time_output_acc: 0.2816 - val_loss: 1.5188 - val_act_output_loss: 0.5632 - val_time_output_loss: 0.9556 - val_act_output_acc: 0.8274 - val_time_output_acc: 0.2858\n",
      "Epoch 26/1000\n",
      "554s - loss: 1.5278 - act_output_loss: 0.5652 - time_output_loss: 0.9626 - act_output_acc: 0.8174 - time_output_acc: 0.2815 - val_loss: 1.5250 - val_act_output_loss: 0.5683 - val_time_output_loss: 0.9567 - val_act_output_acc: 0.8285 - val_time_output_acc: 0.2858\n",
      "Epoch 27/1000\n",
      "551s - loss: 1.5302 - act_output_loss: 0.5637 - time_output_loss: 0.9665 - act_output_acc: 0.8179 - time_output_acc: 0.2816 - val_loss: 1.5306 - val_act_output_loss: 0.5710 - val_time_output_loss: 0.9596 - val_act_output_acc: 0.8302 - val_time_output_acc: 0.2858\n",
      "Epoch 28/1000\n",
      "543s - loss: 1.5282 - act_output_loss: 0.5649 - time_output_loss: 0.9634 - act_output_acc: 0.8158 - time_output_acc: 0.2809 - val_loss: 1.5039 - val_act_output_loss: 0.5543 - val_time_output_loss: 0.9496 - val_act_output_acc: 0.8296 - val_time_output_acc: 0.2858\n",
      "Epoch 29/1000\n",
      "551s - loss: 1.5283 - act_output_loss: 0.5635 - time_output_loss: 0.9648 - act_output_acc: 0.8193 - time_output_acc: 0.2816 - val_loss: 1.5125 - val_act_output_loss: 0.5607 - val_time_output_loss: 0.9518 - val_act_output_acc: 0.8302 - val_time_output_acc: 0.2858\n",
      "Epoch 30/1000\n",
      "545s - loss: 1.5251 - act_output_loss: 0.5623 - time_output_loss: 0.9628 - act_output_acc: 0.8184 - time_output_acc: 0.2816 - val_loss: 1.5300 - val_act_output_loss: 0.5599 - val_time_output_loss: 0.9701 - val_act_output_acc: 0.8280 - val_time_output_acc: 0.2858\n",
      "Epoch 31/1000\n",
      "546s - loss: 1.5206 - act_output_loss: 0.5593 - time_output_loss: 0.9613 - act_output_acc: 0.8211 - time_output_acc: 0.2809 - val_loss: 1.5249 - val_act_output_loss: 0.5583 - val_time_output_loss: 0.9666 - val_act_output_acc: 0.8323 - val_time_output_acc: 0.2858\n",
      "Epoch 32/1000\n",
      "545s - loss: 1.5239 - act_output_loss: 0.5633 - time_output_loss: 0.9606 - act_output_acc: 0.8189 - time_output_acc: 0.2802 - val_loss: 1.5283 - val_act_output_loss: 0.5640 - val_time_output_loss: 0.9643 - val_act_output_acc: 0.8274 - val_time_output_acc: 0.2858\n",
      "Epoch 33/1000\n",
      "544s - loss: 1.5201 - act_output_loss: 0.5579 - time_output_loss: 0.9621 - act_output_acc: 0.8201 - time_output_acc: 0.2815 - val_loss: 1.5237 - val_act_output_loss: 0.5673 - val_time_output_loss: 0.9564 - val_act_output_acc: 0.8247 - val_time_output_acc: 0.2858\n",
      "Epoch 34/1000\n",
      "544s - loss: 1.5107 - act_output_loss: 0.5559 - time_output_loss: 0.9549 - act_output_acc: 0.8208 - time_output_acc: 0.2816 - val_loss: 1.5203 - val_act_output_loss: 0.5658 - val_time_output_loss: 0.9546 - val_act_output_acc: 0.8302 - val_time_output_acc: 0.2858\n",
      "Epoch 35/1000\n",
      "579s - loss: 1.5085 - act_output_loss: 0.5537 - time_output_loss: 0.9548 - act_output_acc: 0.8190 - time_output_acc: 0.2815 - val_loss: 1.5122 - val_act_output_loss: 0.5558 - val_time_output_loss: 0.9563 - val_act_output_acc: 0.8291 - val_time_output_acc: 0.2858\n",
      "Epoch 36/1000\n",
      "545s - loss: 1.5129 - act_output_loss: 0.5577 - time_output_loss: 0.9551 - act_output_acc: 0.8196 - time_output_acc: 0.2816 - val_loss: 1.5236 - val_act_output_loss: 0.5681 - val_time_output_loss: 0.9555 - val_act_output_acc: 0.8263 - val_time_output_acc: 0.2858\n",
      "Epoch 37/1000\n",
      "545s - loss: 1.5112 - act_output_loss: 0.5557 - time_output_loss: 0.9555 - act_output_acc: 0.8186 - time_output_acc: 0.2817 - val_loss: 1.5196 - val_act_output_loss: 0.5631 - val_time_output_loss: 0.9565 - val_act_output_acc: 0.8258 - val_time_output_acc: 0.2858\n",
      "Epoch 38/1000\n",
      "542s - loss: 1.5148 - act_output_loss: 0.5573 - time_output_loss: 0.9575 - act_output_acc: 0.8200 - time_output_acc: 0.2810 - val_loss: 1.5231 - val_act_output_loss: 0.5620 - val_time_output_loss: 0.9611 - val_act_output_acc: 0.8312 - val_time_output_acc: 0.2858\n",
      "Epoch 39/1000\n",
      "537s - loss: 1.5150 - act_output_loss: 0.5557 - time_output_loss: 0.9593 - act_output_acc: 0.8220 - time_output_acc: 0.2812 - val_loss: 1.5296 - val_act_output_loss: 0.5679 - val_time_output_loss: 0.9617 - val_act_output_acc: 0.8269 - val_time_output_acc: 0.2858\n",
      "Epoch 40/1000\n",
      "537s - loss: 1.4933 - act_output_loss: 0.5450 - time_output_loss: 0.9483 - act_output_acc: 0.8215 - time_output_acc: 0.2816 - val_loss: 1.5226 - val_act_output_loss: 0.5639 - val_time_output_loss: 0.9587 - val_act_output_acc: 0.8269 - val_time_output_acc: 0.2858\n",
      "Epoch 41/1000\n",
      "537s - loss: 1.4935 - act_output_loss: 0.5402 - time_output_loss: 0.9533 - act_output_acc: 0.8224 - time_output_acc: 0.2815 - val_loss: 1.5221 - val_act_output_loss: 0.5597 - val_time_output_loss: 0.9625 - val_act_output_acc: 0.8312 - val_time_output_acc: 0.2858\n",
      "Epoch 42/1000\n",
      "543s - loss: 1.4911 - act_output_loss: 0.5401 - time_output_loss: 0.9510 - act_output_acc: 0.8239 - time_output_acc: 0.2816 - val_loss: 1.5160 - val_act_output_loss: 0.5606 - val_time_output_loss: 0.9554 - val_act_output_acc: 0.8296 - val_time_output_acc: 0.2858\n",
      "Epoch 43/1000\n",
      "537s - loss: 1.4929 - act_output_loss: 0.5390 - time_output_loss: 0.9540 - act_output_acc: 0.8224 - time_output_acc: 0.2816 - val_loss: 1.5228 - val_act_output_loss: 0.5638 - val_time_output_loss: 0.9591 - val_act_output_acc: 0.8307 - val_time_output_acc: 0.2858\n",
      "Epoch 44/1000\n",
      "535s - loss: 1.4877 - act_output_loss: 0.5396 - time_output_loss: 0.9481 - act_output_acc: 0.8252 - time_output_acc: 0.2817 - val_loss: 1.5287 - val_act_output_loss: 0.5689 - val_time_output_loss: 0.9598 - val_act_output_acc: 0.8214 - val_time_output_acc: 0.2858\n",
      "Epoch 45/1000\n",
      "536s - loss: 1.4933 - act_output_loss: 0.5439 - time_output_loss: 0.9495 - act_output_acc: 0.8231 - time_output_acc: 0.2817 - val_loss: 1.5249 - val_act_output_loss: 0.5564 - val_time_output_loss: 0.9685 - val_act_output_acc: 0.8296 - val_time_output_acc: 0.2858\n",
      "Epoch 46/1000\n",
      "537s - loss: 1.4877 - act_output_loss: 0.5394 - time_output_loss: 0.9483 - act_output_acc: 0.8219 - time_output_acc: 0.2816 - val_loss: 1.5191 - val_act_output_loss: 0.5647 - val_time_output_loss: 0.9544 - val_act_output_acc: 0.8263 - val_time_output_acc: 0.2858\n",
      "Epoch 47/1000\n",
      "537s - loss: 1.4887 - act_output_loss: 0.5389 - time_output_loss: 0.9499 - act_output_acc: 0.8230 - time_output_acc: 0.2819 - val_loss: 1.5125 - val_act_output_loss: 0.5578 - val_time_output_loss: 0.9548 - val_act_output_acc: 0.8307 - val_time_output_acc: 0.2858\n",
      "Epoch 48/1000\n",
      "541s - loss: 1.4841 - act_output_loss: 0.5367 - time_output_loss: 0.9475 - act_output_acc: 0.8212 - time_output_acc: 0.2816 - val_loss: 1.5225 - val_act_output_loss: 0.5670 - val_time_output_loss: 0.9555 - val_act_output_acc: 0.8274 - val_time_output_acc: 0.2858\n",
      "Epoch 49/1000\n",
      "557s - loss: 1.4878 - act_output_loss: 0.5368 - time_output_loss: 0.9509 - act_output_acc: 0.8222 - time_output_acc: 0.2815 - val_loss: 1.5327 - val_act_output_loss: 0.5736 - val_time_output_loss: 0.9591 - val_act_output_acc: 0.8214 - val_time_output_acc: 0.2858\n",
      "Epoch 50/1000\n",
      "537s - loss: 1.4721 - act_output_loss: 0.5307 - time_output_loss: 0.9414 - act_output_acc: 0.8243 - time_output_acc: 0.2816 - val_loss: 1.5296 - val_act_output_loss: 0.5652 - val_time_output_loss: 0.9644 - val_act_output_acc: 0.8307 - val_time_output_acc: 0.2858\n",
      "Epoch 51/1000\n",
      "538s - loss: 1.4733 - act_output_loss: 0.5267 - time_output_loss: 0.9465 - act_output_acc: 0.8254 - time_output_acc: 0.2817 - val_loss: 1.5199 - val_act_output_loss: 0.5621 - val_time_output_loss: 0.9578 - val_act_output_acc: 0.8296 - val_time_output_acc: 0.2858\n",
      "Epoch 52/1000\n",
      "538s - loss: 1.4772 - act_output_loss: 0.5329 - time_output_loss: 0.9443 - act_output_acc: 0.8245 - time_output_acc: 0.2816 - val_loss: 1.5266 - val_act_output_loss: 0.5691 - val_time_output_loss: 0.9576 - val_act_output_acc: 0.8253 - val_time_output_acc: 0.2858\n",
      "Epoch 53/1000\n",
      "536s - loss: 1.4719 - act_output_loss: 0.5291 - time_output_loss: 0.9428 - act_output_acc: 0.8271 - time_output_acc: 0.2817 - val_loss: 1.5284 - val_act_output_loss: 0.5694 - val_time_output_loss: 0.9590 - val_act_output_acc: 0.8236 - val_time_output_acc: 0.2858\n",
      "Epoch 54/1000\n",
      "538s - loss: 1.4864 - act_output_loss: 0.5311 - time_output_loss: 0.9552 - act_output_acc: 0.8246 - time_output_acc: 0.2816 - val_loss: 1.5260 - val_act_output_loss: 0.5669 - val_time_output_loss: 0.9591 - val_act_output_acc: 0.8302 - val_time_output_acc: 0.2858\n",
      "Epoch 55/1000\n",
      "542s - loss: 1.4741 - act_output_loss: 0.5282 - time_output_loss: 0.9459 - act_output_acc: 0.8272 - time_output_acc: 0.2812 - val_loss: 1.5241 - val_act_output_loss: 0.5637 - val_time_output_loss: 0.9605 - val_act_output_acc: 0.8307 - val_time_output_acc: 0.2858\n",
      "Epoch 56/1000\n",
      "537s - loss: 1.4699 - act_output_loss: 0.5273 - time_output_loss: 0.9427 - act_output_acc: 0.8252 - time_output_acc: 0.2817 - val_loss: 1.5315 - val_act_output_loss: 0.5692 - val_time_output_loss: 0.9623 - val_act_output_acc: 0.8280 - val_time_output_acc: 0.2858\n",
      "Epoch 57/1000\n",
      "539s - loss: 1.4728 - act_output_loss: 0.5263 - time_output_loss: 0.9465 - act_output_acc: 0.8275 - time_output_acc: 0.2815 - val_loss: 1.5244 - val_act_output_loss: 0.5665 - val_time_output_loss: 0.9579 - val_act_output_acc: 0.8291 - val_time_output_acc: 0.2858\n",
      "Epoch 58/1000\n",
      "538s - loss: 1.4747 - act_output_loss: 0.5298 - time_output_loss: 0.9449 - act_output_acc: 0.8273 - time_output_acc: 0.2816 - val_loss: 1.5253 - val_act_output_loss: 0.5678 - val_time_output_loss: 0.9575 - val_act_output_acc: 0.8296 - val_time_output_acc: 0.2858\n",
      "Epoch 59/1000\n",
      "537s - loss: 1.4693 - act_output_loss: 0.5274 - time_output_loss: 0.9419 - act_output_acc: 0.8256 - time_output_acc: 0.2817 - val_loss: 1.5370 - val_act_output_loss: 0.5706 - val_time_output_loss: 0.9664 - val_act_output_acc: 0.8263 - val_time_output_acc: 0.2858\n",
      "Epoch 60/1000\n",
      "536s - loss: 1.4647 - act_output_loss: 0.5212 - time_output_loss: 0.9435 - act_output_acc: 0.8268 - time_output_acc: 0.2817 - val_loss: 1.5324 - val_act_output_loss: 0.5706 - val_time_output_loss: 0.9618 - val_act_output_acc: 0.8258 - val_time_output_acc: 0.2858\n",
      "Epoch 61/1000\n",
      "536s - loss: 1.4617 - act_output_loss: 0.5240 - time_output_loss: 0.9377 - act_output_acc: 0.8275 - time_output_acc: 0.2820 - val_loss: 1.5261 - val_act_output_loss: 0.5682 - val_time_output_loss: 0.9578 - val_act_output_acc: 0.8263 - val_time_output_acc: 0.2858\n",
      "Epoch 62/1000\n",
      "572s - loss: 1.4663 - act_output_loss: 0.5242 - time_output_loss: 0.9421 - act_output_acc: 0.8278 - time_output_acc: 0.2817 - val_loss: 1.5324 - val_act_output_loss: 0.5709 - val_time_output_loss: 0.9615 - val_act_output_acc: 0.8291 - val_time_output_acc: 0.2858\n",
      "Epoch 63/1000\n",
      "556s - loss: 1.4665 - act_output_loss: 0.5220 - time_output_loss: 0.9445 - act_output_acc: 0.8268 - time_output_acc: 0.2816 - val_loss: 1.5294 - val_act_output_loss: 0.5693 - val_time_output_loss: 0.9601 - val_act_output_acc: 0.8280 - val_time_output_acc: 0.2858\n",
      "Epoch 64/1000\n",
      "541s - loss: 1.4581 - act_output_loss: 0.5185 - time_output_loss: 0.9396 - act_output_acc: 0.8294 - time_output_acc: 0.2816 - val_loss: 1.5299 - val_act_output_loss: 0.5741 - val_time_output_loss: 0.9558 - val_act_output_acc: 0.8258 - val_time_output_acc: 0.2858\n",
      "Epoch 65/1000\n",
      "537s - loss: 1.4661 - act_output_loss: 0.5204 - time_output_loss: 0.9457 - act_output_acc: 0.8275 - time_output_acc: 0.2816 - val_loss: 1.5291 - val_act_output_loss: 0.5708 - val_time_output_loss: 0.9583 - val_act_output_acc: 0.8280 - val_time_output_acc: 0.2858\n",
      "Epoch 66/1000\n",
      "538s - loss: 1.4684 - act_output_loss: 0.5206 - time_output_loss: 0.9478 - act_output_acc: 0.8283 - time_output_acc: 0.2816 - val_loss: 1.5324 - val_act_output_loss: 0.5744 - val_time_output_loss: 0.9580 - val_act_output_acc: 0.8258 - val_time_output_acc: 0.2858\n",
      "Epoch 67/1000\n",
      "538s - loss: 1.4628 - act_output_loss: 0.5188 - time_output_loss: 0.9440 - act_output_acc: 0.8292 - time_output_acc: 0.2815 - val_loss: 1.5326 - val_act_output_loss: 0.5761 - val_time_output_loss: 0.9565 - val_act_output_acc: 0.8231 - val_time_output_acc: 0.2858\n",
      "Epoch 68/1000\n",
      "543s - loss: 1.4632 - act_output_loss: 0.5214 - time_output_loss: 0.9418 - act_output_acc: 0.8275 - time_output_acc: 0.2816 - val_loss: 1.5322 - val_act_output_loss: 0.5741 - val_time_output_loss: 0.9582 - val_act_output_acc: 0.8269 - val_time_output_acc: 0.2858\n",
      "Epoch 69/1000\n",
      "542s - loss: 1.4579 - act_output_loss: 0.5195 - time_output_loss: 0.9384 - act_output_acc: 0.8283 - time_output_acc: 0.2816 - val_loss: 1.5316 - val_act_output_loss: 0.5733 - val_time_output_loss: 0.9582 - val_act_output_acc: 0.8253 - val_time_output_acc: 0.2858\n",
      "Epoch 70/1000\n",
      "540s - loss: 1.4657 - act_output_loss: 0.5222 - time_output_loss: 0.9436 - act_output_acc: 0.8268 - time_output_acc: 0.2817 - val_loss: 1.5281 - val_act_output_loss: 0.5707 - val_time_output_loss: 0.9573 - val_act_output_acc: 0.8274 - val_time_output_acc: 0.2858\n",
      "Epoch 71/1000\n",
      "542s - loss: 1.4636 - act_output_loss: 0.5170 - time_output_loss: 0.9466 - act_output_acc: 0.8292 - time_output_acc: 0.2816 - val_loss: 1.5316 - val_act_output_loss: 0.5734 - val_time_output_loss: 0.9582 - val_act_output_acc: 0.8269 - val_time_output_acc: 0.2858\n",
      "Epoch 72/1000\n",
      "539s - loss: 1.4641 - act_output_loss: 0.5229 - time_output_loss: 0.9412 - act_output_acc: 0.8269 - time_output_acc: 0.2816 - val_loss: 1.5331 - val_act_output_loss: 0.5759 - val_time_output_loss: 0.9572 - val_act_output_acc: 0.8269 - val_time_output_acc: 0.2858\n",
      "Epoch 73/1000\n",
      "540s - loss: 1.4585 - act_output_loss: 0.5200 - time_output_loss: 0.9385 - act_output_acc: 0.8273 - time_output_acc: 0.2816 - val_loss: 1.5314 - val_act_output_loss: 0.5731 - val_time_output_loss: 0.9583 - val_act_output_acc: 0.8263 - val_time_output_acc: 0.2858\n",
      "Epoch 74/1000\n",
      "540s - loss: 1.4645 - act_output_loss: 0.5220 - time_output_loss: 0.9425 - act_output_acc: 0.8264 - time_output_acc: 0.2816 - val_loss: 1.5307 - val_act_output_loss: 0.5728 - val_time_output_loss: 0.9579 - val_act_output_acc: 0.8263 - val_time_output_acc: 0.2858\n",
      "Epoch 75/1000\n",
      "566s - loss: 1.4600 - act_output_loss: 0.5205 - time_output_loss: 0.9395 - act_output_acc: 0.8252 - time_output_acc: 0.2816 - val_loss: 1.5306 - val_act_output_loss: 0.5730 - val_time_output_loss: 0.9576 - val_act_output_acc: 0.8269 - val_time_output_acc: 0.2858\n",
      "Epoch 76/1000\n",
      "539s - loss: 1.4609 - act_output_loss: 0.5175 - time_output_loss: 0.9434 - act_output_acc: 0.8258 - time_output_acc: 0.2816 - val_loss: 1.5311 - val_act_output_loss: 0.5734 - val_time_output_loss: 0.9577 - val_act_output_acc: 0.8274 - val_time_output_acc: 0.2858\n",
      "Epoch 77/1000\n",
      "541s - loss: 1.4582 - act_output_loss: 0.5165 - time_output_loss: 0.9417 - act_output_acc: 0.8288 - time_output_acc: 0.2816 - val_loss: 1.5322 - val_act_output_loss: 0.5736 - val_time_output_loss: 0.9586 - val_act_output_acc: 0.8263 - val_time_output_acc: 0.2858\n",
      "Epoch 78/1000\n",
      "541s - loss: 1.4591 - act_output_loss: 0.5184 - time_output_loss: 0.9407 - act_output_acc: 0.8287 - time_output_acc: 0.2816 - val_loss: 1.5339 - val_act_output_loss: 0.5747 - val_time_output_loss: 0.9593 - val_act_output_acc: 0.8269 - val_time_output_acc: 0.2858\n",
      "Epoch 79/1000\n",
      "542s - loss: 1.4513 - act_output_loss: 0.5108 - time_output_loss: 0.9404 - act_output_acc: 0.8306 - time_output_acc: 0.2816 - val_loss: 1.5315 - val_act_output_loss: 0.5733 - val_time_output_loss: 0.9581 - val_act_output_acc: 0.8263 - val_time_output_acc: 0.2858\n",
      "Epoch 80/1000\n",
      "540s - loss: 1.4483 - act_output_loss: 0.5125 - time_output_loss: 0.9358 - act_output_acc: 0.8297 - time_output_acc: 0.2815 - val_loss: 1.5319 - val_act_output_loss: 0.5732 - val_time_output_loss: 0.9587 - val_act_output_acc: 0.8258 - val_time_output_acc: 0.2858\n",
      "Epoch 81/1000\n",
      "538s - loss: 1.4590 - act_output_loss: 0.5208 - time_output_loss: 0.9382 - act_output_acc: 0.8278 - time_output_acc: 0.2816 - val_loss: 1.5314 - val_act_output_loss: 0.5736 - val_time_output_loss: 0.9578 - val_act_output_acc: 0.8263 - val_time_output_acc: 0.2858\n",
      "Epoch 82/1000\n",
      "542s - loss: 1.4552 - act_output_loss: 0.5151 - time_output_loss: 0.9401 - act_output_acc: 0.8279 - time_output_acc: 0.2816 - val_loss: 1.5325 - val_act_output_loss: 0.5738 - val_time_output_loss: 0.9587 - val_act_output_acc: 0.8258 - val_time_output_acc: 0.2858\n",
      "Epoch 83/1000\n",
      "539s - loss: 1.4559 - act_output_loss: 0.5154 - time_output_loss: 0.9404 - act_output_acc: 0.8286 - time_output_acc: 0.2817 - val_loss: 1.5322 - val_act_output_loss: 0.5737 - val_time_output_loss: 0.9585 - val_act_output_acc: 0.8258 - val_time_output_acc: 0.2858\n",
      "Epoch 84/1000\n",
      "538s - loss: 1.4572 - act_output_loss: 0.5186 - time_output_loss: 0.9386 - act_output_acc: 0.8291 - time_output_acc: 0.2816 - val_loss: 1.5326 - val_act_output_loss: 0.5735 - val_time_output_loss: 0.9591 - val_act_output_acc: 0.8258 - val_time_output_acc: 0.2858\n",
      "Epoch 85/1000\n",
      "540s - loss: 1.4530 - act_output_loss: 0.5155 - time_output_loss: 0.9374 - act_output_acc: 0.8302 - time_output_acc: 0.2816 - val_loss: 1.5332 - val_act_output_loss: 0.5738 - val_time_output_loss: 0.9594 - val_act_output_acc: 0.8274 - val_time_output_acc: 0.2858\n",
      "Epoch 86/1000\n",
      "544s - loss: 1.4549 - act_output_loss: 0.5150 - time_output_loss: 0.9399 - act_output_acc: 0.8282 - time_output_acc: 0.2816 - val_loss: 1.5332 - val_act_output_loss: 0.5741 - val_time_output_loss: 0.9591 - val_act_output_acc: 0.8285 - val_time_output_acc: 0.2858\n",
      "Epoch 87/1000\n",
      "539s - loss: 1.4575 - act_output_loss: 0.5194 - time_output_loss: 0.9382 - act_output_acc: 0.8280 - time_output_acc: 0.2816 - val_loss: 1.5333 - val_act_output_loss: 0.5738 - val_time_output_loss: 0.9595 - val_act_output_acc: 0.8274 - val_time_output_acc: 0.2858\n",
      "Epoch 88/1000\n",
      "568s - loss: 1.4520 - act_output_loss: 0.5148 - time_output_loss: 0.9372 - act_output_acc: 0.8273 - time_output_acc: 0.2817 - val_loss: 1.5345 - val_act_output_loss: 0.5744 - val_time_output_loss: 0.9602 - val_act_output_acc: 0.8269 - val_time_output_acc: 0.2858\n",
      "Epoch 89/1000\n",
      "550s - loss: 1.4500 - act_output_loss: 0.5130 - time_output_loss: 0.9371 - act_output_acc: 0.8306 - time_output_acc: 0.2816 - val_loss: 1.5337 - val_act_output_loss: 0.5742 - val_time_output_loss: 0.9595 - val_act_output_acc: 0.8280 - val_time_output_acc: 0.2858\n",
      "Epoch 90/1000\n",
      "539s - loss: 1.4571 - act_output_loss: 0.5149 - time_output_loss: 0.9422 - act_output_acc: 0.8280 - time_output_acc: 0.2816 - val_loss: 1.5340 - val_act_output_loss: 0.5748 - val_time_output_loss: 0.9592 - val_act_output_acc: 0.8280 - val_time_output_acc: 0.2858\n",
      "Epoch 91/1000\n",
      "541s - loss: 1.4539 - act_output_loss: 0.5156 - time_output_loss: 0.9383 - act_output_acc: 0.8279 - time_output_acc: 0.2816 - val_loss: 1.5339 - val_act_output_loss: 0.5752 - val_time_output_loss: 0.9587 - val_act_output_acc: 0.8280 - val_time_output_acc: 0.2858\n",
      "Epoch 92/1000\n",
      "538s - loss: 1.4539 - act_output_loss: 0.5158 - time_output_loss: 0.9381 - act_output_acc: 0.8280 - time_output_acc: 0.2816 - val_loss: 1.5333 - val_act_output_loss: 0.5742 - val_time_output_loss: 0.9591 - val_act_output_acc: 0.8274 - val_time_output_acc: 0.2858\n",
      "Epoch 93/1000\n",
      "537s - loss: 1.4560 - act_output_loss: 0.5166 - time_output_loss: 0.9394 - act_output_acc: 0.8292 - time_output_acc: 0.2816 - val_loss: 1.5339 - val_act_output_loss: 0.5745 - val_time_output_loss: 0.9593 - val_act_output_acc: 0.8274 - val_time_output_acc: 0.2858\n",
      "Epoch 94/1000\n",
      "538s - loss: 1.4577 - act_output_loss: 0.5157 - time_output_loss: 0.9419 - act_output_acc: 0.8301 - time_output_acc: 0.2816 - val_loss: 1.5338 - val_act_output_loss: 0.5746 - val_time_output_loss: 0.9591 - val_act_output_acc: 0.8274 - val_time_output_acc: 0.2858\n",
      "Epoch 95/1000\n",
      "544s - loss: 1.4568 - act_output_loss: 0.5177 - time_output_loss: 0.9391 - act_output_acc: 0.8272 - time_output_acc: 0.2817 - val_loss: 1.5332 - val_act_output_loss: 0.5746 - val_time_output_loss: 0.9586 - val_act_output_acc: 0.8274 - val_time_output_acc: 0.2858\n",
      "Epoch 96/1000\n",
      "538s - loss: 1.4528 - act_output_loss: 0.5153 - time_output_loss: 0.9375 - act_output_acc: 0.8298 - time_output_acc: 0.2816 - val_loss: 1.5342 - val_act_output_loss: 0.5745 - val_time_output_loss: 0.9597 - val_act_output_acc: 0.8274 - val_time_output_acc: 0.2858\n",
      "Epoch 97/1000\n",
      "538s - loss: 1.4546 - act_output_loss: 0.5156 - time_output_loss: 0.9391 - act_output_acc: 0.8291 - time_output_acc: 0.2816 - val_loss: 1.5335 - val_act_output_loss: 0.5743 - val_time_output_loss: 0.9592 - val_act_output_acc: 0.8274 - val_time_output_acc: 0.2858\n",
      "Epoch 98/1000\n",
      "538s - loss: 1.4460 - act_output_loss: 0.5096 - time_output_loss: 0.9364 - act_output_acc: 0.8301 - time_output_acc: 0.2817 - val_loss: 1.5332 - val_act_output_loss: 0.5745 - val_time_output_loss: 0.9588 - val_act_output_acc: 0.8269 - val_time_output_acc: 0.2858\n",
      "Epoch 99/1000\n",
      "539s - loss: 1.4475 - act_output_loss: 0.5146 - time_output_loss: 0.9329 - act_output_acc: 0.8303 - time_output_acc: 0.2816 - val_loss: 1.5335 - val_act_output_loss: 0.5747 - val_time_output_loss: 0.9589 - val_act_output_acc: 0.8280 - val_time_output_acc: 0.2858\n",
      "Epoch 100/1000\n",
      "538s - loss: 1.4585 - act_output_loss: 0.5183 - time_output_loss: 0.9403 - act_output_acc: 0.8276 - time_output_acc: 0.2816 - val_loss: 1.5337 - val_act_output_loss: 0.5746 - val_time_output_loss: 0.9592 - val_act_output_acc: 0.8274 - val_time_output_acc: 0.2858\n",
      "Epoch 101/1000\n",
      "536s - loss: 1.4529 - act_output_loss: 0.5155 - time_output_loss: 0.9374 - act_output_acc: 0.8282 - time_output_acc: 0.2817 - val_loss: 1.5333 - val_act_output_loss: 0.5745 - val_time_output_loss: 0.9588 - val_act_output_acc: 0.8269 - val_time_output_acc: 0.2858\n",
      "Epoch 102/1000\n",
      "566s - loss: 1.4540 - act_output_loss: 0.5175 - time_output_loss: 0.9365 - act_output_acc: 0.8275 - time_output_acc: 0.2816 - val_loss: 1.5341 - val_act_output_loss: 0.5751 - val_time_output_loss: 0.9590 - val_act_output_acc: 0.8274 - val_time_output_acc: 0.2858\n",
      "Epoch 103/1000\n",
      "540s - loss: 1.4544 - act_output_loss: 0.5152 - time_output_loss: 0.9392 - act_output_acc: 0.8295 - time_output_acc: 0.2816 - val_loss: 1.5341 - val_act_output_loss: 0.5752 - val_time_output_loss: 0.9589 - val_act_output_acc: 0.8269 - val_time_output_acc: 0.2858\n",
      "Epoch 104/1000\n",
      "541s - loss: 1.4499 - act_output_loss: 0.5109 - time_output_loss: 0.9390 - act_output_acc: 0.8305 - time_output_acc: 0.2816 - val_loss: 1.5342 - val_act_output_loss: 0.5752 - val_time_output_loss: 0.9589 - val_act_output_acc: 0.8269 - val_time_output_acc: 0.2858\n",
      "Epoch 105/1000\n",
      "539s - loss: 1.4575 - act_output_loss: 0.5147 - time_output_loss: 0.9428 - act_output_acc: 0.8290 - time_output_acc: 0.2816 - val_loss: 1.5348 - val_act_output_loss: 0.5754 - val_time_output_loss: 0.9593 - val_act_output_acc: 0.8274 - val_time_output_acc: 0.2858\n",
      "Epoch 106/1000\n",
      "571s - loss: 1.4485 - act_output_loss: 0.5134 - time_output_loss: 0.9350 - act_output_acc: 0.8305 - time_output_acc: 0.2816 - val_loss: 1.5339 - val_act_output_loss: 0.5751 - val_time_output_loss: 0.9588 - val_act_output_acc: 0.8274 - val_time_output_acc: 0.2858\n",
      "Epoch 107/1000\n",
      "538s - loss: 1.4536 - act_output_loss: 0.5138 - time_output_loss: 0.9398 - act_output_acc: 0.8299 - time_output_acc: 0.2816 - val_loss: 1.5341 - val_act_output_loss: 0.5754 - val_time_output_loss: 0.9588 - val_act_output_acc: 0.8274 - val_time_output_acc: 0.2858\n",
      "Epoch 108/1000\n",
      "542s - loss: 1.4509 - act_output_loss: 0.5145 - time_output_loss: 0.9363 - act_output_acc: 0.8292 - time_output_acc: 0.2816 - val_loss: 1.5340 - val_act_output_loss: 0.5752 - val_time_output_loss: 0.9588 - val_act_output_acc: 0.8274 - val_time_output_acc: 0.2858\n",
      "Epoch 109/1000\n",
      "538s - loss: 1.4479 - act_output_loss: 0.5128 - time_output_loss: 0.9351 - act_output_acc: 0.8306 - time_output_acc: 0.2816 - val_loss: 1.5339 - val_act_output_loss: 0.5752 - val_time_output_loss: 0.9587 - val_act_output_acc: 0.8274 - val_time_output_acc: 0.2858\n",
      "Epoch 110/1000\n",
      "549s - loss: 1.4561 - act_output_loss: 0.5159 - time_output_loss: 0.9403 - act_output_acc: 0.8280 - time_output_acc: 0.2816 - val_loss: 1.5345 - val_act_output_loss: 0.5754 - val_time_output_loss: 0.9591 - val_act_output_acc: 0.8269 - val_time_output_acc: 0.2858\n",
      "Epoch 111/1000\n",
      "546s - loss: 1.4528 - act_output_loss: 0.5164 - time_output_loss: 0.9364 - act_output_acc: 0.8273 - time_output_acc: 0.2816 - val_loss: 1.5336 - val_act_output_loss: 0.5749 - val_time_output_loss: 0.9586 - val_act_output_acc: 0.8269 - val_time_output_acc: 0.2858\n",
      "Epoch 112/1000\n",
      "545s - loss: 1.4416 - act_output_loss: 0.5088 - time_output_loss: 0.9328 - act_output_acc: 0.8312 - time_output_acc: 0.2816 - val_loss: 1.5336 - val_act_output_loss: 0.5750 - val_time_output_loss: 0.9586 - val_act_output_acc: 0.8269 - val_time_output_acc: 0.2858\n",
      "Epoch 113/1000\n",
      "541s - loss: 1.4521 - act_output_loss: 0.5135 - time_output_loss: 0.9386 - act_output_acc: 0.8309 - time_output_acc: 0.2816 - val_loss: 1.5336 - val_act_output_loss: 0.5750 - val_time_output_loss: 0.9585 - val_act_output_acc: 0.8269 - val_time_output_acc: 0.2858\n",
      "Epoch 114/1000\n",
      "541s - loss: 1.4517 - act_output_loss: 0.5150 - time_output_loss: 0.9366 - act_output_acc: 0.8286 - time_output_acc: 0.2815 - val_loss: 1.5338 - val_act_output_loss: 0.5749 - val_time_output_loss: 0.9589 - val_act_output_acc: 0.8269 - val_time_output_acc: 0.2858\n",
      "Epoch 115/1000\n",
      "579s - loss: 1.4512 - act_output_loss: 0.5145 - time_output_loss: 0.9367 - act_output_acc: 0.8302 - time_output_acc: 0.2816 - val_loss: 1.5342 - val_act_output_loss: 0.5752 - val_time_output_loss: 0.9590 - val_act_output_acc: 0.8274 - val_time_output_acc: 0.2858\n",
      "Epoch 116/1000\n",
      "544s - loss: 1.4528 - act_output_loss: 0.5130 - time_output_loss: 0.9398 - act_output_acc: 0.8301 - time_output_acc: 0.2816 - val_loss: 1.5336 - val_act_output_loss: 0.5749 - val_time_output_loss: 0.9587 - val_act_output_acc: 0.8269 - val_time_output_acc: 0.2858\n",
      "Epoch 117/1000\n",
      "545s - loss: 1.4538 - act_output_loss: 0.5159 - time_output_loss: 0.9380 - act_output_acc: 0.8286 - time_output_acc: 0.2816 - val_loss: 1.5338 - val_act_output_loss: 0.5751 - val_time_output_loss: 0.9588 - val_act_output_acc: 0.8274 - val_time_output_acc: 0.2858\n",
      "Epoch 118/1000\n",
      "544s - loss: 1.4543 - act_output_loss: 0.5139 - time_output_loss: 0.9404 - act_output_acc: 0.8301 - time_output_acc: 0.2817 - val_loss: 1.5337 - val_act_output_loss: 0.5750 - val_time_output_loss: 0.9587 - val_act_output_acc: 0.8274 - val_time_output_acc: 0.2858\n",
      "Epoch 119/1000\n",
      "543s - loss: 1.4503 - act_output_loss: 0.5125 - time_output_loss: 0.9378 - act_output_acc: 0.8309 - time_output_acc: 0.2816 - val_loss: 1.5336 - val_act_output_loss: 0.5750 - val_time_output_loss: 0.9586 - val_act_output_acc: 0.8274 - val_time_output_acc: 0.2858\n",
      "Epoch 120/1000\n",
      "538s - loss: 1.4491 - act_output_loss: 0.5133 - time_output_loss: 0.9357 - act_output_acc: 0.8310 - time_output_acc: 0.2815 - val_loss: 1.5336 - val_act_output_loss: 0.5748 - val_time_output_loss: 0.9588 - val_act_output_acc: 0.8269 - val_time_output_acc: 0.2858\n",
      "Epoch 121/1000\n",
      "545s - loss: 1.4507 - act_output_loss: 0.5148 - time_output_loss: 0.9360 - act_output_acc: 0.8271 - time_output_acc: 0.2816 - val_loss: 1.5336 - val_act_output_loss: 0.5749 - val_time_output_loss: 0.9587 - val_act_output_acc: 0.8274 - val_time_output_acc: 0.2858\n",
      "Epoch 122/1000\n",
      "546s - loss: 1.4491 - act_output_loss: 0.5126 - time_output_loss: 0.9365 - act_output_acc: 0.8295 - time_output_acc: 0.2817 - val_loss: 1.5336 - val_act_output_loss: 0.5748 - val_time_output_loss: 0.9589 - val_act_output_acc: 0.8269 - val_time_output_acc: 0.2858\n",
      "Epoch 123/1000\n",
      "541s - loss: 1.4480 - act_output_loss: 0.5103 - time_output_loss: 0.9377 - act_output_acc: 0.8310 - time_output_acc: 0.2816 - val_loss: 1.5339 - val_act_output_loss: 0.5750 - val_time_output_loss: 0.9589 - val_act_output_acc: 0.8269 - val_time_output_acc: 0.2858\n",
      "Epoch 124/1000\n",
      "542s - loss: 1.4526 - act_output_loss: 0.5129 - time_output_loss: 0.9396 - act_output_acc: 0.8303 - time_output_acc: 0.2815 - val_loss: 1.5340 - val_act_output_loss: 0.5752 - val_time_output_loss: 0.9587 - val_act_output_acc: 0.8274 - val_time_output_acc: 0.2858\n",
      "Epoch 125/1000\n",
      "701s - loss: 1.4485 - act_output_loss: 0.5129 - time_output_loss: 0.9356 - act_output_acc: 0.8301 - time_output_acc: 0.2816 - val_loss: 1.5338 - val_act_output_loss: 0.5750 - val_time_output_loss: 0.9589 - val_act_output_acc: 0.8274 - val_time_output_acc: 0.2858\n",
      "Epoch 126/1000\n"
     ]
    },
    {
     "ename": "KeyboardInterrupt",
     "evalue": "",
     "output_type": "error",
     "traceback": [
      "\u001b[0;31m---------------------------------------------------------------------------\u001b[0m",
      "\u001b[0;31mKeyboardInterrupt\u001b[0m                         Traceback (most recent call last)",
      "\u001b[0;32m<ipython-input-9-3dadd7d9e572>\u001b[0m in \u001b[0;36m<module>\u001b[0;34m()\u001b[0m\n\u001b[1;32m     39\u001b[0m \u001b[0;31m#fit\u001b[0m\u001b[0;34m\u001b[0m\u001b[0;34m\u001b[0m\u001b[0m\n\u001b[1;32m     40\u001b[0m model.fit(X, {'act_output':y_a, 'time_output':y_t}, validation_split=0.2, verbose=2, \n\u001b[0;32m---> 41\u001b[0;31m           callbacks=[early_stopping, model_checkpoint, lr_reducer, history], batch_size=16, epochs=1000)\n\u001b[0m",
      "\u001b[0;32m/home/hoang/miniconda2/envs/pydata/lib/python3.5/site-packages/keras/engine/training.py\u001b[0m in \u001b[0;36mfit\u001b[0;34m(self, x, y, batch_size, epochs, verbose, callbacks, validation_split, validation_data, shuffle, class_weight, sample_weight, initial_epoch, **kwargs)\u001b[0m\n\u001b[1;32m   1496\u001b[0m                               \u001b[0mval_f\u001b[0m\u001b[0;34m=\u001b[0m\u001b[0mval_f\u001b[0m\u001b[0;34m,\u001b[0m \u001b[0mval_ins\u001b[0m\u001b[0;34m=\u001b[0m\u001b[0mval_ins\u001b[0m\u001b[0;34m,\u001b[0m \u001b[0mshuffle\u001b[0m\u001b[0;34m=\u001b[0m\u001b[0mshuffle\u001b[0m\u001b[0;34m,\u001b[0m\u001b[0;34m\u001b[0m\u001b[0m\n\u001b[1;32m   1497\u001b[0m                               \u001b[0mcallback_metrics\u001b[0m\u001b[0;34m=\u001b[0m\u001b[0mcallback_metrics\u001b[0m\u001b[0;34m,\u001b[0m\u001b[0;34m\u001b[0m\u001b[0m\n\u001b[0;32m-> 1498\u001b[0;31m                               initial_epoch=initial_epoch)\n\u001b[0m\u001b[1;32m   1499\u001b[0m \u001b[0;34m\u001b[0m\u001b[0m\n\u001b[1;32m   1500\u001b[0m     \u001b[0;32mdef\u001b[0m \u001b[0mevaluate\u001b[0m\u001b[0;34m(\u001b[0m\u001b[0mself\u001b[0m\u001b[0;34m,\u001b[0m \u001b[0mx\u001b[0m\u001b[0;34m,\u001b[0m \u001b[0my\u001b[0m\u001b[0;34m,\u001b[0m \u001b[0mbatch_size\u001b[0m\u001b[0;34m=\u001b[0m\u001b[0;36m32\u001b[0m\u001b[0;34m,\u001b[0m \u001b[0mverbose\u001b[0m\u001b[0;34m=\u001b[0m\u001b[0;36m1\u001b[0m\u001b[0;34m,\u001b[0m \u001b[0msample_weight\u001b[0m\u001b[0;34m=\u001b[0m\u001b[0;32mNone\u001b[0m\u001b[0;34m)\u001b[0m\u001b[0;34m:\u001b[0m\u001b[0;34m\u001b[0m\u001b[0m\n",
      "\u001b[0;32m/home/hoang/miniconda2/envs/pydata/lib/python3.5/site-packages/keras/engine/training.py\u001b[0m in \u001b[0;36m_fit_loop\u001b[0;34m(self, f, ins, out_labels, batch_size, epochs, verbose, callbacks, val_f, val_ins, shuffle, callback_metrics, initial_epoch)\u001b[0m\n\u001b[1;32m   1150\u001b[0m                 \u001b[0mbatch_logs\u001b[0m\u001b[0;34m[\u001b[0m\u001b[0;34m'size'\u001b[0m\u001b[0;34m]\u001b[0m \u001b[0;34m=\u001b[0m \u001b[0mlen\u001b[0m\u001b[0;34m(\u001b[0m\u001b[0mbatch_ids\u001b[0m\u001b[0;34m)\u001b[0m\u001b[0;34m\u001b[0m\u001b[0m\n\u001b[1;32m   1151\u001b[0m                 \u001b[0mcallbacks\u001b[0m\u001b[0;34m.\u001b[0m\u001b[0mon_batch_begin\u001b[0m\u001b[0;34m(\u001b[0m\u001b[0mbatch_index\u001b[0m\u001b[0;34m,\u001b[0m \u001b[0mbatch_logs\u001b[0m\u001b[0;34m)\u001b[0m\u001b[0;34m\u001b[0m\u001b[0m\n\u001b[0;32m-> 1152\u001b[0;31m                 \u001b[0mouts\u001b[0m \u001b[0;34m=\u001b[0m \u001b[0mf\u001b[0m\u001b[0;34m(\u001b[0m\u001b[0mins_batch\u001b[0m\u001b[0;34m)\u001b[0m\u001b[0;34m\u001b[0m\u001b[0m\n\u001b[0m\u001b[1;32m   1153\u001b[0m                 \u001b[0;32mif\u001b[0m \u001b[0;32mnot\u001b[0m \u001b[0misinstance\u001b[0m\u001b[0;34m(\u001b[0m\u001b[0mouts\u001b[0m\u001b[0;34m,\u001b[0m \u001b[0mlist\u001b[0m\u001b[0;34m)\u001b[0m\u001b[0;34m:\u001b[0m\u001b[0;34m\u001b[0m\u001b[0m\n\u001b[1;32m   1154\u001b[0m                     \u001b[0mouts\u001b[0m \u001b[0;34m=\u001b[0m \u001b[0;34m[\u001b[0m\u001b[0mouts\u001b[0m\u001b[0;34m]\u001b[0m\u001b[0;34m\u001b[0m\u001b[0m\n",
      "\u001b[0;32m/home/hoang/miniconda2/envs/pydata/lib/python3.5/site-packages/keras/backend/theano_backend.py\u001b[0m in \u001b[0;36m__call__\u001b[0;34m(self, inputs)\u001b[0m\n\u001b[1;32m   1156\u001b[0m     \u001b[0;32mdef\u001b[0m \u001b[0m__call__\u001b[0m\u001b[0;34m(\u001b[0m\u001b[0mself\u001b[0m\u001b[0;34m,\u001b[0m \u001b[0minputs\u001b[0m\u001b[0;34m)\u001b[0m\u001b[0;34m:\u001b[0m\u001b[0;34m\u001b[0m\u001b[0m\n\u001b[1;32m   1157\u001b[0m         \u001b[0;32massert\u001b[0m \u001b[0misinstance\u001b[0m\u001b[0;34m(\u001b[0m\u001b[0minputs\u001b[0m\u001b[0;34m,\u001b[0m \u001b[0;34m(\u001b[0m\u001b[0mlist\u001b[0m\u001b[0;34m,\u001b[0m \u001b[0mtuple\u001b[0m\u001b[0;34m)\u001b[0m\u001b[0;34m)\u001b[0m\u001b[0;34m\u001b[0m\u001b[0m\n\u001b[0;32m-> 1158\u001b[0;31m         \u001b[0;32mreturn\u001b[0m \u001b[0mself\u001b[0m\u001b[0;34m.\u001b[0m\u001b[0mfunction\u001b[0m\u001b[0;34m(\u001b[0m\u001b[0;34m*\u001b[0m\u001b[0minputs\u001b[0m\u001b[0;34m)\u001b[0m\u001b[0;34m\u001b[0m\u001b[0m\n\u001b[0m\u001b[1;32m   1159\u001b[0m \u001b[0;34m\u001b[0m\u001b[0m\n\u001b[1;32m   1160\u001b[0m \u001b[0;34m\u001b[0m\u001b[0m\n",
      "\u001b[0;32m/home/hoang/miniconda2/envs/pydata/lib/python3.5/site-packages/theano/compile/function_module.py\u001b[0m in \u001b[0;36m__call__\u001b[0;34m(self, *args, **kwargs)\u001b[0m\n\u001b[1;32m    882\u001b[0m         \u001b[0;32mtry\u001b[0m\u001b[0;34m:\u001b[0m\u001b[0;34m\u001b[0m\u001b[0m\n\u001b[1;32m    883\u001b[0m             \u001b[0moutputs\u001b[0m \u001b[0;34m=\u001b[0m\u001b[0;31m\\\u001b[0m\u001b[0;34m\u001b[0m\u001b[0m\n\u001b[0;32m--> 884\u001b[0;31m                 \u001b[0mself\u001b[0m\u001b[0;34m.\u001b[0m\u001b[0mfn\u001b[0m\u001b[0;34m(\u001b[0m\u001b[0;34m)\u001b[0m \u001b[0;32mif\u001b[0m \u001b[0moutput_subset\u001b[0m \u001b[0;32mis\u001b[0m \u001b[0;32mNone\u001b[0m \u001b[0;32melse\u001b[0m\u001b[0;31m\\\u001b[0m\u001b[0;34m\u001b[0m\u001b[0m\n\u001b[0m\u001b[1;32m    885\u001b[0m                 \u001b[0mself\u001b[0m\u001b[0;34m.\u001b[0m\u001b[0mfn\u001b[0m\u001b[0;34m(\u001b[0m\u001b[0moutput_subset\u001b[0m\u001b[0;34m=\u001b[0m\u001b[0moutput_subset\u001b[0m\u001b[0;34m)\u001b[0m\u001b[0;34m\u001b[0m\u001b[0m\n\u001b[1;32m    886\u001b[0m         \u001b[0;32mexcept\u001b[0m \u001b[0mException\u001b[0m\u001b[0;34m:\u001b[0m\u001b[0;34m\u001b[0m\u001b[0m\n",
      "\u001b[0;31mKeyboardInterrupt\u001b[0m: "
     ]
    }
   ],
   "source": [
    "# build the model: \n",
    "print('Build model attention for activity and output with blstm')\n",
    "main_input = Input(shape=(maxlen, num_features), name='main_input')\n",
    "\n",
    "# one shared layer\n",
    "l1 = Bidirectional(LSTM(500, implementation=2, kernel_initializer=\"glorot_uniform\", dropout=0.2, return_sequences=True))(main_input)\n",
    "b1 = BatchNormalization()(l1)\n",
    "\n",
    "# the layer specialized in activity prediction\n",
    "l2_1 =Bidirectional(LSTM(500, implementation=2, kernel_initializer=\"glorot_uniform\", dropout=0.2, return_sequences=True))(b1) \n",
    "b2_1 = BatchNormalization()(l2_1)\n",
    "att_1 = AttLayer()(b2_1)\n",
    "\n",
    "# the layer specialized in time prediction\n",
    "l2_2 = Bidirectional(LSTM(500, implementation=2, kernel_initializer=\"glorot_uniform\", dropout=0.2, return_sequences=True))(l1) \n",
    "b2_2 = BatchNormalization()(l2_2)\n",
    "att_2 = AttLayer()(b2_2)\n",
    "\n",
    "act_output = Dense(len(targetchartoindice), activation=\"softmax\", kernel_initializer=\"glorot_uniform\", name=\"act_output\")(att_1)\n",
    "time_output = Dense(1, kernel_initializer=\"glorot_uniform\", name=\"time_output\")(att_2)\n",
    "\n",
    "\n",
    "model = Model(inputs=[main_input], outputs=[act_output, time_output])\n",
    "\n",
    "#compilations\n",
    "opt = optimizers.Nadam(lr=0.0002, beta_1=0.5, beta_2=0.999, epsilon=1e-08, schedule_decay=0.004, clipvalue=3)\n",
    "model.compile(loss={'act_output':'categorical_crossentropy', 'time_output':'mean_absolute_error'}, \n",
    "              optimizer=opt, metrics=['accuracy'])\n",
    "\n",
    "#callbacks\n",
    "early_stopping = EarlyStopping(monitor='val_loss', patience=100)\n",
    "model_checkpoint = ModelCheckpoint(args.outputdir + 'model_{epoch:02d}-{val_loss:.2f}.h5', \n",
    "                                   monitor='val_loss', verbose=0, save_best_only=True, \n",
    "                                   save_weights_only=False, mode='auto')\n",
    "lr_reducer = ReduceLROnPlateau(monitor='val_loss', factor=0.5, patience=10, \n",
    "                               verbose=0, mode='auto', epsilon=0.0001, cooldown=0, min_lr=0)\n",
    "history = History()\n",
    "\n",
    "#fit\n",
    "model.fit(X, {'act_output':y_a, 'time_output':y_t}, validation_split=0.2, verbose=2, \n",
    "          callbacks=[early_stopping, model_checkpoint, lr_reducer, history], batch_size=16, epochs=1000)"
   ]
  },
  {
   "cell_type": "markdown",
   "metadata": {
    "heading_collapsed": true
   },
   "source": [
    "# Model 2"
   ]
  },
  {
   "cell_type": "code",
   "execution_count": null,
   "metadata": {
    "collapsed": true,
    "deletable": true,
    "editable": true,
    "hidden": true
   },
   "outputs": [],
   "source": [
    "# build the model: \n",
    "print('Build model attention for activity and output...')\n",
    "main_input = Input(shape=(maxlen, num_features), name='main_input')\n",
    "\n",
    "# one shared layer\n",
    "l1 = LSTM(100, implementation=2, kernel_initializer=\"glorot_uniform\", dropout=0.2, return_sequences=True)(main_input)\n",
    "b1 = BatchNormalization()(l1)\n",
    "\n",
    "# the layer specialized in activity prediction\n",
    "l2_1 = LSTM(100, implementation=2, kernel_initializer=\"glorot_uniform\", dropout=0.2, return_sequences=True)(b1) \n",
    "b2_1 = BatchNormalization()(l2_1)\n",
    "att_1 = AttLayer()(b2_1)\n",
    "\n",
    "# the layer specialized in time prediction\n",
    "l2_2 = LSTM(100, implementation=2, kernel_initializer=\"glorot_uniform\", dropout=0.2, return_sequences=False)(l1) \n",
    "b2_2 = BatchNormalization()(l2_2)\n",
    "\n",
    "\n",
    "act_output = Dense(len(targetchartoindice), activation=\"softmax\", kernel_initializer=\"glorot_uniform\", name=\"act_output\")(att_1)\n",
    "time_output = Dense(1, kernel_initializer=\"glorot_uniform\", name=\"time_output\")(b2_2)\n",
    "\n",
    "\n",
    "model = Model(inputs=[main_input], outputs=[act_output, time_output])\n",
    "\n",
    "#compilations\n",
    "opt = optimizers.Nadam(lr=0.002, beta_1=0.9, beta_2=0.999, epsilon=1e-08, schedule_decay=0.004, clipvalue=3)\n",
    "model.compile(loss={'act_output':'categorical_crossentropy', 'time_output':'mean_absolute_error'}, \n",
    "              optimizer=opt, metrics=['accuracy'])\n",
    "\n",
    "#callbacks\n",
    "early_stopping = EarlyStopping(monitor='val_loss', patience=83)\n",
    "model_checkpoint = ModelCheckpoint(args.outputdir + 'model_{epoch:02d}-{val_loss:.2f}.h5', \n",
    "                                   monitor='val_loss', verbose=0, save_best_only=True, \n",
    "                                   save_weights_only=False, mode='auto')\n",
    "lr_reducer = ReduceLROnPlateau(monitor='val_loss', factor=0.5, patience=10, \n",
    "                               verbose=0, mode='auto', epsilon=0.0001, cooldown=0, min_lr=0)\n",
    "history = History()\n",
    "\n",
    "#fit\n",
    "model.fit(X, {'act_output':y_a, 'time_output':y_t}, validation_split=0.2, verbose=2, \n",
    "          callbacks=[early_stopping, model_checkpoint, lr_reducer, history], batch_size=16, epochs=500)"
   ]
  },
  {
   "cell_type": "markdown",
   "metadata": {
    "heading_collapsed": true
   },
   "source": [
    "# Plot"
   ]
  },
  {
   "cell_type": "code",
   "execution_count": 10,
   "metadata": {
    "collapsed": false,
    "deletable": true,
    "editable": true,
    "hidden": true
   },
   "outputs": [
    {
     "name": "stdout",
     "output_type": "stream",
     "text": [
      "____________________________________________________________________________________________________\n",
      "Layer (type)                     Output Shape          Param #     Connected to                     \n",
      "====================================================================================================\n",
      "main_input (InputLayer)          (None, 15, 14)        0                                            \n",
      "____________________________________________________________________________________________________\n",
      "bidirectional_1 (Bidirectional)  (None, 15, 1000)      2060000     main_input[0][0]                 \n",
      "____________________________________________________________________________________________________\n",
      "batch_normalization_1 (BatchNorm (None, 15, 1000)      4000        bidirectional_1[0][0]            \n",
      "____________________________________________________________________________________________________\n",
      "bidirectional_2 (Bidirectional)  (None, 15, 1000)      6004000     batch_normalization_1[0][0]      \n",
      "____________________________________________________________________________________________________\n",
      "bidirectional_3 (Bidirectional)  (None, 15, 1000)      6004000     bidirectional_1[0][0]            \n",
      "____________________________________________________________________________________________________\n",
      "batch_normalization_2 (BatchNorm (None, 15, 1000)      4000        bidirectional_2[0][0]            \n",
      "____________________________________________________________________________________________________\n",
      "batch_normalization_3 (BatchNorm (None, 15, 1000)      4000        bidirectional_3[0][0]            \n",
      "____________________________________________________________________________________________________\n",
      "att_layer_1 (AttLayer)           (None, 1000)          1000        batch_normalization_2[0][0]      \n",
      "____________________________________________________________________________________________________\n",
      "att_layer_2 (AttLayer)           (None, 1000)          1000        batch_normalization_3[0][0]      \n",
      "____________________________________________________________________________________________________\n",
      "act_output (Dense)               (None, 10)            10010       att_layer_1[0][0]                \n",
      "____________________________________________________________________________________________________\n",
      "time_output (Dense)              (None, 1)             1001        att_layer_2[0][0]                \n",
      "====================================================================================================\n",
      "Total params: 14,093,011\n",
      "Trainable params: 14,087,011\n",
      "Non-trainable params: 6,000\n",
      "____________________________________________________________________________________________________\n"
     ]
    }
   ],
   "source": [
    "model.summary()"
   ]
  },
  {
   "cell_type": "code",
   "execution_count": 11,
   "metadata": {
    "collapsed": false,
    "hidden": true
   },
   "outputs": [
    {
     "data": {
      "text/plain": [
       "dict_keys(['act_output_loss', 'val_time_output_loss', 'val_act_output_loss', 'loss', 'val_time_output_acc', 'act_output_acc', 'time_output_loss', 'val_loss', 'time_output_acc', 'val_act_output_acc', 'lr'])"
      ]
     },
     "execution_count": 11,
     "metadata": {},
     "output_type": "execute_result"
    }
   ],
   "source": [
    "history.history.keys()"
   ]
  },
  {
   "cell_type": "code",
   "execution_count": 12,
   "metadata": {
    "collapsed": false,
    "hidden": true
   },
   "outputs": [
    {
     "data": {
      "image/png": "[encoded data removed]",
      "text/plain": [
       "<matplotlib.figure.Figure at 0x7f9d35fe1c18>"
      ]
     },
     "metadata": {},
     "output_type": "display_data"
    }
   ],
   "source": [
    "# summarize history for activity accuracy\n",
    "plt.plot(history.history['act_output_acc'])\n",
    "plt.plot(history.history['val_act_output_acc'])\n",
    "plt.title('Activity accuracy')\n",
    "plt.ylabel('accuracy')\n",
    "plt.xlabel('epoch')\n",
    "plt.legend(['train', 'val'], loc='upper right')\n",
    "plt.show()"
   ]
  },
  {
   "cell_type": "code",
   "execution_count": 13,
   "metadata": {
    "collapsed": false,
    "hidden": true
   },
   "outputs": [
    {
     "data": {
      "image/png": "[encoded data removed]",
      "text/plain": [
       "<matplotlib.figure.Figure at 0x7f9d35f5fb00>"
      ]
     },
     "metadata": {},
     "output_type": "display_data"
    }
   ],
   "source": [
    "# summarize history for activity loss\n",
    "plt.plot(history.history['act_output_loss'])\n",
    "plt.plot(history.history['val_act_output_loss'])\n",
    "plt.title('Activity loss')\n",
    "plt.ylabel('loss')\n",
    "plt.xlabel('epoch')\n",
    "plt.legend(['train', 'val'], loc='upper right')\n",
    "plt.show()"
   ]
  },
  {
   "cell_type": "code",
   "execution_count": 14,
   "metadata": {
    "collapsed": false,
    "hidden": true
   },
   "outputs": [
    {
     "data": {
      "image/png": "[encoded data removed]",
      "text/plain": [
       "<matplotlib.figure.Figure at 0x7f9d34677940>"
      ]
     },
     "metadata": {},
     "output_type": "display_data"
    }
   ],
   "source": [
    "# summarize history for time loss\n",
    "plt.plot(history.history['time_output_loss'])\n",
    "plt.plot(history.history['val_time_output_loss'])\n",
    "plt.title('Time loss')\n",
    "plt.ylabel('loss')\n",
    "plt.xlabel('epoch')\n",
    "plt.legend(['train', 'val'], loc='upper right')\n",
    "plt.show()"
   ]
  },
  {
   "cell_type": "code",
   "execution_count": null,
   "metadata": {
    "collapsed": false,
    "hidden": true
   },
   "outputs": [],
   "source": [
    "# summarize history for model loss\n",
    "plt.plot(history.history['loss'])\n",
    "plt.plot(history.history['val_loss'])\n",
    "plt.title('Model loss')\n",
    "plt.ylabel('loss')\n",
    "plt.xlabel('epoch')\n",
    "plt.legend(['train', 'val'], loc='upper right')\n",
    "plt.show()"
   ]
  }
 ],
 "metadata": {
  "kernelspec": {
   "display_name": "Python 3",
   "language": "python",
   "name": "python3"
  },
  "language_info": {
   "codemirror_mode": {
    "name": "ipython",
    "version": 3
   },
   "file_extension": ".py",
   "mimetype": "text/x-python",
   "name": "python",
   "nbconvert_exporter": "python",
   "pygments_lexer": "ipython3",
   "version": "3.5.3"
  },
  "toc": {
   "colors": {
    "hover_highlight": "#DAA520",
    "running_highlight": "#FF0000",
    "selected_highlight": "#FFD700"
   },
   "moveMenuLeft": true,
   "nav_menu": {
    "height": "66px",
    "width": "252px"
   },
   "navigate_menu": true,
   "number_sections": true,
   "sideBar": true,
   "threshold": 4,
   "toc_cell": false,
   "toc_section_display": "block",
   "toc_window_display": false
  }
 },
 "nbformat": 4,
 "nbformat_minor": 2
}
