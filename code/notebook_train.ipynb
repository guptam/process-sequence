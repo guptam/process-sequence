{
 "cells": [
  {
   "cell_type": "markdown",
   "metadata": {
    "deletable": true,
    "editable": true
   },
   "source": [
    "this script trains an LSTM model on one of the data files in the data folder of\n",
    "this repository. the input file can be changed to another file from the data folder\n",
    "by changing its name in line 46.\n",
    "\n",
    "it is recommended to run this script on GPU, as recurrent networks are quite \n",
    "computationally intensive.\n",
    "\n",
    "Author: Niek Tax"
   ]
  },
  {
   "cell_type": "code",
   "execution_count": 1,
   "metadata": {
    "collapsed": false,
    "deletable": true,
    "editable": true
   },
   "outputs": [
    {
     "name": "stderr",
     "output_type": "stream",
     "text": [
      "Using Theano backend.\n"
     ]
    }
   ],
   "source": [
    "from keras.models import Sequential, Model\n",
    "from keras.layers.core import Dense\n",
    "from keras.layers.recurrent import LSTM, GRU, SimpleRNN\n",
    "from keras.layers import Input\n",
    "from keras.utils.data_utils import get_file\n",
    "from keras.regularizers import WeightRegularizer\n",
    "from keras.optimizers import Nadam\n",
    "from keras.callbacks import EarlyStopping, ModelCheckpoint, ReduceLROnPlateau\n",
    "from keras.layers.normalization import BatchNormalization"
   ]
  },
  {
   "cell_type": "code",
   "execution_count": 2,
   "metadata": {
    "collapsed": true,
    "deletable": true,
    "editable": true
   },
   "outputs": [],
   "source": [
    "from __future__ import print_function, division\n",
    "from collections import Counter\n",
    "import unicodecsv\n",
    "import numpy as np\n",
    "import random\n",
    "import sys\n",
    "import os\n",
    "import copy\n",
    "import csv\n",
    "import time\n",
    "from itertools import izip, islice\n",
    "from datetime import datetime\n",
    "from math import log"
   ]
  },
  {
   "cell_type": "markdown",
   "metadata": {
    "deletable": true,
    "editable": true
   },
   "source": [
    "# Read"
   ]
  },
  {
   "cell_type": "code",
   "execution_count": 3,
   "metadata": {
    "collapsed": true,
    "deletable": true,
    "editable": true
   },
   "outputs": [],
   "source": [
    "eventlog = \"helpdesk_copy.csv\"\n",
    "lastcase = ''\n",
    "line = ''\n",
    "firstLine = True\n",
    "lines = []\n",
    "timeseqs = []\n",
    "timeseqs2 = []\n",
    "timeseqs3 = []\n",
    "timeseqs4 = []\n",
    "times = []\n",
    "times2 = []\n",
    "times3 = []\n",
    "times4 = []\n",
    "numlines = 0\n",
    "casestarttime = None\n",
    "lasteventtime = None\n",
    "ascii_offset = 161"
   ]
  },
  {
   "cell_type": "code",
   "execution_count": 4,
   "metadata": {
    "collapsed": false,
    "deletable": true,
    "editable": true
   },
   "outputs": [
    {
     "data": {
      "text/plain": [
       "['CaseID', 'ActivityID', 'CompleteTimestamp']"
      ]
     },
     "execution_count": 4,
     "metadata": {},
     "output_type": "execute_result"
    }
   ],
   "source": [
    "csvfile = open('../data/%s' % eventlog, 'r')\n",
    "spamreader = csv.reader(csvfile, delimiter=',', quotechar='|')\n",
    "next(spamreader, None)  # skip the headers"
   ]
  },
  {
   "cell_type": "code",
   "execution_count": 5,
   "metadata": {
    "collapsed": true,
    "deletable": true,
    "editable": true
   },
   "outputs": [],
   "source": [
    "for row in islice(spamreader, 0, 174):\n",
    "    t = time.strptime(row[2], \"%Y-%m-%d %H:%M:%S\")\n",
    "    if row[0]!=lastcase:\n",
    "        casestarttime = t\n",
    "        lasteventtime = t\n",
    "        lastcase = row[0]\n",
    "        if not firstLine:        \n",
    "            lines.append(line)\n",
    "            timeseqs.append(times)\n",
    "            timeseqs2.append(times2)\n",
    "        line = ''\n",
    "        times = []\n",
    "        times2 = []\n",
    "        numlines+=1\n",
    "    line+=unichr(int(row[1])+ascii_offset)\n",
    "    timesincelastevent = datetime.fromtimestamp(time.mktime(t))-datetime.fromtimestamp(time.mktime(lasteventtime))\n",
    "    timesincecasestart = datetime.fromtimestamp(time.mktime(t))-datetime.fromtimestamp(time.mktime(casestarttime))\n",
    "    timediff = 86400 * timesincelastevent.days + timesincelastevent.seconds\n",
    "    timediff2 = 86400 * timesincecasestart.days + timesincecasestart.seconds\n",
    "    times.append(timediff)\n",
    "    times2.append(timediff2)\n",
    "    lasteventtime = t\n",
    "    firstLine = False\n",
    "    \n",
    "# add last case\n",
    "lines.append(line)\n",
    "timeseqs.append(times)\n",
    "timeseqs2.append(times2)\n",
    "numlines+=1"
   ]
  },
  {
   "cell_type": "code",
   "execution_count": 6,
   "metadata": {
    "collapsed": false,
    "deletable": true,
    "editable": true
   },
   "outputs": [
    {
     "name": "stdout",
     "output_type": "stream",
     "text": [
      "divisor: 209169.482759\n",
      "divisor2: 399919.678161\n"
     ]
    }
   ],
   "source": [
    "divisor = np.mean([item for sublist in timeseqs for item in sublist])\n",
    "print('divisor: {}'.format(divisor))\n",
    "divisor2 = np.mean([item for sublist in timeseqs2 for item in sublist])\n",
    "print('divisor2: {}'.format(divisor2))"
   ]
  },
  {
   "cell_type": "code",
   "execution_count": 7,
   "metadata": {
    "collapsed": false,
    "deletable": true,
    "editable": true
   },
   "outputs": [
    {
     "data": {
      "text/plain": [
       "51"
      ]
     },
     "execution_count": 7,
     "metadata": {},
     "output_type": "execute_result"
    }
   ],
   "source": [
    "numlines"
   ]
  },
  {
   "cell_type": "code",
   "execution_count": 8,
   "metadata": {
    "collapsed": true,
    "deletable": true,
    "editable": true
   },
   "outputs": [],
   "source": [
    "elems_per_fold = int(round(numlines/3))\n",
    "fold1 = lines[:elems_per_fold]\n",
    "fold1_t = timeseqs[:elems_per_fold]\n",
    "fold1_t2 = timeseqs2[:elems_per_fold]\n",
    "\n",
    "fold2 = lines[elems_per_fold:2*elems_per_fold]\n",
    "fold2_t = timeseqs[elems_per_fold:2*elems_per_fold]\n",
    "fold2_t2 = timeseqs2[elems_per_fold:2*elems_per_fold]\n",
    "\n",
    "fold3 = lines[2*elems_per_fold:]\n",
    "fold3_t = timeseqs[2*elems_per_fold:]\n",
    "fold3_t2 = timeseqs2[2*elems_per_fold:]"
   ]
  },
  {
   "cell_type": "code",
   "execution_count": 9,
   "metadata": {
    "collapsed": true,
    "deletable": true,
    "editable": true
   },
   "outputs": [],
   "source": [
    "lines = fold1 + fold2\n",
    "lines_t = fold1_t + fold2_t\n",
    "lines_t2 = fold1_t2 + fold2_t2"
   ]
  },
  {
   "cell_type": "code",
   "execution_count": 10,
   "metadata": {
    "collapsed": true,
    "deletable": true,
    "editable": true
   },
   "outputs": [],
   "source": [
    "step = 1\n",
    "sentences = []\n",
    "softness = 0\n",
    "next_chars = []\n",
    "lines = map(lambda x: x+'!',lines)\n",
    "maxlen = max(map(lambda x: len(x),lines))"
   ]
  },
  {
   "cell_type": "code",
   "execution_count": 11,
   "metadata": {
    "collapsed": false,
    "deletable": true,
    "editable": true,
    "scrolled": true
   },
   "outputs": [
    {
     "name": "stdout",
     "output_type": "stream",
     "text": [
      "total chars: 5, target chars: 6\n",
      "{0: u'\\xa2', 1: u'\\xa4', 2: u'\\xa7', 3: u'\\xa9', 4: u'\\xaa'}\n"
     ]
    }
   ],
   "source": [
    "chars = map(lambda x : set(x),lines)\n",
    "chars = list(set().union(*chars))\n",
    "chars.sort()\n",
    "target_chars = copy.copy(chars)\n",
    "chars.remove('!')\n",
    "print('total chars: {}, target chars: {}'.format(len(chars), len(target_chars)))\n",
    "char_indices = dict((c, i) for i, c in enumerate(chars))\n",
    "indices_char = dict((i, c) for i, c in enumerate(chars))\n",
    "target_char_indices = dict((c, i) for i, c in enumerate(target_chars))\n",
    "target_indices_char = dict((i, c) for i, c in enumerate(target_chars))\n",
    "print(indices_char)"
   ]
  },
  {
   "cell_type": "code",
   "execution_count": 12,
   "metadata": {
    "collapsed": false,
    "deletable": true,
    "editable": true
   },
   "outputs": [
    {
     "data": {
      "text/plain": [
       "{0: u'\\xa2', 1: u'\\xa4', 2: u'\\xa7', 3: u'\\xa9', 4: u'\\xaa'}"
      ]
     },
     "execution_count": 12,
     "metadata": {},
     "output_type": "execute_result"
    }
   ],
   "source": [
    "indices_char"
   ]
  },
  {
   "cell_type": "code",
   "execution_count": 13,
   "metadata": {
    "collapsed": false,
    "deletable": true,
    "editable": true
   },
   "outputs": [
    {
     "data": {
      "text/plain": [
       "{0: u'!', 1: u'\\xa2', 2: u'\\xa4', 3: u'\\xa7', 4: u'\\xa9', 5: u'\\xaa'}"
      ]
     },
     "execution_count": 13,
     "metadata": {},
     "output_type": "execute_result"
    }
   ],
   "source": [
    "target_indices_char"
   ]
  },
  {
   "cell_type": "markdown",
   "metadata": {
    "deletable": true,
    "editable": true
   },
   "source": [
    "# Read"
   ]
  },
  {
   "cell_type": "code",
   "execution_count": 14,
   "metadata": {
    "collapsed": false,
    "deletable": true,
    "editable": true
   },
   "outputs": [
    {
     "data": {
      "text/plain": [
       "['CaseID', 'ActivityID', 'CompleteTimestamp']"
      ]
     },
     "execution_count": 14,
     "metadata": {},
     "output_type": "execute_result"
    }
   ],
   "source": [
    "csvfile = open('../data/%s' % eventlog, 'r')\n",
    "spamreader = csv.reader(csvfile, delimiter=',', quotechar='|')\n",
    "next(spamreader, None)  # skip the headers"
   ]
  },
  {
   "cell_type": "code",
   "execution_count": 15,
   "metadata": {
    "collapsed": true,
    "deletable": true,
    "editable": true
   },
   "outputs": [],
   "source": [
    "lastcase = ''\n",
    "line = ''\n",
    "firstLine = True\n",
    "lines = []\n",
    "timeseqs = []\n",
    "timeseqs2 = []\n",
    "timeseqs3 = []\n",
    "timeseqs4 = []\n",
    "times = []\n",
    "times2 = []\n",
    "times3 = []\n",
    "times4 = []\n",
    "numlines = 0\n",
    "casestarttime = None\n",
    "lasteventtime = None"
   ]
  },
  {
   "cell_type": "code",
   "execution_count": 16,
   "metadata": {
    "collapsed": false,
    "deletable": true,
    "editable": true
   },
   "outputs": [],
   "source": [
    "for row in islice(spamreader, 0, 174):\n",
    "    t = time.strptime(row[2], \"%Y-%m-%d %H:%M:%S\")\n",
    "    if row[0]!=lastcase:\n",
    "        casestarttime = t\n",
    "        lasteventtime = t\n",
    "        lastcase = row[0]\n",
    "        if not firstLine:        \n",
    "            lines.append(line)\n",
    "            timeseqs.append(times)\n",
    "            timeseqs2.append(times2)\n",
    "            timeseqs3.append(times3)\n",
    "            timeseqs4.append(times4)\n",
    "        line = ''\n",
    "        times = []\n",
    "        times2 = []\n",
    "        times3 = []\n",
    "        times4 = []\n",
    "        numlines+=1\n",
    "    line+=unichr(int(row[1])+ascii_offset)\n",
    "    timesincelastevent = datetime.fromtimestamp(time.mktime(t))-datetime.fromtimestamp(time.mktime(lasteventtime))\n",
    "    timesincecasestart = datetime.fromtimestamp(time.mktime(t))-datetime.fromtimestamp(time.mktime(casestarttime))\n",
    "    midnight = datetime.fromtimestamp(time.mktime(t)).replace(hour=0, minute=0, second=0, microsecond=0)\n",
    "    timesincemidnight = datetime.fromtimestamp(time.mktime(t))-midnight\n",
    "    timediff = 86400 * timesincelastevent.days + timesincelastevent.seconds\n",
    "    timediff2 = 86400 * timesincecasestart.days + timesincecasestart.seconds\n",
    "    timediff3 = timesincemidnight.seconds\n",
    "    timediff4 = datetime.fromtimestamp(time.mktime(t)).weekday()\n",
    "    times.append(timediff)\n",
    "    times2.append(timediff2)\n",
    "    times3.append(timediff3)\n",
    "    times4.append(timediff4)\n",
    "    lasteventtime = t\n",
    "    firstLine = False\n",
    "\n",
    "# add last case\n",
    "lines.append(line)\n",
    "timeseqs.append(times)\n",
    "timeseqs2.append(times2)\n",
    "timeseqs3.append(times3)\n",
    "timeseqs4.append(times4)\n",
    "numlines+=1"
   ]
  },
  {
   "cell_type": "code",
   "execution_count": 17,
   "metadata": {
    "collapsed": false,
    "scrolled": true
   },
   "outputs": [
    {
     "data": {
      "text/plain": [
       "(51, 50, 50, 50, 50, 50)"
      ]
     },
     "execution_count": 17,
     "metadata": {},
     "output_type": "execute_result"
    }
   ],
   "source": [
    "numlines, len(lines), len(timeseqs), len(timeseqs2), len(timeseqs3), len(timeseqs4) "
   ]
  },
  {
   "cell_type": "code",
   "execution_count": 18,
   "metadata": {
    "collapsed": false,
    "deletable": true,
    "editable": true
   },
   "outputs": [],
   "source": [
    "elems_per_fold = int(round(numlines/3))\n",
    "fold1 = lines[:elems_per_fold]\n",
    "fold1_t = timeseqs[:elems_per_fold]\n",
    "fold1_t2 = timeseqs2[:elems_per_fold]\n",
    "fold1_t3 = timeseqs3[:elems_per_fold]\n",
    "fold1_t4 = timeseqs4[:elems_per_fold]\n",
    "\n",
    "with open('output_files/folds/fold1.csv', 'wb') as csvfile:\n",
    "    spamwriter = csv.writer(csvfile, delimiter=',', quotechar='|', quoting=csv.QUOTE_MINIMAL)\n",
    "    for row, timeseq in izip(fold1, fold1_t):    \n",
    "        spamwriter.writerow([unicode(s).encode(\"utf-8\") +'#{}'.format(t) for s, t in izip(row, timeseq)])"
   ]
  },
  {
   "cell_type": "code",
   "execution_count": 19,
   "metadata": {
    "collapsed": true,
    "deletable": true,
    "editable": true
   },
   "outputs": [],
   "source": [
    "fold2 = lines[elems_per_fold:2*elems_per_fold]\n",
    "fold2_t = timeseqs[elems_per_fold:2*elems_per_fold]\n",
    "fold2_t2 = timeseqs2[elems_per_fold:2*elems_per_fold]\n",
    "fold2_t3 = timeseqs3[elems_per_fold:2*elems_per_fold]\n",
    "fold2_t4 = timeseqs4[elems_per_fold:2*elems_per_fold]\n",
    "\n",
    "with open('output_files/folds/fold2.csv', 'wb') as csvfile:\n",
    "    spamwriter = csv.writer(csvfile, delimiter=',', quotechar='|', quoting=csv.QUOTE_MINIMAL)\n",
    "    for row, timeseq in izip(fold2, fold2_t):\n",
    "        spamwriter.writerow([unicode(s).encode(\"utf-8\") +'#{}'.format(t) for s, t in izip(row, timeseq)])"
   ]
  },
  {
   "cell_type": "code",
   "execution_count": 20,
   "metadata": {
    "collapsed": true,
    "deletable": true,
    "editable": true
   },
   "outputs": [],
   "source": [
    "fold3 = lines[2*elems_per_fold:]\n",
    "fold3_t = timeseqs[2*elems_per_fold:]\n",
    "fold3_t2 = timeseqs2[2*elems_per_fold:]\n",
    "fold3_t3 = timeseqs3[2*elems_per_fold:]\n",
    "fold3_t4 = timeseqs4[2*elems_per_fold:]\n",
    "\n",
    "with open('output_files/folds/fold3.csv', 'wb') as csvfile:\n",
    "    spamwriter = csv.writer(csvfile, delimiter=',', quotechar='|', quoting=csv.QUOTE_MINIMAL)\n",
    "    for row, timeseq in izip(fold3, fold3_t):\n",
    "        spamwriter.writerow([unicode(s).encode(\"utf-8\") +'#{}'.format(t) for s, t in izip(row, timeseq)])"
   ]
  },
  {
   "cell_type": "code",
   "execution_count": 21,
   "metadata": {
    "collapsed": true,
    "deletable": true,
    "editable": true
   },
   "outputs": [],
   "source": [
    "lines = fold1 + fold2\n",
    "lines_t = fold1_t + fold2_t\n",
    "lines_t2 = fold1_t2 + fold2_t2\n",
    "lines_t3 = fold1_t3 + fold2_t3\n",
    "lines_t4 = fold1_t4 + fold2_t4"
   ]
  },
  {
   "cell_type": "code",
   "execution_count": 22,
   "metadata": {
    "collapsed": false
   },
   "outputs": [
    {
     "data": {
      "text/plain": [
       "(34, 34, 34, 34, 34)"
      ]
     },
     "execution_count": 22,
     "metadata": {},
     "output_type": "execute_result"
    }
   ],
   "source": [
    "len(lines), len(lines_t), len(lines_t2), len(lines_t3), len(lines_t4)"
   ]
  },
  {
   "cell_type": "code",
   "execution_count": 35,
   "metadata": {
    "collapsed": true,
    "deletable": true,
    "editable": true
   },
   "outputs": [],
   "source": [
    "step = 1\n",
    "sentences = []\n",
    "softness = 0\n",
    "next_chars = []\n",
    "lines = map(lambda x: x+'!',lines)\n",
    "\n",
    "sentences_t = []\n",
    "sentences_t2 = []\n",
    "sentences_t3 = []\n",
    "sentences_t4 = []\n",
    "next_chars_t = []\n",
    "next_chars_t2 = []\n",
    "next_chars_t3 = []\n",
    "next_chars_t4 = []"
   ]
  },
  {
   "cell_type": "code",
   "execution_count": 36,
   "metadata": {
    "collapsed": false,
    "deletable": true,
    "editable": true
   },
   "outputs": [
    {
     "name": "stdout",
     "output_type": "stream",
     "text": [
      "nb sequences: 114\n"
     ]
    }
   ],
   "source": [
    "for line, line_t, line_t2, line_t3, line_t4 in izip(lines, lines_t, lines_t2, lines_t3, lines_t4):\n",
    "    for i in range(0, len(line), step):\n",
    "        if i==0:\n",
    "            continue\n",
    "        sentences.append(line[0: i])\n",
    "        sentences_t.append(line_t[0:i])\n",
    "        sentences_t2.append(line_t2[0:i])\n",
    "        sentences_t3.append(line_t3[0:i])\n",
    "        sentences_t4.append(line_t4[0:i])\n",
    "        next_chars.append(line[i])\n",
    "        if i==len(line)-1: # special case to deal time of end character\n",
    "            next_chars_t.append(0)\n",
    "            next_chars_t2.append(0)\n",
    "            next_chars_t3.append(0)\n",
    "            next_chars_t4.append(0)\n",
    "        else:\n",
    "            next_chars_t.append(line_t[i])\n",
    "            next_chars_t2.append(line_t2[i])\n",
    "            next_chars_t3.append(line_t3[i])\n",
    "            next_chars_t4.append(line_t4[i])\n",
    "print('nb sequences:', len(sentences))"
   ]
  },
  {
   "cell_type": "markdown",
   "metadata": {
    "deletable": true,
    "editable": true
   },
   "source": [
    "# Vectorization"
   ]
  },
  {
   "cell_type": "code",
   "execution_count": 66,
   "metadata": {
    "collapsed": false,
    "deletable": true,
    "editable": true,
    "scrolled": true
   },
   "outputs": [
    {
     "name": "stdout",
     "output_type": "stream",
     "text": [
      "Vectorization...\n",
      "num features: 10\n"
     ]
    }
   ],
   "source": [
    "print('Vectorization...')\n",
    "num_features = len(chars)+5\n",
    "print('num features: {}'.format(num_features))\n",
    "X = np.zeros((len(sentences), maxlen, num_features), dtype=np.float32)\n",
    "y_a = np.zeros((len(sentences), len(target_chars)), dtype=np.float32)\n",
    "y_t = np.zeros((len(sentences)), dtype=np.float32)\n",
    "for i, sentence in enumerate(sentences):\n",
    "    leftpad = maxlen-len(sentence)\n",
    "    next_t = next_chars_t[i]\n",
    "    sentence_t = sentences_t[i]\n",
    "    sentence_t2 = sentences_t2[i]\n",
    "    sentence_t3 = sentences_t3[i]\n",
    "    sentence_t4 = sentences_t4[i]\n",
    "    for t, char in enumerate(sentence):\n",
    "        multiset_abstraction = Counter(sentence[:t+1])\n",
    "        for c in chars:\n",
    "            if c==char:\n",
    "                X[i, t+leftpad, char_indices[c]] = 1\n",
    "        X[i, t+leftpad, len(chars)] = t+1\n",
    "        X[i, t+leftpad, len(chars)+1] = sentence_t[t]/divisor\n",
    "        X[i, t+leftpad, len(chars)+2] = sentence_t2[t]/divisor2\n",
    "        X[i, t+leftpad, len(chars)+3] = sentence_t3[t]/86400\n",
    "        X[i, t+leftpad, len(chars)+4] = sentence_t4[t]/7\n",
    "    for c in target_chars:\n",
    "        if c==next_chars[i]:\n",
    "            y_a[i, target_char_indices[c]] = 1-softness\n",
    "        else:\n",
    "            y_a[i, target_char_indices[c]] = softness/(len(target_chars)-1)\n",
    "    y_t[i] = next_t/divisor\n",
    "    np.set_printoptions(threshold=np.nan)"
   ]
  },
  {
   "cell_type": "markdown",
   "metadata": {
    "deletable": true,
    "editable": true
   },
   "source": [
    "# Build model"
   ]
  },
  {
   "cell_type": "code",
   "execution_count": 86,
   "metadata": {
    "collapsed": true,
    "deletable": true,
    "editable": true
   },
   "outputs": [
    {
     "name": "stdout",
     "output_type": "stream",
     "text": [
      "Build model...\n",
      "Train on 91 samples, validate on 23 samples\n",
      "Epoch 1/500\n",
      "0s - loss: 3.8214 - act_output_loss: 1.9090 - time_output_loss: 1.9124 - val_loss: 2.6368 - val_act_output_loss: 1.6914 - val_time_output_loss: 0.9454\n",
      "Epoch 2/500\n",
      "0s - loss: 2.9912 - act_output_loss: 1.2462 - time_output_loss: 1.7450 - val_loss: 2.6212 - val_act_output_loss: 1.6357 - val_time_output_loss: 0.9855\n",
      "Epoch 3/500\n",
      "0s - loss: 3.0007 - act_output_loss: 1.2885 - time_output_loss: 1.7122 - val_loss: 2.5957 - val_act_output_loss: 1.5780 - val_time_output_loss: 1.0178\n",
      "Epoch 4/500\n",
      "0s - loss: 2.6057 - act_output_loss: 1.0024 - time_output_loss: 1.6033 - val_loss: 2.5457 - val_act_output_loss: 1.5318 - val_time_output_loss: 1.0139\n",
      "Epoch 5/500\n",
      "0s - loss: 2.6815 - act_output_loss: 1.1123 - time_output_loss: 1.5692 - val_loss: 2.5125 - val_act_output_loss: 1.5062 - val_time_output_loss: 1.0063\n",
      "Epoch 6/500\n",
      "0s - loss: 2.5517 - act_output_loss: 0.9676 - time_output_loss: 1.5841 - val_loss: 2.4312 - val_act_output_loss: 1.4623 - val_time_output_loss: 0.9689\n",
      "Epoch 7/500\n",
      "0s - loss: 2.4637 - act_output_loss: 1.0191 - time_output_loss: 1.4445 - val_loss: 2.3353 - val_act_output_loss: 1.4095 - val_time_output_loss: 0.9258\n",
      "Epoch 8/500\n",
      "0s - loss: 2.3925 - act_output_loss: 0.9540 - time_output_loss: 1.4385 - val_loss: 2.2591 - val_act_output_loss: 1.3805 - val_time_output_loss: 0.8786\n",
      "Epoch 9/500\n",
      "0s - loss: 2.5075 - act_output_loss: 1.0684 - time_output_loss: 1.4390 - val_loss: 2.2641 - val_act_output_loss: 1.3541 - val_time_output_loss: 0.9100\n",
      "Epoch 10/500\n",
      "0s - loss: 2.3444 - act_output_loss: 0.9366 - time_output_loss: 1.4078 - val_loss: 2.2547 - val_act_output_loss: 1.3729 - val_time_output_loss: 0.8818\n",
      "Epoch 11/500\n",
      "0s - loss: 2.1221 - act_output_loss: 0.6807 - time_output_loss: 1.4414 - val_loss: 2.2522 - val_act_output_loss: 1.3377 - val_time_output_loss: 0.9146\n",
      "Epoch 12/500\n",
      "0s - loss: 2.1843 - act_output_loss: 0.7672 - time_output_loss: 1.4171 - val_loss: 2.2234 - val_act_output_loss: 1.2918 - val_time_output_loss: 0.9316\n",
      "Epoch 13/500\n",
      "0s - loss: 2.0600 - act_output_loss: 0.7068 - time_output_loss: 1.3532 - val_loss: 2.2326 - val_act_output_loss: 1.2766 - val_time_output_loss: 0.9559\n",
      "Epoch 14/500\n",
      "0s - loss: 2.2345 - act_output_loss: 0.8805 - time_output_loss: 1.3540 - val_loss: 2.1527 - val_act_output_loss: 1.2332 - val_time_output_loss: 0.9195\n",
      "Epoch 15/500\n",
      "0s - loss: 1.9825 - act_output_loss: 0.6619 - time_output_loss: 1.3206 - val_loss: 2.1236 - val_act_output_loss: 1.2431 - val_time_output_loss: 0.8805\n",
      "Epoch 16/500\n",
      "0s - loss: 2.0644 - act_output_loss: 0.6903 - time_output_loss: 1.3742 - val_loss: 2.0921 - val_act_output_loss: 1.2087 - val_time_output_loss: 0.8834\n",
      "Epoch 17/500\n",
      "0s - loss: 1.9891 - act_output_loss: 0.6502 - time_output_loss: 1.3389 - val_loss: 2.1544 - val_act_output_loss: 1.1987 - val_time_output_loss: 0.9557\n",
      "Epoch 18/500\n",
      "0s - loss: 2.0028 - act_output_loss: 0.6794 - time_output_loss: 1.3234 - val_loss: 2.1615 - val_act_output_loss: 1.1527 - val_time_output_loss: 1.0088\n",
      "Epoch 19/500\n",
      "0s - loss: 1.9859 - act_output_loss: 0.6755 - time_output_loss: 1.3104 - val_loss: 2.0663 - val_act_output_loss: 1.0956 - val_time_output_loss: 0.9708\n",
      "Epoch 20/500\n",
      "0s - loss: 1.9754 - act_output_loss: 0.6343 - time_output_loss: 1.3411 - val_loss: 2.0539 - val_act_output_loss: 1.0485 - val_time_output_loss: 1.0054\n",
      "Epoch 21/500\n",
      "0s - loss: 1.9060 - act_output_loss: 0.5737 - time_output_loss: 1.3324 - val_loss: 2.0810 - val_act_output_loss: 1.0435 - val_time_output_loss: 1.0374\n",
      "Epoch 22/500\n",
      "0s - loss: 1.9329 - act_output_loss: 0.5916 - time_output_loss: 1.3413 - val_loss: 2.0256 - val_act_output_loss: 1.0248 - val_time_output_loss: 1.0008\n",
      "Epoch 23/500\n",
      "0s - loss: 1.9723 - act_output_loss: 0.6506 - time_output_loss: 1.3217 - val_loss: 2.0171 - val_act_output_loss: 1.0014 - val_time_output_loss: 1.0158\n",
      "Epoch 24/500\n",
      "0s - loss: 2.0685 - act_output_loss: 0.7549 - time_output_loss: 1.3135 - val_loss: 2.0350 - val_act_output_loss: 0.9678 - val_time_output_loss: 1.0672\n",
      "Epoch 25/500\n",
      "0s - loss: 1.7522 - act_output_loss: 0.5068 - time_output_loss: 1.2454 - val_loss: 1.9583 - val_act_output_loss: 0.9367 - val_time_output_loss: 1.0216\n",
      "Epoch 26/500\n",
      "0s - loss: 1.9136 - act_output_loss: 0.6563 - time_output_loss: 1.2573 - val_loss: 1.9689 - val_act_output_loss: 0.9094 - val_time_output_loss: 1.0595\n",
      "Epoch 27/500\n",
      "0s - loss: 1.9091 - act_output_loss: 0.6172 - time_output_loss: 1.2918 - val_loss: 1.8888 - val_act_output_loss: 0.8165 - val_time_output_loss: 1.0723\n",
      "Epoch 28/500\n",
      "0s - loss: 1.8700 - act_output_loss: 0.5973 - time_output_loss: 1.2728 - val_loss: 1.8151 - val_act_output_loss: 0.7735 - val_time_output_loss: 1.0416\n",
      "Epoch 29/500\n",
      "0s - loss: 1.8275 - act_output_loss: 0.5237 - time_output_loss: 1.3038 - val_loss: 1.8211 - val_act_output_loss: 0.8092 - val_time_output_loss: 1.0119\n",
      "Epoch 30/500\n",
      "0s - loss: 1.7182 - act_output_loss: 0.4580 - time_output_loss: 1.2602 - val_loss: 1.7860 - val_act_output_loss: 0.8239 - val_time_output_loss: 0.9621\n",
      "Epoch 31/500\n",
      "0s - loss: 1.7701 - act_output_loss: 0.4871 - time_output_loss: 1.2831 - val_loss: 1.7649 - val_act_output_loss: 0.8186 - val_time_output_loss: 0.9463\n",
      "Epoch 32/500\n",
      "0s - loss: 1.8402 - act_output_loss: 0.5975 - time_output_loss: 1.2426 - val_loss: 1.8191 - val_act_output_loss: 0.8526 - val_time_output_loss: 0.9664\n",
      "Epoch 33/500\n",
      "0s - loss: 1.8072 - act_output_loss: 0.5353 - time_output_loss: 1.2719 - val_loss: 1.8285 - val_act_output_loss: 0.8558 - val_time_output_loss: 0.9728\n",
      "Epoch 34/500\n",
      "0s - loss: 1.8689 - act_output_loss: 0.6134 - time_output_loss: 1.2555 - val_loss: 1.7431 - val_act_output_loss: 0.7759 - val_time_output_loss: 0.9672\n",
      "Epoch 35/500\n",
      "0s - loss: 1.8538 - act_output_loss: 0.6163 - time_output_loss: 1.2375 - val_loss: 1.5077 - val_act_output_loss: 0.5890 - val_time_output_loss: 0.9188\n",
      "Epoch 36/500\n",
      "0s - loss: 1.8622 - act_output_loss: 0.5837 - time_output_loss: 1.2785 - val_loss: 1.5579 - val_act_output_loss: 0.5554 - val_time_output_loss: 1.0025\n",
      "Epoch 37/500\n",
      "0s - loss: 1.6755 - act_output_loss: 0.4295 - time_output_loss: 1.2459 - val_loss: 1.5248 - val_act_output_loss: 0.5258 - val_time_output_loss: 0.9991\n",
      "Epoch 38/500\n",
      "0s - loss: 1.7336 - act_output_loss: 0.4998 - time_output_loss: 1.2338 - val_loss: 1.4286 - val_act_output_loss: 0.4702 - val_time_output_loss: 0.9584\n",
      "Epoch 39/500\n",
      "0s - loss: 1.9931 - act_output_loss: 0.7156 - time_output_loss: 1.2775 - val_loss: 1.3643 - val_act_output_loss: 0.3967 - val_time_output_loss: 0.9676\n",
      "Epoch 40/500\n",
      "0s - loss: 1.6337 - act_output_loss: 0.4476 - time_output_loss: 1.1861 - val_loss: 1.3304 - val_act_output_loss: 0.3794 - val_time_output_loss: 0.9510\n",
      "Epoch 41/500\n",
      "0s - loss: 1.6242 - act_output_loss: 0.4143 - time_output_loss: 1.2099 - val_loss: 1.3043 - val_act_output_loss: 0.3586 - val_time_output_loss: 0.9457\n",
      "Epoch 42/500\n",
      "0s - loss: 1.7129 - act_output_loss: 0.4792 - time_output_loss: 1.2337 - val_loss: 1.3392 - val_act_output_loss: 0.3518 - val_time_output_loss: 0.9875\n",
      "Epoch 43/500\n",
      "0s - loss: 1.7393 - act_output_loss: 0.5065 - time_output_loss: 1.2329 - val_loss: 1.3260 - val_act_output_loss: 0.3686 - val_time_output_loss: 0.9574\n",
      "Epoch 44/500\n",
      "0s - loss: 1.7931 - act_output_loss: 0.5768 - time_output_loss: 1.2163 - val_loss: 1.2669 - val_act_output_loss: 0.3203 - val_time_output_loss: 0.9466\n",
      "Epoch 45/500\n",
      "0s - loss: 1.7353 - act_output_loss: 0.5236 - time_output_loss: 1.2118 - val_loss: 1.1704 - val_act_output_loss: 0.2307 - val_time_output_loss: 0.9397\n",
      "Epoch 46/500\n",
      "0s - loss: 1.7121 - act_output_loss: 0.4638 - time_output_loss: 1.2483 - val_loss: 1.1673 - val_act_output_loss: 0.2381 - val_time_output_loss: 0.9291\n",
      "Epoch 47/500\n",
      "0s - loss: 1.5896 - act_output_loss: 0.3782 - time_output_loss: 1.2114 - val_loss: 1.1508 - val_act_output_loss: 0.1723 - val_time_output_loss: 0.9786\n",
      "Epoch 48/500\n",
      "0s - loss: 1.6707 - act_output_loss: 0.4735 - time_output_loss: 1.1972 - val_loss: 1.1085 - val_act_output_loss: 0.1983 - val_time_output_loss: 0.9102\n",
      "Epoch 49/500\n",
      "0s - loss: 1.6394 - act_output_loss: 0.4431 - time_output_loss: 1.1963 - val_loss: 1.1092 - val_act_output_loss: 0.1649 - val_time_output_loss: 0.9443\n",
      "Epoch 50/500\n",
      "0s - loss: 1.5362 - act_output_loss: 0.3269 - time_output_loss: 1.2093 - val_loss: 1.0380 - val_act_output_loss: 0.1178 - val_time_output_loss: 0.9202\n",
      "Epoch 51/500\n",
      "0s - loss: 1.6546 - act_output_loss: 0.4521 - time_output_loss: 1.2026 - val_loss: 1.1844 - val_act_output_loss: 0.0881 - val_time_output_loss: 1.0963\n",
      "Epoch 52/500\n",
      "0s - loss: 1.8664 - act_output_loss: 0.6268 - time_output_loss: 1.2396 - val_loss: 1.0728 - val_act_output_loss: 0.0690 - val_time_output_loss: 1.0038\n",
      "Epoch 53/500\n",
      "0s - loss: 1.7610 - act_output_loss: 0.5548 - time_output_loss: 1.2062 - val_loss: 1.0581 - val_act_output_loss: 0.0999 - val_time_output_loss: 0.9581\n",
      "Epoch 54/500\n",
      "0s - loss: 1.7598 - act_output_loss: 0.5332 - time_output_loss: 1.2266 - val_loss: 1.1529 - val_act_output_loss: 0.1135 - val_time_output_loss: 1.0394\n",
      "Epoch 55/500\n",
      "0s - loss: 1.6514 - act_output_loss: 0.4504 - time_output_loss: 1.2010 - val_loss: 1.0776 - val_act_output_loss: 0.0830 - val_time_output_loss: 0.9946\n",
      "Epoch 56/500\n",
      "0s - loss: 1.7116 - act_output_loss: 0.5141 - time_output_loss: 1.1975 - val_loss: 1.0445 - val_act_output_loss: 0.0710 - val_time_output_loss: 0.9735\n",
      "Epoch 57/500\n",
      "0s - loss: 1.6286 - act_output_loss: 0.4260 - time_output_loss: 1.2025 - val_loss: 1.0611 - val_act_output_loss: 0.0876 - val_time_output_loss: 0.9735\n",
      "Epoch 58/500\n",
      "0s - loss: 1.6785 - act_output_loss: 0.4896 - time_output_loss: 1.1890 - val_loss: 1.0393 - val_act_output_loss: 0.1022 - val_time_output_loss: 0.9371\n",
      "Epoch 59/500\n",
      "0s - loss: 1.6715 - act_output_loss: 0.4476 - time_output_loss: 1.2239 - val_loss: 1.0447 - val_act_output_loss: 0.0907 - val_time_output_loss: 0.9539\n",
      "Epoch 60/500\n",
      "0s - loss: 1.5649 - act_output_loss: 0.3780 - time_output_loss: 1.1869 - val_loss: 1.0669 - val_act_output_loss: 0.0459 - val_time_output_loss: 1.0210\n",
      "Epoch 61/500\n",
      "0s - loss: 1.5375 - act_output_loss: 0.3450 - time_output_loss: 1.1925 - val_loss: 1.0125 - val_act_output_loss: 0.0685 - val_time_output_loss: 0.9439\n",
      "Epoch 62/500\n",
      "0s - loss: 1.5241 - act_output_loss: 0.2996 - time_output_loss: 1.2245 - val_loss: 1.0488 - val_act_output_loss: 0.0646 - val_time_output_loss: 0.9842\n",
      "Epoch 63/500\n",
      "0s - loss: 1.5345 - act_output_loss: 0.3353 - time_output_loss: 1.1992 - val_loss: 1.0515 - val_act_output_loss: 0.0655 - val_time_output_loss: 0.9860\n",
      "Epoch 64/500\n",
      "0s - loss: 1.7099 - act_output_loss: 0.5061 - time_output_loss: 1.2037 - val_loss: 1.0169 - val_act_output_loss: 0.0653 - val_time_output_loss: 0.9516\n",
      "Epoch 65/500\n",
      "0s - loss: 1.7291 - act_output_loss: 0.5351 - time_output_loss: 1.1940 - val_loss: 1.0425 - val_act_output_loss: 0.0524 - val_time_output_loss: 0.9901\n",
      "Epoch 66/500\n",
      "0s - loss: 1.7462 - act_output_loss: 0.5451 - time_output_loss: 1.2011 - val_loss: 1.0335 - val_act_output_loss: 0.0591 - val_time_output_loss: 0.9744\n",
      "Epoch 67/500\n",
      "0s - loss: 1.5632 - act_output_loss: 0.3608 - time_output_loss: 1.2024 - val_loss: 1.0184 - val_act_output_loss: 0.0677 - val_time_output_loss: 0.9508\n",
      "Epoch 68/500\n",
      "0s - loss: 1.6476 - act_output_loss: 0.4555 - time_output_loss: 1.1921 - val_loss: 1.0256 - val_act_output_loss: 0.1074 - val_time_output_loss: 0.9183\n",
      "Epoch 69/500\n",
      "0s - loss: 1.6954 - act_output_loss: 0.4926 - time_output_loss: 1.2028 - val_loss: 1.0085 - val_act_output_loss: 0.0619 - val_time_output_loss: 0.9466\n",
      "Epoch 70/500\n",
      "0s - loss: 1.6451 - act_output_loss: 0.4658 - time_output_loss: 1.1793 - val_loss: 0.9767 - val_act_output_loss: 0.0391 - val_time_output_loss: 0.9375\n",
      "Epoch 71/500\n",
      "0s - loss: 1.5980 - act_output_loss: 0.4039 - time_output_loss: 1.1941 - val_loss: 1.0411 - val_act_output_loss: 0.0507 - val_time_output_loss: 0.9904\n",
      "Epoch 72/500\n",
      "0s - loss: 1.6692 - act_output_loss: 0.4846 - time_output_loss: 1.1846 - val_loss: 0.9915 - val_act_output_loss: 0.0484 - val_time_output_loss: 0.9430\n",
      "Epoch 73/500\n",
      "0s - loss: 1.6707 - act_output_loss: 0.4834 - time_output_loss: 1.1873 - val_loss: 0.9982 - val_act_output_loss: 0.0418 - val_time_output_loss: 0.9564\n",
      "Epoch 74/500\n",
      "0s - loss: 1.5878 - act_output_loss: 0.3915 - time_output_loss: 1.1963 - val_loss: 1.0285 - val_act_output_loss: 0.0494 - val_time_output_loss: 0.9792\n",
      "Epoch 75/500\n",
      "0s - loss: 1.6122 - act_output_loss: 0.4290 - time_output_loss: 1.1832 - val_loss: 1.0196 - val_act_output_loss: 0.0411 - val_time_output_loss: 0.9785\n",
      "Epoch 76/500\n",
      "0s - loss: 1.6253 - act_output_loss: 0.3896 - time_output_loss: 1.2357 - val_loss: 1.0134 - val_act_output_loss: 0.0335 - val_time_output_loss: 0.9799\n",
      "Epoch 77/500\n",
      "0s - loss: 1.5185 - act_output_loss: 0.3341 - time_output_loss: 1.1844 - val_loss: 1.0100 - val_act_output_loss: 0.0429 - val_time_output_loss: 0.9671\n",
      "Epoch 78/500\n",
      "0s - loss: 1.6181 - act_output_loss: 0.4337 - time_output_loss: 1.1844 - val_loss: 0.9804 - val_act_output_loss: 0.0495 - val_time_output_loss: 0.9309\n",
      "Epoch 79/500\n",
      "0s - loss: 1.5800 - act_output_loss: 0.3923 - time_output_loss: 1.1877 - val_loss: 1.0552 - val_act_output_loss: 0.0515 - val_time_output_loss: 1.0037\n",
      "Epoch 80/500\n",
      "0s - loss: 1.5821 - act_output_loss: 0.3924 - time_output_loss: 1.1897 - val_loss: 0.9835 - val_act_output_loss: 0.0401 - val_time_output_loss: 0.9434\n",
      "Epoch 81/500\n",
      "0s - loss: 1.4998 - act_output_loss: 0.3335 - time_output_loss: 1.1662 - val_loss: 1.0332 - val_act_output_loss: 0.0388 - val_time_output_loss: 0.9944\n",
      "Epoch 82/500\n",
      "0s - loss: 1.4960 - act_output_loss: 0.3061 - time_output_loss: 1.1899 - val_loss: 0.9977 - val_act_output_loss: 0.0408 - val_time_output_loss: 0.9570\n",
      "Epoch 83/500\n",
      "0s - loss: 1.5997 - act_output_loss: 0.4241 - time_output_loss: 1.1756 - val_loss: 1.0100 - val_act_output_loss: 0.0549 - val_time_output_loss: 0.9550\n",
      "Epoch 84/500\n",
      "0s - loss: 1.5203 - act_output_loss: 0.3529 - time_output_loss: 1.1674 - val_loss: 1.0466 - val_act_output_loss: 0.0704 - val_time_output_loss: 0.9762\n",
      "Epoch 85/500\n",
      "0s - loss: 1.5278 - act_output_loss: 0.3570 - time_output_loss: 1.1708 - val_loss: 1.0184 - val_act_output_loss: 0.0726 - val_time_output_loss: 0.9458\n",
      "Epoch 86/500\n",
      "0s - loss: 1.5107 - act_output_loss: 0.3415 - time_output_loss: 1.1692 - val_loss: 1.0253 - val_act_output_loss: 0.0801 - val_time_output_loss: 0.9453\n",
      "Epoch 87/500\n",
      "0s - loss: 1.5738 - act_output_loss: 0.3735 - time_output_loss: 1.2003 - val_loss: 0.9945 - val_act_output_loss: 0.0619 - val_time_output_loss: 0.9326\n",
      "Epoch 88/500\n",
      "0s - loss: 1.6062 - act_output_loss: 0.4406 - time_output_loss: 1.1656 - val_loss: 1.0053 - val_act_output_loss: 0.0529 - val_time_output_loss: 0.9525\n",
      "Epoch 89/500\n",
      "0s - loss: 1.5862 - act_output_loss: 0.4285 - time_output_loss: 1.1577 - val_loss: 1.0337 - val_act_output_loss: 0.0836 - val_time_output_loss: 0.9502\n",
      "Epoch 90/500\n",
      "0s - loss: 1.5958 - act_output_loss: 0.4079 - time_output_loss: 1.1879 - val_loss: 1.0403 - val_act_output_loss: 0.0830 - val_time_output_loss: 0.9573\n",
      "Epoch 91/500\n",
      "0s - loss: 1.6254 - act_output_loss: 0.4571 - time_output_loss: 1.1682 - val_loss: 1.0556 - val_act_output_loss: 0.0891 - val_time_output_loss: 0.9665\n",
      "Epoch 92/500\n",
      "0s - loss: 1.6134 - act_output_loss: 0.4549 - time_output_loss: 1.1585 - val_loss: 1.0470 - val_act_output_loss: 0.1012 - val_time_output_loss: 0.9458\n",
      "Epoch 93/500\n",
      "0s - loss: 1.5762 - act_output_loss: 0.3996 - time_output_loss: 1.1766 - val_loss: 1.0572 - val_act_output_loss: 0.0998 - val_time_output_loss: 0.9574\n",
      "Epoch 94/500\n",
      "0s - loss: 1.5823 - act_output_loss: 0.4291 - time_output_loss: 1.1532 - val_loss: 1.0530 - val_act_output_loss: 0.0890 - val_time_output_loss: 0.9640\n",
      "Epoch 95/500\n",
      "0s - loss: 1.6064 - act_output_loss: 0.4568 - time_output_loss: 1.1496 - val_loss: 1.0609 - val_act_output_loss: 0.0871 - val_time_output_loss: 0.9738\n",
      "Epoch 96/500\n",
      "0s - loss: 1.5445 - act_output_loss: 0.3912 - time_output_loss: 1.1533 - val_loss: 1.0503 - val_act_output_loss: 0.0934 - val_time_output_loss: 0.9568\n",
      "Epoch 97/500\n",
      "0s - loss: 1.5313 - act_output_loss: 0.3643 - time_output_loss: 1.1669 - val_loss: 1.0536 - val_act_output_loss: 0.0904 - val_time_output_loss: 0.9632\n",
      "Epoch 98/500\n",
      "0s - loss: 1.4690 - act_output_loss: 0.3145 - time_output_loss: 1.1545 - val_loss: 1.0027 - val_act_output_loss: 0.0757 - val_time_output_loss: 0.9270\n",
      "Epoch 99/500\n",
      "0s - loss: 1.5074 - act_output_loss: 0.3479 - time_output_loss: 1.1595 - val_loss: 1.0314 - val_act_output_loss: 0.0866 - val_time_output_loss: 0.9448\n",
      "Epoch 100/500\n",
      "0s - loss: 1.4398 - act_output_loss: 0.2863 - time_output_loss: 1.1535 - val_loss: 1.0459 - val_act_output_loss: 0.0848 - val_time_output_loss: 0.9611\n",
      "Epoch 101/500\n",
      "0s - loss: 1.4542 - act_output_loss: 0.2937 - time_output_loss: 1.1605 - val_loss: 1.0370 - val_act_output_loss: 0.0976 - val_time_output_loss: 0.9394\n",
      "Epoch 102/500\n",
      "0s - loss: 1.4792 - act_output_loss: 0.3194 - time_output_loss: 1.1599 - val_loss: 1.0359 - val_act_output_loss: 0.1010 - val_time_output_loss: 0.9349\n",
      "Epoch 103/500\n",
      "0s - loss: 1.4866 - act_output_loss: 0.3334 - time_output_loss: 1.1532 - val_loss: 1.0360 - val_act_output_loss: 0.0965 - val_time_output_loss: 0.9396\n",
      "Epoch 104/500\n",
      "0s - loss: 1.5458 - act_output_loss: 0.3805 - time_output_loss: 1.1653 - val_loss: 1.0364 - val_act_output_loss: 0.0955 - val_time_output_loss: 0.9409\n",
      "Epoch 105/500\n",
      "0s - loss: 1.5783 - act_output_loss: 0.4223 - time_output_loss: 1.1560 - val_loss: 1.0294 - val_act_output_loss: 0.0898 - val_time_output_loss: 0.9396\n",
      "Epoch 106/500\n",
      "0s - loss: 1.5376 - act_output_loss: 0.3706 - time_output_loss: 1.1670 - val_loss: 1.0271 - val_act_output_loss: 0.0984 - val_time_output_loss: 0.9287\n",
      "Epoch 107/500\n",
      "0s - loss: 1.4966 - act_output_loss: 0.3437 - time_output_loss: 1.1529 - val_loss: 1.0268 - val_act_output_loss: 0.0844 - val_time_output_loss: 0.9424\n",
      "Epoch 108/500\n",
      "0s - loss: 1.4810 - act_output_loss: 0.3148 - time_output_loss: 1.1662 - val_loss: 1.0040 - val_act_output_loss: 0.0763 - val_time_output_loss: 0.9277\n",
      "Epoch 109/500\n",
      "0s - loss: 1.5894 - act_output_loss: 0.4441 - time_output_loss: 1.1452 - val_loss: 1.0259 - val_act_output_loss: 0.0882 - val_time_output_loss: 0.9376\n",
      "Epoch 110/500\n",
      "0s - loss: 1.4808 - act_output_loss: 0.3188 - time_output_loss: 1.1621 - val_loss: 1.0305 - val_act_output_loss: 0.0868 - val_time_output_loss: 0.9437\n",
      "Epoch 111/500\n",
      "0s - loss: 1.4426 - act_output_loss: 0.2969 - time_output_loss: 1.1457 - val_loss: 1.0275 - val_act_output_loss: 0.0867 - val_time_output_loss: 0.9408\n",
      "Epoch 112/500\n",
      "0s - loss: 1.6715 - act_output_loss: 0.5358 - time_output_loss: 1.1357 - val_loss: 1.0247 - val_act_output_loss: 0.0840 - val_time_output_loss: 0.9407\n",
      "Epoch 113/500\n",
      "0s - loss: 1.5101 - act_output_loss: 0.3678 - time_output_loss: 1.1423 - val_loss: 1.0238 - val_act_output_loss: 0.0845 - val_time_output_loss: 0.9392\n"
     ]
    },
    {
     "data": {
      "text/plain": [
       "<keras.callbacks.History at 0x114f5ab50>"
      ]
     },
     "execution_count": 86,
     "metadata": {},
     "output_type": "execute_result"
    }
   ],
   "source": [
    "# build the model: \n",
    "print('Build model...')\n",
    "main_input = Input(shape=(maxlen, num_features), name='main_input')\n",
    "# train a 2-layer LSTM with one shared layer\n",
    "l1 = LSTM(100, consume_less='gpu', init='glorot_uniform', return_sequences=True, dropout_W=0.2)(main_input) # the shared layer\n",
    "b1 = BatchNormalization()(l1)\n",
    "l2_1 = LSTM(100, consume_less='gpu', init='glorot_uniform', return_sequences=False, dropout_W=0.2)(b1) # the layer specialized in activity prediction\n",
    "b2_1 = BatchNormalization()(l2_1)\n",
    "l2_2 = LSTM(100, consume_less='gpu', init='glorot_uniform', return_sequences=False, dropout_W=0.2)(b1) # the layer specialized in time prediction\n",
    "b2_2 = BatchNormalization()(l2_2)\n",
    "act_output = Dense(len(target_chars), activation='softmax', init='glorot_uniform', name='act_output')(b2_1)\n",
    "time_output = Dense(1, init='glorot_uniform', name='time_output')(b2_2)\n",
    "\n",
    "model = Model(input=[main_input], output=[act_output, time_output])\n",
    "\n",
    "opt = Nadam(lr=0.002, beta_1=0.9, beta_2=0.999, epsilon=1e-08, schedule_decay=0.004, clipvalue=3)\n",
    "\n",
    "model.compile(loss={'act_output':'categorical_crossentropy', 'time_output':'mae'}, optimizer=opt)\n",
    "early_stopping = EarlyStopping(monitor='val_loss', patience=42)\n",
    "model_checkpoint = ModelCheckpoint('output_files/models/model_{epoch:02d}-{val_loss:.2f}.h5', monitor='val_loss', verbose=0, save_best_only=True, save_weights_only=False, mode='auto')\n",
    "lr_reducer = ReduceLROnPlateau(monitor='val_loss', factor=0.5, patience=10, verbose=0, mode='auto', epsilon=0.0001, cooldown=0, min_lr=0)\n",
    "\n",
    "model.fit(X, {'act_output':y_a, 'time_output':y_t}, validation_split=0.2, verbose=2, callbacks=[early_stopping, model_checkpoint, lr_reducer], batch_size=maxlen, nb_epoch=500)"
   ]
  },
  {
   "cell_type": "code",
   "execution_count": null,
   "metadata": {
    "collapsed": true,
    "deletable": true,
    "editable": true
   },
   "outputs": [],
   "source": []
  }
 ],
 "metadata": {
  "kernelspec": {
   "display_name": "Python 2",
   "language": "python",
   "name": "python2"
  },
  "language_info": {
   "codemirror_mode": {
    "name": "ipython",
    "version": 2
   },
   "file_extension": ".py",
   "mimetype": "text/x-python",
   "name": "python",
   "nbconvert_exporter": "python",
   "pygments_lexer": "ipython2",
   "version": "2.7.13"
  },
  "toc": {
   "colors": {
    "hover_highlight": "#DAA520",
    "running_highlight": "#FF0000",
    "selected_highlight": "#FFD700"
   },
   "moveMenuLeft": true,
   "nav_menu": {
    "height": "12px",
    "width": "252px"
   },
   "navigate_menu": true,
   "number_sections": true,
   "sideBar": true,
   "threshold": 4,
   "toc_cell": false,
   "toc_section_display": "block",
   "toc_window_display": false
  }
 },
 "nbformat": 4,
 "nbformat_minor": 2
}
