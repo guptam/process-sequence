{
 "cells": [
  {
   "cell_type": "code",
   "execution_count": 1,
   "metadata": {
    "collapsed": true,
    "deletable": true,
    "editable": true
   },
   "outputs": [],
   "source": [
    "import os\n",
    "import argparse\n",
    "import pandas as pd\n",
    "import numpy as np\n",
    "import pickle\n",
    "from utils_test import *"
   ]
  },
  {
   "cell_type": "code",
   "execution_count": 2,
   "metadata": {
    "collapsed": false,
    "deletable": true,
    "editable": true
   },
   "outputs": [],
   "source": [
    "from jellyfish._jellyfish import damerau_levenshtein_distance\n",
    "import distance\n",
    "from sklearn import metrics"
   ]
  },
  {
   "cell_type": "code",
   "execution_count": 3,
   "metadata": {
    "collapsed": false,
    "deletable": true,
    "editable": true
   },
   "outputs": [
    {
     "name": "stderr",
     "output_type": "stream",
     "text": [
      "Using Theano backend.\n"
     ]
    }
   ],
   "source": [
    "from keras.models import load_model"
   ]
  },
  {
   "cell_type": "code",
   "execution_count": 19,
   "metadata": {
    "collapsed": true,
    "deletable": true,
    "editable": true
   },
   "outputs": [],
   "source": [
    "name = 'helpdesk'\n",
    "args = {\n",
    "    'inputdir': '../input/{}/'.format(name),   \n",
    "    'outputdir': './output_files/{}/'.format(name),\n",
    "    'modelname': 'model_20-1.50.h5',\n",
    "}\n",
    "\n",
    "args = argparse.Namespace(**args)"
   ]
  },
  {
   "cell_type": "code",
   "execution_count": 20,
   "metadata": {
    "collapsed": true,
    "deletable": true,
    "editable": true
   },
   "outputs": [],
   "source": [
    "test = pd.read_csv(args.inputdir+'test.csv')\n",
    "test = transformDf(test)"
   ]
  },
  {
   "cell_type": "code",
   "execution_count": 21,
   "metadata": {
    "collapsed": true,
    "deletable": true,
    "editable": true
   },
   "outputs": [],
   "source": [
    "with open(args.inputdir+'parameters.pkl', \"rb\") as f:\n",
    "    maxlen = pickle.load(f)\n",
    "    num_features = pickle.load(f)\n",
    "    chartoindice = pickle.load(f)\n",
    "    targetchartoindice = pickle.load(f)\n",
    "    divisor = pickle.load(f)\n",
    "    divisor2 = pickle.load(f)"
   ]
  },
  {
   "cell_type": "code",
   "execution_count": 22,
   "metadata": {
    "collapsed": true,
    "deletable": true,
    "editable": true
   },
   "outputs": [],
   "source": [
    "with open(args.inputdir+'preprocessed_data.pkl', \"rb\") as f:\n",
    "    X = pickle.load(f)\n",
    "    y_a = pickle.load(f)\n",
    "    y_t = pickle.load(f)\n",
    "    X_test = pickle.load(f)\n",
    "    y_a_test = pickle.load(f)\n",
    "    y_t_test = pickle.load(f)"
   ]
  },
  {
   "cell_type": "markdown",
   "metadata": {
    "deletable": true,
    "editable": true
   },
   "source": [
    "# Utils"
   ]
  },
  {
   "cell_type": "code",
   "execution_count": 23,
   "metadata": {
    "collapsed": false,
    "deletable": true,
    "editable": true
   },
   "outputs": [],
   "source": [
    "model = load_model(args.outputdir+args.modelname)"
   ]
  },
  {
   "cell_type": "code",
   "execution_count": 24,
   "metadata": {
    "collapsed": false,
    "deletable": true,
    "editable": true
   },
   "outputs": [
    {
     "data": {
      "text/plain": [
       "8"
      ]
     },
     "execution_count": 24,
     "metadata": {},
     "output_type": "execute_result"
    }
   ],
   "source": [
    "test_groupByCase = test.groupby(['CaseID'])\n",
    "\n",
    "#get features all data\n",
    "sentences, sentences_t, sentences_t2, sentences_t3, sentences_t4 = getFeature(test_groupByCase)\n",
    "\n",
    "#get output all data\n",
    "next_chars, next_chars_t, next_chars_t2, next_chars_t3, next_chars_t4 = getOutput(test_groupByCase)\n",
    "\n",
    "# Check longest case --> suffix: 2 to 7\n",
    "test_len = findLongestLength(test_groupByCase)\n",
    "test_len - 5"
   ]
  },
  {
   "cell_type": "code",
   "execution_count": 25,
   "metadata": {
    "collapsed": true,
    "deletable": true,
    "editable": true
   },
   "outputs": [],
   "source": [
    "def getSuffix(suffix, sentences, sentences_t, sentences_t2, sentences_t3, sentences_t4, next_chars, next_chars_t):\n",
    "    sentences_2 = []\n",
    "    sentences_t_2 = []\n",
    "    sentences_t2_2 = []\n",
    "    sentences_t3_2 = []\n",
    "    sentences_t4_2 = []\n",
    "    next_chars_2 = []\n",
    "    next_chars_t_2 = []\n",
    "\n",
    "    for i in range(len(sentences)):\n",
    "        if len(sentences[i]) == suffix and next_chars[i] != 'EOS':\n",
    "            sentences_2.append(sentences[i])\n",
    "            sentences_t_2.append(sentences_t[i])\n",
    "            sentences_t2_2.append(sentences_t2[i])\n",
    "            sentences_t3_2.append(sentences_t3[i])\n",
    "            sentences_t4_2.append(sentences_t4[i])\n",
    "            next_chars_2.append(next_chars[i])\n",
    "            next_chars_t_2.append(next_chars_t[i])\n",
    "    return sentences_2, sentences_t_2, sentences_t2_2, sentences_t3_2, sentences_t4_2, next_chars_2, next_chars_t_2"
   ]
  },
  {
   "cell_type": "code",
   "execution_count": 26,
   "metadata": {
    "collapsed": false,
    "deletable": true,
    "editable": true
   },
   "outputs": [],
   "source": [
    "def evalAct(true_label, pred_prob, targetchartoindice):\n",
    "    #for log-loss: get probabilities\n",
    "    gt_a = one_hot_encode(true_label, targetchartoindice)\n",
    "    log_loss = metrics.log_loss(gt_a, pred_prob)\n",
    "    print('Log-loss: {}'.format(log_loss))\n",
    "    \n",
    "    #for accuracy: get labels\n",
    "    gt_a_label = true_label\n",
    "    pred_a_label = getLabel(pred_prob, targetchartoindice)\n",
    "    acc = metrics.accuracy_score(gt_a_label, pred_a_label)\n",
    "    print('Accuracy: {}%'.format(acc*100))\n",
    "    acc_3 = get_top3_accuracy(pred_prob, gt_a_label, targetchartoindice)\n",
    "    print('Top 3 accuracy: {}%'.format(acc_3*100))"
   ]
  },
  {
   "cell_type": "code",
   "execution_count": 27,
   "metadata": {
    "collapsed": true,
    "deletable": true,
    "editable": true
   },
   "outputs": [],
   "source": [
    "def evalTime(true_time, pred_time, divisor):\n",
    "    #get time\n",
    "    gt_t = true_time\n",
    "    pred_t = inverseTime(pred_time, divisor)\n",
    "    \n",
    "    mse = metrics.mean_squared_error(gt_t, pred_t)\n",
    "    mae = metrics.mean_absolute_error(gt_t, pred_t)\n",
    "    median = metrics.median_absolute_error(gt_t, pred_t)\n",
    "    \n",
    "    print('Mean Squared Error: {0}s\\t| {1} days'.format(mse, mse/86400))\n",
    "    print('Mean Absolute Error: {0}s\\t| {1} days'.format(mae, mae/86400))\n",
    "    print('Median Absolute Error: {0}s\\t| {1} days'.format(median, median/86400))"
   ]
  },
  {
   "cell_type": "code",
   "execution_count": 28,
   "metadata": {
    "collapsed": true,
    "deletable": true,
    "editable": true
   },
   "outputs": [],
   "source": [
    "# DL distance\n",
    "#distance.nlevenshtein(gt_a_label, pred_a_label) #0.1731066460587326\n",
    "\n",
    "#damerau_levenshtein_distance(gt_a_label, pred_a_label) #784\n",
    "\n",
    "#distance.jaccard(gt_a_label, pred_a_label) #0.4444444444444444"
   ]
  },
  {
   "cell_type": "markdown",
   "metadata": {
    "deletable": true,
    "editable": true
   },
   "source": [
    "# Evaluation"
   ]
  },
  {
   "cell_type": "code",
   "execution_count": 29,
   "metadata": {
    "collapsed": true,
    "deletable": true,
    "editable": true
   },
   "outputs": [],
   "source": [
    "max_suffix = 11"
   ]
  },
  {
   "cell_type": "code",
   "execution_count": 30,
   "metadata": {
    "collapsed": false,
    "deletable": true,
    "editable": true
   },
   "outputs": [
    {
     "name": "stdout",
     "output_type": "stream",
     "text": [
      "----------Suffix 2------------\n",
      "Evaluation of Activity\n",
      "Log-loss: 0.6852780553760628\n",
      "Accuracy: 76.66666666666667%\n",
      "Top 3 accuracy: 98.66666666666667%\n",
      "Evaluation of Time\n",
      "Mean Squared Error: 364379979318.4113s\t| 4217360.871740872 days\n",
      "Mean Absolute Error: 291981.7839178467s\t| 3.3794187953454475 days\n",
      "Median Absolute Error: 40914.55859375s\t| 0.4735481318721065 days\n",
      "\n",
      "\n",
      "----------Suffix 3------------\n",
      "Evaluation of Activity\n",
      "Log-loss: 1.1501585874329792\n",
      "Accuracy: 60.22471910112359%\n",
      "Top 3 accuracy: 98.87640449438202%\n",
      "Evaluation of Time\n",
      "Mean Squared Error: 499037382583.2875s\t| 5775895.631751012 days\n",
      "Mean Absolute Error: 419786.0255417727s\t| 4.858634554881629 days\n",
      "Median Absolute Error: 237101.25s\t| 2.7442274305555556 days\n",
      "\n",
      "\n",
      "----------Suffix 4------------\n",
      "Evaluation of Activity\n",
      "Log-loss: 0.9269709278757755\n",
      "Accuracy: 60.0%\n",
      "Top 3 accuracy: 99.48717948717949%\n",
      "Evaluation of Time\n",
      "Mean Squared Error: 244371815325.20825s\t| 2828377.4921899103 days\n",
      "Mean Absolute Error: 225761.01116599058s\t| 2.6129746662730393 days\n",
      "Median Absolute Error: 14114.7216796875s\t| 0.16336483425564235 days\n",
      "\n",
      "\n",
      "----------Suffix 5------------\n",
      "Evaluation of Activity\n",
      "Log-loss: 0.8054793210428083\n",
      "Accuracy: 68.53932584269663%\n",
      "Top 3 accuracy: 100.0%\n",
      "Evaluation of Time\n",
      "Mean Squared Error: 468289024689.76636s\t| 5420011.859835259 days\n",
      "Mean Absolute Error: 327825.84285984683s\t| 3.7942805886556346 days\n",
      "Median Absolute Error: 45732.34375s\t| 0.5293095341435186 days\n",
      "\n",
      "\n",
      "----------Suffix 6------------\n",
      "Evaluation of Activity\n",
      "Log-loss: 0.744361354659001\n",
      "Accuracy: 76.92307692307693%\n",
      "Top 3 accuracy: 97.43589743589743%\n",
      "Evaluation of Time\n",
      "Mean Squared Error: 259265265026.70584s\t| 3000755.3822535397 days\n",
      "Mean Absolute Error: 190998.1303116236s\t| 2.210626508236384 days\n",
      "Median Absolute Error: 7598.34912109375s\t| 0.0879438555682147 days\n",
      "\n",
      "\n",
      "----------Suffix 7------------\n",
      "Evaluation of Activity\n",
      "Log-loss: 1.0319767035543919\n",
      "Accuracy: 70.0%\n",
      "Top 3 accuracy: 90.0%\n",
      "Evaluation of Time\n",
      "Mean Squared Error: 309979483346.35803s\t| 3587725.501693959 days\n",
      "Mean Absolute Error: 315740.14340820315s\t| 3.6543998079653144 days\n",
      "Median Absolute Error: 86395.486328125s\t| 0.9999477584273727 days\n",
      "\n",
      "\n",
      "----------Suffix 8------------\n",
      "Evaluation of Activity\n",
      "Log-loss: 1.3683517553976603\n",
      "Accuracy: 57.14285714285714%\n",
      "Top 3 accuracy: 100.0%\n",
      "Evaluation of Time\n",
      "Mean Squared Error: 53086336336.68819s\t| 614425.1890820392 days\n",
      "Mean Absolute Error: 140134.4491141183s\t| 1.6219264943763692 days\n",
      "Median Absolute Error: 50077.935546875s\t| 0.5796057354962384 days\n",
      "\n",
      "\n",
      "----------Suffix 9------------\n",
      "Evaluation of Activity\n",
      "Log-loss: 0.8833904713392258\n",
      "Accuracy: 75.0%\n",
      "Top 3 accuracy: 100.0%\n",
      "Evaluation of Time\n",
      "Mean Squared Error: 417784610213.38965s\t| 4835470.025617936 days\n",
      "Mean Absolute Error: 328568.15075683594s\t| 3.802872115241157 days\n",
      "Median Absolute Error: 9203.89208984375s\t| 0.106526528817636 days\n",
      "\n",
      "\n",
      "----------Suffix 10------------\n",
      "Evaluation of Activity\n",
      "Log-loss: 0.2181036869684855\n",
      "Accuracy: 100.0%\n",
      "Top 3 accuracy: 100.0%\n",
      "Evaluation of Time\n",
      "Mean Squared Error: 66522629036.16913s\t| 769937.8360667723 days\n",
      "Mean Absolute Error: 154348.3484700521s\t| 1.7864392184033806 days\n",
      "Median Absolute Error: 10448.078125s\t| 0.12092683015046296 days\n",
      "\n",
      "\n",
      "----------Suffix 11------------\n",
      "Evaluation of Activity\n",
      "Log-loss: 0.3699406385421753\n",
      "Accuracy: 100.0%\n",
      "Top 3 accuracy: 100.0%\n",
      "Evaluation of Time\n",
      "Mean Squared Error: 11575961184.914131s\t| 133981.03223280245 days\n",
      "Mean Absolute Error: 107591.64086914062s\t| 1.245273621170609 days\n",
      "Median Absolute Error: 107591.64086914062s\t| 1.245273621170609 days\n",
      "\n",
      "\n"
     ]
    }
   ],
   "source": [
    "for i in range(2, max_suffix+1):\n",
    "    print('----------Suffix {}------------'.format(i))\n",
    "    sentences_2, sentences_t_2, sentences_t2_2, sentences_t3_2, sentences_t4_2, next_chars_2, next_chars_t_2 = getSuffix(i, sentences, sentences_t, sentences_t2, sentences_t3, sentences_t4, next_chars, next_chars_t)\n",
    "    X_test = vectorizeInput(sentences_2, sentences_t_2, sentences_t2_2, sentences_t3_2, sentences_t4_2, \n",
    "                        maxlen, num_features, chartoindice, \n",
    "                        divisor, divisor2, divisor3=86400, divisor4=7)\n",
    "    pred = model.predict(X_test, verbose=0)\n",
    "    pred_a = pred[0]\n",
    "    pred_t = pred[1]\n",
    "    print('Evaluation of Activity')\n",
    "    evalAct(next_chars_2, pred[0], targetchartoindice)\n",
    "    print('Evaluation of Time')\n",
    "    evalTime(next_chars_t_2, pred_t, divisor)\n",
    "    print('\\n')\n",
    "    #Add gt and pred of each suffix\n",
    "    if i == 2:\n",
    "        full_gt_a = next_chars_2\n",
    "        full_pred_a = pred_a\n",
    "        full_gt_t = next_chars_t_2\n",
    "        full_pred_t = pred_t\n",
    "    else:\n",
    "        full_gt_a += next_chars_2\n",
    "        full_pred_a = np.concatenate((full_pred_a, pred_a), axis=0)\n",
    "        full_gt_t += next_chars_t_2\n",
    "        full_pred_t = np.concatenate((full_pred_t, pred_t), axis=0)"
   ]
  },
  {
   "cell_type": "code",
   "execution_count": 31,
   "metadata": {
    "collapsed": false,
    "deletable": true,
    "editable": true
   },
   "outputs": [
    {
     "name": "stdout",
     "output_type": "stream",
     "text": [
      "Log-loss: 0.8229239157588412\n",
      "Accuracy: 70.94831911690919%\n",
      "Top 3 accuracy: 98.7957852483693%\n"
     ]
    }
   ],
   "source": [
    "evalAct(full_gt_a, full_pred_a, targetchartoindice)"
   ]
  },
  {
   "cell_type": "code",
   "execution_count": 32,
   "metadata": {
    "collapsed": false,
    "deletable": true,
    "editable": true
   },
   "outputs": [
    {
     "name": "stdout",
     "output_type": "stream",
     "text": [
      "Mean Squared Error: 383403343918.9514s\t| 4437538.702765642 days\n",
      "Mean Absolute Error: 313023.079883964s\t| 3.622952313471805 days\n",
      "Median Absolute Error: 49326.25s\t| 0.5709056712962963 days\n"
     ]
    }
   ],
   "source": [
    "evalTime(full_gt_t, full_pred_t, divisor)"
   ]
  },
  {
   "cell_type": "code",
   "execution_count": 33,
   "metadata": {
    "collapsed": false
   },
   "outputs": [
    {
     "data": {
      "text/plain": [
       "1993"
      ]
     },
     "execution_count": 33,
     "metadata": {},
     "output_type": "execute_result"
    }
   ],
   "source": [
    "len(full_gt_a)"
   ]
  },
  {
   "cell_type": "markdown",
   "metadata": {
    "deletable": true,
    "editable": true
   },
   "source": [
    "# Test single case"
   ]
  },
  {
   "cell_type": "markdown",
   "metadata": {
    "deletable": true,
    "editable": true
   },
   "source": [
    "## Predict"
   ]
  },
  {
   "cell_type": "code",
   "execution_count": null,
   "metadata": {
    "collapsed": true,
    "deletable": true,
    "editable": true
   },
   "outputs": [],
   "source": [
    "sentences_2, sentences_t_2, sentences_t2_2, sentences_t3_2, sentences_t4_2, next_chars_2, next_chars_t_2 =  getSuffix(2, sentences, sentences_t, sentences_t2, sentences_t3, sentences_t4, next_chars, next_chars_t)"
   ]
  },
  {
   "cell_type": "code",
   "execution_count": null,
   "metadata": {
    "collapsed": false,
    "deletable": true,
    "editable": true
   },
   "outputs": [],
   "source": [
    "len(sentences_2), len(next_chars_2)"
   ]
  },
  {
   "cell_type": "code",
   "execution_count": null,
   "metadata": {
    "collapsed": true,
    "deletable": true,
    "editable": true
   },
   "outputs": [],
   "source": [
    "X_test = vectorizeInput(sentences_2, sentences_t_2, sentences_t2_2, sentences_t3_2, sentences_t4_2, \n",
    "                        maxlen, num_features, chartoindice, \n",
    "                        divisor, divisor2, divisor3=86400, divisor4=7)"
   ]
  },
  {
   "cell_type": "code",
   "execution_count": null,
   "metadata": {
    "collapsed": true,
    "deletable": true,
    "editable": true
   },
   "outputs": [],
   "source": [
    "pred = model.predict(X_test, verbose=0)\n",
    "pred_a = pred[0]\n",
    "pred_t = pred[1]"
   ]
  },
  {
   "cell_type": "code",
   "execution_count": null,
   "metadata": {
    "collapsed": false,
    "deletable": true,
    "editable": true
   },
   "outputs": [],
   "source": [
    "pred[0].shape, pred[1].shape"
   ]
  },
  {
   "cell_type": "markdown",
   "metadata": {
    "deletable": true,
    "editable": true
   },
   "source": [
    "## Evaluate"
   ]
  },
  {
   "cell_type": "markdown",
   "metadata": {
    "deletable": true,
    "editable": true
   },
   "source": [
    "### Activity"
   ]
  },
  {
   "cell_type": "code",
   "execution_count": null,
   "metadata": {
    "collapsed": false,
    "deletable": true,
    "editable": true
   },
   "outputs": [],
   "source": [
    "evalAct(next_chars_2, pred[0], targetchartoindice)"
   ]
  },
  {
   "cell_type": "markdown",
   "metadata": {
    "deletable": true,
    "editable": true
   },
   "source": [
    "### Time"
   ]
  },
  {
   "cell_type": "code",
   "execution_count": null,
   "metadata": {
    "collapsed": false,
    "deletable": true,
    "editable": true
   },
   "outputs": [],
   "source": [
    "evalTime(next_chars_t_2, pred_t, divisor)"
   ]
  }
 ],
 "metadata": {
  "kernelspec": {
   "display_name": "Python 3",
   "language": "python",
   "name": "python3"
  },
  "language_info": {
   "codemirror_mode": {
    "name": "ipython",
    "version": 3
   },
   "file_extension": ".py",
   "mimetype": "text/x-python",
   "name": "python",
   "nbconvert_exporter": "python",
   "pygments_lexer": "ipython3",
   "version": "3.5.3"
  },
  "toc": {
   "colors": {
    "hover_highlight": "#DAA520",
    "running_highlight": "#FF0000",
    "selected_highlight": "#FFD700"
   },
   "moveMenuLeft": true,
   "nav_menu": {
    "height": "84px",
    "width": "252px"
   },
   "navigate_menu": true,
   "number_sections": true,
   "sideBar": true,
   "threshold": 4,
   "toc_cell": false,
   "toc_section_display": "block",
   "toc_window_display": false
  }
 },
 "nbformat": 4,
 "nbformat_minor": 2
}
