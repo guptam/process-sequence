{
 "cells": [
  {
   "cell_type": "markdown",
   "metadata": {
    "heading_collapsed": true
   },
   "source": [
    "# Load data"
   ]
  },
  {
   "cell_type": "code",
   "execution_count": 1,
   "metadata": {
    "collapsed": true,
    "hidden": true
   },
   "outputs": [],
   "source": [
    "import pandas as pd\n",
    "import numpy as np"
   ]
  },
  {
   "cell_type": "code",
   "execution_count": 2,
   "metadata": {
    "collapsed": true,
    "hidden": true
   },
   "outputs": [],
   "source": [
    "from sklearn.preprocessing import OneHotEncoder\n",
    "from sklearn.preprocessing import StandardScaler"
   ]
  },
  {
   "cell_type": "code",
   "execution_count": 3,
   "metadata": {
    "collapsed": true,
    "hidden": true
   },
   "outputs": [],
   "source": [
    "data = pd.read_csv('../input/new_data.csv')"
   ]
  },
  {
   "cell_type": "code",
   "execution_count": 4,
   "metadata": {
    "hidden": true
   },
   "outputs": [
    {
     "data": {
      "text/html": [
       "<div>\n",
       "<table border=\"1\" class=\"dataframe\">\n",
       "  <thead>\n",
       "    <tr style=\"text-align: right;\">\n",
       "      <th></th>\n",
       "      <th>CaseID</th>\n",
       "      <th>ActivityID</th>\n",
       "      <th>CompleteTimestamp</th>\n",
       "      <th>Duration</th>\n",
       "      <th>CumDuration</th>\n",
       "      <th>TimeSinceMidnight</th>\n",
       "      <th>WeekDay</th>\n",
       "    </tr>\n",
       "  </thead>\n",
       "  <tbody>\n",
       "    <tr>\n",
       "      <th>0</th>\n",
       "      <td>2</td>\n",
       "      <td>1</td>\n",
       "      <td>2012-04-03 16:55:38</td>\n",
       "      <td>0</td>\n",
       "      <td>0</td>\n",
       "      <td>60938</td>\n",
       "      <td>1</td>\n",
       "    </tr>\n",
       "    <tr>\n",
       "      <th>1</th>\n",
       "      <td>2</td>\n",
       "      <td>8</td>\n",
       "      <td>2012-04-03 16:55:53</td>\n",
       "      <td>15</td>\n",
       "      <td>15</td>\n",
       "      <td>60953</td>\n",
       "      <td>1</td>\n",
       "    </tr>\n",
       "    <tr>\n",
       "      <th>2</th>\n",
       "      <td>2</td>\n",
       "      <td>6</td>\n",
       "      <td>2012-04-05 17:15:52</td>\n",
       "      <td>173999</td>\n",
       "      <td>174014</td>\n",
       "      <td>62152</td>\n",
       "      <td>3</td>\n",
       "    </tr>\n",
       "    <tr>\n",
       "      <th>3</th>\n",
       "      <td>3</td>\n",
       "      <td>1</td>\n",
       "      <td>2010-10-29 18:14:06</td>\n",
       "      <td>0</td>\n",
       "      <td>0</td>\n",
       "      <td>65646</td>\n",
       "      <td>4</td>\n",
       "    </tr>\n",
       "    <tr>\n",
       "      <th>4</th>\n",
       "      <td>3</td>\n",
       "      <td>8</td>\n",
       "      <td>2010-11-04 01:16:11</td>\n",
       "      <td>457325</td>\n",
       "      <td>457325</td>\n",
       "      <td>4571</td>\n",
       "      <td>3</td>\n",
       "    </tr>\n",
       "  </tbody>\n",
       "</table>\n",
       "</div>"
      ],
      "text/plain": [
       "   CaseID  ActivityID    CompleteTimestamp  Duration  CumDuration  \\\n",
       "0       2           1  2012-04-03 16:55:38         0            0   \n",
       "1       2           8  2012-04-03 16:55:53        15           15   \n",
       "2       2           6  2012-04-05 17:15:52    173999       174014   \n",
       "3       3           1  2010-10-29 18:14:06         0            0   \n",
       "4       3           8  2010-11-04 01:16:11    457325       457325   \n",
       "\n",
       "   TimeSinceMidnight  WeekDay  \n",
       "0              60938        1  \n",
       "1              60953        1  \n",
       "2              62152        3  \n",
       "3              65646        4  \n",
       "4               4571        3  "
      ]
     },
     "execution_count": 4,
     "metadata": {},
     "output_type": "execute_result"
    }
   ],
   "source": [
    "data.head()"
   ]
  },
  {
   "cell_type": "code",
   "execution_count": 5,
   "metadata": {
    "hidden": true
   },
   "outputs": [
    {
     "data": {
      "text/plain": [
       "(13710, 7)"
      ]
     },
     "execution_count": 5,
     "metadata": {},
     "output_type": "execute_result"
    }
   ],
   "source": [
    "data.shape"
   ]
  },
  {
   "cell_type": "code",
   "execution_count": 6,
   "metadata": {
    "hidden": true
   },
   "outputs": [],
   "source": [
    "# convert to float\n",
    "for col in list(data):\n",
    "    if col != 'CompleteTimestamp':\n",
    "        data[col] = data[col].apply(float)"
   ]
  },
  {
   "cell_type": "code",
   "execution_count": 7,
   "metadata": {
    "collapsed": true,
    "hidden": true
   },
   "outputs": [],
   "source": [
    "# Convert activity from float to str\n",
    "data.ActivityID = data.ActivityID.astype(str)"
   ]
  },
  {
   "cell_type": "code",
   "execution_count": 8,
   "metadata": {
    "hidden": true
   },
   "outputs": [
    {
     "data": {
      "text/html": [
       "<div>\n",
       "<table border=\"1\" class=\"dataframe\">\n",
       "  <thead>\n",
       "    <tr style=\"text-align: right;\">\n",
       "      <th></th>\n",
       "      <th>CaseID</th>\n",
       "      <th>ActivityID</th>\n",
       "      <th>CompleteTimestamp</th>\n",
       "      <th>Duration</th>\n",
       "      <th>CumDuration</th>\n",
       "      <th>TimeSinceMidnight</th>\n",
       "      <th>WeekDay</th>\n",
       "    </tr>\n",
       "  </thead>\n",
       "  <tbody>\n",
       "    <tr>\n",
       "      <th>0</th>\n",
       "      <td>2.0</td>\n",
       "      <td>1.0</td>\n",
       "      <td>2012-04-03 16:55:38</td>\n",
       "      <td>0.0</td>\n",
       "      <td>0.0</td>\n",
       "      <td>60938.0</td>\n",
       "      <td>1.0</td>\n",
       "    </tr>\n",
       "    <tr>\n",
       "      <th>1</th>\n",
       "      <td>2.0</td>\n",
       "      <td>8.0</td>\n",
       "      <td>2012-04-03 16:55:53</td>\n",
       "      <td>15.0</td>\n",
       "      <td>15.0</td>\n",
       "      <td>60953.0</td>\n",
       "      <td>1.0</td>\n",
       "    </tr>\n",
       "    <tr>\n",
       "      <th>2</th>\n",
       "      <td>2.0</td>\n",
       "      <td>6.0</td>\n",
       "      <td>2012-04-05 17:15:52</td>\n",
       "      <td>173999.0</td>\n",
       "      <td>174014.0</td>\n",
       "      <td>62152.0</td>\n",
       "      <td>3.0</td>\n",
       "    </tr>\n",
       "    <tr>\n",
       "      <th>3</th>\n",
       "      <td>3.0</td>\n",
       "      <td>1.0</td>\n",
       "      <td>2010-10-29 18:14:06</td>\n",
       "      <td>0.0</td>\n",
       "      <td>0.0</td>\n",
       "      <td>65646.0</td>\n",
       "      <td>4.0</td>\n",
       "    </tr>\n",
       "    <tr>\n",
       "      <th>4</th>\n",
       "      <td>3.0</td>\n",
       "      <td>8.0</td>\n",
       "      <td>2010-11-04 01:16:11</td>\n",
       "      <td>457325.0</td>\n",
       "      <td>457325.0</td>\n",
       "      <td>4571.0</td>\n",
       "      <td>3.0</td>\n",
       "    </tr>\n",
       "  </tbody>\n",
       "</table>\n",
       "</div>"
      ],
      "text/plain": [
       "   CaseID ActivityID    CompleteTimestamp  Duration  CumDuration  \\\n",
       "0     2.0        1.0  2012-04-03 16:55:38       0.0          0.0   \n",
       "1     2.0        8.0  2012-04-03 16:55:53      15.0         15.0   \n",
       "2     2.0        6.0  2012-04-05 17:15:52  173999.0     174014.0   \n",
       "3     3.0        1.0  2010-10-29 18:14:06       0.0          0.0   \n",
       "4     3.0        8.0  2010-11-04 01:16:11  457325.0     457325.0   \n",
       "\n",
       "   TimeSinceMidnight  WeekDay  \n",
       "0            60938.0      1.0  \n",
       "1            60953.0      1.0  \n",
       "2            62152.0      3.0  \n",
       "3            65646.0      4.0  \n",
       "4             4571.0      3.0  "
      ]
     },
     "execution_count": 8,
     "metadata": {},
     "output_type": "execute_result"
    }
   ],
   "source": [
    "data.head()"
   ]
  },
  {
   "cell_type": "code",
   "execution_count": 9,
   "metadata": {
    "hidden": true
   },
   "outputs": [
    {
     "data": {
      "text/plain": [
       "array(['1.0', '8.0', '6.0', '3.0', '9.0', '2.0', '4.0', '5.0', '7.0'], dtype=object)"
      ]
     },
     "execution_count": 9,
     "metadata": {},
     "output_type": "execute_result"
    }
   ],
   "source": [
    "data['ActivityID'].unique()"
   ]
  },
  {
   "cell_type": "markdown",
   "metadata": {
    "heading_collapsed": true
   },
   "source": [
    "# Utils"
   ]
  },
  {
   "cell_type": "code",
   "execution_count": 10,
   "metadata": {
    "collapsed": true,
    "hidden": true
   },
   "outputs": [],
   "source": [
    "divisor = data['Duration'].mean()\n",
    "divisor2 = data['CumDuration'].mean()"
   ]
  },
  {
   "cell_type": "code",
   "execution_count": 11,
   "metadata": {
    "collapsed": true,
    "hidden": true
   },
   "outputs": [],
   "source": [
    "len_data = 13710\n",
    "len_train = 9181\n",
    "len_test = 4529"
   ]
  },
  {
   "cell_type": "code",
   "execution_count": 12,
   "metadata": {
    "collapsed": true,
    "hidden": true
   },
   "outputs": [],
   "source": [
    "groupByCase = data.groupby(['CaseID'])"
   ]
  },
  {
   "cell_type": "code",
   "execution_count": 13,
   "metadata": {
    "hidden": true
   },
   "outputs": [
    {
     "name": "stdout",
     "output_type": "stream",
     "text": [
      "15\n"
     ]
    }
   ],
   "source": [
    "#find len of longest case\n",
    "maxlen = 1\n",
    "for case, group in groupByCase:\n",
    "    temp_len = group.shape[0]\n",
    "    if temp_len > maxlen:\n",
    "        maxlen = temp_len\n",
    "        \n",
    "maxlen += 1 # include EOS\n",
    "print(maxlen)"
   ]
  },
  {
   "cell_type": "code",
   "execution_count": 14,
   "metadata": {
    "hidden": true
   },
   "outputs": [
    {
     "data": {
      "text/plain": [
       "14"
      ]
     },
     "execution_count": 14,
     "metadata": {},
     "output_type": "execute_result"
    }
   ],
   "source": [
    "#define number of features\n",
    "num_features = len(data['ActivityID'].unique()) + 5\n",
    "num_features"
   ]
  },
  {
   "cell_type": "code",
   "execution_count": 15,
   "metadata": {
    "hidden": true
   },
   "outputs": [],
   "source": [
    "unique_chars = data['ActivityID'].unique().tolist()\n",
    "target_chars = unique_chars + ['EOS']"
   ]
  },
  {
   "cell_type": "code",
   "execution_count": 16,
   "metadata": {
    "hidden": true
   },
   "outputs": [
    {
     "data": {
      "text/plain": [
       "(['1.0', '8.0', '6.0', '3.0', '9.0', '2.0', '4.0', '5.0', '7.0'],\n",
       " ['1.0', '8.0', '6.0', '3.0', '9.0', '2.0', '4.0', '5.0', '7.0', 'EOS'])"
      ]
     },
     "execution_count": 16,
     "metadata": {},
     "output_type": "execute_result"
    }
   ],
   "source": [
    "unique_chars, target_chars"
   ]
  },
  {
   "cell_type": "code",
   "execution_count": 17,
   "metadata": {
    "collapsed": true,
    "hidden": true
   },
   "outputs": [],
   "source": [
    "chartoindice = {}\n",
    "for indice, char in enumerate(unique_chars):\n",
    "    chartoindice[char] = indice"
   ]
  },
  {
   "cell_type": "code",
   "execution_count": 18,
   "metadata": {
    "collapsed": true,
    "hidden": true
   },
   "outputs": [],
   "source": [
    "targetchartoindice = {}\n",
    "for indice, char in enumerate(target_chars):\n",
    "    targetchartoindice[char] = indice"
   ]
  },
  {
   "cell_type": "code",
   "execution_count": 19,
   "metadata": {
    "hidden": true
   },
   "outputs": [
    {
     "data": {
      "text/plain": [
       "({'1.0': 0,\n",
       "  '2.0': 5,\n",
       "  '3.0': 3,\n",
       "  '4.0': 6,\n",
       "  '5.0': 7,\n",
       "  '6.0': 2,\n",
       "  '7.0': 8,\n",
       "  '8.0': 1,\n",
       "  '9.0': 4},\n",
       " {'1.0': 0,\n",
       "  '2.0': 5,\n",
       "  '3.0': 3,\n",
       "  '4.0': 6,\n",
       "  '5.0': 7,\n",
       "  '6.0': 2,\n",
       "  '7.0': 8,\n",
       "  '8.0': 1,\n",
       "  '9.0': 4,\n",
       "  'EOS': 9})"
      ]
     },
     "execution_count": 19,
     "metadata": {},
     "output_type": "execute_result"
    }
   ],
   "source": [
    "chartoindice, targetchartoindice"
   ]
  },
  {
   "cell_type": "markdown",
   "metadata": {
    "heading_collapsed": true
   },
   "source": [
    "# Input"
   ]
  },
  {
   "cell_type": "code",
   "execution_count": 20,
   "metadata": {
    "collapsed": true,
    "hidden": true
   },
   "outputs": [],
   "source": [
    "def getList(df):\n",
    "    temp = []\n",
    "    lst = df.tolist()\n",
    "    for i in range(1, len(lst)+1):\n",
    "        sub_lst = lst[:i]\n",
    "        temp.append(sub_lst)\n",
    "    return temp"
   ]
  },
  {
   "cell_type": "code",
   "execution_count": 21,
   "metadata": {
    "hidden": true
   },
   "outputs": [],
   "source": [
    "sentences = []\n",
    "sentences_t = []\n",
    "sentences_t2 =[]\n",
    "sentences_t3 = []\n",
    "sentences_t4 = []\n",
    "for case, group in groupByCase:\n",
    "    case_sentences = getList(group['ActivityID'])\n",
    "    sentences += case_sentences\n",
    "    \n",
    "    case_sentences_t = getList(group['Duration'])\n",
    "    sentences_t += case_sentences_t\n",
    "    \n",
    "    case_sentences_t2 = getList(group['CumDuration'])\n",
    "    sentences_t2 += case_sentences_t2\n",
    "    \n",
    "    case_sentences_t3 = getList(group['TimeSinceMidnight'])\n",
    "    sentences_t3 += case_sentences_t3\n",
    "    \n",
    "    case_sentences_t4 = getList(group['WeekDay'])\n",
    "    sentences_t4 += case_sentences_t4"
   ]
  },
  {
   "cell_type": "code",
   "execution_count": 22,
   "metadata": {
    "hidden": true
   },
   "outputs": [
    {
     "data": {
      "text/plain": [
       "(13710, 13710, 13710, 13710, 13710)"
      ]
     },
     "execution_count": 22,
     "metadata": {},
     "output_type": "execute_result"
    }
   ],
   "source": [
    "len(sentences), len(sentences_t), len(sentences_t2), len(sentences_t3), len(sentences_t4)"
   ]
  },
  {
   "cell_type": "code",
   "execution_count": 23,
   "metadata": {
    "hidden": true
   },
   "outputs": [],
   "source": [
    "# fill values for input X\n",
    "X = np.zeros((len(sentences), maxlen, num_features), dtype=np.float32)\n",
    "for i, sentence in enumerate(sentences):\n",
    "    leftpad = maxlen-len(sentence)\n",
    "    sentence_t = sentences_t[i]\n",
    "    sentence_t2 = sentences_t2[i]\n",
    "    sentence_t3 = sentences_t3[i]\n",
    "    sentence_t4 = sentences_t4[i]\n",
    "    for t, char in enumerate(sentence):\n",
    "        for c in unique_chars:\n",
    "            if c==char:\n",
    "                X[i, t+leftpad, chartoindice[c]] = 1\n",
    "            #print(X)   \n",
    "        X[i, t+leftpad, len(unique_chars)] = t+1\n",
    "        X[i, t+leftpad, len(unique_chars)+1] = sentence_t[t]/divisor\n",
    "        X[i, t+leftpad, len(unique_chars)+2] = sentence_t2[t]/divisor2\n",
    "        X[i, t+leftpad, len(unique_chars)+3] = sentence_t3[t]/86400\n",
    "        X[i, t+leftpad, len(unique_chars)+4] = sentence_t4[t]/7"
   ]
  },
  {
   "cell_type": "markdown",
   "metadata": {
    "heading_collapsed": true
   },
   "source": [
    "# Output"
   ]
  },
  {
   "cell_type": "code",
   "execution_count": 24,
   "metadata": {
    "collapsed": true,
    "hidden": true
   },
   "outputs": [],
   "source": [
    "def getNextActivity(df):\n",
    "    '''This is used to get next activity'''\n",
    "    temp = []\n",
    "    lst = df.tolist()\n",
    "    for i in range(1, len(df)):\n",
    "        ele = lst[i]\n",
    "        temp.append(ele)\n",
    "    temp.append('EOS') #EOS: end of sentence\n",
    "    return temp"
   ]
  },
  {
   "cell_type": "code",
   "execution_count": 25,
   "metadata": {
    "collapsed": true,
    "hidden": true
   },
   "outputs": [],
   "source": [
    "def getNextTime(df):\n",
    "    '''This is used to get next time'''\n",
    "    temp = []\n",
    "    lst = df.tolist()\n",
    "    for i in range(1, len(df)):\n",
    "        ele = lst[i]\n",
    "        temp.append(ele)\n",
    "    temp.append(0) # beginning time of next activity\n",
    "    return temp"
   ]
  },
  {
   "cell_type": "code",
   "execution_count": 26,
   "metadata": {
    "hidden": true
   },
   "outputs": [],
   "source": [
    "next_chars = []\n",
    "next_chars_t = []\n",
    "next_chars_t2 = []\n",
    "next_chars_t3 = []\n",
    "next_chars_t4 = []\n",
    "for case, group in groupByCase:\n",
    "    case_next_char = getNextActivity(group['ActivityID'])\n",
    "    next_chars += case_next_char\n",
    "    \n",
    "    case_next_char_t = getNextTime(group['Duration'])\n",
    "    next_chars_t += case_next_char_t\n",
    "    \n",
    "    case_next_char_t2 = getNextTime(group['CumDuration'])\n",
    "    next_chars_t2 += case_next_char_t2\n",
    "    \n",
    "    case_next_char_t3 = getNextTime(group['TimeSinceMidnight'])\n",
    "    next_chars_t3 += case_next_char_t3\n",
    "    \n",
    "    case_next_char_t4 = getNextTime(group['WeekDay'])\n",
    "    next_chars_t4 += case_next_char_t4"
   ]
  },
  {
   "cell_type": "code",
   "execution_count": 27,
   "metadata": {
    "hidden": true
   },
   "outputs": [
    {
     "data": {
      "text/plain": [
       "(13710, 13710, 13710, 13710, 13710)"
      ]
     },
     "execution_count": 27,
     "metadata": {},
     "output_type": "execute_result"
    }
   ],
   "source": [
    "len(next_chars), len(next_chars_t), len(next_chars_t2), len(next_chars_t3), len(next_chars_t4)"
   ]
  },
  {
   "cell_type": "markdown",
   "metadata": {
    "hidden": true
   },
   "source": [
    "## y_a"
   ]
  },
  {
   "cell_type": "markdown",
   "metadata": {
    "hidden": true
   },
   "source": [
    "One-hot encode for y_a"
   ]
  },
  {
   "cell_type": "code",
   "execution_count": 28,
   "metadata": {
    "hidden": true
   },
   "outputs": [
    {
     "data": {
      "text/plain": [
       "['8.0', '6.0', 'EOS', '8.0', '6.0', 'EOS', '8.0', '6.0', 'EOS', '8.0']"
      ]
     },
     "execution_count": 28,
     "metadata": {},
     "output_type": "execute_result"
    }
   ],
   "source": [
    "next_chars[:10]"
   ]
  },
  {
   "cell_type": "markdown",
   "metadata": {
    "collapsed": true,
    "hidden": true
   },
   "source": [
    "```python\n",
    "# new next_chars\n",
    "next_chars_indice = [targetchartoindice[act] for act in next_chars]\n",
    "# reshape for OHC without warning\n",
    "next_chars_indice = np.asarray(next_chars_indice).reshape(-1,1)\n",
    "\n",
    "next_chars_indice[:10]\n",
    "\n",
    "encoder = OneHotEncoder()\n",
    "data_feature_one_hot_encoded = encoder.fit_transform(next_chars_indice)\n",
    "\n",
    "y_a = data_feature_one_hot_encoded.toarray()\n",
    "y_a\n",
    "\n",
    "#y_a.shape (13710, 9)\n",
    "```"
   ]
  },
  {
   "cell_type": "code",
   "execution_count": 29,
   "metadata": {
    "hidden": true
   },
   "outputs": [],
   "source": [
    "# fill values for output y_a\n",
    "y_a = np.zeros((len(sentences), len(target_chars)), dtype=np.float32)\n",
    "for i in range(len(sentences)):\n",
    "    for c in target_chars:\n",
    "        if c==next_chars[i]:\n",
    "            y_a[i, targetchartoindice[c]] = 1"
   ]
  },
  {
   "cell_type": "code",
   "execution_count": 30,
   "metadata": {
    "hidden": true
   },
   "outputs": [
    {
     "data": {
      "text/plain": [
       "(13710, 10)"
      ]
     },
     "execution_count": 30,
     "metadata": {},
     "output_type": "execute_result"
    }
   ],
   "source": [
    "y_a.shape"
   ]
  },
  {
   "cell_type": "code",
   "execution_count": 31,
   "metadata": {
    "hidden": true
   },
   "outputs": [
    {
     "data": {
      "text/plain": [
       "array([[ 0.,  1.,  0., ...,  0.,  0.,  0.],\n",
       "       [ 0.,  0.,  1., ...,  0.,  0.,  0.],\n",
       "       [ 0.,  0.,  0., ...,  0.,  0.,  1.],\n",
       "       ..., \n",
       "       [ 0.,  0.,  0., ...,  0.,  0.,  0.],\n",
       "       [ 0.,  0.,  1., ...,  0.,  0.,  0.],\n",
       "       [ 0.,  0.,  0., ...,  0.,  0.,  1.]], dtype=float32)"
      ]
     },
     "execution_count": 31,
     "metadata": {},
     "output_type": "execute_result"
    }
   ],
   "source": [
    "y_a"
   ]
  },
  {
   "cell_type": "markdown",
   "metadata": {
    "hidden": true
   },
   "source": [
    "## y_t"
   ]
  },
  {
   "cell_type": "markdown",
   "metadata": {
    "hidden": true
   },
   "source": [
    "Scale/Normalize data. This can be done by using [sklearn](http://scikit-learn.org/stable/modules/preprocessing.html#preprocessing-scaler)"
   ]
  },
  {
   "cell_type": "code",
   "execution_count": 32,
   "metadata": {
    "hidden": true
   },
   "outputs": [],
   "source": [
    "next_chars_t = np.asarray(next_chars_t)"
   ]
  },
  {
   "cell_type": "code",
   "execution_count": 33,
   "metadata": {
    "hidden": true
   },
   "outputs": [
    {
     "data": {
      "text/plain": [
       "(13710,)"
      ]
     },
     "execution_count": 33,
     "metadata": {},
     "output_type": "execute_result"
    }
   ],
   "source": [
    "next_chars_t.shape"
   ]
  },
  {
   "cell_type": "code",
   "execution_count": 34,
   "metadata": {
    "collapsed": true,
    "hidden": true
   },
   "outputs": [],
   "source": [
    "y_t = next_chars_t/divisor"
   ]
  },
  {
   "cell_type": "code",
   "execution_count": 35,
   "metadata": {
    "hidden": true
   },
   "outputs": [
    {
     "data": {
      "text/plain": [
       "array([  7.11185218e-05,   8.24970111e-01,   0.00000000e+00, ...,\n",
       "         2.96890433e+00,   2.77314823e-02,   0.00000000e+00])"
      ]
     },
     "execution_count": 35,
     "metadata": {},
     "output_type": "execute_result"
    }
   ],
   "source": [
    "y_t"
   ]
  },
  {
   "cell_type": "code",
   "execution_count": 36,
   "metadata": {
    "collapsed": true,
    "hidden": true
   },
   "outputs": [],
   "source": [
    "#next_chars_t = next_chars_t.reshape(-1, 1)"
   ]
  },
  {
   "cell_type": "code",
   "execution_count": 37,
   "metadata": {
    "collapsed": true,
    "hidden": true
   },
   "outputs": [],
   "source": [
    "#scaler = StandardScaler().fit(next_chars_t)"
   ]
  },
  {
   "cell_type": "code",
   "execution_count": 38,
   "metadata": {
    "collapsed": true,
    "hidden": true
   },
   "outputs": [],
   "source": [
    "#y_t = scaler.transform(next_chars_t) "
   ]
  },
  {
   "cell_type": "code",
   "execution_count": 39,
   "metadata": {
    "collapsed": true,
    "hidden": true
   },
   "outputs": [],
   "source": [
    "#y_t = y_t.reshape([13710,])"
   ]
  },
  {
   "cell_type": "code",
   "execution_count": 40,
   "metadata": {
    "hidden": true
   },
   "outputs": [
    {
     "data": {
      "text/plain": [
       "(13710,)"
      ]
     },
     "execution_count": 40,
     "metadata": {},
     "output_type": "execute_result"
    }
   ],
   "source": [
    "y_t.shape"
   ]
  },
  {
   "cell_type": "markdown",
   "metadata": {
    "heading_collapsed": true
   },
   "source": [
    "# Split data"
   ]
  },
  {
   "cell_type": "code",
   "execution_count": 41,
   "metadata": {
    "hidden": true
   },
   "outputs": [
    {
     "data": {
      "text/plain": [
       "((13710, 15, 14), (13710, 10), (13710,))"
      ]
     },
     "execution_count": 41,
     "metadata": {},
     "output_type": "execute_result"
    }
   ],
   "source": [
    "X.shape, y_a.shape, y_t.shape"
   ]
  },
  {
   "cell_type": "code",
   "execution_count": 42,
   "metadata": {
    "hidden": true
   },
   "outputs": [],
   "source": [
    "X_train = X[:len_train,:,:]\n",
    "X_test = X[len_train:, :, :]"
   ]
  },
  {
   "cell_type": "code",
   "execution_count": 43,
   "metadata": {
    "hidden": true
   },
   "outputs": [
    {
     "data": {
      "text/plain": [
       "((13710, 15, 14), (9181, 15, 14), (4529, 15, 14))"
      ]
     },
     "execution_count": 43,
     "metadata": {},
     "output_type": "execute_result"
    }
   ],
   "source": [
    "X.shape, X_train.shape, X_test.shape"
   ]
  },
  {
   "cell_type": "code",
   "execution_count": 44,
   "metadata": {
    "collapsed": true,
    "hidden": true
   },
   "outputs": [],
   "source": [
    "y_a_train = y_a[:len_train,:]\n",
    "y_a_test = y_a[len_train:,:]"
   ]
  },
  {
   "cell_type": "code",
   "execution_count": 45,
   "metadata": {
    "hidden": true
   },
   "outputs": [
    {
     "data": {
      "text/plain": [
       "((13710, 10), (9181, 10), (4529, 10))"
      ]
     },
     "execution_count": 45,
     "metadata": {},
     "output_type": "execute_result"
    }
   ],
   "source": [
    "y_a.shape, y_a_train.shape, y_a_test.shape"
   ]
  },
  {
   "cell_type": "code",
   "execution_count": 46,
   "metadata": {
    "hidden": true
   },
   "outputs": [],
   "source": [
    "y_t_train = y_t[:len_train]\n",
    "y_t_test = y_t[len_train:]"
   ]
  },
  {
   "cell_type": "code",
   "execution_count": 47,
   "metadata": {
    "hidden": true
   },
   "outputs": [
    {
     "data": {
      "text/plain": [
       "((13710,), (9181,), (4529,))"
      ]
     },
     "execution_count": 47,
     "metadata": {},
     "output_type": "execute_result"
    }
   ],
   "source": [
    "y_t.shape, y_t_train.shape, y_t_test.shape"
   ]
  },
  {
   "cell_type": "markdown",
   "metadata": {
    "heading_collapsed": true
   },
   "source": [
    "# Save data"
   ]
  },
  {
   "cell_type": "code",
   "execution_count": 48,
   "metadata": {
    "collapsed": true,
    "hidden": true
   },
   "outputs": [],
   "source": [
    "import pickle"
   ]
  },
  {
   "cell_type": "code",
   "execution_count": 49,
   "metadata": {
    "collapsed": true,
    "hidden": true
   },
   "outputs": [],
   "source": [
    "with open('../input/preprocessed_data.pkl', 'wb') as f:\n",
    "    pickle.dump(X, f, protocol=2)\n",
    "    pickle.dump(y_a, f, protocol=2)\n",
    "    pickle.dump(y_t, f, protocol=2)\n",
    "    pickle.dump(X_train, f, protocol=2)\n",
    "    pickle.dump(y_a_train, f, protocol=2)\n",
    "    pickle.dump(y_t_train, f, protocol=2)\n",
    "    pickle.dump(X_test, f, protocol=2)\n",
    "    pickle.dump(y_a_test, f, protocol=2)\n",
    "    pickle.dump(y_t_test, f, protocol=2)"
   ]
  },
  {
   "cell_type": "markdown",
   "metadata": {},
   "source": [
    "# Test model"
   ]
  },
  {
   "cell_type": "code",
   "execution_count": 50,
   "metadata": {
    "collapsed": true
   },
   "outputs": [],
   "source": [
    "X = X_train\n",
    "y_a = y_a_train\n",
    "y_t = y_t_train"
   ]
  },
  {
   "cell_type": "code",
   "execution_count": 51,
   "metadata": {},
   "outputs": [
    {
     "name": "stderr",
     "output_type": "stream",
     "text": [
      "Using Theano backend.\n"
     ]
    }
   ],
   "source": [
    "from keras.models import Sequential, Model\n",
    "from keras.layers.core import Dense\n",
    "from keras.layers.recurrent import LSTM, GRU, SimpleRNN\n",
    "from keras.layers import Input\n",
    "from keras.utils.data_utils import get_file\n",
    "from keras.regularizers import WeightRegularizer\n",
    "from keras.optimizers import Nadam\n",
    "from keras.callbacks import EarlyStopping, ModelCheckpoint, ReduceLROnPlateau\n",
    "from keras.layers.normalization import BatchNormalization\n",
    "from theano.ifelse import ifelse"
   ]
  },
  {
   "cell_type": "code",
   "execution_count": 52,
   "metadata": {},
   "outputs": [
    {
     "name": "stdout",
     "output_type": "stream",
     "text": [
      "Build model...\n",
      "Train on 7344 samples, validate on 1837 samples\n",
      "Epoch 1/500\n",
      "17s - loss: 2.1706 - act_output_loss: 0.9799 - time_output_loss: 1.1907 - val_loss: 1.7015 - val_act_output_loss: 0.6812 - val_time_output_loss: 1.0203\n",
      "Epoch 2/500\n",
      "17s - loss: 1.7704 - act_output_loss: 0.7176 - time_output_loss: 1.0528 - val_loss: 1.6132 - val_act_output_loss: 0.5983 - val_time_output_loss: 1.0149\n",
      "Epoch 3/500\n",
      "17s - loss: 1.7206 - act_output_loss: 0.6996 - time_output_loss: 1.0210 - val_loss: 1.5517 - val_act_output_loss: 0.5897 - val_time_output_loss: 0.9621\n",
      "Epoch 4/500\n",
      "17s - loss: 1.6921 - act_output_loss: 0.6774 - time_output_loss: 1.0147 - val_loss: 1.5650 - val_act_output_loss: 0.5851 - val_time_output_loss: 0.9799\n",
      "Epoch 5/500\n",
      "17s - loss: 1.6741 - act_output_loss: 0.6684 - time_output_loss: 1.0058 - val_loss: 1.5439 - val_act_output_loss: 0.5814 - val_time_output_loss: 0.9625\n",
      "Epoch 6/500\n",
      "17s - loss: 1.6695 - act_output_loss: 0.6684 - time_output_loss: 1.0010 - val_loss: 1.5376 - val_act_output_loss: 0.5729 - val_time_output_loss: 0.9647\n",
      "Epoch 7/500\n",
      "17s - loss: 1.6641 - act_output_loss: 0.6617 - time_output_loss: 1.0025 - val_loss: 1.5368 - val_act_output_loss: 0.5693 - val_time_output_loss: 0.9675\n",
      "Epoch 8/500\n",
      "17s - loss: 1.6535 - act_output_loss: 0.6576 - time_output_loss: 0.9959 - val_loss: 1.5399 - val_act_output_loss: 0.5771 - val_time_output_loss: 0.9628\n",
      "Epoch 9/500\n",
      "17s - loss: 1.6516 - act_output_loss: 0.6535 - time_output_loss: 0.9981 - val_loss: 1.5382 - val_act_output_loss: 0.5780 - val_time_output_loss: 0.9603\n",
      "Epoch 10/500\n",
      "17s - loss: 1.6436 - act_output_loss: 0.6476 - time_output_loss: 0.9960 - val_loss: 1.5310 - val_act_output_loss: 0.5675 - val_time_output_loss: 0.9635\n",
      "Epoch 11/500\n",
      "17s - loss: 1.6480 - act_output_loss: 0.6517 - time_output_loss: 0.9963 - val_loss: 1.5314 - val_act_output_loss: 0.5670 - val_time_output_loss: 0.9644\n",
      "Epoch 12/500\n",
      "17s - loss: 1.6399 - act_output_loss: 0.6437 - time_output_loss: 0.9962 - val_loss: 1.5249 - val_act_output_loss: 0.5605 - val_time_output_loss: 0.9643\n",
      "Epoch 13/500\n",
      "17s - loss: 1.6489 - act_output_loss: 0.6499 - time_output_loss: 0.9991 - val_loss: 1.5488 - val_act_output_loss: 0.5650 - val_time_output_loss: 0.9838\n",
      "Epoch 14/500\n",
      "17s - loss: 1.6492 - act_output_loss: 0.6521 - time_output_loss: 0.9971 - val_loss: 1.5864 - val_act_output_loss: 0.5774 - val_time_output_loss: 1.0090\n",
      "Epoch 15/500\n",
      "17s - loss: 1.6485 - act_output_loss: 0.6485 - time_output_loss: 0.9999 - val_loss: 1.5482 - val_act_output_loss: 0.5771 - val_time_output_loss: 0.9710\n",
      "Epoch 16/500\n",
      "17s - loss: 1.6344 - act_output_loss: 0.6408 - time_output_loss: 0.9936 - val_loss: 1.5474 - val_act_output_loss: 0.5811 - val_time_output_loss: 0.9663\n",
      "Epoch 17/500\n",
      "25s - loss: 1.6378 - act_output_loss: 0.6464 - time_output_loss: 0.9915 - val_loss: 1.5377 - val_act_output_loss: 0.5743 - val_time_output_loss: 0.9634\n",
      "Epoch 18/500\n",
      "18s - loss: 1.6410 - act_output_loss: 0.6455 - time_output_loss: 0.9956 - val_loss: 1.5493 - val_act_output_loss: 0.5751 - val_time_output_loss: 0.9742\n",
      "Epoch 19/500\n",
      "18s - loss: 1.6288 - act_output_loss: 0.6358 - time_output_loss: 0.9930 - val_loss: 1.5277 - val_act_output_loss: 0.5700 - val_time_output_loss: 0.9577\n",
      "Epoch 20/500\n",
      "17s - loss: 1.6325 - act_output_loss: 0.6401 - time_output_loss: 0.9924 - val_loss: 1.5270 - val_act_output_loss: 0.5690 - val_time_output_loss: 0.9580\n",
      "Epoch 21/500\n",
      "17s - loss: 1.6299 - act_output_loss: 0.6365 - time_output_loss: 0.9934 - val_loss: 1.5357 - val_act_output_loss: 0.5656 - val_time_output_loss: 0.9701\n",
      "Epoch 22/500\n",
      "17s - loss: 1.6345 - act_output_loss: 0.6443 - time_output_loss: 0.9902 - val_loss: 1.5428 - val_act_output_loss: 0.5708 - val_time_output_loss: 0.9720\n",
      "Epoch 23/500\n",
      "17s - loss: 1.6365 - act_output_loss: 0.6420 - time_output_loss: 0.9945 - val_loss: 1.5352 - val_act_output_loss: 0.5697 - val_time_output_loss: 0.9655\n",
      "Epoch 24/500\n",
      "17s - loss: 1.6193 - act_output_loss: 0.6291 - time_output_loss: 0.9902 - val_loss: 1.5118 - val_act_output_loss: 0.5588 - val_time_output_loss: 0.9530\n",
      "Epoch 25/500\n",
      "17s - loss: 1.6216 - act_output_loss: 0.6347 - time_output_loss: 0.9869 - val_loss: 1.5268 - val_act_output_loss: 0.5734 - val_time_output_loss: 0.9535\n",
      "Epoch 26/500\n",
      "17s - loss: 1.6076 - act_output_loss: 0.6238 - time_output_loss: 0.9838 - val_loss: 1.5033 - val_act_output_loss: 0.5567 - val_time_output_loss: 0.9466\n",
      "Epoch 27/500\n",
      "17s - loss: 1.6136 - act_output_loss: 0.6258 - time_output_loss: 0.9878 - val_loss: 1.5260 - val_act_output_loss: 0.5713 - val_time_output_loss: 0.9547\n",
      "Epoch 28/500\n",
      "17s - loss: 1.6194 - act_output_loss: 0.6301 - time_output_loss: 0.9893 - val_loss: 1.5088 - val_act_output_loss: 0.5596 - val_time_output_loss: 0.9492\n",
      "Epoch 29/500\n",
      "17s - loss: 1.6125 - act_output_loss: 0.6251 - time_output_loss: 0.9874 - val_loss: 1.5208 - val_act_output_loss: 0.5698 - val_time_output_loss: 0.9510\n",
      "Epoch 30/500\n",
      "17s - loss: 1.6092 - act_output_loss: 0.6196 - time_output_loss: 0.9896 - val_loss: 1.5156 - val_act_output_loss: 0.5608 - val_time_output_loss: 0.9547\n",
      "Epoch 31/500\n",
      "17s - loss: 1.6125 - act_output_loss: 0.6246 - time_output_loss: 0.9878 - val_loss: 1.5221 - val_act_output_loss: 0.5690 - val_time_output_loss: 0.9531\n",
      "Epoch 32/500\n",
      "17s - loss: 1.6052 - act_output_loss: 0.6176 - time_output_loss: 0.9876 - val_loss: 1.5242 - val_act_output_loss: 0.5677 - val_time_output_loss: 0.9565\n",
      "Epoch 33/500\n",
      "18s - loss: 1.6123 - act_output_loss: 0.6219 - time_output_loss: 0.9904 - val_loss: 1.5251 - val_act_output_loss: 0.5747 - val_time_output_loss: 0.9504\n",
      "Epoch 34/500\n",
      "17s - loss: 1.6079 - act_output_loss: 0.6175 - time_output_loss: 0.9905 - val_loss: 1.5204 - val_act_output_loss: 0.5662 - val_time_output_loss: 0.9542\n",
      "Epoch 35/500\n",
      "18s - loss: 1.6047 - act_output_loss: 0.6170 - time_output_loss: 0.9876 - val_loss: 1.5210 - val_act_output_loss: 0.5747 - val_time_output_loss: 0.9463\n",
      "Epoch 36/500\n",
      "17s - loss: 1.6096 - act_output_loss: 0.6211 - time_output_loss: 0.9884 - val_loss: 1.5273 - val_act_output_loss: 0.5722 - val_time_output_loss: 0.9551\n",
      "Epoch 37/500\n",
      "17s - loss: 1.6063 - act_output_loss: 0.6233 - time_output_loss: 0.9831 - val_loss: 1.5187 - val_act_output_loss: 0.5686 - val_time_output_loss: 0.9501\n",
      "Epoch 38/500\n",
      "17s - loss: 1.5999 - act_output_loss: 0.6095 - time_output_loss: 0.9904 - val_loss: 1.5308 - val_act_output_loss: 0.5789 - val_time_output_loss: 0.9519\n",
      "Epoch 39/500\n",
      "17s - loss: 1.5947 - act_output_loss: 0.6087 - time_output_loss: 0.9860 - val_loss: 1.5259 - val_act_output_loss: 0.5726 - val_time_output_loss: 0.9534\n",
      "Epoch 40/500\n",
      "17s - loss: 1.5967 - act_output_loss: 0.6130 - time_output_loss: 0.9836 - val_loss: 1.5137 - val_act_output_loss: 0.5654 - val_time_output_loss: 0.9483\n",
      "Epoch 41/500\n",
      "17s - loss: 1.5920 - act_output_loss: 0.6083 - time_output_loss: 0.9836 - val_loss: 1.5199 - val_act_output_loss: 0.5728 - val_time_output_loss: 0.9471\n",
      "Epoch 42/500\n",
      "17s - loss: 1.5931 - act_output_loss: 0.6103 - time_output_loss: 0.9829 - val_loss: 1.5197 - val_act_output_loss: 0.5678 - val_time_output_loss: 0.9519\n",
      "Epoch 43/500\n",
      "17s - loss: 1.5952 - act_output_loss: 0.6118 - time_output_loss: 0.9834 - val_loss: 1.5267 - val_act_output_loss: 0.5697 - val_time_output_loss: 0.9570\n",
      "Epoch 44/500\n",
      "17s - loss: 1.5990 - act_output_loss: 0.6135 - time_output_loss: 0.9856 - val_loss: 1.5180 - val_act_output_loss: 0.5688 - val_time_output_loss: 0.9492\n",
      "Epoch 45/500\n",
      "17s - loss: 1.5897 - act_output_loss: 0.6022 - time_output_loss: 0.9874 - val_loss: 1.5192 - val_act_output_loss: 0.5670 - val_time_output_loss: 0.9522\n",
      "Epoch 46/500\n",
      "17s - loss: 1.5884 - act_output_loss: 0.6060 - time_output_loss: 0.9824 - val_loss: 1.5208 - val_act_output_loss: 0.5727 - val_time_output_loss: 0.9481\n",
      "Epoch 47/500\n",
      "17s - loss: 1.5901 - act_output_loss: 0.6045 - time_output_loss: 0.9856 - val_loss: 1.5252 - val_act_output_loss: 0.5749 - val_time_output_loss: 0.9504\n",
      "Epoch 48/500\n",
      "17s - loss: 1.5910 - act_output_loss: 0.6078 - time_output_loss: 0.9832 - val_loss: 1.5279 - val_act_output_loss: 0.5782 - val_time_output_loss: 0.9498\n",
      "Epoch 49/500\n",
      "17s - loss: 1.5931 - act_output_loss: 0.6075 - time_output_loss: 0.9856 - val_loss: 1.5203 - val_act_output_loss: 0.5714 - val_time_output_loss: 0.9489\n",
      "Epoch 50/500\n",
      "18s - loss: 1.5932 - act_output_loss: 0.6087 - time_output_loss: 0.9845 - val_loss: 1.5241 - val_act_output_loss: 0.5733 - val_time_output_loss: 0.9508\n",
      "Epoch 51/500\n"
     ]
    },
    {
     "name": "stdout",
     "output_type": "stream",
     "text": [
      "17s - loss: 1.5976 - act_output_loss: 0.6132 - time_output_loss: 0.9845 - val_loss: 1.5227 - val_act_output_loss: 0.5711 - val_time_output_loss: 0.9516\n",
      "Epoch 52/500\n",
      "18s - loss: 1.5947 - act_output_loss: 0.6088 - time_output_loss: 0.9859 - val_loss: 1.5252 - val_act_output_loss: 0.5735 - val_time_output_loss: 0.9517\n",
      "Epoch 53/500\n",
      "17s - loss: 1.5878 - act_output_loss: 0.6047 - time_output_loss: 0.9831 - val_loss: 1.5249 - val_act_output_loss: 0.5715 - val_time_output_loss: 0.9534\n",
      "Epoch 54/500\n",
      "17s - loss: 1.5915 - act_output_loss: 0.6089 - time_output_loss: 0.9825 - val_loss: 1.5189 - val_act_output_loss: 0.5688 - val_time_output_loss: 0.9501\n",
      "Epoch 55/500\n",
      "17s - loss: 1.5897 - act_output_loss: 0.6046 - time_output_loss: 0.9851 - val_loss: 1.5241 - val_act_output_loss: 0.5710 - val_time_output_loss: 0.9531\n",
      "Epoch 56/500\n",
      "17s - loss: 1.5894 - act_output_loss: 0.6032 - time_output_loss: 0.9862 - val_loss: 1.5182 - val_act_output_loss: 0.5672 - val_time_output_loss: 0.9511\n",
      "Epoch 57/500\n",
      "17s - loss: 1.5961 - act_output_loss: 0.6093 - time_output_loss: 0.9868 - val_loss: 1.5249 - val_act_output_loss: 0.5740 - val_time_output_loss: 0.9508\n",
      "Epoch 58/500\n",
      "17s - loss: 1.5827 - act_output_loss: 0.5984 - time_output_loss: 0.9843 - val_loss: 1.5204 - val_act_output_loss: 0.5702 - val_time_output_loss: 0.9502\n",
      "Epoch 59/500\n",
      "17s - loss: 1.5830 - act_output_loss: 0.6021 - time_output_loss: 0.9809 - val_loss: 1.5206 - val_act_output_loss: 0.5698 - val_time_output_loss: 0.9508\n",
      "Epoch 60/500\n",
      "17s - loss: 1.5876 - act_output_loss: 0.6035 - time_output_loss: 0.9841 - val_loss: 1.5196 - val_act_output_loss: 0.5681 - val_time_output_loss: 0.9514\n",
      "Epoch 61/500\n",
      "17s - loss: 1.5852 - act_output_loss: 0.6005 - time_output_loss: 0.9847 - val_loss: 1.5226 - val_act_output_loss: 0.5741 - val_time_output_loss: 0.9485\n",
      "Epoch 62/500\n",
      "17s - loss: 1.5801 - act_output_loss: 0.5967 - time_output_loss: 0.9834 - val_loss: 1.5198 - val_act_output_loss: 0.5702 - val_time_output_loss: 0.9496\n",
      "Epoch 63/500\n",
      "17s - loss: 1.5700 - act_output_loss: 0.5902 - time_output_loss: 0.9798 - val_loss: 1.5235 - val_act_output_loss: 0.5711 - val_time_output_loss: 0.9524\n",
      "Epoch 64/500\n",
      "17s - loss: 1.5852 - act_output_loss: 0.6035 - time_output_loss: 0.9818 - val_loss: 1.5212 - val_act_output_loss: 0.5733 - val_time_output_loss: 0.9480\n",
      "Epoch 65/500\n",
      "17s - loss: 1.5793 - act_output_loss: 0.5971 - time_output_loss: 0.9822 - val_loss: 1.5230 - val_act_output_loss: 0.5738 - val_time_output_loss: 0.9491\n",
      "Epoch 66/500\n",
      "17s - loss: 1.5864 - act_output_loss: 0.6024 - time_output_loss: 0.9840 - val_loss: 1.5235 - val_act_output_loss: 0.5746 - val_time_output_loss: 0.9489\n",
      "Epoch 67/500\n",
      "18s - loss: 1.5850 - act_output_loss: 0.6020 - time_output_loss: 0.9830 - val_loss: 1.5209 - val_act_output_loss: 0.5728 - val_time_output_loss: 0.9481\n",
      "Epoch 68/500\n",
      "17s - loss: 1.5719 - act_output_loss: 0.5924 - time_output_loss: 0.9795 - val_loss: 1.5230 - val_act_output_loss: 0.5727 - val_time_output_loss: 0.9503\n",
      "Epoch 69/500\n",
      "18s - loss: 1.5841 - act_output_loss: 0.6005 - time_output_loss: 0.9836 - val_loss: 1.5221 - val_act_output_loss: 0.5737 - val_time_output_loss: 0.9484\n"
     ]
    },
    {
     "data": {
      "text/plain": [
       "<keras.callbacks.History at 0x7f8542f50bd0>"
      ]
     },
     "execution_count": 52,
     "metadata": {},
     "output_type": "execute_result"
    }
   ],
   "source": [
    "# build the model: \n",
    "print('Build model...')\n",
    "main_input = Input(shape=(maxlen, num_features), name='main_input')\n",
    "# train a 2-layer LSTM with one shared layer\n",
    "l1 = LSTM(100, consume_less='gpu', init='glorot_uniform', return_sequences=True, dropout_W=0.2)(main_input) # the shared layer\n",
    "b1 = BatchNormalization()(l1)\n",
    "l2_1 = LSTM(100, consume_less='gpu', init='glorot_uniform', return_sequences=False, dropout_W=0.2)(b1) # the layer specialized in activity prediction\n",
    "b2_1 = BatchNormalization()(l2_1)\n",
    "l2_2 = LSTM(100, consume_less='gpu', init='glorot_uniform', return_sequences=False, dropout_W=0.2)(b1) # the layer specialized in time prediction\n",
    "b2_2 = BatchNormalization()(l2_2)\n",
    "act_output = Dense(len(target_chars), activation='softmax', init='glorot_uniform', name='act_output')(b2_1)\n",
    "time_output = Dense(1, init='glorot_uniform', name='time_output')(b2_2)\n",
    "\n",
    "model = Model(input=[main_input], output=[act_output, time_output])\n",
    "\n",
    "opt = Nadam(lr=0.002, beta_1=0.9, beta_2=0.999, epsilon=1e-08, schedule_decay=0.004, clipvalue=3)\n",
    "\n",
    "model.compile(loss={'act_output':'categorical_crossentropy', 'time_output':'mae'}, optimizer=opt)\n",
    "early_stopping = EarlyStopping(monitor='val_loss', patience=42)\n",
    "model_checkpoint = ModelCheckpoint('output_files/models/model_{epoch:02d}-{val_loss:.2f}.h5', monitor='val_loss', verbose=0, save_best_only=True, save_weights_only=False, mode='auto')\n",
    "lr_reducer = ReduceLROnPlateau(monitor='val_loss', factor=0.5, patience=10, verbose=0, mode='auto', epsilon=0.0001, cooldown=0, min_lr=0)\n",
    "\n",
    "model.fit(X, {'act_output':y_a, 'time_output':y_t}, validation_split=0.2, verbose=2, callbacks=[early_stopping, model_checkpoint, lr_reducer], batch_size=maxlen, nb_epoch=500)"
   ]
  },
  {
   "cell_type": "code",
   "execution_count": null,
   "metadata": {},
   "outputs": [],
   "source": [
    "model.summary()"
   ]
  },
  {
   "cell_type": "code",
   "execution_count": null,
   "metadata": {
    "collapsed": true
   },
   "outputs": [],
   "source": []
  }
 ],
 "metadata": {
  "kernelspec": {
   "display_name": "Python 2",
   "language": "python",
   "name": "python2"
  },
  "language_info": {
   "codemirror_mode": {
    "name": "ipython",
    "version": 2
   },
   "file_extension": ".py",
   "mimetype": "text/x-python",
   "name": "python",
   "nbconvert_exporter": "python",
   "pygments_lexer": "ipython2",
   "version": "2.7.13"
  },
  "toc": {
   "colors": {
    "hover_highlight": "#DAA520",
    "running_highlight": "#FF0000",
    "selected_highlight": "#FFD700"
   },
   "moveMenuLeft": true,
   "nav_menu": {
    "height": "66px",
    "width": "252px"
   },
   "navigate_menu": true,
   "number_sections": true,
   "sideBar": true,
   "threshold": 4,
   "toc_cell": false,
   "toc_section_display": "block",
   "toc_window_display": false
  }
 },
 "nbformat": 4,
 "nbformat_minor": 2
}
